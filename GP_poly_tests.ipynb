{
 "cells": [
  {
   "cell_type": "code",
   "execution_count": 1,
   "metadata": {},
   "outputs": [],
   "source": [
    "from gp_poly_test import gp_rand_poly_test\n",
    "from IPython.display import Audio"
   ]
  },
  {
   "cell_type": "markdown",
   "metadata": {},
   "source": [
    "<h3>How to call <code>gp_rand_poly_test</code></h3>\n",
    "\n",
    "This notebook can be used to test a simplified version of genetic programming, in which the form of the evolved program is pre-specified as a polynomial of order *order* with *num_var* variables, and the program evolves through continuous-valued mutations in the value of the coefficients. The test is performed with a single function call to `gp_poly_test`. First edit the function call below as needed, then hit the 'run all' button. \n",
    "\n",
    "The cell at the top of the notebook imports the code needed to run everything. The second cell is the one you may want to edit to change the parameters of the test. The basic syntax for is `gp_poly_test` is:\n",
    "\n",
    "`gp_poly_test(order, num_vars, n)`\n",
    "\n",
    "... where `order`, `num_vars`, and `n` are variables you replace with integer values, e.g.:\n",
    "\n",
    "`gp_poly_test(1, 3, 100)`\n",
    "\n",
    "... would generate a 1st-order polynomial (a linear expression) with three variables `a`, `b`, `c`, and random coefficients, plus a dataset of 100 points in `a, b, c` space, and a list of corresponding values of the linear expression, which are the targets the GP will try to approximate.\n",
    "\n",
    "Further optional keyword parameters can be set, which otherwise will take default values:\n",
    "\n",
    "<ul>\n",
    "<li><b>generations (default = 100)</b>: Number of generations the GP runs for</li>\n",
    "<li><b>pop (default = 100)</b>: Number of trees in a generation</li>\n",
    "<li><b>iv_min (default = -100)</b>: Minimum value of a variable in the independent variables dataset</li>\n",
    "<li><b>iv_max (default = 100)</b>: Maximum value of a variable in the independent variables dataset</li>\n",
    "<li><b>coeff_min (default = -20)</b>: Minimum value of a coefficient in the target polynomial</li>\n",
    "<li><b>coeff_max (default = 20)</b>: Minimum value of a coefficient in the target polynomial</li>\n",
    "<li><b>mutation_rate (default =  0.2)</b>: Probability that a coefficient value in a GP tree will mutate from one generation to the next</li>\n",
    "<li><b>mutation_sd (default = 1.0)</b>: Standard deviation of the normal distribution defining the deltas added to coefficient values when they are mutated</li>\n",
    "<li><b>elitism (default = 5)</b>: The <em>k</em> best trees in each generation pass on one copy each to the next generation without any chance of mutation: this parameter sets the value of <em>k</em>. If it's zero, no trees are protected from mutation.</li>\n",
    "</ul>\n",
    "\n",
    "One word of caution: GP takes a while to run - the program will appear to be doing nothing in between showing the tree for the target polynomial and displaying the results. This is normal. Make yourself a cuppa and come back in a bit. The final cell will ding to tell you it's done, and the variable `result` will then contain a dictionary with more detailed output data, which you can use to create further visualisations."
   ]
  },
  {
   "cell_type": "code",
   "execution_count": 14,
   "metadata": {
    "scrolled": false
   },
   "outputs": [
    {
     "name": "stdout",
     "output_type": "stream",
     "text": [
      "0 generations\n"
     ]
    },
    {
     "name": "stderr",
     "output_type": "stream",
     "text": [
      "/home/dave/.pyenv/versions/3.11.5/lib/python3.11/site-packages/numpy/core/_methods.py:49: RuntimeWarning: overflow encountered in reduce\n",
      "  return umr_sum(a, axis, dtype, out, keepdims, initial, where)\n",
      "/home/dave/.pyenv/versions/3.11.5/lib/python3.11/site-packages/numpy/core/_methods.py:49: RuntimeWarning: overflow encountered in reduce\n",
      "  return umr_sum(a, axis, dtype, out, keepdims, initial, where)\n"
     ]
    },
    {
     "name": "stdout",
     "output_type": "stream",
     "text": [
      "50 generations\n",
      "100 generations\n",
      "150 generations\n",
      "200 generations\n",
      "250 generations\n",
      "300 generations\n",
      "350 generations\n",
      "400 generations\n",
      "450 generations\n",
      "500 generations\n",
      "550 generations\n",
      "600 generations\n",
      "650 generations\n",
      "700 generations\n"
     ]
    },
    {
     "name": "stderr",
     "output_type": "stream",
     "text": [
      "/home/dave/CodeToJoy/philoso-py/operators.py:27: RuntimeWarning: divide by zero encountered in scalar power\n",
      "  return args[0] ** args[1]\n",
      "/home/dave/CodeToJoy/philoso-py/operators.py:27: RuntimeWarning: divide by zero encountered in scalar power\n",
      "  return args[0] ** args[1]\n"
     ]
    },
    {
     "name": "stdout",
     "output_type": "stream",
     "text": [
      "750 generations\n",
      "800 generations\n"
     ]
    },
    {
     "name": "stderr",
     "output_type": "stream",
     "text": [
      "/home/dave/CodeToJoy/philoso-py/operators.py:27: RuntimeWarning: divide by zero encountered in scalar power\n",
      "  return args[0] ** args[1]\n",
      "/home/dave/CodeToJoy/philoso-py/operators.py:27: RuntimeWarning: divide by zero encountered in scalar power\n",
      "  return args[0] ** args[1]\n",
      "/home/dave/CodeToJoy/philoso-py/operators.py:27: RuntimeWarning: divide by zero encountered in scalar power\n",
      "  return args[0] ** args[1]\n",
      "/home/dave/CodeToJoy/philoso-py/operators.py:27: RuntimeWarning: divide by zero encountered in scalar power\n",
      "  return args[0] ** args[1]\n",
      "/home/dave/CodeToJoy/philoso-py/operators.py:24: RuntimeWarning: overflow encountered in scalar multiply\n",
      "  return reduce(lambda a, b: a * b, (1,) + args)\n",
      "/home/dave/CodeToJoy/philoso-py/operators.py:24: RuntimeWarning: overflow encountered in scalar multiply\n",
      "  return reduce(lambda a, b: a * b, (1,) + args)\n"
     ]
    },
    {
     "name": "stdout",
     "output_type": "stream",
     "text": [
      "850 generations\n"
     ]
    },
    {
     "name": "stderr",
     "output_type": "stream",
     "text": [
      "/home/dave/.pyenv/versions/3.11.5/lib/python3.11/site-packages/numpy/core/_methods.py:49: RuntimeWarning: overflow encountered in reduce\n",
      "  return umr_sum(a, axis, dtype, out, keepdims, initial, where)\n"
     ]
    },
    {
     "name": "stdout",
     "output_type": "stream",
     "text": [
      "900 generations\n",
      "950 generations\n",
      "1000 generations\n",
      "1050 generations\n"
     ]
    },
    {
     "name": "stderr",
     "output_type": "stream",
     "text": [
      "/home/dave/CodeToJoy/philoso-py/operators.py:27: RuntimeWarning: divide by zero encountered in scalar power\n",
      "  return args[0] ** args[1]\n",
      "/home/dave/CodeToJoy/philoso-py/operators.py:27: RuntimeWarning: divide by zero encountered in scalar power\n",
      "  return args[0] ** args[1]\n"
     ]
    },
    {
     "name": "stdout",
     "output_type": "stream",
     "text": [
      "1100 generations\n"
     ]
    },
    {
     "name": "stderr",
     "output_type": "stream",
     "text": [
      "/home/dave/.pyenv/versions/3.11.5/lib/python3.11/site-packages/numpy/core/_methods.py:49: RuntimeWarning: overflow encountered in reduce\n",
      "  return umr_sum(a, axis, dtype, out, keepdims, initial, where)\n"
     ]
    },
    {
     "name": "stdout",
     "output_type": "stream",
     "text": [
      "1150 generations\n"
     ]
    },
    {
     "name": "stderr",
     "output_type": "stream",
     "text": [
      "/home/dave/.pyenv/versions/3.11.5/lib/python3.11/site-packages/numpy/core/_methods.py:49: RuntimeWarning: overflow encountered in reduce\n",
      "  return umr_sum(a, axis, dtype, out, keepdims, initial, where)\n"
     ]
    },
    {
     "name": "stdout",
     "output_type": "stream",
     "text": [
      "1200 generations\n"
     ]
    },
    {
     "name": "stderr",
     "output_type": "stream",
     "text": [
      "/home/dave/.pyenv/versions/3.11.5/lib/python3.11/site-packages/numpy/core/_methods.py:49: RuntimeWarning: overflow encountered in reduce\n",
      "  return umr_sum(a, axis, dtype, out, keepdims, initial, where)\n",
      "/home/dave/CodeToJoy/philoso-py/operators.py:27: RuntimeWarning: divide by zero encountered in scalar power\n",
      "  return args[0] ** args[1]\n",
      "/home/dave/CodeToJoy/philoso-py/operators.py:27: RuntimeWarning: divide by zero encountered in scalar power\n",
      "  return args[0] ** args[1]\n",
      "/home/dave/CodeToJoy/philoso-py/operators.py:27: RuntimeWarning: divide by zero encountered in scalar power\n",
      "  return args[0] ** args[1]\n",
      "/home/dave/CodeToJoy/philoso-py/operators.py:27: RuntimeWarning: divide by zero encountered in scalar power\n",
      "  return args[0] ** args[1]\n",
      "/home/dave/CodeToJoy/philoso-py/operators.py:27: RuntimeWarning: divide by zero encountered in scalar power\n",
      "  return args[0] ** args[1]\n",
      "/home/dave/CodeToJoy/philoso-py/operators.py:27: RuntimeWarning: divide by zero encountered in scalar power\n",
      "  return args[0] ** args[1]\n"
     ]
    },
    {
     "name": "stdout",
     "output_type": "stream",
     "text": [
      "1250 generations\n"
     ]
    },
    {
     "name": "stderr",
     "output_type": "stream",
     "text": [
      "/home/dave/CodeToJoy/philoso-py/operators.py:27: RuntimeWarning: divide by zero encountered in scalar power\n",
      "  return args[0] ** args[1]\n",
      "/home/dave/CodeToJoy/philoso-py/operators.py:27: RuntimeWarning: divide by zero encountered in scalar power\n",
      "  return args[0] ** args[1]\n",
      "/home/dave/CodeToJoy/philoso-py/operators.py:27: RuntimeWarning: divide by zero encountered in scalar power\n",
      "  return args[0] ** args[1]\n",
      "/home/dave/CodeToJoy/philoso-py/operators.py:27: RuntimeWarning: divide by zero encountered in scalar power\n",
      "  return args[0] ** args[1]\n",
      "/home/dave/CodeToJoy/philoso-py/operators.py:27: RuntimeWarning: divide by zero encountered in scalar power\n",
      "  return args[0] ** args[1]\n",
      "/home/dave/CodeToJoy/philoso-py/operators.py:27: RuntimeWarning: divide by zero encountered in scalar power\n",
      "  return args[0] ** args[1]\n",
      "/home/dave/CodeToJoy/philoso-py/operators.py:27: RuntimeWarning: divide by zero encountered in scalar power\n",
      "  return args[0] ** args[1]\n",
      "/home/dave/CodeToJoy/philoso-py/operators.py:27: RuntimeWarning: divide by zero encountered in scalar power\n",
      "  return args[0] ** args[1]\n",
      "/home/dave/.pyenv/versions/3.11.5/lib/python3.11/site-packages/numpy/core/_methods.py:49: RuntimeWarning: overflow encountered in reduce\n",
      "  return umr_sum(a, axis, dtype, out, keepdims, initial, where)\n"
     ]
    },
    {
     "name": "stdout",
     "output_type": "stream",
     "text": [
      "1300 generations\n"
     ]
    },
    {
     "name": "stderr",
     "output_type": "stream",
     "text": [
      "/home/dave/CodeToJoy/philoso-py/operators.py:27: RuntimeWarning: divide by zero encountered in scalar power\n",
      "  return args[0] ** args[1]\n",
      "/home/dave/CodeToJoy/philoso-py/operators.py:27: RuntimeWarning: divide by zero encountered in scalar power\n",
      "  return args[0] ** args[1]\n"
     ]
    },
    {
     "name": "stdout",
     "output_type": "stream",
     "text": [
      "1350 generations\n"
     ]
    },
    {
     "name": "stderr",
     "output_type": "stream",
     "text": [
      "/home/dave/CodeToJoy/philoso-py/operators.py:27: RuntimeWarning: divide by zero encountered in scalar power\n",
      "  return args[0] ** args[1]\n",
      "/home/dave/CodeToJoy/philoso-py/operators.py:27: RuntimeWarning: divide by zero encountered in scalar power\n",
      "  return args[0] ** args[1]\n",
      "/home/dave/CodeToJoy/philoso-py/operators.py:27: RuntimeWarning: divide by zero encountered in scalar power\n",
      "  return args[0] ** args[1]\n",
      "/home/dave/CodeToJoy/philoso-py/operators.py:27: RuntimeWarning: divide by zero encountered in scalar power\n",
      "  return args[0] ** args[1]\n",
      "/home/dave/CodeToJoy/philoso-py/operators.py:27: RuntimeWarning: divide by zero encountered in scalar power\n",
      "  return args[0] ** args[1]\n",
      "/home/dave/CodeToJoy/philoso-py/operators.py:27: RuntimeWarning: divide by zero encountered in scalar power\n",
      "  return args[0] ** args[1]\n"
     ]
    },
    {
     "name": "stdout",
     "output_type": "stream",
     "text": [
      "1400 generations\n"
     ]
    },
    {
     "name": "stderr",
     "output_type": "stream",
     "text": [
      "/home/dave/CodeToJoy/philoso-py/operators.py:27: RuntimeWarning: divide by zero encountered in scalar power\n",
      "  return args[0] ** args[1]\n",
      "/home/dave/CodeToJoy/philoso-py/operators.py:27: RuntimeWarning: divide by zero encountered in scalar power\n",
      "  return args[0] ** args[1]\n",
      "/home/dave/CodeToJoy/philoso-py/operators.py:27: RuntimeWarning: divide by zero encountered in scalar power\n",
      "  return args[0] ** args[1]\n",
      "/home/dave/CodeToJoy/philoso-py/operators.py:27: RuntimeWarning: divide by zero encountered in scalar power\n",
      "  return args[0] ** args[1]\n",
      "/home/dave/CodeToJoy/philoso-py/operators.py:27: RuntimeWarning: divide by zero encountered in scalar power\n",
      "  return args[0] ** args[1]\n",
      "/home/dave/CodeToJoy/philoso-py/operators.py:27: RuntimeWarning: divide by zero encountered in scalar power\n",
      "  return args[0] ** args[1]\n",
      "/home/dave/CodeToJoy/philoso-py/operators.py:27: RuntimeWarning: divide by zero encountered in scalar power\n",
      "  return args[0] ** args[1]\n",
      "/home/dave/CodeToJoy/philoso-py/operators.py:27: RuntimeWarning: divide by zero encountered in scalar power\n",
      "  return args[0] ** args[1]\n"
     ]
    },
    {
     "name": "stdout",
     "output_type": "stream",
     "text": [
      "1450 generations\n"
     ]
    },
    {
     "name": "stderr",
     "output_type": "stream",
     "text": [
      "/home/dave/CodeToJoy/philoso-py/operators.py:21: RuntimeWarning: invalid value encountered in scalar add\n",
      "  return reduce(lambda a, b: a + b, (0,) + args)\n",
      "/home/dave/CodeToJoy/philoso-py/operators.py:21: RuntimeWarning: invalid value encountered in scalar add\n",
      "  return reduce(lambda a, b: a + b, (0,) + args)\n"
     ]
    },
    {
     "ename": "ValueError",
     "evalue": "Total of weights must be finite",
     "output_type": "error",
     "traceback": [
      "\u001b[0;31m---------------------------------------------------------------------------\u001b[0m",
      "\u001b[0;31mValueError\u001b[0m                                Traceback (most recent call last)",
      "\u001b[1;32m/home/dave/CodeToJoy/philoso-py/GP_poly_tests.ipynb Cell 3\u001b[0m line \u001b[0;36m1\n\u001b[0;32m----> <a href='vscode-notebook-cell:/home/dave/CodeToJoy/philoso-py/GP_poly_tests.ipynb#W2sZmlsZQ%3D%3D?line=0'>1</a>\u001b[0m result \u001b[39m=\u001b[39m gp_rand_poly_test(\u001b[39m500\u001b[39;49m, generations\u001b[39m=\u001b[39;49m\u001b[39m2000\u001b[39;49m, mutation_sd\u001b[39m=\u001b[39;49m\u001b[39m0.3\u001b[39;49m)\n",
      "File \u001b[0;32m~/CodeToJoy/philoso-py/gp_poly_test.py:103\u001b[0m, in \u001b[0;36mgp_rand_poly_test\u001b[0;34m(n, generations, pop, iv_min, iv_max, coeff_min, coeff_max, mutation_rate, mutation_sd, crossover_rate, elitism, order, def_fitness, temp_coeff, max_size, max_depth)\u001b[0m\n\u001b[1;32m     93\u001b[0m \u001b[39mdef\u001b[39;00m \u001b[39mpoly_obs_factory\u001b[39m(\n\u001b[1;32m     94\u001b[0m         n: \u001b[39mint\u001b[39m, var: \u001b[39mstr\u001b[39m, \u001b[39m*\u001b[39m\u001b[39mvars\u001b[39m: \u001b[39mstr\u001b[39m, order: \u001b[39mint\u001b[39m, \n\u001b[1;32m     95\u001b[0m         const_min: \u001b[39mfloat\u001b[39m, const_max: \u001b[39mfloat\u001b[39m, \n\u001b[1;32m     96\u001b[0m         iv_min: \u001b[39mfloat\u001b[39m, iv_max: \u001b[39mfloat\u001b[39m\n\u001b[1;32m     97\u001b[0m     ) \u001b[39m-\u001b[39m\u001b[39m>\u001b[39m Observatory:\n\u001b[1;32m     98\u001b[0m     \u001b[39mreturn\u001b[39;00m FunctionObservatory(\n\u001b[1;32m     99\u001b[0m         \u001b[39m'\u001b[39m\u001b[39mx\u001b[39m\u001b[39m'\u001b[39m, \u001b[39m'\u001b[39m\u001b[39my\u001b[39m\u001b[39m'\u001b[39m, \n\u001b[1;32m    100\u001b[0m         {\n\u001b[1;32m    101\u001b[0m             \u001b[39m'\u001b[39m\u001b[39mx\u001b[39m\u001b[39m'\u001b[39m: uniform_iv_func((iv_min, iv_max)), \n\u001b[1;32m    102\u001b[0m             \u001b[39m'\u001b[39m\u001b[39my\u001b[39m\u001b[39m'\u001b[39m: target_poly_func(var, \u001b[39m*\u001b[39m\u001b[39mvars\u001b[39m, order, const_min, const_max)\n\u001b[0;32m--> 103\u001b[0m         }, \n\u001b[1;32m    104\u001b[0m         n\n\u001b[1;32m    105\u001b[0m     )\n",
      "File \u001b[0;32m~/CodeToJoy/philoso-py/gp.py:97\u001b[0m, in \u001b[0;36mGPTreebank.run\u001b[0;34m(self, tree_factory, observatory, steps, pop, dv, fitness, def_fitness, elitism, temp_coeff, best_outvals, expt_outvals, ping_freq)\u001b[0m\n\u001b[1;32m     95\u001b[0m \u001b[39mif\u001b[39;00m n \u001b[39m==\u001b[39m steps\u001b[39m-\u001b[39m\u001b[39m1\u001b[39m:\n\u001b[1;32m     96\u001b[0m     final_best \u001b[39m=\u001b[39m scoreboard\u001b[39m.\u001b[39mk_best(\u001b[39m1\u001b[39m, mark_4_del\u001b[39m=\u001b[39m\u001b[39mFalse\u001b[39;00m)[\u001b[39m0\u001b[39m]\n\u001b[0;32m---> 97\u001b[0m \u001b[39mfor\u001b[39;00m t \u001b[39min\u001b[39;00m choices(old_gen, scoreboard[\u001b[39m'\u001b[39;49m\u001b[39mfitness\u001b[39;49m\u001b[39m'\u001b[39;49m], k\u001b[39m=\u001b[39;49mpop\u001b[39m-\u001b[39;49melitism):\n\u001b[1;32m     98\u001b[0m     t\u001b[39m.\u001b[39mcopy(gp_copy\u001b[39m=\u001b[39m\u001b[39mTrue\u001b[39;00m) \u001b[39m# WUT XXX\u001b[39;00m\n\u001b[1;32m     99\u001b[0m deathlist \u001b[39m=\u001b[39m \u001b[39mfilter\u001b[39m(\n\u001b[1;32m    100\u001b[0m     \u001b[39mlambda\u001b[39;00m t: t\u001b[39m.\u001b[39mmetadata[\u001b[39m'\u001b[39m\u001b[39mto_delete\u001b[39m\u001b[39m'\u001b[39m] \u001b[39m==\u001b[39m \u001b[39mTrue\u001b[39;00m, old_gen\n\u001b[1;32m    101\u001b[0m ) \u001b[39mif\u001b[39;00m elitism \u001b[39melse\u001b[39;00m old_gen\n",
      "File \u001b[0;32m~/.pyenv/versions/3.11.5/lib/python3.11/random.py:511\u001b[0m, in \u001b[0;36mRandom.choices\u001b[0;34m(self, population, weights, cum_weights, k)\u001b[0m\n\u001b[1;32m    509\u001b[0m     \u001b[39mraise\u001b[39;00m \u001b[39mValueError\u001b[39;00m(\u001b[39m'\u001b[39m\u001b[39mTotal of weights must be greater than zero\u001b[39m\u001b[39m'\u001b[39m)\n\u001b[1;32m    510\u001b[0m \u001b[39mif\u001b[39;00m \u001b[39mnot\u001b[39;00m _isfinite(total):\n\u001b[0;32m--> 511\u001b[0m     \u001b[39mraise\u001b[39;00m \u001b[39mValueError\u001b[39;00m(\u001b[39m'\u001b[39m\u001b[39mTotal of weights must be finite\u001b[39m\u001b[39m'\u001b[39m)\n\u001b[1;32m    512\u001b[0m bisect \u001b[39m=\u001b[39m _bisect\n\u001b[1;32m    513\u001b[0m hi \u001b[39m=\u001b[39m n \u001b[39m-\u001b[39m \u001b[39m1\u001b[39m\n",
      "\u001b[0;31mValueError\u001b[0m: Total of weights must be finite"
     ]
    }
   ],
   "source": [
    "result = gp_rand_poly_test(500, generations=2000, mutation_sd=0.3)"
   ]
  },
  {
   "cell_type": "code",
   "execution_count": null,
   "metadata": {},
   "outputs": [
    {
     "data": {
      "text/html": [
       "\n",
       "                <audio  controls=\"controls\" autoplay=\"autoplay\">\n",
       "                    <source src=\"data:audio/mpeg;base64,//NwwAAAAAJYAUAAAP/9hUXM7R//O+ZiBnWsv/h4CFkaPWmCEGgY5LoGVw70kTcDM5PAyGRwMagXy+cJwiAGuTmBgMWAMEgDuEG+UyfJMuMDngAwKwOrw0DX6HAyyHf6C3dk0wbTAIGwGTBABq8lgYoMgGWA4BiENf8wNCgRopcWMgB4eAGDiBlMagbLSYGISMBpIuAe9z4Ht+aB4tcgcGc3/8nzQtHycNT5ogtM3QA0gNQNenH/83LAqVKMfggBm6gAA5gvgMsFQDLwkA1EVAMUFQDNQsA3Y0ANLEAQqBn8qgYzF///syfrsgtM3UgBi8HgYgAweyFp4GHBwBkwjABFADII5AxWGQFAuBjIVAYoFgGLAYBjsXgYvGIGLQb///0Fm5XNE32/+FhAWYFmAczV4GDQoG8gZRGoGIRGBiMCgYKCABQgGXDkwukAcDA9UGz5NCTiAgsH//4mAZHFjGQTcuMAADFksNYpNhr/83LACCcr1vZbglogigQvvzG6ndglyfqP4dbD+7+fOW1/H9VB02JBo77uqirYgSFh0MOMzAhDd5uZUyOl3Pg+6DQBwAwCeOw0LplQdZsTub9vySB8qn099nGGhwbySjEkyHEGRy2V4j+Pnj6HeT3n/uX15zo0PNLjPuXnCzfLz/1//1/5+GAbUy9lHJz95oaM/PIJEgPcJH6k5bXHXTX/8LgADbSR3wK3/6K4igQBcJj49ZlTU77/83LAFSW7pvv/x2gC1TMl31r/frW7IrM0TIqJxmX3TJhqiokQ2Q9FqBgtFFa0mMkEVIspObqbdSLOp2ZJaLauprLZ12qppKGc+tmmq0SYSqnN2SOF46ouIMXWPzF0aFkXUgkpkFLRopnE6TooJmyE2Q1kiYpGyZ4doJESyWzoGKbJOlQ5iimYP5iJQNcONhJJHJJEAPoOUkzmvdSlr67zq+673G+cWz4FtQJ8PXk8HW5t3zrdaX3/83LAKB97TsZYE9rYXrGrej95bcPdda+Rln39asfRapBaBQWg6FR9FInsxTNFF5RmpI0M1UNttSSjI2TMql8DcXnRWpJTKRQdSnZS0Gakq+3qer//1Ua0v1mOoEYP1lq15FAbbXZyQB/x8oEaImowgWFCHRM0jBGykSsbJJoomyB5AyW5woH3qPMtbky2ignZRgfN2RLSCjQ6zhBSDJUC6WVLetJF1v1G6DsymNTNNFTLSc2QLSf/83LAVCBTTrpQHGLYapak2U7rqZK5skCGmqKcvWmNOldajVFqDKdJVbf9f9b/pf16SjopggKcTX/6ANZmU5SnD/PhUWRFRCuLN+6Ul3VSJmi51TpGB1JkXXZlscUicPoruX0lujWjmaFy6eMk1sbuUyrRUEPhxhskZIFUry9qZFVdMyNjVE0Y1J9iHkDPGhsiaukYpLqSSTm61qQTNDKik5idAQMM1pImKLHzRB00pglVWatrR///83LAfCLjVq7oTKjY6/6X8x/srl0g4DFcdyL+kLp0M/uhM6wZBSMHFN9Mv21UrEdrwGaaGiqsgZoiotJ1pIWTMjRO7F0rFBalOqg5ZNDdmVWsyRLxupTHQQeDoQKCRcJovPMErIJL1mrmJvdEpmpdKyh5rWigpRm9k6zi2ZJzVneoumgC8zcvJTh9jqR8+gt1K0kn/////85/c87GJSCbwBcFMyovjD2A2GMxNaH8aJiAAaENUhf/83DAmiLLVqbIZKbZ11rWhPagXqajCowUdIgowqp1ppopGJm9Gal2gzu6CaLIsxq6DFw0Ugylm4JHB5S4YGxqdPnlIKPIGijZSbmRmkswMkTJRkkYFcgiicoLdLs9A3QQY6k6KlXWAIGETQ1QMaSKNalIuyzIk6af/////X+pNbLRK4asBFARAhEzycMploDWcyEOaVK0GonnC9NH8sxVr2+vrvveY5a5uQubh3u94cxrRinhzf/zcsC3JBNenshM6tl3d7O9TZ9rztJenscrs1/K+uW7stuY8/GvbRtG0ceTVCpNpq583RMTVFJKXCwpSDGBqaSbGKQiB1qb0+6kFLSqS5dRTIAAapTMSZUiXntZtFEoFwYf/////6H10j5aNjIUKCFwB26YgEYmR5NJZ1I+mbi4ZDNlfKMzXBgayMlRsmYE8xzaFaVt2cfq85hTQ42azlU3jW5rHtmtd5lnRdzwqZYWaSnyvV5ivv/zcsDQJet+kqBmaNg8yi3O8p+WrFWpFhAAPwVrcGUJgg90VlYk1MYplcumRiaHkVpmKSI1ReIIVXTp9rofUgiio1HPBMSEQTZSnRXWj9IgQ4n/////+/9i4XqYygAIHA0SNgxmQBOs8cQRMEDYpTEhR5Q0ccFRUYYhmzQYUw2Ccc+0uVuhlcufaQ7zuZ27O898q1MLXMccKTeFzK3SVruPYbrZYXaGrUl2srVJK6SWCjgniwdLX//zcsDiJjN+ksBeatgKcwIMZssuF81MDY4SpOMfLqSCSSiLl8xKBFQtYG09STr60f/U6jNx0gEhkQ0vH3poO7/mJYLf/////7dfMTU2PE6MsA4VgaWBgbCV2KxtWkcSMW/+sINCEaA/38oStjJM6SUrVQsZKJJYuYW72s7M8uaX3vyszOPfp+2r9m9Y+vYyw/dWl33uescLXM6n1ZfKMYGltWM3xBqH/E7UaJCzZ3osizJKPNOGp//zcsDzJ6N+iqBGqtiWZoJkNND5SFoE6iZJ1Iun003/qQQl41IoNwDMFBkzIqspSTn2/ZEyf9B///7f3/pG54mi8OsCBQDdKROBF1FZJ1kEBI9/zQAAAAAAAAAAAAAAAAAAxyAC5TcKIYKqUg6dlqnbYsmpvndWfq1670MnrUuUbwn94XtyyxXxzylON2pZjl2rlVztXJnOpY5Wu3tSa5Z13dOORw2KTmDdnvTl83rMmekYoFxkGP/zcsD+JstuhsBOqNjxgmbj6k4bjqC64qaDOnPpVmtW2p0Z2mUSkK2A0KUW5Avs65sgl+ozIo///9v7/S/9JAySKIESADXstlovV4y5mX2f9IAAAAAAAAAAAAAAAAAAAAAAxiEhuQysKBone7e1LG1CiakWIWM8PpKfHPGDlx8uYXZ2as4XbMozlVyrv7W7ka3V1nX1jyxlLKv2K1irTyzWF3CeEGEEmLuXF5MforRZJRykaLKZq//zcsD/Jkt2hoBe6NikWy6RMixbJEuGzEFJ4roma0ziLf3LqulZjhFBcoGQmDRMVpMZGZooxb6Y6xoP/////9X9aCVAfAJiQAwxPkETZbSKJHVv/9AAAAAAAAAAAAAAAACFQgCH68WgqGzYsucQRx87TjCSd7mdneH4wBBbQsqvc9R/f36t7Vi3Zt2N49zjurWPL1DT0u+dl+Wssu/9+rcl5V0AjJimmZKcolI/0jc1QLiZUMjZRP/zcMD/Jzt6goBO6NjKiNPGR8qn1GY4RsU2dSRv+pOZvnT6TmxdFOAMqpE/LiSKLnkj/0ByR5//////X9VFE3KJFSaAoJA4hoTqQB3QWiT5kZmxp/pIAAAAAAAAAAAAAACmMRFHNS4Pg4LtQnH5OxKSqDebuz9u9la6ueetbx1et5cmP3lV1Y7lbyu3ZulqXZVQ15z/r95zn1dZ3ssa0ZAt0ZIBvnx0mPJpp6BomyKZoTToJG5g//NywP8ny4KCoE7o2H0yYQMjIzctjtRZ7LRb2TPHjRn0EWOuIzA1NKbmqmSTQZJ/nCyWv//////10jcuzIc0IBgG4SiEizNN0rOeNjX/rAAAAAAAAAAAAAAAAAAAAAAAAACIQxJEzhxEAltKPNWHZvDBp/zn/qt2th/e0MBvZllW5jYtat4bxy53KU3t443/xtWL1PAmdbeNb8d52u59qyp/Qr2U/A9PWe5jdJI4o0dMvsbqWWi+//NywP8ls36CoEbo2FEqE+mXGU6iPE7FkmGdMvv1XS9bOt0UFHhZoG0gjQK1M3WeRRQSftOGrf+pTf////pKMHLhcDZgGXY3y0UjROiUUjZZ//s1gAAAAAAAAAAAAAAAAACoMiH+FCVIud09GevcxaWnpa9oLhVsfvC5ewp4dYrhYv5Y42MdZfaq3b/cf5yNXaTlat+7V/dvli9+NPjUpb9W5GRDKDj8j/sHugaGlSjY2c3MUSsb//NywP8nC36CoGao2KJdJcxKRgalhZPDVEEB3k+zrRSR62f0GrOHUywZj4A54IVZmaKSOzVvU7FBbf+pH////6qLGxiUSHBAsADhBTIPCERAoKf9YAAAAAAAAAAAAAAAAACVMhH1VHwMFzBOuoJIoEozJYmpR3yxnSYcsWXMUIl1Nfr67nL7/7s016/q7P2b0zMUjs61ZmrFehu09yYlk3f1KauGGVgdsG64tK4Di5iTCyYpkQSS//NywP8nG1aCgH6m2DdM+kmxwqnyyTJJIrZywFsR3PTqTf+gtbN0kyKoDkgLDSIv+e/rIcRNDrUz+pvTT////TTZBE2GUA3gsaBuiqlQU01/0DJWsAAAAAAAAAAAAAAAAAC4UQBGTsK8GI4iGFSV/9bX68sfcggs95q13O1Uehq3O5Y1Kmcat2OXsuWtZ5a1SWZXzDD5qNcvU9v61zXcqXtu1PWRkARi5dNuzPIrM0EnKTIFQsos//NywP8nI35+gE5o2IOyRwui5crpokoDeMgx1AihopIyNv3LqVS3olw2TKACIFQpnVMpJI836BDCF9vq2Q1Jf7K//rukeSLBMhMgEvlIu18rB+wAAAAAAAAAAAAAAAAAAAC3YBCH2J9YMoRWBbNqxZq8i9FFa9exw3ua+mXdnS09z5+l+9dxo69JewtX919yXnJTle3azmc7U1bjOeER/ObnO5xMVDkaONX3xwRTTNEzdZoxicWb//NywP8ms25+oGam2RfNFsaJn2LpqUC4TYaWaImDkRT/rN0NBSZ9BJJIqE0AKTNThxGijRP/mR8k/XrV2bqf/o1t//ZSkjQUmDpZJ0kLKMMtgAAAAAAAAAAAAAAAAAAAAJZSAcTPssA3FYlm7kDbv5qx2sra5a/OjqWc6Foz33Zikyws18Llq1W1zPPWO85VVv3M5VnbtSjGpO0lJzn5b5a3UjINbi8Ojm2x2DhujL2ZmhaWYqPE//NwwP8mS25+oE6o2VUSkYjklYkyHzA3FPE6DtUV0zZM8X0i42oolgwQNkVooosVSbTBBRRgmjSUdNFfrUXl/9Zqj/////s6lEwGcgAMJ2f6JF1oAAAAAAAAAAAAAAAAAKcyEMf1jIkajlaNR7Ne8CuM7db3vG7Wpu6+UuoozVldJbqVcuWMsq+dmelGd7tW5/aapjYoK8xVvTWWM5jymp8M92sRnCT6pFSNhkxmbqQLajUvHzP/83LA/ydbbn6gZqbZWmXi6RI45WMi4ZmJWJ9IxDwDmlQ2Nk00k0S4yCCmSMK6CDOgidHwCAuVVF67IJ0/////////01qUdDkACsI0DdFlUiKIhE7/qAAAAAAAAAAAAAAAAKdRIEf2qAAUEuHl0d5kdgzHqs8wq9pavcJiGWPY1LN/DH86b7+rVivZ3jYszOFJWy5j+Na5navfl9m/dv1LFNZCsKPecuqtjeQ6gbuxxJjJEsGxkUr/83LA/ydzcn6gfqjYmbk+bpFBIyNyeHML5dIobFg3Uyz+bspaaaaKTp0kFG5mBhShF1skkkcU6suJopKLJIo///////0kkHMjEL9AasKOIxSRWiopozn/+oAAAAAAAAAAALdRMf9VBwRAmoYQrYpdMsYxmPvzeWO9385U0t7v53dWxYz3q3ZwlW7t65e/8M8LdfXc8edv/zCVUlavep8McBWlA2c/9VwWoOoxYsmjrL5OIpudMDP/83LA/yhTen6gTujYUVS6UTAuMUFnxcRsamLGaKRvQMDi3RNky+ykEjRNNEuFsDc80OpsZVprvoqeZlqlWg7frU/////os6kSgGjgZYF847qUsmKhQAAAAAAAAAAAAAAAAIUwAv8dgKZbpftsW+nl54uqbj1b+rszYw37K5jcBZXM69jdT6mvl1mrq5zLCYu1ct502f09/ued/7WGvwvVbQUqRpSltdurQU03QMzMvORUxWblUnj/83LA/ydbbn6ATubZmiibqNiKmiRUOlYxIIW0zFzNIuKRRRU5+YGyJsgo1POy0zgGXFF41MWWtLS9zzlktdBC//////+uyJsISgMXRopNqWQ1JHoAAAAAAAAAAAAAAAAAAJdAAPeagqJh7ok0ZupDQi3Fb2UP2KWxVvU8thtq0sll74zPXf3vlu/9bd7Vip9Sxl397y5upvmsrNun3P1bV2VAj671i/LXtLZZNy4TxNnUlJMiXyT/83LA/ycDcnqAfujZTFy2dPlwoE8al8qjqI0wQmaCTqeyZutGmowSNEnN0E1FEDgEiqartXWbqoqTZMq0VXvpo6CmQ0VP9PU36n93qY6GGCz5xanVljdv0gAAAAAAAAAAALggIIfLRjQKpnmE9VaWZikpeyld5nc+3f1SvK1axTY/jf1nnugprtLXyqV8srdJjfvT9Xtrfcc69NYwy+rS77choUpjQiZwlsJdzYxUXlOXkUkyoXj/83LA/yg7cnqAXqbY8TJUQJsfJNSmmkeFvJCYnDxfQQOJIGiDqTTWgpFFy4Zn0EwCnFg3c2STUmnW3dNF+vqdbX+1af6TVf+j6nQKwLiK6Kq87JlQAAAAAAAAAAAAAAAA3YB/tIMCA6hF5GaayNtsoWErz7ZzocL/Lj+KMajNeg1yzZu/B9JhZuVcaS3jVltJGa1/CxrdSl+nk1JZwvbx1nhdEH4+ZRa1JlqQJ4wcyMCfMjjGxkz/83DA/ycjbnqgTqbYZmRJFwvG5UMTVMgYxxVZjUxdSJqZGZ0+6k2TNlmxtQLqjhoAHJ1FM+aoU0k1GhjWyZSK7czdm/+m619Ctkm//s60S8HlC9RTSRSAAAAAAAAAAAAA3yB+UQXBPH4pHuNe7RdE04xV7Vq9mr1/CgcqEYfq9rl3PPGZ/OnzvffqXYjbpKezhbw5r7OVW1qmymbnd3qsjESZHhFLkxJklKSWdLpqTtReIuauSP/zcsD/KAtWdeBOZNgbGI0DpFTUpJF4goeodSPonUSbPF9zY2dZ8vS+XzRJlHi4XWLwGLAEgks0cwRU7786UCX62dR1v/rS/1//61rRNycB0QtOdZo/7bqAAAAAAAAAAAAAqDIRnYToKQoXMH0RaSUjpLU1ovzeGFq3/1q7IpfKru8b+FuplcwnNdv4XbtLVlt2avU9Nlfk2WFvtrkt+fy3jSV62TkE5C9cj3nCGFldzqkDhfrNiv/zcsD/KCNWdeBeaNhlQiBbIuVC4tI3Mh+FhGTROol4iabF0uovOpny4XUSseWZlcwM0jEDxSo5qzIrRWg7/UW+m////03+m/93ZcxD8gMVLy3RXWWVLP/6gAAAAAAAAAAAaGIioD5VOATjoKUjJaUkmQxqK0eWNJlQa5lVeBoec9fvcq7qbuVaPlXLW87meeV27GrWqmrO8b1LhXv477Q41deKFiuFRUkesJOTR1TpqSM0FFFEtv/zcsD/KFNydoBmpNjskRFi+TRkbrHUKONt0aJmgujQUtNKkbJp0HOqQIeAeZJBbrpMlZSXWkVqe/0upbUf9kv//aqZC1gDaJ9T3VLDWIAAAAAAAAAAAAAAAAAAAAAAAAAAhWMiYD7YcHgNzEg5YTkqdpNOHGtpO7ypdX57GEtSz3nTVcM7ne8u6qWqXdfmdjKl/WWP2L2fM/rYY5ZZWuZ43xhkRheYRyXuouUGcyMVnz5YMzFRsf/zcsD/JaNuesBepthsihgZoMmmZj0Vzh5E8kgcL6R9Ba0XRNjx0xPUFmpPEwBepFWSVWkpkdNtaa9mQSZF/qtUtTP/2TVf9PoMkM6CoCRS1rUUW/9IAAAAAAAAAAAAAAAA9jI+FCkXj+eesSlj0JVNnF9mfMtVKmXazwqfyvz/9x+3h3d7v/a5e7Zxz789nTY01nG5ne7M1KC1MV8MYx0YyDbi9ZeiFIlc4jl9JZmXEzRA0c1WRf/zcsD/J2tyesBeptjJouMYmhPKIKkX3N0FpIuitR9AwUboUjh5Zi01OAtHei8+dQU3raYoqSdb07aLOy26k6m0FsjpLR7V/dUXgd1KzVMQ44+79jXfQAAAAAAAAAAAAAAA1aIRM5ywFVqStWm1yyDoOsfdSzct6pt6zrMrnr8I7lrC7n29cr2Ms+Z4ar63ds516W5hjqX27+OWruEvzmqbKmGPQSl177PmXiLLMDRJZSMzRJRiZv/zcsD/J6tudeBeqNhwvzYrJHS4s8xoLlJAxWYOgbo0FomVSCaDGKKS2SRMiAgHwLSVSC0TxgyFFb3LJaTR6a01oKdNFlOt0durfrq3b9arGwWtGyr7ENUAAAAAAAAAAACZYRHH8jYEE54kEC0ZQ+RsjmxCGd78r+dvsyzOBK/bmPaSTVr/477JqnLXb+dBhVnsd1u9zq4S+zft4TXK/e45R0C9habfygJ7iAGpnRNVrepBA6T5QP/zcMD/KAtydgBmpticIaS5gaFpE6YSuXTRZUPGa00EUD5aSRVcxSWtzF1G5gByJskldaKyki3UpZmVdNS2ddSN9+kuv0//b9tFQ3SLLV8mgAAAAAAAAAAAAAAAAAAAAAAfIj/tkMfTCji/wocWPaNEvd5NS1e7crV8cq8ViqzMr2fbWf9ys7yiMZ1h93PLCh7Wv7va+zjUpcN1LGeqlJhdrR0lzDxWfq0zrEaWjhWdAtFo1N03//NywP8mU252oE6k2EkUDzlEkSqVzctls0WTx0irVoInTh5MxNJ9FJnTTLJqp0kSiAAjWykFIXdBSCaCKRRLSfZSXX0Ouqtaq2/0Vr6Wtdc8CoPJNVYhrgAAAAAAAAAAAAD6EmH9n0waKCQnq8YhN1MTmxDPeF6zjTVZZJlu1atNncpalzCvhe5nT3eUmN3edrHGax7a1ydv5S6pRXqDK3Ys0dKM0mXxq1ciyyscZikdMzdaRwyT//NywP8n+3Jx4H6i2CiZEgOUnmhYTDi0y6VkEpGBYg5mtZeJZZgbpOmhPMmik9ZmiACOaOYoqPtU1NXXQ9SqaTM7vU9PoKfQ/uiz/vUpYjgUaqrVEl/ggAAAAAAAAAAAAADWIj+4nxZoGhldQxm2tVLovW9bv0OWE5MRxqF+y/Mar36ab73H9Xc6+N7U1Ywr5Y1LVupfoJmjpdYblt3LGxO2sRmMHJ563Vk58rDqPl8rGiKZiVXL//NywP8n63JyAE6a2MbmRSJJOeIaUi+bk2aEDLxkgfZaSC2PF00dbLK1JJ6klHS8AohF3SNGMHQpKbqWo3paVk106m+gtr6aDf/Wn/UTYF2LamXTl3gAAAAAAAAAAAAAAACGIBGH+D/SJJl1mFqC1R8YgvIcGr1j5S5dry2ctTi5uUUclGtxq5u9R5brT01y3VvX79TdyZwp8dW4xZ7TympvU7laxne2RHUNxwv47mUjYmSKkyZI//NywP8ni3Jt4E6k2RJuXTQgBDh8GRTMSfHUTLnUEiwsQOTCJQPJvVWyzJB1PQUYHj6CkTEjwDxppU1rZknPqqTSWRxJJpqZKtkak7U3XoUVq1arKXVUp/6zIXoDECdOCEOsOu/+kPmAITLKWICg7F0f3Y3luYzTfo6ix/7eNBXxfVfTN5mGrPPvXcOfha1nW3hYxtYV8ZiI0dPbnr9NalNW7EJdVwvU1DRU1VL4bDyObjs8VzQ0//NywP8ro1JqoH5m2EKz6KismgXymXUybKBOEVL5NkPIgXh0kEHYYmpiYKUXC7OFMuooOYTY6ZGRuV0XRKoBdCqkpVBNJkUU6nSOFIenTrahZJnVsjuplopdS/Wtb/p91jOBb6YL6p92XflujrCGMRCEzzIxEEsMr4WX4dn/WVOlXy+7hQz9jlSHX8TPtTv28uX4atcypsaO1jS0VXv43bsE45XccbVLzKZpM+U26GlrTcyIyI2S//NywPosI25qAGam2NzcTuPpOgamUnVFIiVAokgTqZsRAuE0RU4kJiQhgXECkmmTTnTU23OEXKJqkyBcLRM5mB/SRIxTWgyK2S9bLJohejZGmimkghdBbJvtXsim60EOyu1XWTQLCN6fRNWiMTP93WGgp1IRFOacngWHp6NLLDd3mMjh3efvY529Vt/edlj1XCpXlON6r9S7Wn71fLXaudi32tjnBt+/3edTHPPdukkOX7yjI7SP//NwwPMrY25qoGam2PUXuQbeqPG9CozcnTUmC8XSiVj5SWbm5qakuSh4tEydPsm5ytZ9kZ4xNVmxpLxsixuQED6E2RU086bIPqW6BXWnZRxnTt7vWu3VZbLqU1+zaXXG6Q5ar1rJ46zqb6A9hH8WE4qEQnQxHveD1JuruPZi1qxUoGlset3cucv4XauFbHH5Zb7S19UEHwxSyjkckUzZ3apqS/qdq4U1zKpyGCGWRepTMyWTGZX/83LA7iizbm6CZmTYVMZnrE0asTMrEVNB0k2O0b5s5sWy+oWUXzMoMkfMEkC6iYF0uM6JbLiay+XmM0zcgQGGJub1UKKCSGpNJloOnTZK6roprdD1PrpIPRV9v/pmIkjVPsTqncqAhEAB/qTgAFiMfVXWnLUf+feot9xprXNsPkl3HV/7lHT9mc8928Jz6PK5Jecr29T2t5XafPPmuUdrLGMZ01gqWRq9XzfWQMowUgsmDhFjc8n/83LA9SkLcmlgRqbY0Tx8xNGJ6LlKR1KYFZFFSRwurTRLx1EqmbqNkFGLIKNTNimA7nL0xZBFI4hUfQZOdNEVOkkZ01pMylOkySGlVQ9S///yUFy312J5wAAAAAAAAAAAALoAYf4YkgJEzNT97SI9vqjI/tp7urfkd7UqnpTJX1U9FbNvLH8cpRnqtjZp87tmM03K12tT9hyzYnJuvO1JbT51sqsslOFSsSfw6tjbgFxSiQUwJBb/83LA+ibTcmqANqTYVZPlgkCmgOemUSsiR4yZFSqQ4niwsuksSRdMVlw3MEDQ1MC8kTTOkXUnMzdIyIsamZqCGZIJGpko2ZE0Y3UpBmMTMkU9E6Y02Sc7Uk/Z2dl07Okvb7f0p8GFP3qVIK7n/1t1gCQP/ZCOqg4Jy4sqw90RnTAfGhiX26KM7f6mrTbTSYQrS6BqSplVh63E6aXzcv+LYRuHqB+LVNGpfLJG/Dyy2vUpe4yx5aD/83LA/y4LcmHofqbYuzFmAbspoBTbBydEo02NPmV0s/QSqFzmMJjzxNdqQiYo3rnmuwK48vmsI5MMjjrg2Xup5p64Yl8xNPvIIasTFM9vKPO3ft0VqagoQekUNT8roKlNnTw9LqTOX2KOklbZorlqr3KmtVeZ52ql2phzPuq+eHM8MN9q54/+dfeeG8df+8P3gp2BBc1/c89P0NThocSCYaPqHuKV7Fi5kD/FGQRVU6j4pGjXg2f/83LA8DgrblFATvDYn3p1TP96r1LtFNRRcFNa7Z5yzRXeyntPbz7eq01idnMorlL56hv2LUr5aq01/GlldezbytiDK3DCtSvK9i4ng0eR4be9tEZYKcWd1Rje+Trm/ftNP9SwXd4+4Wp+44arR638ONOx0XIBO6vPAnxlkjSxs/F93q47387vvWKf/7/rqmv/jXp/n39tev+v/9//LYFbEzX53llz2cVAqgA/rvC4Y0EO9I2z1In/83LAuSqTcmHgfp7YAhtVFfx5X3ln2mZU8vc7nzXfp71NAvL+Uap6vcOWL2WXJvf2ako7QXcZRaq2aW1zmNscmjRTGthOmiJNvSNTQql4yWTx9REB9EVKxcIskXidTKJECEOOtjpcKpOpmpsmipBy4aqMzB0TVZiVAODZNmM6KNmrSdbmCCCT0k1LrUuluhXuvutW9Sv/6JNB4zbtl70gGRA/6RkREira7iN0mIo6aTPoK33O2cr/83DAuCgbbmHgTqDY7OS9HqnjVNUvR6U5z+Xas7KZXjSZ9vSKRVfq9i3K1jUf3XobEkkUYxj89S1LceEEkouPxOTECkMJw3l04iXjcpGJsWkTJyUL4towSsVSfJw+QwiJbdjRI8ZFZy4XTAuFwzMSKmBqYGjrSMiidgcYkmarRrOMfOMilPHVqL5gYGq0XMDqkqmXWgpNlr6CNJlO6vobV2SoD+OUutmQmNBZdG6vqBWAIf+QqP/zcsDALnNuWeBOpthISD5mCNhSa/ZTZZI2fncLmNzDcTXws+npr1FQ/VqSOS0kuqyrG7bptSqm3QS2XSD78au3cbFe5PZWsd5a3UmBATGxEtpI5VOGySRso1NjMulJIkFF4yG2MumbEiOeTrKKhByDpGBHFs2Ol5NkTA6kYHy6xmZFUvl4orMEiyBswVi2iUzNNAqIFYydBzCkYEvvRQNLo0XnFr66DvpMp3rQq3++zmIqmernHP/zcsCwLZNyWgBOpti8RVxWF/oAGhI/ccOEYH1YfJpPLqM+SWZHKKBdcqCB3WxdSdBzhxaJokgpJFFS0i0gSR4pObS4kbnlFAzOdNI8TQhAFLhUPEcdTTembnUjEzImQMnEUCZL6BBSbIw4bpGRTHeSR81OmaKZlNkaziU0NTI+YmR04XXY4AnS46jii0kj9RstI4W1IW12tvS/dT1KWv//9UsEFVz/+kAZkCZnR4AHK7wkue40wf/zcsCjJRNSYeBFJNjVr2SPJlXampfVywzdB4UzofjGqWmt3qSbsZ0sowyyq09mtQY4Net/fpJdlhncicpxt56zt361ifCzAfK2Zxu0DF5SLOis1IeVCLF8m0zpYRH4zIsamRIkNcY0bKzAvmJdLpeOuTiCzAyKLzNJjUfR01ZSKYNNIuo2RSOLMVFwwLjrOmhSLbXedU61pMYMp6NHu7dSHSWgkrupTqdcyDj3brQLgosPv6z6X//zcsC4LqtuVeBmpti720gQkj/qUIzTSa8KJZssyveZVq2KXX2spnBQN3spdhVpt63Xq1ohqzq/jeo8crF6UdjMpnLUgnqWYm5fI7NLLcasUr4SIclDYWKzUESdkjU1SNVEwkePmg6kyimYpMRBiqkak8kKKSxElmyaBsgZkXLbKMxzk5uWDdFRwroIMaAUmi9VZ9SKJkcNnNTZj5sfQoupM4epuzamXrUpT+tdXdHqdaVOolRdIv/zcsCnLHtuVeBOptirLqNzr6LH2DfRHggP/7RNkgno1BPoI6nCTdfUmrNqixfm8udmkrlNmZpKtaG6KxLq+ca5P5WrcDUd2lqw9F6KIUF+/azfuejNTGA45KI5BMYd8LfA8LYhh2mzkIQp0iBeL5dKpOkVNydIqRcnTwsJGmozhWJEmkzYlB/GCiVSuTZ8pk+OaZZgallSKZMEafLVzA8bk0AvY3SOnjInzJi+9JBImnROnkWd0//zcsCfMqNuTUBOptimgtkk6U2WnW7JH6TIKc2ukgktLrSdJ2RuYBaSas1FnJw0f1m2SzrMUcy2sBsgZABn/SASIMd5AHE4Veei0Uptf7/c6ufLd2MwdY+py7by5fqZ5THalveeruWP67Pau/39bsU3LeWpRR8zyxIfhaGY1cozE3PTBNUzL7IukszKJUeKZeQUm5mQlMZrPmrrZNN1GSCjVaakbPSSOgWUHdJdFBG+tFJaZo7XZP/zcMB+J5NyXiReWtj63PVe6S6qmU1Trbd99lKotRHcCrdF7XJePUOg2xEVekAVAlADf+ioOI0RNr2m5WcafpPs9dymaSpLrdyHGrZZ1+1d0u6urM9Y/uVq5PWb1JN09rOas/KqsUk26XG5S9l1LcrYygsWCsN9atI0C8Zl0umSJ4i5fL/TKZuUyIJonVImpHFBFRqyTEXKyKk0TQ0Td0UTI87ufUkwEIwN0WNC6ZrdRi1ST5I0//NywIgqq3JWBE6g2C26kLIXq1K7u6vda1/VbteZjNdrOVJMMJOZ4YDRdbCTh1tYEBIgH/0QGJEyLGSdJ8Ly3kjW5Xq/a/5p9nlwzq26fOnu6tWabmtWrtrGPa+hjVivjU1urVwm6acylPP+azsUBUrN3uZ2oUgya1HCdKaBodKSC0DAkhvDGmiaJDSoXSfUO5NNRocOE8nWYsgpRotBFJS0kFoE2A+TRzU6aKeleg9akC10mUt2//NywIcos3JSAjak2Ps9VlVaFbdt61/TuukdIRuhm6mwbjNE8Tfnn6gaEEBv/yqeD0mG79ziaXde3rXaLC93HN9qtfka/dmpyX2cq28ae5TzudbVjO/vGW1t8m9Z0szZ3j/cMrtacFYQ0Hn6XKLJmqCSSzI6mZESZE6bJGqRoRxIk6UjzmxWJ4vJl4+kgb10Sux2mibUk0XUmfKIIINVJIJLQSc4npZrPUktej2Uku6mXt1beupl//NywI4pe3JR5E6k2Kl3u+mYEjWlUkxpEJ0VnmmArll3lb0jVhSQJmXDoTVsb8bp57Pa2mZedirc5YwoqWptkTzy6lsyKmuVdyqX2sq8um49YnbmdJjZqRPDC3TTNqzVy/tyMTFann5bSSAdkFaHsvry44dPGM0NVmSRqcNyeIgcIEalgiRoRUmiIlcipdYniwfMVm5mXzUySLpVMjRJZFTE3RKxsa5FAQZGy6ZwtMfZ0/pJGxkg//NywJIts1JF4Gam2LrZA6kpvUkjUm6klo1NXtXXpqS/WyQ03DL0GmpcOYcETdVatqgRBGA//JtADCJXyWJnroupAgm1QWZVSU2735sQU5i8qkdLVo5/Kgi0pt2+W8ZXS4z1y1RzlPSdpqT9U1q/ZmpvPUcxn86OWCtQ/VC/uaZMh5fSQLhcSIipAgpGEUOpD5OlAukHLyJPF8dpVNCsXCkclVZ9jJZmYFIrIGJk6zEyNDZFMAHB//NywIUuu05CAk5m2X2MUTGZJKQZKtnWp0leyJoqp6StDVUzerQ2rMbOgy1KRSI0UF6wqK0j+rFF232aLamta/GqehYwJABL/xTHcPSsiK4rlJUzNNbVzClxx7vURfO1co/p7923vfJj8pbjepKv5Uu8cMeY4V6/K2XP/HtrVnvKRfRHKmq171kUWpIGbrNDFIzKpHE2ZJFhR1JMyLp4wUYoIzi0VOySU4tSUySQQqUAJmr3TrUm//NywHQlq05KJE4g2Mimkt11n9adaFal03Zrq2ZqD70d+/1+6I2Tur9ZNK9N3QlQFSBAb/yJACkziddb/GrbS1Y9tJqpfqyOpqga+52Upp7cZs43se3qLda/+Fr57tygszd61ner02dNnVt4f8ZsUtJG8hUEbin6aJzkyIqSlikeUUjhhUaEwTZmalRZQTM00xUjQxSKRw4pIyPHThkomzp9E4ZnS67MoxKAHMD0cTTSOI3pLW6L//NwwIctM2455E5k2ClH1IqqWpzR3ZO3pMq1JS0b3Wqlpo3dka0VlIZt63d5mePI8UOrPNjTrxQHSSARghA//JpMVQEKtW6WIoN2652u1bUp7nlTQ3e3jUocsa+O+frtrLWeW+2s63J/91tWqbK1LrOreX/vuX2CWJPrK/VxNW1KQPHx/TnjU+kXUmcmIj3MjYrHcPc4tzBItOpIVnGQZaJkbF5KtOqABkuKMklqdaKLKdSmzZb/83LAeyaDcjoCThrY9SlMqtBNNqq2rvV6/X62XqtRrGCWzLRzBrqnU1XsFwYBf/FULGJlkb5SeoaZodEu5a7KYlOV9dYyxWzBNJS2cdYUtTCku81hZrS69LcqGmzlN2Ez1Sipo7Dtf5RItXpTT2qS0Kfgs6HbT+wKmZE4aMbLNiyXSAk6O0mUSeGVNhOJeTJcwNiZJ0dhseLZdLrrIiTzUZx6ZgX0Dx5IsImqI+gPg2cmjI8s2RT/83LAizBDliFCTmLYTyKJdPmKlI2TWtqlpJOkp0l0VorUtkDl10rs1KpFkLImqkUnI0W1FTvTQL5r2UzqNqGpQV/qAloAnqAlaQwsBZBQVqxuPXPaLn/rElASHtL1q7acemdtLLtaretkbMT62/8f51i1t4fSxZS+gOo9J+Ni7WX0HVrbxZ9Cng6z4U8Gl9QXr2NmLiFvG9Vxn+ta5ta266zr/7O0XFG28LVt4xu3/zWsGLUq/ij/83LAdCHyghmCEx60RWVOh1ac9KobSys6vYOsFb7k/6yMzVSDAQICcKTMwUwqDwdW3Bu9kZm1xYp67+dbri1tQrvaW37WvW1cX1Cpa2XtLb/tbZuoQIcUJ9RG1xDNqTQ1h3+GFI9qJqtSZqprOMpfrn+0agIICqrekGFBRMKkGcTDWqgY1LhQ/XP/h/t/3al1Y1ExlDGpMal0gxr+FQV9WAUZgYmMdaqUZS1JnEwsekmwAAAAAAD/83LAliQkBdgAG8bZAAAAAAAAAAAAAAAAAAAAAAAAAAAAAAAAAAAAAAAAAAAAAAAAAAAAAAAAAAAAAAAAAAAAAAAAAAAAAAAAAAAAAAAAAAAAAAAAAAAAAAAAAAAAAAAAAAAAAAAAAAAAAAAAAAAAAAAAAAAAAAAAAAAAAAAAAAAAAAAAAAAAAAAAAAAAAAAAAAAAAAAAAAAAAAAAAAAAAAAAAAAAAAAAAAAAAAAAAAAAAAAAAAD/83LArwAAAlgAAAAAAAAAAAAAAAAAAAAAAAAAAAAAAAAAAAAAAAAAAAAAAAAAAAAAAAAAAAAAAAAAAAAAAAAAAAAAAAAAAAAAAAAAAAAAAAAAAAAAAAAAAAAAAAAAAAAAACAAIAAgACAAIAAgACAAIAAgACAAIAAgACAAIAAgACAAIAAgACAAIAAgACAAIAAgACAAIAAgACAAIAAgACAAIAAgACAAIAAgACAAIAAgACAAIAAgACD/83LA/wAAAlgAAAAAACAAIAAgACAAIAAgACAAIAAgACAAIAAgACAAIAAgACAAIAAgACAAIAAgACAAIAAgACAAIAAgACAAIAAgACAAIAAgACAAIAAgACAAIAAgACAAIAAgACAAIAAgACAAIAAgACAAIAAgACAAIAAgACAAIAAgACAAIAAgACAAIAAgACAAIAAgACAAIAAgACAAIAAgACAAIAAgACAAIAAgACAAIAAgACAAIAAgAAA=\" type=\"audio/mpeg\" />\n",
       "                    Your browser does not support the audio element.\n",
       "                </audio>\n",
       "              "
      ],
      "text/plain": [
       "<IPython.lib.display.Audio object>"
      ]
     },
     "execution_count": 3,
     "metadata": {},
     "output_type": "execute_result"
    }
   ],
   "source": [
    "Audio(filename = './sounds/ElevatorBell.mp3', autoplay=True, rate=22000)"
   ]
  },
  {
   "cell_type": "code",
   "execution_count": 4,
   "metadata": {},
   "outputs": [
    {
     "data": {
      "text/plain": [
       "tree(\"([float]<SUM>([float]<SUM>([float]<SUM>([float]-1.849757719909063)([float]<SUM>([float]-2.69765916129413)([float]-2.2027646156753904)))([float]-2.7733153126340735))([float]<SUM>([float]<SUM>([float]<PROD>([float]<SUM>([float]0.04339894535585696)([float]1.4801340485606427))([float]-0.818061333070226))([float]<SUM>([float]-1.533777725536096)([float]-0.013449617337159214)))([float]<SUM>([float]<POW>([float]<SUM>([float]-0.6019424809212401)([float]<PROD>([float]-1.621914235862452)([float]<POW>([float]-1.9873344473768182)([int]4))))([int]3))([float]-2.610940394652992))))\")"
      ]
     },
     "execution_count": 4,
     "metadata": {},
     "output_type": "execute_result"
    }
   ],
   "source": [
    "result[1]"
   ]
  },
  {
   "cell_type": "code",
   "execution_count": 11,
   "metadata": {},
   "outputs": [
    {
     "data": {
      "text/plain": [
       "dict_keys(['tree', 'imse', 'isae', 'mse', 'penalty', 'rmse', 'sae', 'pre_fitness', 'fitness', 'raw_fitness'])"
      ]
     },
     "execution_count": 11,
     "metadata": {},
     "output_type": "execute_result"
    }
   ],
   "source": [
    "result[0].keys()"
   ]
  },
  {
   "cell_type": "code",
   "execution_count": 13,
   "metadata": {},
   "outputs": [
    {
     "data": {
      "text/plain": [
       "[10818.84799336217,\n",
       " 42979.2613929356,\n",
       " 41974.64274773186,\n",
       " 41750.965444533984,\n",
       " 42498.45880180054,\n",
       " 41660.49041884367,\n",
       " 41244.17054258118,\n",
       " 42200.275280689246,\n",
       " 42058.00243500481,\n",
       " 41927.7763147869,\n",
       " 42246.18188054426,\n",
       " 41765.57657109121,\n",
       " 41519.98119302603,\n",
       " 42284.22939501861,\n",
       " 42062.07417421219,\n",
       " 42003.7013287842,\n",
       " 41977.769130218694,\n",
       " 42393.26791856497,\n",
       " 41984.73958881552,\n",
       " 42144.529653575766,\n",
       " 42282.91649779396,\n",
       " 41581.45279131903,\n",
       " 41987.43698413657,\n",
       " 41781.44852950464,\n",
       " 41961.58316315896,\n",
       " 41609.50185329355,\n",
       " 41936.644552682315,\n",
       " 41868.05699642504,\n",
       " 42162.00197931886,\n",
       " 41519.0495614218,\n",
       " 41697.44561425246,\n",
       " 42100.84813252034,\n",
       " 42224.14744171101,\n",
       " 42269.317165522516,\n",
       " 42140.91150636853,\n",
       " 40666.189279014245,\n",
       " 41570.55870738898,\n",
       " 41782.86101943732,\n",
       " 42281.38810702555,\n",
       " 42072.037146574185,\n",
       " 42269.727611798095,\n",
       " 42049.99681285668,\n",
       " 41862.63279367278,\n",
       " 41880.517236044376,\n",
       " 41923.15418264489,\n",
       " 42481.38439330573,\n",
       " 41761.60713232058,\n",
       " 41855.003521421335,\n",
       " 41925.81146416819,\n",
       " 41896.89776841921,\n",
       " 42129.31916090627,\n",
       " 42205.08525460566,\n",
       " 41735.258424725915,\n",
       " 42198.012647529154,\n",
       " 41790.07104420378,\n",
       " 42271.36071868213,\n",
       " 41616.90606038688,\n",
       " 41342.86098659336,\n",
       " 42035.31609510521,\n",
       " 42296.62046820943,\n",
       " 41833.24876751251,\n",
       " 41833.113955426474,\n",
       " 41832.27527189359,\n",
       " 41832.74902277046,\n",
       " 41832.722006972435,\n",
       " 41833.32399008085,\n",
       " 41605.635590059625,\n",
       " 41945.84662439204,\n",
       " 41705.180452202505,\n",
       " 41979.72886309504,\n",
       " 42531.34371628969,\n",
       " 41519.22867816136,\n",
       " 41713.40237260596,\n",
       " 42120.86932082116,\n",
       " 41579.063623909045,\n",
       " 41664.3468093933,\n",
       " 41658.91362925287,\n",
       " 42187.71336286544,\n",
       " 41123.26270228677,\n",
       " 42110.0452521105,\n",
       " 41815.66671571391,\n",
       " 42215.60686737252,\n",
       " 41784.50419643696,\n",
       " 41600.8490662013,\n",
       " 41539.69129307417,\n",
       " 41860.902662010216,\n",
       " 41374.71988580718,\n",
       " 41895.94477156187,\n",
       " 41494.925799762445,\n",
       " 41864.0435921578,\n",
       " 40935.79988817833,\n",
       " 40928.770493867836,\n",
       " 40934.39823488638,\n",
       " 40932.90116878818,\n",
       " 40212.86601616047,\n",
       " 40213.29441396827,\n",
       " 40207.324933752294,\n",
       " 40215.256505756326,\n",
       " 40205.80562792192,\n",
       " 40209.47296190885,\n",
       " 40187.79565642883,\n",
       " 39914.94474884711,\n",
       " 39915.240668520935,\n",
       " 39915.199244212876,\n",
       " 39914.91752555054,\n",
       " 39914.75201880725,\n",
       " 39915.32803935175,\n",
       " 39914.58615646732,\n",
       " 39915.7046198916,\n",
       " 39915.482105767536,\n",
       " 39915.306206199704,\n",
       " 39915.33172984391,\n",
       " 39915.398209770785,\n",
       " 39914.80207775436,\n",
       " 39915.48247932935,\n",
       " 39915.38145596171,\n",
       " 39915.63409120577,\n",
       " 39915.23219252299,\n",
       " 39915.351004141165,\n",
       " 39914.94366713981,\n",
       " 39914.95796047888,\n",
       " 39915.717901626864,\n",
       " 39915.81486772276,\n",
       " 39915.48378713648,\n",
       " 39915.14589421226,\n",
       " 39914.69470362907,\n",
       " 39915.474120653365,\n",
       " 39915.18274566141,\n",
       " 39915.31417475725,\n",
       " 39914.78569591701,\n",
       " 39915.61954699191,\n",
       " 39915.45938306384,\n",
       " 39915.280476295295,\n",
       " 39576.83922284045,\n",
       " 39569.16186026048,\n",
       " 39571.61879551487,\n",
       " 39574.37798916345,\n",
       " 39573.559730340276,\n",
       " 39571.495985992544,\n",
       " 39570.99163151696,\n",
       " 39569.37335518004,\n",
       " 39574.965715166494,\n",
       " 39562.222378054226,\n",
       " 39562.222378054226,\n",
       " 39562.222378054226,\n",
       " 39562.20959444362,\n",
       " 39562.20959444362,\n",
       " 39562.20959444362,\n",
       " 39562.20959444362,\n",
       " 39562.20959444362,\n",
       " 39562.20959444362,\n",
       " 39562.20959444362,\n",
       " 39562.20959444362,\n",
       " 39562.20959444362,\n",
       " 39562.20959444362,\n",
       " 39562.20959444362,\n",
       " 39562.20959444362,\n",
       " 39562.20959444362,\n",
       " 39562.20959444362,\n",
       " 39562.20959444362,\n",
       " 39562.20959444362,\n",
       " 39562.20959444362,\n",
       " 39562.20959444362,\n",
       " 39562.20959444362,\n",
       " 39562.20959444362,\n",
       " 39562.20959444362,\n",
       " 39562.20959444362,\n",
       " 39562.20959444362,\n",
       " 39562.17675633495,\n",
       " 39562.20959444362,\n",
       " 39562.15725813838,\n",
       " 39562.20959444362,\n",
       " 39562.06872478127,\n",
       " 39562.20959444362,\n",
       " 39562.16228689129,\n",
       " 39562.07783268982,\n",
       " 39562.197255752595,\n",
       " 39562.197255752595,\n",
       " 39562.197255752595,\n",
       " 39562.181880909884,\n",
       " 39561.98860080075,\n",
       " 39562.197255752595,\n",
       " 39562.197255752595,\n",
       " 39562.197255752595,\n",
       " 39562.12990789643,\n",
       " 39562.197255752595,\n",
       " 39562.197255752595,\n",
       " 39562.197255752595,\n",
       " 39562.197255752595,\n",
       " 39561.55232386824,\n",
       " 39562.197255752595,\n",
       " 39562.197255752595,\n",
       " 39562.197255752595,\n",
       " 39561.64471117063,\n",
       " 39561.958118395116,\n",
       " 39562.197255752595,\n",
       " 39562.197255752595,\n",
       " 39562.197255752595,\n",
       " 39562.197255752595,\n",
       " 39562.197255752595]"
      ]
     },
     "execution_count": 13,
     "metadata": {},
     "output_type": "execute_result"
    }
   ],
   "source": [
    "result[0]['rmse']"
   ]
  },
  {
   "cell_type": "code",
   "execution_count": null,
   "metadata": {},
   "outputs": [],
   "source": []
  }
 ],
 "metadata": {
  "kernelspec": {
   "display_name": "Python 3 (ipykernel)",
   "language": "python",
   "name": "python3"
  },
  "language_info": {
   "codemirror_mode": {
    "name": "ipython",
    "version": 3
   },
   "file_extension": ".py",
   "mimetype": "text/x-python",
   "name": "python",
   "nbconvert_exporter": "python",
   "pygments_lexer": "ipython3",
   "version": "3.11.5"
  }
 },
 "nbformat": 4,
 "nbformat_minor": 4
}
