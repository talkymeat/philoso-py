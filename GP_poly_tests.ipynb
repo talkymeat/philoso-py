{
 "cells": [
  {
   "cell_type": "code",
   "execution_count": 1,
   "metadata": {},
   "outputs": [],
   "source": [
    "from gp_poly_test import gp_rand_poly_test\n",
    "from IPython.display import Audio"
   ]
  },
  {
   "cell_type": "markdown",
   "metadata": {},
   "source": [
    "<h3>How to call <code>gp_rand_poly_test</code></h3>\n",
    "\n",
    "This notebook can be used to test a simplified version of genetic programming, in which the form of the evolved program is pre-specified as a polynomial of order *order* with *num_var* variables, and the program evolves through continuous-valued mutations in the value of the coefficients. The test is performed with a single function call to `gp_poly_test`. First edit the function call below as needed, then hit the 'run all' button. \n",
    "\n",
    "The cell at the top of the notebook imports the code needed to run everything. The second cell is the one you may want to edit to change the parameters of the test. The basic syntax for is `gp_poly_test` is:\n",
    "\n",
    "`gp_poly_test(order, num_vars, n)`\n",
    "\n",
    "... where `order`, `num_vars`, and `n` are variables you replace with integer values, e.g.:\n",
    "\n",
    "`gp_poly_test(1, 3, 100)`\n",
    "\n",
    "... would generate a 1st-order polynomial (a linear expression) with three variables `a`, `b`, `c`, and random coefficients, plus a dataset of 100 points in `a, b, c` space, and a list of corresponding values of the linear expression, which are the targets the GP will try to approximate.\n",
    "\n",
    "Further optional keyword parameters can be set, which otherwise will take default values:\n",
    "\n",
    "<ul>\n",
    "<li><b>generations (default = 100)</b>: Number of generations the GP runs for</li>\n",
    "<li><b>pop (default = 100)</b>: Number of trees in a generation</li>\n",
    "<li><b>iv_min (default = -100)</b>: Minimum value of a variable in the independent variables dataset</li>\n",
    "<li><b>iv_max (default = 100)</b>: Maximum value of a variable in the independent variables dataset</li>\n",
    "<li><b>coeff_min (default = -20)</b>: Minimum value of a coefficient in the target polynomial</li>\n",
    "<li><b>coeff_max (default = 20)</b>: Minimum value of a coefficient in the target polynomial</li>\n",
    "<li><b>mutation_rate (default =  0.2)</b>: Probability that a coefficient value in a GP tree will mutate from one generation to the next</li>\n",
    "<li><b>mutation_sd (default = 1.0)</b>: Standard deviation of the normal distribution defining the deltas added to coefficient values when they are mutated</li>\n",
    "<li><b>elitism (default = 5)</b>: The <em>k</em> best trees in each generation pass on one copy each to the next generation without any chance of mutation: this parameter sets the value of <em>k</em>. If it's zero, no trees are protected from mutation.</li>\n",
    "</ul>\n",
    "\n",
    "One word of caution: GP takes a while to run - the program will appear to be doing nothing in between showing the tree for the target polynomial and displaying the results. This is normal. Make yourself a cuppa and come back in a bit. The final cell will ding to tell you it's done, and the variable `result` will then contain a dictionary with more detailed output data, which you can use to create further visualisations."
   ]
  },
  {
   "cell_type": "code",
   "execution_count": 4,
   "metadata": {
    "scrolled": false
   },
   "outputs": [
    {
     "name": "stdout",
     "output_type": "stream",
     "text": [
      "0 generations\n",
      "50 generations\n",
      "100 generations\n",
      "150 generations\n",
      "200 generations\n",
      "250 generations\n",
      "300 generations\n",
      "350 generations\n",
      "400 generations\n",
      "450 generations\n",
      "500 generations\n",
      "550 generations\n",
      "600 generations\n",
      "650 generations\n",
      "700 generations\n",
      "750 generations\n",
      "800 generations\n",
      "850 generations\n",
      "900 generations\n",
      "950 generations\n",
      "1000 generations\n",
      "1050 generations\n",
      "1100 generations\n",
      "1150 generations\n",
      "1200 generations\n",
      "1250 generations\n",
      "1300 generations\n"
     ]
    },
    {
     "ename": "RecursionError",
     "evalue": "maximum recursion depth exceeded",
     "output_type": "error",
     "traceback": [
      "\u001b[0;31m---------------------------------------------------------------------------\u001b[0m",
      "\u001b[0;31mRecursionError\u001b[0m                            Traceback (most recent call last)",
      "\u001b[1;32m/home/dave/CodeToJoy/philoso-py/GP_poly_tests.ipynb Cell 3\u001b[0m line \u001b[0;36m1\n\u001b[0;32m----> <a href='vscode-notebook-cell:/home/dave/CodeToJoy/philoso-py/GP_poly_tests.ipynb#W2sZmlsZQ%3D%3D?line=0'>1</a>\u001b[0m result \u001b[39m=\u001b[39m gp_rand_poly_test(\u001b[39m100\u001b[39;49m, generations\u001b[39m=\u001b[39;49m\u001b[39m2000\u001b[39;49m, mutation_sd\u001b[39m=\u001b[39;49m\u001b[39m0.3\u001b[39;49m)\n",
      "File \u001b[0;32m~/CodeToJoy/philoso-py/gp_poly_test.py:98\u001b[0m, in \u001b[0;36mgp_rand_poly_test\u001b[0;34m(n, generations, pop, iv_min, iv_max, coeff_min, coeff_max, mutation_rate, mutation_sd, crossover_rate, elitism, order, def_fitness, temp_coeff)\u001b[0m\n\u001b[1;32m     94\u001b[0m     \u001b[39mreturn\u001b[39;00m pd\u001b[39m.\u001b[39mSeries([uniform(iv_min, iv_max) \u001b[39mfor\u001b[39;00m i \u001b[39min\u001b[39;00m \u001b[39mrange\u001b[39m(obs_len)])\n\u001b[1;32m     95\u001b[0m obs \u001b[39m=\u001b[39m FunctionObservatory(\n\u001b[1;32m     96\u001b[0m     \u001b[39m'\u001b[39m\u001b[39mx\u001b[39m\u001b[39m'\u001b[39m, \u001b[39m'\u001b[39m\u001b[39my\u001b[39m\u001b[39m'\u001b[39m, {\u001b[39m'\u001b[39m\u001b[39mx\u001b[39m\u001b[39m'\u001b[39m: uniform_iv, \u001b[39m'\u001b[39m\u001b[39my\u001b[39m\u001b[39m'\u001b[39m: target}, n\n\u001b[1;32m     97\u001b[0m )\n\u001b[0;32m---> 98\u001b[0m res, final_tree \u001b[39m=\u001b[39m gp\u001b[39m.\u001b[39;49mrun_gp(\n\u001b[1;32m     99\u001b[0m     RandomPolynomialFactory(\n\u001b[1;32m    100\u001b[0m         gp, order\u001b[39m=\u001b[39;49morder, const_min\u001b[39m=\u001b[39;49mcoeff_min, const_max\u001b[39m=\u001b[39;49mcoeff_max\n\u001b[1;32m    101\u001b[0m     ),\n\u001b[1;32m    102\u001b[0m     obs, generations, pop,\n\u001b[1;32m    103\u001b[0m     def_fitness\u001b[39m=\u001b[39;49mdef_fitness, \n\u001b[1;32m    104\u001b[0m     elitism\u001b[39m=\u001b[39;49melitism,\n\u001b[1;32m    105\u001b[0m     temp_coeff\u001b[39m=\u001b[39;49mtemp_coeff\n\u001b[1;32m    106\u001b[0m )\n\u001b[1;32m    107\u001b[0m \u001b[39mprint\u001b[39m(\u001b[39m\"\u001b[39m\u001b[39mBest trees by generation:\u001b[39m\u001b[39m\"\u001b[39m)\n\u001b[1;32m    108\u001b[0m \u001b[39mfor\u001b[39;00m i \u001b[39min\u001b[39;00m \u001b[39mrange\u001b[39m(\u001b[39m0\u001b[39m, \u001b[39mlen\u001b[39m(res[\u001b[39m'\u001b[39m\u001b[39mtree\u001b[39m\u001b[39m'\u001b[39m]), \u001b[39m10\u001b[39m):\n",
      "File \u001b[0;32m~/CodeToJoy/philoso-py/gp.py:137\u001b[0m, in \u001b[0;36mGPTreebank.run_gp\u001b[0;34m(self, tree_factory, observatory, steps, pop, dv, fitness, def_fitness, elitism, temp_coeff, best_outvals, expt_outvals, ping_freq)\u001b[0m\n\u001b[1;32m    135\u001b[0m     \u001b[39mprint\u001b[39m(\u001b[39mf\u001b[39m\u001b[39m'\u001b[39m\u001b[39m{\u001b[39;00mn\u001b[39m}\u001b[39;00m\u001b[39m generations\u001b[39m\u001b[39m'\u001b[39m)\n\u001b[1;32m    136\u001b[0m old_gen \u001b[39m=\u001b[39m \u001b[39mself\u001b[39m\u001b[39m.\u001b[39mget_all_root_nodes()[\u001b[39mfloat\u001b[39m]\n\u001b[0;32m--> 137\u001b[0m best \u001b[39m=\u001b[39m scoreboard\u001b[39m.\u001b[39;49mscore_trees(old_gen, except_for\u001b[39m=\u001b[39;49mexpt_outvals)\n\u001b[1;32m    138\u001b[0m scoreboard\u001b[39m.\u001b[39mk_best(elitism)\n\u001b[1;32m    139\u001b[0m \u001b[39mif\u001b[39;00m n \u001b[39m==\u001b[39m steps\u001b[39m-\u001b[39m\u001b[39m1\u001b[39m:\n",
      "File \u001b[0;32m~/CodeToJoy/philoso-py/gp_fitness.py:551\u001b[0m, in \u001b[0;36mscore_trees\u001b[0;34m(self, trees, *cols, **kwargs)\u001b[0m\n\u001b[1;32m    545\u001b[0m             raise ValueError(\n\u001b[1;32m    546\u001b[0m                 f\"DV {dv} not found in Observatory dvs\"\n\u001b[1;32m    547\u001b[0m                 if dv else\n\u001b[1;32m    548\u001b[0m                 f\"Observatory obs has multiple DVs, but no kwarg `dv` is given to specify which one\"\n\u001b[1;32m    549\u001b[0m             )\n\u001b[1;32m    550\u001b[0m         return dv\n\u001b[0;32m--> 551\u001b[0m     else:\n\u001b[1;32m    552\u001b[0m         return self.obs.dvs[0]\n\u001b[1;32m    555\u001b[0m def __call__(\n\u001b[1;32m    556\u001b[0m         self, \n\u001b[1;32m    557\u001b[0m         trees: Iterable[GPNonTerminal], \n\u001b[0;32m   (...)\u001b[0m\n\u001b[1;32m    561\u001b[0m         **kwargs\n\u001b[1;32m    562\u001b[0m     ):\n",
      "File \u001b[0;32m~/CodeToJoy/philoso-py/gp_fitness.py:353\u001b[0m, in \u001b[0;36m__call__\u001b[0;34m(self, trees, obs, temp_coeff, dv, **kwargs)\u001b[0m\n\u001b[1;32m    350\u001b[0m \u001b[39m@scoreboard_pipeline_element\u001b[39m(arg_keys\u001b[39m=\u001b[39m\u001b[39m\"\u001b[39m\u001b[39mraw_fitness\u001b[39m\u001b[39m\"\u001b[39m, out_key\u001b[39m=\u001b[39m\u001b[39m\"\u001b[39m\u001b[39mfitness\u001b[39m\u001b[39m\"\u001b[39m, vec\u001b[39m=\u001b[39m\u001b[39mTrue\u001b[39;00m)\n\u001b[1;32m    351\u001b[0m \u001b[39mdef\u001b[39;00m \u001b[39mheat\u001b[39m(raw_fitness: \u001b[39mfloat\u001b[39m, temp_coeff: \u001b[39mfloat\u001b[39m, \u001b[39m*\u001b[39m\u001b[39m*\u001b[39mkwargs):\n\u001b[1;32m    352\u001b[0m     \u001b[39mif\u001b[39;00m temp_coeff:\n\u001b[0;32m--> 353\u001b[0m         temp \u001b[39m=\u001b[39m raw_fitness\u001b[39m.\u001b[39mmean() \u001b[39m*\u001b[39m temp_coeff\n\u001b[1;32m    354\u001b[0m     \u001b[39melse\u001b[39;00m:\n\u001b[1;32m    355\u001b[0m         temp \u001b[39m=\u001b[39m \u001b[39m0.0\u001b[39m\n",
      "File \u001b[0;32m~/CodeToJoy/philoso-py/gp_fitness.py:43\u001b[0m, in \u001b[0;36m__call__\u001b[0;34m(self, sb, **kwargs)\u001b[0m\n\u001b[1;32m     15\u001b[0m \u001b[39m@dataclass\u001b[39m\n\u001b[1;32m     16\u001b[0m \u001b[39mclass\u001b[39;00m \u001b[39mScoreboardPipelineElement\u001b[39;00m:\n\u001b[1;32m     17\u001b[0m \u001b[39m    \u001b[39m\u001b[39m\"\"\"The `GPScoreboard` class is an extension of `pandas.DataFrame` which \u001b[39;00m\n\u001b[1;32m     18\u001b[0m \u001b[39m    takes a column of GP Trees, and has an amount of apparatus for processing \u001b[39;00m\n\u001b[1;32m     19\u001b[0m \u001b[39m    the trees' output and giving calculating their fitness. The main system for\u001b[39;00m\n\u001b[1;32m     20\u001b[0m \u001b[39m    doing this is a pipeline of operators which performs operations on the\u001b[39;00m\n\u001b[1;32m     21\u001b[0m \u001b[39m    dataframe, usually by taking one or more columns of the dataframe and \u001b[39;00m\n\u001b[1;32m     22\u001b[0m \u001b[39m    performing an operation, the result of which is appended as a new column.\u001b[39;00m\n\u001b[1;32m     23\u001b[0m \u001b[39m    The elements of this pipeline are ScoreboardPipelineElements, which is a\u001b[39;00m\n\u001b[1;32m     24\u001b[0m \u001b[39m    Callable dataclass.\u001b[39;00m\n\u001b[1;32m     25\u001b[0m \n\u001b[1;32m     26\u001b[0m \u001b[39m    To allow the Scoreboard to validate the pipeline before running, a set of \u001b[39;00m\n\u001b[1;32m     27\u001b[0m \u001b[39m    exist properties that track how the pipeline changes the set of columns in \u001b[39;00m\n\u001b[1;32m     28\u001b[0m \u001b[39m    the scoreboard. In most cases, this can be worked out from the attributes, \u001b[39;00m\n\u001b[1;32m     29\u001b[0m \u001b[39m    but in some cases, where no calues of `arg_keys` and `out_key` are given\u001b[39;00m\n\u001b[1;32m     30\u001b[0m \u001b[39m    and `fn` operates on the whole dataframe, they can't; so additional \u001b[39;00m\n\u001b[1;32m     31\u001b[0m \u001b[39m    attributes may be added to provide that information. The properties \u001b[39;00m\n\u001b[1;32m     32\u001b[0m \u001b[39m    (documented below) are `requires`, `adds`, and `deletes`: the optional \u001b[39;00m\n\u001b[1;32m     33\u001b[0m \u001b[39m    attributes are `_reqs`, `_adds`, and `_dels`\u001b[39;00m\n\u001b[1;32m     34\u001b[0m \n\u001b[1;32m     35\u001b[0m \u001b[39m    Attributes\u001b[39;00m\n\u001b[1;32m     36\u001b[0m \u001b[39m    ==========\u001b[39;00m\n\u001b[1;32m     37\u001b[0m \u001b[39m        arg_keys (string or list of strings): Keys which identify dataframe\u001b[39;00m\n\u001b[1;32m     38\u001b[0m \u001b[39m            columns which be the input to the function, `fn`. If a `str` is\u001b[39;00m\n\u001b[1;32m     39\u001b[0m \u001b[39m            passed, `__post_init__` will wrap the string in a singleton list.\u001b[39;00m\n\u001b[1;32m     40\u001b[0m \u001b[39m            If no function is given, this and `out_key` will be used to rename\u001b[39;00m\n\u001b[1;32m     41\u001b[0m \u001b[39m            a column, with `arg_keys[0]` being the column to be renamed and\u001b[39;00m\n\u001b[1;32m     42\u001b[0m \u001b[39m            `out_key` being the new name: if a function is given but no values \u001b[39;00m\n\u001b[0;32m---> 43\u001b[0m \u001b[39m            for `arg_keys` and`out_key`, the function is assumed to apply to \u001b[39;00m\n\u001b[1;32m     44\u001b[0m \u001b[39m            the whole dataframe\u001b[39;00m\n\u001b[1;32m     45\u001b[0m \u001b[39m        out_key (string): In most cases, this is the name given to the new \u001b[39;00m\n\u001b[1;32m     46\u001b[0m \u001b[39m            column output by `fn` - see ``arg_keys` for details of exceptions\u001b[39;00m\n\u001b[1;32m     47\u001b[0m \u001b[39m        vec (bool): If true, it is assumed that `fn` vectorises: that is, it\u001b[39;00m\n\u001b[1;32m     48\u001b[0m \u001b[39m            can operate on a pd.Series without needing to loop or use `df.map` \u001b[39;00m\n\u001b[1;32m     49\u001b[0m \u001b[39m            or `df.apply` to apply the function to each entry. If False, it \u001b[39;00m\n\u001b[1;32m     50\u001b[0m \u001b[39m            will be applied using `df.apply`\u001b[39;00m\n\u001b[1;32m     51\u001b[0m \u001b[39m        fn (function): a function which can either be applied to one or more\u001b[39;00m\n\u001b[1;32m     52\u001b[0m \u001b[39m            `pd.Series`, or a whole GPScoreboard. It takes positional arguments\u001b[39;00m\n\u001b[1;32m     53\u001b[0m \u001b[39m            corresponding to `arg_keys`, and may have other kwargs to provide\u001b[39;00m\n\u001b[1;32m     54\u001b[0m \u001b[39m            values that are stored in a parameter dictionary in GPScoreboard\u001b[39;00m\n\u001b[1;32m     55\u001b[0m \n\u001b[1;32m     56\u001b[0m \u001b[39m#---##---##---##---##---##---##---##---##---##---##---##---##---##---##---##---#\u001b[39;00m\n\u001b[1;32m     57\u001b[0m \u001b[39m    \"\"\"\u001b[39;00m\n\u001b[1;32m     58\u001b[0m     arg_keys: \u001b[39mlist\u001b[39m[\u001b[39mstr\u001b[39m]\u001b[39m|\u001b[39m\u001b[39mstr\u001b[39m\n\u001b[1;32m     59\u001b[0m     out_key: \u001b[39mstr\u001b[39m\n",
      "File \u001b[0;32m~/.pyenv/versions/3.11.5/lib/python3.11/site-packages/pandas/core/frame.py:10037\u001b[0m, in \u001b[0;36mDataFrame.apply\u001b[0;34m(self, func, axis, raw, result_type, args, by_row, **kwargs)\u001b[0m\n\u001b[1;32m  10025\u001b[0m \u001b[39mfrom\u001b[39;00m \u001b[39mpandas\u001b[39;00m\u001b[39m.\u001b[39;00m\u001b[39mcore\u001b[39;00m\u001b[39m.\u001b[39;00m\u001b[39mapply\u001b[39;00m \u001b[39mimport\u001b[39;00m frame_apply\n\u001b[1;32m  10027\u001b[0m op \u001b[39m=\u001b[39m frame_apply(\n\u001b[1;32m  10028\u001b[0m     \u001b[39mself\u001b[39m,\n\u001b[1;32m  10029\u001b[0m     func\u001b[39m=\u001b[39mfunc,\n\u001b[0;32m   (...)\u001b[0m\n\u001b[1;32m  10035\u001b[0m     kwargs\u001b[39m=\u001b[39mkwargs,\n\u001b[1;32m  10036\u001b[0m )\n\u001b[0;32m> 10037\u001b[0m \u001b[39mreturn\u001b[39;00m op\u001b[39m.\u001b[39;49mapply()\u001b[39m.\u001b[39m__finalize__(\u001b[39mself\u001b[39m, method\u001b[39m=\u001b[39m\u001b[39m\"\u001b[39m\u001b[39mapply\u001b[39m\u001b[39m\"\u001b[39m)\n",
      "File \u001b[0;32m~/.pyenv/versions/3.11.5/lib/python3.11/site-packages/pandas/core/apply.py:837\u001b[0m, in \u001b[0;36mFrameApply.apply\u001b[0;34m(self)\u001b[0m\n\u001b[1;32m    834\u001b[0m \u001b[39melif\u001b[39;00m \u001b[39mself\u001b[39m\u001b[39m.\u001b[39mraw:\n\u001b[1;32m    835\u001b[0m     \u001b[39mreturn\u001b[39;00m \u001b[39mself\u001b[39m\u001b[39m.\u001b[39mapply_raw()\n\u001b[0;32m--> 837\u001b[0m \u001b[39mreturn\u001b[39;00m \u001b[39mself\u001b[39;49m\u001b[39m.\u001b[39;49mapply_standard()\n",
      "File \u001b[0;32m~/.pyenv/versions/3.11.5/lib/python3.11/site-packages/pandas/core/apply.py:963\u001b[0m, in \u001b[0;36mFrameApply.apply_standard\u001b[0;34m(self)\u001b[0m\n\u001b[1;32m    962\u001b[0m \u001b[39mdef\u001b[39;00m \u001b[39mapply_standard\u001b[39m(\u001b[39mself\u001b[39m):\n\u001b[0;32m--> 963\u001b[0m     results, res_index \u001b[39m=\u001b[39m \u001b[39mself\u001b[39;49m\u001b[39m.\u001b[39;49mapply_series_generator()\n\u001b[1;32m    965\u001b[0m     \u001b[39m# wrap results\u001b[39;00m\n\u001b[1;32m    966\u001b[0m     \u001b[39mreturn\u001b[39;00m \u001b[39mself\u001b[39m\u001b[39m.\u001b[39mwrap_results(results, res_index)\n",
      "File \u001b[0;32m~/.pyenv/versions/3.11.5/lib/python3.11/site-packages/pandas/core/apply.py:979\u001b[0m, in \u001b[0;36mFrameApply.apply_series_generator\u001b[0;34m(self)\u001b[0m\n\u001b[1;32m    976\u001b[0m \u001b[39mwith\u001b[39;00m option_context(\u001b[39m\"\u001b[39m\u001b[39mmode.chained_assignment\u001b[39m\u001b[39m\"\u001b[39m, \u001b[39mNone\u001b[39;00m):\n\u001b[1;32m    977\u001b[0m     \u001b[39mfor\u001b[39;00m i, v \u001b[39min\u001b[39;00m \u001b[39menumerate\u001b[39m(series_gen):\n\u001b[1;32m    978\u001b[0m         \u001b[39m# ignore SettingWithCopy here in case the user mutates\u001b[39;00m\n\u001b[0;32m--> 979\u001b[0m         results[i] \u001b[39m=\u001b[39m \u001b[39mself\u001b[39;49m\u001b[39m.\u001b[39;49mfunc(v, \u001b[39m*\u001b[39;49m\u001b[39mself\u001b[39;49m\u001b[39m.\u001b[39;49margs, \u001b[39m*\u001b[39;49m\u001b[39m*\u001b[39;49m\u001b[39mself\u001b[39;49m\u001b[39m.\u001b[39;49mkwargs)\n\u001b[1;32m    980\u001b[0m         \u001b[39mif\u001b[39;00m \u001b[39misinstance\u001b[39m(results[i], ABCSeries):\n\u001b[1;32m    981\u001b[0m             \u001b[39m# If we have a view on v, we need to make a copy because\u001b[39;00m\n\u001b[1;32m    982\u001b[0m             \u001b[39m#  series_generator will swap out the underlying data\u001b[39;00m\n\u001b[1;32m    983\u001b[0m             results[i] \u001b[39m=\u001b[39m results[i]\u001b[39m.\u001b[39mcopy(deep\u001b[39m=\u001b[39m\u001b[39mFalse\u001b[39;00m)\n",
      "File \u001b[0;32m~/CodeToJoy/philoso-py/gp_fitness.py:43\u001b[0m, in \u001b[0;36m<lambda>\u001b[0;34m(row)\u001b[0m\n\u001b[1;32m     15\u001b[0m \u001b[39m@dataclass\u001b[39m\n\u001b[1;32m     16\u001b[0m \u001b[39mclass\u001b[39;00m \u001b[39mScoreboardPipelineElement\u001b[39;00m:\n\u001b[1;32m     17\u001b[0m \u001b[39m    \u001b[39m\u001b[39m\"\"\"The `GPScoreboard` class is an extension of `pandas.DataFrame` which \u001b[39;00m\n\u001b[1;32m     18\u001b[0m \u001b[39m    takes a column of GP Trees, and has an amount of apparatus for processing \u001b[39;00m\n\u001b[1;32m     19\u001b[0m \u001b[39m    the trees' output and giving calculating their fitness. The main system for\u001b[39;00m\n\u001b[1;32m     20\u001b[0m \u001b[39m    doing this is a pipeline of operators which performs operations on the\u001b[39;00m\n\u001b[1;32m     21\u001b[0m \u001b[39m    dataframe, usually by taking one or more columns of the dataframe and \u001b[39;00m\n\u001b[1;32m     22\u001b[0m \u001b[39m    performing an operation, the result of which is appended as a new column.\u001b[39;00m\n\u001b[1;32m     23\u001b[0m \u001b[39m    The elements of this pipeline are ScoreboardPipelineElements, which is a\u001b[39;00m\n\u001b[1;32m     24\u001b[0m \u001b[39m    Callable dataclass.\u001b[39;00m\n\u001b[1;32m     25\u001b[0m \n\u001b[1;32m     26\u001b[0m \u001b[39m    To allow the Scoreboard to validate the pipeline before running, a set of \u001b[39;00m\n\u001b[1;32m     27\u001b[0m \u001b[39m    exist properties that track how the pipeline changes the set of columns in \u001b[39;00m\n\u001b[1;32m     28\u001b[0m \u001b[39m    the scoreboard. In most cases, this can be worked out from the attributes, \u001b[39;00m\n\u001b[1;32m     29\u001b[0m \u001b[39m    but in some cases, where no calues of `arg_keys` and `out_key` are given\u001b[39;00m\n\u001b[1;32m     30\u001b[0m \u001b[39m    and `fn` operates on the whole dataframe, they can't; so additional \u001b[39;00m\n\u001b[1;32m     31\u001b[0m \u001b[39m    attributes may be added to provide that information. The properties \u001b[39;00m\n\u001b[1;32m     32\u001b[0m \u001b[39m    (documented below) are `requires`, `adds`, and `deletes`: the optional \u001b[39;00m\n\u001b[1;32m     33\u001b[0m \u001b[39m    attributes are `_reqs`, `_adds`, and `_dels`\u001b[39;00m\n\u001b[1;32m     34\u001b[0m \n\u001b[1;32m     35\u001b[0m \u001b[39m    Attributes\u001b[39;00m\n\u001b[1;32m     36\u001b[0m \u001b[39m    ==========\u001b[39;00m\n\u001b[1;32m     37\u001b[0m \u001b[39m        arg_keys (string or list of strings): Keys which identify dataframe\u001b[39;00m\n\u001b[1;32m     38\u001b[0m \u001b[39m            columns which be the input to the function, `fn`. If a `str` is\u001b[39;00m\n\u001b[1;32m     39\u001b[0m \u001b[39m            passed, `__post_init__` will wrap the string in a singleton list.\u001b[39;00m\n\u001b[1;32m     40\u001b[0m \u001b[39m            If no function is given, this and `out_key` will be used to rename\u001b[39;00m\n\u001b[1;32m     41\u001b[0m \u001b[39m            a column, with `arg_keys[0]` being the column to be renamed and\u001b[39;00m\n\u001b[1;32m     42\u001b[0m \u001b[39m            `out_key` being the new name: if a function is given but no values \u001b[39;00m\n\u001b[0;32m---> 43\u001b[0m \u001b[39m            for `arg_keys` and`out_key`, the function is assumed to apply to \u001b[39;00m\n\u001b[1;32m     44\u001b[0m \u001b[39m            the whole dataframe\u001b[39;00m\n\u001b[1;32m     45\u001b[0m \u001b[39m        out_key (string): In most cases, this is the name given to the new \u001b[39;00m\n\u001b[1;32m     46\u001b[0m \u001b[39m            column output by `fn` - see ``arg_keys` for details of exceptions\u001b[39;00m\n\u001b[1;32m     47\u001b[0m \u001b[39m        vec (bool): If true, it is assumed that `fn` vectorises: that is, it\u001b[39;00m\n\u001b[1;32m     48\u001b[0m \u001b[39m            can operate on a pd.Series without needing to loop or use `df.map` \u001b[39;00m\n\u001b[1;32m     49\u001b[0m \u001b[39m            or `df.apply` to apply the function to each entry. If False, it \u001b[39;00m\n\u001b[1;32m     50\u001b[0m \u001b[39m            will be applied using `df.apply`\u001b[39;00m\n\u001b[1;32m     51\u001b[0m \u001b[39m        fn (function): a function which can either be applied to one or more\u001b[39;00m\n\u001b[1;32m     52\u001b[0m \u001b[39m            `pd.Series`, or a whole GPScoreboard. It takes positional arguments\u001b[39;00m\n\u001b[1;32m     53\u001b[0m \u001b[39m            corresponding to `arg_keys`, and may have other kwargs to provide\u001b[39;00m\n\u001b[1;32m     54\u001b[0m \u001b[39m            values that are stored in a parameter dictionary in GPScoreboard\u001b[39;00m\n\u001b[1;32m     55\u001b[0m \n\u001b[1;32m     56\u001b[0m \u001b[39m#---##---##---##---##---##---##---##---##---##---##---##---##---##---##---##---#\u001b[39;00m\n\u001b[1;32m     57\u001b[0m \u001b[39m    \"\"\"\u001b[39;00m\n\u001b[1;32m     58\u001b[0m     arg_keys: \u001b[39mlist\u001b[39m[\u001b[39mstr\u001b[39m]\u001b[39m|\u001b[39m\u001b[39mstr\u001b[39m\n\u001b[1;32m     59\u001b[0m     out_key: \u001b[39mstr\u001b[39m\n",
      "File \u001b[0;32m~/CodeToJoy/philoso-py/gp_fitness.py:124\u001b[0m, in \u001b[0;36msae\u001b[0;34m(tree, target, ivs, **kwargs)\u001b[0m\n\u001b[1;32m    117\u001b[0m     \u001b[39mraise\u001b[39;00m \u001b[39mValueError\u001b[39;00m(\n\u001b[1;32m    118\u001b[0m         \u001b[39m'\u001b[39m\u001b[39mIf `fn` exists, either both `out_key` and `arg_keys` must \u001b[39m\u001b[39m'\u001b[39m \u001b[39m+\u001b[39m\n\u001b[1;32m    119\u001b[0m         \u001b[39m'\u001b[39m\u001b[39mexist, or neither\u001b[39m\u001b[39m'\u001b[39m    \n\u001b[1;32m    120\u001b[0m     )\n\u001b[1;32m    121\u001b[0m \u001b[39m# At this stage, all three optional attributes are known to exist.\u001b[39;00m\n\u001b[1;32m    122\u001b[0m \u001b[39m# `vec` Should be set to true if `fn` uses vectorisation to operate\u001b[39;00m\n\u001b[1;32m    123\u001b[0m \u001b[39m# directly on whole columns \u001b[39;00m\n\u001b[0;32m--> 124\u001b[0m \u001b[39melif\u001b[39;00m \u001b[39mself\u001b[39m\u001b[39m.\u001b[39mvec:\n\u001b[1;32m    125\u001b[0m     sb[\u001b[39mself\u001b[39m\u001b[39m.\u001b[39mout_key] \u001b[39m=\u001b[39m \u001b[39mself\u001b[39m\u001b[39m.\u001b[39mfn(\u001b[39m*\u001b[39m\u001b[39m*\u001b[39msb[\u001b[39mself\u001b[39m\u001b[39m.\u001b[39marg_keys], \u001b[39m*\u001b[39m\u001b[39m*\u001b[39mkwargs)\n\u001b[1;32m    126\u001b[0m \u001b[39m# If it can't, `vec` should be false, and `apply` will be used to go row\u001b[39;00m\n\u001b[1;32m    127\u001b[0m \u001b[39m# by row \u001b[39;00m\n\u001b[1;32m    128\u001b[0m \u001b[39melse\u001b[39;00m:\n",
      "File \u001b[0;32m~/CodeToJoy/philoso-py/gp_trees.py:98\u001b[0m, in \u001b[0;36mGPNonTerminal.__call__\u001b[0;34m(self, **kwargs)\u001b[0m\n\u001b[1;32m     96\u001b[0m \u001b[39mdef\u001b[39;00m \u001b[39m__call__\u001b[39m(\u001b[39mself\u001b[39m, \u001b[39m*\u001b[39m\u001b[39m*\u001b[39mkwargs):\n\u001b[1;32m     97\u001b[0m     \u001b[39mtry\u001b[39;00m:\n\u001b[0;32m---> 98\u001b[0m         \u001b[39mreturn\u001b[39;00m \u001b[39msuper\u001b[39;49m()\u001b[39m.\u001b[39;49m\u001b[39m__call__\u001b[39;49m(\u001b[39m*\u001b[39;49m\u001b[39m*\u001b[39;49mkwargs)\n\u001b[1;32m     99\u001b[0m     \u001b[39m# What if we get a numerical exception?\u001b[39;00m\n\u001b[1;32m    100\u001b[0m     \u001b[39mexcept\u001b[39;00m \u001b[39mOverflowError\u001b[39;00m:\n",
      "File \u001b[0;32m~/CodeToJoy/philoso-py/trees.py:1309\u001b[0m, in \u001b[0;36mNonTerminal.__call__\u001b[0;34m(self, **kwargs)\u001b[0m\n\u001b[1;32m   1304\u001b[0m \u001b[39mdef\u001b[39;00m \u001b[39m__call__\u001b[39m(\u001b[39mself\u001b[39m, \u001b[39m*\u001b[39m\u001b[39m*\u001b[39mkwargs): \u001b[39m## XXX document changes - added kwargs\u001b[39;00m\n\u001b[1;32m   1305\u001b[0m \u001b[39m    \u001b[39m\u001b[39m\"\"\"Magic method that makes NonTerminals Callable: but really it's just\u001b[39;00m\n\u001b[1;32m   1306\u001b[0m \u001b[39m    calling label (Labels are also callable), which is just calling an\u001b[39;00m\n\u001b[1;32m   1307\u001b[0m \u001b[39m    Operator (also also callable).\u001b[39;00m\n\u001b[1;32m   1308\u001b[0m \u001b[39m    \"\"\"\u001b[39;00m\n\u001b[0;32m-> 1309\u001b[0m     \u001b[39mreturn\u001b[39;00m \u001b[39mself\u001b[39m\u001b[39m.\u001b[39m_operator(\u001b[39m*\u001b[39m[c(\u001b[39m*\u001b[39;49m\u001b[39m*\u001b[39;49mkwargs) \u001b[39mfor\u001b[39;49;00m c \u001b[39min\u001b[39;49;00m \u001b[39mself\u001b[39;49m])\n",
      "File \u001b[0;32m~/CodeToJoy/philoso-py/trees.py:1309\u001b[0m, in \u001b[0;36m<listcomp>\u001b[0;34m(.0)\u001b[0m\n\u001b[1;32m   1304\u001b[0m \u001b[39mdef\u001b[39;00m \u001b[39m__call__\u001b[39m(\u001b[39mself\u001b[39m, \u001b[39m*\u001b[39m\u001b[39m*\u001b[39mkwargs): \u001b[39m## XXX document changes - added kwargs\u001b[39;00m\n\u001b[1;32m   1305\u001b[0m \u001b[39m    \u001b[39m\u001b[39m\"\"\"Magic method that makes NonTerminals Callable: but really it's just\u001b[39;00m\n\u001b[1;32m   1306\u001b[0m \u001b[39m    calling label (Labels are also callable), which is just calling an\u001b[39;00m\n\u001b[1;32m   1307\u001b[0m \u001b[39m    Operator (also also callable).\u001b[39;00m\n\u001b[1;32m   1308\u001b[0m \u001b[39m    \"\"\"\u001b[39;00m\n\u001b[0;32m-> 1309\u001b[0m     \u001b[39mreturn\u001b[39;00m \u001b[39mself\u001b[39m\u001b[39m.\u001b[39m_operator(\u001b[39m*\u001b[39m[c(\u001b[39m*\u001b[39;49m\u001b[39m*\u001b[39;49mkwargs) \u001b[39mfor\u001b[39;00m c \u001b[39min\u001b[39;00m \u001b[39mself\u001b[39m])\n",
      "File \u001b[0;32m~/CodeToJoy/philoso-py/gp_trees.py:98\u001b[0m, in \u001b[0;36mGPNonTerminal.__call__\u001b[0;34m(self, **kwargs)\u001b[0m\n\u001b[1;32m     96\u001b[0m \u001b[39mdef\u001b[39;00m \u001b[39m__call__\u001b[39m(\u001b[39mself\u001b[39m, \u001b[39m*\u001b[39m\u001b[39m*\u001b[39mkwargs):\n\u001b[1;32m     97\u001b[0m     \u001b[39mtry\u001b[39;00m:\n\u001b[0;32m---> 98\u001b[0m         \u001b[39mreturn\u001b[39;00m \u001b[39msuper\u001b[39;49m()\u001b[39m.\u001b[39;49m\u001b[39m__call__\u001b[39;49m(\u001b[39m*\u001b[39;49m\u001b[39m*\u001b[39;49mkwargs)\n\u001b[1;32m     99\u001b[0m     \u001b[39m# What if we get a numerical exception?\u001b[39;00m\n\u001b[1;32m    100\u001b[0m     \u001b[39mexcept\u001b[39;00m \u001b[39mOverflowError\u001b[39;00m:\n",
      "File \u001b[0;32m~/CodeToJoy/philoso-py/trees.py:1309\u001b[0m, in \u001b[0;36mNonTerminal.__call__\u001b[0;34m(self, **kwargs)\u001b[0m\n\u001b[1;32m   1304\u001b[0m \u001b[39mdef\u001b[39;00m \u001b[39m__call__\u001b[39m(\u001b[39mself\u001b[39m, \u001b[39m*\u001b[39m\u001b[39m*\u001b[39mkwargs): \u001b[39m## XXX document changes - added kwargs\u001b[39;00m\n\u001b[1;32m   1305\u001b[0m \u001b[39m    \u001b[39m\u001b[39m\"\"\"Magic method that makes NonTerminals Callable: but really it's just\u001b[39;00m\n\u001b[1;32m   1306\u001b[0m \u001b[39m    calling label (Labels are also callable), which is just calling an\u001b[39;00m\n\u001b[1;32m   1307\u001b[0m \u001b[39m    Operator (also also callable).\u001b[39;00m\n\u001b[1;32m   1308\u001b[0m \u001b[39m    \"\"\"\u001b[39;00m\n\u001b[0;32m-> 1309\u001b[0m     \u001b[39mreturn\u001b[39;00m \u001b[39mself\u001b[39m\u001b[39m.\u001b[39m_operator(\u001b[39m*\u001b[39m[c(\u001b[39m*\u001b[39;49m\u001b[39m*\u001b[39;49mkwargs) \u001b[39mfor\u001b[39;49;00m c \u001b[39min\u001b[39;49;00m \u001b[39mself\u001b[39;49m])\n",
      "File \u001b[0;32m~/CodeToJoy/philoso-py/trees.py:1309\u001b[0m, in \u001b[0;36m<listcomp>\u001b[0;34m(.0)\u001b[0m\n\u001b[1;32m   1304\u001b[0m \u001b[39mdef\u001b[39;00m \u001b[39m__call__\u001b[39m(\u001b[39mself\u001b[39m, \u001b[39m*\u001b[39m\u001b[39m*\u001b[39mkwargs): \u001b[39m## XXX document changes - added kwargs\u001b[39;00m\n\u001b[1;32m   1305\u001b[0m \u001b[39m    \u001b[39m\u001b[39m\"\"\"Magic method that makes NonTerminals Callable: but really it's just\u001b[39;00m\n\u001b[1;32m   1306\u001b[0m \u001b[39m    calling label (Labels are also callable), which is just calling an\u001b[39;00m\n\u001b[1;32m   1307\u001b[0m \u001b[39m    Operator (also also callable).\u001b[39;00m\n\u001b[1;32m   1308\u001b[0m \u001b[39m    \"\"\"\u001b[39;00m\n\u001b[0;32m-> 1309\u001b[0m     \u001b[39mreturn\u001b[39;00m \u001b[39mself\u001b[39m\u001b[39m.\u001b[39m_operator(\u001b[39m*\u001b[39m[c(\u001b[39m*\u001b[39;49m\u001b[39m*\u001b[39;49mkwargs) \u001b[39mfor\u001b[39;00m c \u001b[39min\u001b[39;00m \u001b[39mself\u001b[39m])\n",
      "    \u001b[0;31m[... skipping similar frames: GPNonTerminal.__call__ at line 98 (737 times), NonTerminal.__call__ at line 1309 (737 times), <listcomp> at line 1309 (736 times)]\u001b[0m\n",
      "File \u001b[0;32m~/CodeToJoy/philoso-py/trees.py:1309\u001b[0m, in \u001b[0;36m<listcomp>\u001b[0;34m(.0)\u001b[0m\n\u001b[1;32m   1304\u001b[0m \u001b[39mdef\u001b[39;00m \u001b[39m__call__\u001b[39m(\u001b[39mself\u001b[39m, \u001b[39m*\u001b[39m\u001b[39m*\u001b[39mkwargs): \u001b[39m## XXX document changes - added kwargs\u001b[39;00m\n\u001b[1;32m   1305\u001b[0m \u001b[39m    \u001b[39m\u001b[39m\"\"\"Magic method that makes NonTerminals Callable: but really it's just\u001b[39;00m\n\u001b[1;32m   1306\u001b[0m \u001b[39m    calling label (Labels are also callable), which is just calling an\u001b[39;00m\n\u001b[1;32m   1307\u001b[0m \u001b[39m    Operator (also also callable).\u001b[39;00m\n\u001b[1;32m   1308\u001b[0m \u001b[39m    \"\"\"\u001b[39;00m\n\u001b[0;32m-> 1309\u001b[0m     \u001b[39mreturn\u001b[39;00m \u001b[39mself\u001b[39m\u001b[39m.\u001b[39m_operator(\u001b[39m*\u001b[39m[c(\u001b[39m*\u001b[39;49m\u001b[39m*\u001b[39;49mkwargs) \u001b[39mfor\u001b[39;00m c \u001b[39min\u001b[39;00m \u001b[39mself\u001b[39m])\n",
      "File \u001b[0;32m~/CodeToJoy/philoso-py/gp_trees.py:98\u001b[0m, in \u001b[0;36mGPNonTerminal.__call__\u001b[0;34m(self, **kwargs)\u001b[0m\n\u001b[1;32m     96\u001b[0m \u001b[39mdef\u001b[39;00m \u001b[39m__call__\u001b[39m(\u001b[39mself\u001b[39m, \u001b[39m*\u001b[39m\u001b[39m*\u001b[39mkwargs):\n\u001b[1;32m     97\u001b[0m     \u001b[39mtry\u001b[39;00m:\n\u001b[0;32m---> 98\u001b[0m         \u001b[39mreturn\u001b[39;00m \u001b[39msuper\u001b[39;49m()\u001b[39m.\u001b[39;49m\u001b[39m__call__\u001b[39;49m(\u001b[39m*\u001b[39;49m\u001b[39m*\u001b[39;49mkwargs)\n\u001b[1;32m     99\u001b[0m     \u001b[39m# What if we get a numerical exception?\u001b[39;00m\n\u001b[1;32m    100\u001b[0m     \u001b[39mexcept\u001b[39;00m \u001b[39mOverflowError\u001b[39;00m:\n",
      "File \u001b[0;32m~/CodeToJoy/philoso-py/trees.py:1309\u001b[0m, in \u001b[0;36mNonTerminal.__call__\u001b[0;34m(self, **kwargs)\u001b[0m\n\u001b[1;32m   1304\u001b[0m \u001b[39mdef\u001b[39;00m \u001b[39m__call__\u001b[39m(\u001b[39mself\u001b[39m, \u001b[39m*\u001b[39m\u001b[39m*\u001b[39mkwargs): \u001b[39m## XXX document changes - added kwargs\u001b[39;00m\n\u001b[1;32m   1305\u001b[0m \u001b[39m    \u001b[39m\u001b[39m\"\"\"Magic method that makes NonTerminals Callable: but really it's just\u001b[39;00m\n\u001b[1;32m   1306\u001b[0m \u001b[39m    calling label (Labels are also callable), which is just calling an\u001b[39;00m\n\u001b[1;32m   1307\u001b[0m \u001b[39m    Operator (also also callable).\u001b[39;00m\n\u001b[1;32m   1308\u001b[0m \u001b[39m    \"\"\"\u001b[39;00m\n\u001b[0;32m-> 1309\u001b[0m     \u001b[39mreturn\u001b[39;00m \u001b[39mself\u001b[39m\u001b[39m.\u001b[39m_operator(\u001b[39m*\u001b[39m[c(\u001b[39m*\u001b[39m\u001b[39m*\u001b[39mkwargs) \u001b[39mfor\u001b[39;00m c \u001b[39min\u001b[39;00m \u001b[39mself\u001b[39m])\n",
      "File \u001b[0;32m~/CodeToJoy/philoso-py/trees.py:116\u001b[0m, in \u001b[0;36mTree.__iter__\u001b[0;34m(self)\u001b[0m\n\u001b[1;32m    115\u001b[0m \u001b[39mdef\u001b[39;00m \u001b[39m__iter__\u001b[39m(\u001b[39mself\u001b[39m):\n\u001b[0;32m--> 116\u001b[0m     \u001b[39mreturn\u001b[39;00m TreeIter(\u001b[39mself\u001b[39;49m)\n",
      "\u001b[0;31mRecursionError\u001b[0m: maximum recursion depth exceeded"
     ]
    }
   ],
   "source": [
    "result = gp_rand_poly_test(100, generations=2000, mutation_sd=0.3)"
   ]
  },
  {
   "cell_type": "code",
   "execution_count": null,
   "metadata": {},
   "outputs": [],
   "source": [
    "Audio(filename = './sounds/ElevatorBell.mp3', autoplay=True, rate=22000)"
   ]
  },
  {
   "cell_type": "code",
   "execution_count": null,
   "metadata": {},
   "outputs": [],
   "source": [
    "from test_trees import *"
   ]
  },
  {
   "cell_type": "code",
   "execution_count": null,
   "metadata": {},
   "outputs": [],
   "source": [
    "tgpt = test_gp_trees()"
   ]
  },
  {
   "cell_type": "code",
   "execution_count": null,
   "metadata": {},
   "outputs": [],
   "source": [
    "tgpt[0](x=5)"
   ]
  },
  {
   "cell_type": "code",
   "execution_count": null,
   "metadata": {},
   "outputs": [],
   "source": [
    "tgpt[0][1,1,0].root"
   ]
  },
  {
   "cell_type": "code",
   "execution_count": null,
   "metadata": {},
   "outputs": [],
   "source": [
    "from typing import TypeAlias"
   ]
  },
  {
   "cell_type": "code",
   "execution_count": null,
   "metadata": {},
   "outputs": [],
   "source": [
    "Fail: TypeAlias = 1"
   ]
  },
  {
   "cell_type": "code",
   "execution_count": null,
   "metadata": {},
   "outputs": [],
   "source": [
    "type(Fail)"
   ]
  },
  {
   "cell_type": "code",
   "execution_count": null,
   "metadata": {},
   "outputs": [],
   "source": [
    "s"
   ]
  },
  {
   "cell_type": "code",
   "execution_count": null,
   "metadata": {},
   "outputs": [],
   "source": [
    "NoneType = type(None)"
   ]
  },
  {
   "cell_type": "code",
   "execution_count": null,
   "metadata": {},
   "outputs": [],
   "source": [
    "print(NoneType())"
   ]
  },
  {
   "cell_type": "code",
   "execution_count": null,
   "metadata": {},
   "outputs": [],
   "source": [
    "class Fail(NoneType):\n",
    "    pass"
   ]
  },
  {
   "cell_type": "code",
   "execution_count": null,
   "metadata": {},
   "outputs": [],
   "source": [
    "import numpy as np"
   ]
  },
  {
   "cell_type": "code",
   "execution_count": null,
   "metadata": {},
   "outputs": [],
   "source": [
    "type(np.nan)"
   ]
  },
  {
   "cell_type": "code",
   "execution_count": null,
   "metadata": {},
   "outputs": [],
   "source": [
    "df = pd.DataFrame(columns=list('AB'))\n",
    "df"
   ]
  },
  {
   "cell_type": "code",
   "execution_count": null,
   "metadata": {},
   "outputs": [],
   "source": [
    "df['A'] = [1,2,3]"
   ]
  },
  {
   "cell_type": "code",
   "execution_count": null,
   "metadata": {},
   "outputs": [],
   "source": [
    "df"
   ]
  },
  {
   "cell_type": "code",
   "execution_count": null,
   "metadata": {},
   "outputs": [],
   "source": [
    "df['B'][1]"
   ]
  },
  {
   "cell_type": "code",
   "execution_count": null,
   "metadata": {},
   "outputs": [],
   "source": []
  }
 ],
 "metadata": {
  "kernelspec": {
   "display_name": "Python 3 (ipykernel)",
   "language": "python",
   "name": "python3"
  },
  "language_info": {
   "codemirror_mode": {
    "name": "ipython",
    "version": 3
   },
   "file_extension": ".py",
   "mimetype": "text/x-python",
   "name": "python",
   "nbconvert_exporter": "python",
   "pygments_lexer": "ipython3",
   "version": "3.11.5"
  }
 },
 "nbformat": 4,
 "nbformat_minor": 4
}
