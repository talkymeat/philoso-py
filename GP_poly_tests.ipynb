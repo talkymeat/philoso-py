{
 "cells": [
  {
   "cell_type": "code",
   "execution_count": 1,
   "metadata": {},
   "outputs": [],
   "source": [
    "from gp_poly_test import gp_rand_poly_test\n",
    "from IPython.display import Audio"
   ]
  },
  {
   "cell_type": "markdown",
   "metadata": {},
   "source": [
    "<h3>How to call <code>gp_rand_poly_test</code></h3>\n",
    "\n",
    "This notebook can be used to test a simplified version of genetic programming, in which the form of the evolved program is pre-specified as a polynomial of order *order* with *num_var* variables, and the program evolves through continuous-valued mutations in the value of the coefficients. The test is performed with a single function call to `gp_poly_test`. First edit the function call below as needed, then hit the 'run all' button. \n",
    "\n",
    "The cell at the top of the notebook imports the code needed to run everything. The second cell is the one you may want to edit to change the parameters of the test. The basic syntax for is `gp_poly_test` is:\n",
    "\n",
    "`gp_poly_test(order, num_vars, n)`\n",
    "\n",
    "... where `order`, `num_vars`, and `n` are variables you replace with integer values, e.g.:\n",
    "\n",
    "`gp_poly_test(1, 3, 100)`\n",
    "\n",
    "... would generate a 1st-order polynomial (a linear expression) with three variables `a`, `b`, `c`, and random coefficients, plus a dataset of 100 points in `a, b, c` space, and a list of corresponding values of the linear expression, which are the targets the GP will try to approximate.\n",
    "\n",
    "Further optional keyword parameters can be set, which otherwise will take default values:\n",
    "\n",
    "<ul>\n",
    "<li><b>generations (default = 100)</b>: Number of generations the GP runs for</li>\n",
    "<li><b>pop (default = 100)</b>: Number of trees in a generation</li>\n",
    "<li><b>iv_min (default = -100)</b>: Minimum value of a variable in the independent variables dataset</li>\n",
    "<li><b>iv_max (default = 100)</b>: Maximum value of a variable in the independent variables dataset</li>\n",
    "<li><b>coeff_min (default = -20)</b>: Minimum value of a coefficient in the target polynomial</li>\n",
    "<li><b>coeff_max (default = 20)</b>: Minimum value of a coefficient in the target polynomial</li>\n",
    "<li><b>mutation_rate (default =  0.2)</b>: Probability that a coefficient value in a GP tree will mutate from one generation to the next</li>\n",
    "<li><b>mutation_sd (default = 1.0)</b>: Standard deviation of the normal distribution defining the deltas added to coefficient values when they are mutated</li>\n",
    "<li><b>elitism (default = 5)</b>: The <em>k</em> best trees in each generation pass on one copy each to the next generation without any chance of mutation: this parameter sets the value of <em>k</em>. If it's zero, no trees are protected from mutation.</li>\n",
    "</ul>\n",
    "\n",
    "One word of caution: GP takes a while to run - the program will appear to be doing nothing in between showing the tree for the target polynomial and displaying the results. This is normal. Make yourself a cuppa and come back in a bit. The final cell will ding to tell you it's done, and the variable `result` will then contain a dictionary with more detailed output data, which you can use to create further visualisations."
   ]
  },
  {
   "cell_type": "code",
   "execution_count": 2,
   "metadata": {
    "scrolled": false
   },
   "outputs": [
    {
     "name": "stdout",
     "output_type": "stream",
     "text": [
      "0 generations\n"
     ]
    },
    {
     "data": {
      "image/png": "[encoded data removed]",
      "text/plain": [
       "<Figure size 1600x400 with 4 Axes>"
      ]
     },
     "metadata": {},
     "output_type": "display_data"
    },
    {
     "data": {
      "text/plain": [
       "<Figure size 640x480 with 0 Axes>"
      ]
     },
     "metadata": {},
     "output_type": "display_data"
    },
    {
     "data": {
      "text/plain": [
       "<Figure size 640x480 with 0 Axes>"
      ]
     },
     "metadata": {},
     "output_type": "display_data"
    },
    {
     "data": {
      "text/plain": [
       "<Figure size 640x480 with 0 Axes>"
      ]
     },
     "metadata": {},
     "output_type": "display_data"
    },
    {
     "data": {
      "text/plain": [
       "<Figure size 640x480 with 0 Axes>"
      ]
     },
     "metadata": {},
     "output_type": "display_data"
    },
    {
     "data": {
      "text/plain": [
       "<Figure size 640x480 with 0 Axes>"
      ]
     },
     "metadata": {},
     "output_type": "display_data"
    },
    {
     "data": {
      "text/plain": [
       "<Figure size 640x480 with 0 Axes>"
      ]
     },
     "metadata": {},
     "output_type": "display_data"
    },
    {
     "data": {
      "text/plain": [
       "<Figure size 640x480 with 0 Axes>"
      ]
     },
     "metadata": {},
     "output_type": "display_data"
    },
    {
     "data": {
      "text/plain": [
       "<Figure size 640x480 with 0 Axes>"
      ]
     },
     "metadata": {},
     "output_type": "display_data"
    },
    {
     "data": {
      "text/plain": [
       "<Figure size 640x480 with 0 Axes>"
      ]
     },
     "metadata": {},
     "output_type": "display_data"
    },
    {
     "data": {
      "text/plain": [
       "<Figure size 640x480 with 0 Axes>"
      ]
     },
     "metadata": {},
     "output_type": "display_data"
    },
    {
     "data": {
      "text/plain": [
       "<Figure size 640x480 with 0 Axes>"
      ]
     },
     "metadata": {},
     "output_type": "display_data"
    },
    {
     "data": {
      "text/plain": [
       "<Figure size 640x480 with 0 Axes>"
      ]
     },
     "metadata": {},
     "output_type": "display_data"
    },
    {
     "data": {
      "text/plain": [
       "<Figure size 640x480 with 0 Axes>"
      ]
     },
     "metadata": {},
     "output_type": "display_data"
    },
    {
     "data": {
      "text/plain": [
       "<Figure size 640x480 with 0 Axes>"
      ]
     },
     "metadata": {},
     "output_type": "display_data"
    },
    {
     "data": {
      "text/plain": [
       "<Figure size 640x480 with 0 Axes>"
      ]
     },
     "metadata": {},
     "output_type": "display_data"
    },
    {
     "data": {
      "text/plain": [
       "<Figure size 640x480 with 0 Axes>"
      ]
     },
     "metadata": {},
     "output_type": "display_data"
    },
    {
     "data": {
      "text/plain": [
       "<Figure size 640x480 with 0 Axes>"
      ]
     },
     "metadata": {},
     "output_type": "display_data"
    },
    {
     "data": {
      "text/plain": [
       "<Figure size 640x480 with 0 Axes>"
      ]
     },
     "metadata": {},
     "output_type": "display_data"
    },
    {
     "data": {
      "text/plain": [
       "<Figure size 640x480 with 0 Axes>"
      ]
     },
     "metadata": {},
     "output_type": "display_data"
    },
    {
     "data": {
      "text/plain": [
       "<Figure size 640x480 with 0 Axes>"
      ]
     },
     "metadata": {},
     "output_type": "display_data"
    },
    {
     "data": {
      "text/plain": [
       "<Figure size 640x480 with 0 Axes>"
      ]
     },
     "metadata": {},
     "output_type": "display_data"
    },
    {
     "data": {
      "text/plain": [
       "<Figure size 640x480 with 0 Axes>"
      ]
     },
     "metadata": {},
     "output_type": "display_data"
    },
    {
     "data": {
      "text/plain": [
       "<Figure size 640x480 with 0 Axes>"
      ]
     },
     "metadata": {},
     "output_type": "display_data"
    },
    {
     "data": {
      "text/plain": [
       "<Figure size 640x480 with 0 Axes>"
      ]
     },
     "metadata": {},
     "output_type": "display_data"
    },
    {
     "data": {
      "text/plain": [
       "<Figure size 640x480 with 0 Axes>"
      ]
     },
     "metadata": {},
     "output_type": "display_data"
    },
    {
     "data": {
      "text/plain": [
       "<Figure size 640x480 with 0 Axes>"
      ]
     },
     "metadata": {},
     "output_type": "display_data"
    },
    {
     "data": {
      "text/plain": [
       "<Figure size 640x480 with 0 Axes>"
      ]
     },
     "metadata": {},
     "output_type": "display_data"
    },
    {
     "data": {
      "text/plain": [
       "<Figure size 640x480 with 0 Axes>"
      ]
     },
     "metadata": {},
     "output_type": "display_data"
    },
    {
     "data": {
      "text/plain": [
       "<Figure size 640x480 with 0 Axes>"
      ]
     },
     "metadata": {},
     "output_type": "display_data"
    },
    {
     "data": {
      "text/plain": [
       "<Figure size 640x480 with 0 Axes>"
      ]
     },
     "metadata": {},
     "output_type": "display_data"
    },
    {
     "data": {
      "text/plain": [
       "<Figure size 640x480 with 0 Axes>"
      ]
     },
     "metadata": {},
     "output_type": "display_data"
    },
    {
     "data": {
      "text/plain": [
       "<Figure size 640x480 with 0 Axes>"
      ]
     },
     "metadata": {},
     "output_type": "display_data"
    },
    {
     "data": {
      "text/plain": [
       "<Figure size 640x480 with 0 Axes>"
      ]
     },
     "metadata": {},
     "output_type": "display_data"
    },
    {
     "data": {
      "text/plain": [
       "<Figure size 640x480 with 0 Axes>"
      ]
     },
     "metadata": {},
     "output_type": "display_data"
    },
    {
     "data": {
      "text/plain": [
       "<Figure size 640x480 with 0 Axes>"
      ]
     },
     "metadata": {},
     "output_type": "display_data"
    },
    {
     "data": {
      "text/plain": [
       "<Figure size 640x480 with 0 Axes>"
      ]
     },
     "metadata": {},
     "output_type": "display_data"
    },
    {
     "data": {
      "text/plain": [
       "<Figure size 640x480 with 0 Axes>"
      ]
     },
     "metadata": {},
     "output_type": "display_data"
    },
    {
     "data": {
      "text/plain": [
       "<Figure size 640x480 with 0 Axes>"
      ]
     },
     "metadata": {},
     "output_type": "display_data"
    },
    {
     "data": {
      "text/plain": [
       "<Figure size 640x480 with 0 Axes>"
      ]
     },
     "metadata": {},
     "output_type": "display_data"
    },
    {
     "data": {
      "text/plain": [
       "<Figure size 640x480 with 0 Axes>"
      ]
     },
     "metadata": {},
     "output_type": "display_data"
    },
    {
     "data": {
      "text/plain": [
       "<Figure size 640x480 with 0 Axes>"
      ]
     },
     "metadata": {},
     "output_type": "display_data"
    },
    {
     "data": {
      "text/plain": [
       "<Figure size 640x480 with 0 Axes>"
      ]
     },
     "metadata": {},
     "output_type": "display_data"
    },
    {
     "data": {
      "text/plain": [
       "<Figure size 640x480 with 0 Axes>"
      ]
     },
     "metadata": {},
     "output_type": "display_data"
    },
    {
     "data": {
      "text/plain": [
       "<Figure size 640x480 with 0 Axes>"
      ]
     },
     "metadata": {},
     "output_type": "display_data"
    },
    {
     "data": {
      "text/plain": [
       "<Figure size 640x480 with 0 Axes>"
      ]
     },
     "metadata": {},
     "output_type": "display_data"
    },
    {
     "data": {
      "text/plain": [
       "<Figure size 640x480 with 0 Axes>"
      ]
     },
     "metadata": {},
     "output_type": "display_data"
    },
    {
     "data": {
      "text/plain": [
       "<Figure size 640x480 with 0 Axes>"
      ]
     },
     "metadata": {},
     "output_type": "display_data"
    },
    {
     "data": {
      "text/plain": [
       "<Figure size 640x480 with 0 Axes>"
      ]
     },
     "metadata": {},
     "output_type": "display_data"
    },
    {
     "data": {
      "text/plain": [
       "<Figure size 640x480 with 0 Axes>"
      ]
     },
     "metadata": {},
     "output_type": "display_data"
    },
    {
     "data": {
      "text/plain": [
       "<Figure size 640x480 with 0 Axes>"
      ]
     },
     "metadata": {},
     "output_type": "display_data"
    },
    {
     "data": {
      "text/plain": [
       "<Figure size 640x480 with 0 Axes>"
      ]
     },
     "metadata": {},
     "output_type": "display_data"
    },
    {
     "data": {
      "text/plain": [
       "<Figure size 640x480 with 0 Axes>"
      ]
     },
     "metadata": {},
     "output_type": "display_data"
    },
    {
     "data": {
      "text/plain": [
       "<Figure size 640x480 with 0 Axes>"
      ]
     },
     "metadata": {},
     "output_type": "display_data"
    },
    {
     "data": {
      "text/plain": [
       "<Figure size 640x480 with 0 Axes>"
      ]
     },
     "metadata": {},
     "output_type": "display_data"
    },
    {
     "data": {
      "text/plain": [
       "<Figure size 640x480 with 0 Axes>"
      ]
     },
     "metadata": {},
     "output_type": "display_data"
    },
    {
     "data": {
      "text/plain": [
       "<Figure size 640x480 with 0 Axes>"
      ]
     },
     "metadata": {},
     "output_type": "display_data"
    },
    {
     "data": {
      "text/plain": [
       "<Figure size 640x480 with 0 Axes>"
      ]
     },
     "metadata": {},
     "output_type": "display_data"
    },
    {
     "data": {
      "text/plain": [
       "<Figure size 640x480 with 0 Axes>"
      ]
     },
     "metadata": {},
     "output_type": "display_data"
    },
    {
     "data": {
      "text/plain": [
       "<Figure size 640x480 with 0 Axes>"
      ]
     },
     "metadata": {},
     "output_type": "display_data"
    },
    {
     "data": {
      "text/plain": [
       "<Figure size 640x480 with 0 Axes>"
      ]
     },
     "metadata": {},
     "output_type": "display_data"
    },
    {
     "data": {
      "text/plain": [
       "<Figure size 640x480 with 0 Axes>"
      ]
     },
     "metadata": {},
     "output_type": "display_data"
    },
    {
     "data": {
      "text/plain": [
       "<Figure size 640x480 with 0 Axes>"
      ]
     },
     "metadata": {},
     "output_type": "display_data"
    },
    {
     "data": {
      "text/plain": [
       "<Figure size 640x480 with 0 Axes>"
      ]
     },
     "metadata": {},
     "output_type": "display_data"
    },
    {
     "data": {
      "text/plain": [
       "<Figure size 640x480 with 0 Axes>"
      ]
     },
     "metadata": {},
     "output_type": "display_data"
    },
    {
     "data": {
      "text/plain": [
       "<Figure size 640x480 with 0 Axes>"
      ]
     },
     "metadata": {},
     "output_type": "display_data"
    },
    {
     "data": {
      "text/plain": [
       "<Figure size 640x480 with 0 Axes>"
      ]
     },
     "metadata": {},
     "output_type": "display_data"
    },
    {
     "data": {
      "text/plain": [
       "<Figure size 640x480 with 0 Axes>"
      ]
     },
     "metadata": {},
     "output_type": "display_data"
    },
    {
     "data": {
      "text/plain": [
       "<Figure size 640x480 with 0 Axes>"
      ]
     },
     "metadata": {},
     "output_type": "display_data"
    },
    {
     "data": {
      "text/plain": [
       "<Figure size 640x480 with 0 Axes>"
      ]
     },
     "metadata": {},
     "output_type": "display_data"
    },
    {
     "data": {
      "text/plain": [
       "<Figure size 640x480 with 0 Axes>"
      ]
     },
     "metadata": {},
     "output_type": "display_data"
    },
    {
     "data": {
      "text/plain": [
       "<Figure size 640x480 with 0 Axes>"
      ]
     },
     "metadata": {},
     "output_type": "display_data"
    },
    {
     "data": {
      "text/plain": [
       "<Figure size 640x480 with 0 Axes>"
      ]
     },
     "metadata": {},
     "output_type": "display_data"
    },
    {
     "data": {
      "text/plain": [
       "<Figure size 640x480 with 0 Axes>"
      ]
     },
     "metadata": {},
     "output_type": "display_data"
    },
    {
     "data": {
      "text/plain": [
       "<Figure size 640x480 with 0 Axes>"
      ]
     },
     "metadata": {},
     "output_type": "display_data"
    },
    {
     "data": {
      "text/plain": [
       "<Figure size 640x480 with 0 Axes>"
      ]
     },
     "metadata": {},
     "output_type": "display_data"
    },
    {
     "data": {
      "text/plain": [
       "<Figure size 640x480 with 0 Axes>"
      ]
     },
     "metadata": {},
     "output_type": "display_data"
    },
    {
     "data": {
      "text/plain": [
       "<Figure size 640x480 with 0 Axes>"
      ]
     },
     "metadata": {},
     "output_type": "display_data"
    },
    {
     "data": {
      "text/plain": [
       "<Figure size 640x480 with 0 Axes>"
      ]
     },
     "metadata": {},
     "output_type": "display_data"
    },
    {
     "data": {
      "text/plain": [
       "<Figure size 640x480 with 0 Axes>"
      ]
     },
     "metadata": {},
     "output_type": "display_data"
    },
    {
     "data": {
      "text/plain": [
       "<Figure size 640x480 with 0 Axes>"
      ]
     },
     "metadata": {},
     "output_type": "display_data"
    },
    {
     "data": {
      "text/plain": [
       "<Figure size 640x480 with 0 Axes>"
      ]
     },
     "metadata": {},
     "output_type": "display_data"
    },
    {
     "data": {
      "text/plain": [
       "<Figure size 640x480 with 0 Axes>"
      ]
     },
     "metadata": {},
     "output_type": "display_data"
    },
    {
     "data": {
      "text/plain": [
       "<Figure size 640x480 with 0 Axes>"
      ]
     },
     "metadata": {},
     "output_type": "display_data"
    },
    {
     "data": {
      "text/plain": [
       "<Figure size 640x480 with 0 Axes>"
      ]
     },
     "metadata": {},
     "output_type": "display_data"
    },
    {
     "data": {
      "text/plain": [
       "<Figure size 640x480 with 0 Axes>"
      ]
     },
     "metadata": {},
     "output_type": "display_data"
    },
    {
     "data": {
      "text/plain": [
       "<Figure size 640x480 with 0 Axes>"
      ]
     },
     "metadata": {},
     "output_type": "display_data"
    },
    {
     "data": {
      "text/plain": [
       "<Figure size 640x480 with 0 Axes>"
      ]
     },
     "metadata": {},
     "output_type": "display_data"
    },
    {
     "data": {
      "text/plain": [
       "<Figure size 640x480 with 0 Axes>"
      ]
     },
     "metadata": {},
     "output_type": "display_data"
    },
    {
     "data": {
      "text/plain": [
       "<Figure size 640x480 with 0 Axes>"
      ]
     },
     "metadata": {},
     "output_type": "display_data"
    },
    {
     "data": {
      "text/plain": [
       "<Figure size 640x480 with 0 Axes>"
      ]
     },
     "metadata": {},
     "output_type": "display_data"
    },
    {
     "data": {
      "text/plain": [
       "<Figure size 640x480 with 0 Axes>"
      ]
     },
     "metadata": {},
     "output_type": "display_data"
    },
    {
     "data": {
      "text/plain": [
       "<Figure size 640x480 with 0 Axes>"
      ]
     },
     "metadata": {},
     "output_type": "display_data"
    },
    {
     "data": {
      "text/plain": [
       "<Figure size 640x480 with 0 Axes>"
      ]
     },
     "metadata": {},
     "output_type": "display_data"
    },
    {
     "data": {
      "text/plain": [
       "<Figure size 640x480 with 0 Axes>"
      ]
     },
     "metadata": {},
     "output_type": "display_data"
    },
    {
     "data": {
      "text/plain": [
       "<Figure size 640x480 with 0 Axes>"
      ]
     },
     "metadata": {},
     "output_type": "display_data"
    },
    {
     "data": {
      "text/plain": [
       "<Figure size 640x480 with 0 Axes>"
      ]
     },
     "metadata": {},
     "output_type": "display_data"
    },
    {
     "data": {
      "text/plain": [
       "<Figure size 640x480 with 0 Axes>"
      ]
     },
     "metadata": {},
     "output_type": "display_data"
    },
    {
     "data": {
      "text/plain": [
       "<Figure size 640x480 with 0 Axes>"
      ]
     },
     "metadata": {},
     "output_type": "display_data"
    },
    {
     "data": {
      "text/plain": [
       "<Figure size 640x480 with 0 Axes>"
      ]
     },
     "metadata": {},
     "output_type": "display_data"
    },
    {
     "data": {
      "text/plain": [
       "<Figure size 640x480 with 0 Axes>"
      ]
     },
     "metadata": {},
     "output_type": "display_data"
    },
    {
     "data": {
      "text/plain": [
       "<Figure size 640x480 with 0 Axes>"
      ]
     },
     "metadata": {},
     "output_type": "display_data"
    },
    {
     "data": {
      "text/plain": [
       "<Figure size 640x480 with 0 Axes>"
      ]
     },
     "metadata": {},
     "output_type": "display_data"
    },
    {
     "data": {
      "text/plain": [
       "<Figure size 640x480 with 0 Axes>"
      ]
     },
     "metadata": {},
     "output_type": "display_data"
    },
    {
     "data": {
      "text/plain": [
       "<Figure size 640x480 with 0 Axes>"
      ]
     },
     "metadata": {},
     "output_type": "display_data"
    },
    {
     "data": {
      "text/plain": [
       "<Figure size 640x480 with 0 Axes>"
      ]
     },
     "metadata": {},
     "output_type": "display_data"
    },
    {
     "data": {
      "text/plain": [
       "<Figure size 640x480 with 0 Axes>"
      ]
     },
     "metadata": {},
     "output_type": "display_data"
    },
    {
     "data": {
      "text/plain": [
       "<Figure size 640x480 with 0 Axes>"
      ]
     },
     "metadata": {},
     "output_type": "display_data"
    },
    {
     "ename": "KeyboardInterrupt",
     "evalue": "",
     "output_type": "error",
     "traceback": [
      "\u001b[0;31m---------------------------------------------------------------------------\u001b[0m",
      "\u001b[0;31mKeyboardInterrupt\u001b[0m                         Traceback (most recent call last)",
      "\u001b[1;32m/home/dave/CodeToJoy/philoso-py/GP_poly_tests.ipynb Cell 3\u001b[0m line \u001b[0;36m1\n\u001b[0;32m----> <a href='vscode-notebook-cell:/home/dave/CodeToJoy/philoso-py/GP_poly_tests.ipynb#W2sZmlsZQ%3D%3D?line=0'>1</a>\u001b[0m result \u001b[39m=\u001b[39m gp_rand_poly_test(\u001b[39m500\u001b[39;49m, generations\u001b[39m=\u001b[39;49m\u001b[39m2000\u001b[39;49m, mutation_sd\u001b[39m=\u001b[39;49m\u001b[39m0.3\u001b[39;49m)\n",
      "File \u001b[0;32m~/CodeToJoy/philoso-py/gp_poly_test.py:140\u001b[0m, in \u001b[0;36mgp_rand_poly_test\u001b[0;34m(n, generations, pop, iv_min, iv_max, coeff_min, coeff_max, mutation_rate, mutation_sd, crossover_rate, elitism, order, def_fitness, temp_coeff, max_size, max_depth, to_graph)\u001b[0m\n\u001b[1;32m    129\u001b[0m gp \u001b[39m=\u001b[39m GPTreebank(\n\u001b[1;32m    130\u001b[0m     mutation_rate \u001b[39m=\u001b[39m mutation_rate, mutation_sd\u001b[39m=\u001b[39mmutation_sd,\n\u001b[1;32m    131\u001b[0m     crossover_rate\u001b[39m=\u001b[39mcrossover_rate, max_size\u001b[39m=\u001b[39mmax_size, max_depth\u001b[39m=\u001b[39mmax_depth,\n\u001b[1;32m    132\u001b[0m     operators\u001b[39m=\u001b[39mOPSET\n\u001b[1;32m    133\u001b[0m )\n\u001b[1;32m    134\u001b[0m obs \u001b[39m=\u001b[39m poly_obs_factory(\n\u001b[1;32m    135\u001b[0m     n, \n\u001b[1;32m    136\u001b[0m     order\u001b[39m=\u001b[39morder, \n\u001b[1;32m    137\u001b[0m     const_min\u001b[39m=\u001b[39mcoeff_min, const_max\u001b[39m=\u001b[39mcoeff_max, \n\u001b[1;32m    138\u001b[0m     iv_min\u001b[39m=\u001b[39miv_min, iv_max\u001b[39m=\u001b[39miv_max\n\u001b[1;32m    139\u001b[0m )\n\u001b[0;32m--> 140\u001b[0m res, final_tree \u001b[39m=\u001b[39m gp\u001b[39m.\u001b[39;49mrun(\n\u001b[1;32m    141\u001b[0m     RandomPolynomialFactory(\n\u001b[1;32m    142\u001b[0m         gp, order\u001b[39m=\u001b[39;49morder, const_min\u001b[39m=\u001b[39;49mcoeff_min, const_max\u001b[39m=\u001b[39;49mcoeff_max\n\u001b[1;32m    143\u001b[0m     ),\n\u001b[1;32m    144\u001b[0m     obs, \n\u001b[1;32m    145\u001b[0m     generations, pop,\n\u001b[1;32m    146\u001b[0m     def_fitness\u001b[39m=\u001b[39;49mdef_fitness, \n\u001b[1;32m    147\u001b[0m     elitism\u001b[39m=\u001b[39;49melitism,\n\u001b[1;32m    148\u001b[0m     temp_coeff\u001b[39m=\u001b[39;49mtemp_coeff,\n\u001b[1;32m    149\u001b[0m     to_graph\u001b[39m=\u001b[39;49mto_graph\n\u001b[1;32m    150\u001b[0m )\n\u001b[1;32m    151\u001b[0m \u001b[39mprint\u001b[39m(\u001b[39m\"\u001b[39m\u001b[39mBest trees by generation:\u001b[39m\u001b[39m\"\u001b[39m)\n\u001b[1;32m    152\u001b[0m \u001b[39mfor\u001b[39;00m i \u001b[39min\u001b[39;00m \u001b[39mrange\u001b[39m(\u001b[39m10\u001b[39m):\n",
      "File \u001b[0;32m~/CodeToJoy/philoso-py/gp.py:108\u001b[0m, in \u001b[0;36mGPTreebank.run\u001b[0;34m(self, tree_factory, observatory, steps, pop, dv, fitness, def_fitness, elitism, temp_coeff, best_outvals, expt_outvals, ping_freq, to_graph)\u001b[0m\n\u001b[1;32m    106\u001b[0m \u001b[39m# And allow for non-float roots\u001b[39;00m\n\u001b[1;32m    107\u001b[0m old_gen \u001b[39m=\u001b[39m \u001b[39mself\u001b[39m\u001b[39m.\u001b[39mget_all_root_nodes()[\u001b[39mfloat\u001b[39m]\n\u001b[0;32m--> 108\u001b[0m best \u001b[39m=\u001b[39m scoreboard\u001b[39m.\u001b[39;49mscore_trees(old_gen, except_for\u001b[39m=\u001b[39;49mexpt_outvals)\n\u001b[1;32m    109\u001b[0m \u001b[39mif\u001b[39;00m grapher:\n\u001b[1;32m    110\u001b[0m     \u001b[39mfor\u001b[39;00m tg \u001b[39min\u001b[39;00m to_graph:\n",
      "File \u001b[0;32m~/CodeToJoy/philoso-py/gp_fitness.py:875\u001b[0m, in \u001b[0;36mGPScoreboard.score_trees\u001b[0;34m(self, trees, *cols, **kwargs)\u001b[0m\n\u001b[1;32m    869\u001b[0m \u001b[39mdef\u001b[39;00m \u001b[39mscore_trees\u001b[39m(\n\u001b[1;32m    870\u001b[0m         \u001b[39mself\u001b[39m,\n\u001b[1;32m    871\u001b[0m         trees: Iterable[GPNonTerminal],  \n\u001b[1;32m    872\u001b[0m         \u001b[39m*\u001b[39mcols: \u001b[39mstr\u001b[39m,\n\u001b[1;32m    873\u001b[0m         \u001b[39m*\u001b[39m\u001b[39m*\u001b[39mkwargs\n\u001b[1;32m    874\u001b[0m     )\u001b[39m-\u001b[39m\u001b[39m>\u001b[39m \u001b[39mdict\u001b[39m:\n\u001b[0;32m--> 875\u001b[0m     \u001b[39mreturn\u001b[39;00m \u001b[39mself\u001b[39;49m(trees, \u001b[39m*\u001b[39;49m\u001b[39m*\u001b[39;49mkwargs)\u001b[39m.\u001b[39mwinner(\u001b[39m*\u001b[39mcols, \u001b[39m*\u001b[39m\u001b[39m*\u001b[39mkwargs)\n",
      "File \u001b[0;32m~/CodeToJoy/philoso-py/gp_fitness.py:676\u001b[0m, in \u001b[0;36mGPScoreboard.__call__\u001b[0;34m(self, trees, obs, temp_coeff, dv, **kwargs)\u001b[0m\n\u001b[1;32m    674\u001b[0m kwargs[\u001b[39m'\u001b[39m\u001b[39mtarget\u001b[39m\u001b[39m'\u001b[39m] \u001b[39m=\u001b[39m \u001b[39mself\u001b[39m\u001b[39m.\u001b[39mobs\u001b[39m.\u001b[39mtarget[dv]\n\u001b[1;32m    675\u001b[0m \u001b[39mfor\u001b[39;00m pipe_ele \u001b[39min\u001b[39;00m \u001b[39mself\u001b[39m\u001b[39m.\u001b[39mpipeline:\n\u001b[0;32m--> 676\u001b[0m     pipe_ele(\u001b[39mself\u001b[39;49m, \u001b[39m*\u001b[39;49m\u001b[39m*\u001b[39;49m{\u001b[39m*\u001b[39;49m\u001b[39m*\u001b[39;49m\u001b[39mself\u001b[39;49m\u001b[39m.\u001b[39;49mkwargs, \u001b[39m*\u001b[39;49m\u001b[39m*\u001b[39;49mkwargs})\n\u001b[1;32m    677\u001b[0m \u001b[39mreturn\u001b[39;00m \u001b[39mself\u001b[39m\n",
      "File \u001b[0;32m~/CodeToJoy/philoso-py/gp_fitness.py:129\u001b[0m, in \u001b[0;36mScoreboardPipelineElement.__call__\u001b[0;34m(self, sb, **kwargs)\u001b[0m\n\u001b[1;32m    125\u001b[0m     sb[\u001b[39mself\u001b[39m\u001b[39m.\u001b[39mout_key] \u001b[39m=\u001b[39m \u001b[39mself\u001b[39m\u001b[39m.\u001b[39mfn(\u001b[39m*\u001b[39m\u001b[39m*\u001b[39msb[\u001b[39mself\u001b[39m\u001b[39m.\u001b[39marg_keys], \u001b[39m*\u001b[39m\u001b[39m*\u001b[39mkwargs)\n\u001b[1;32m    126\u001b[0m \u001b[39m# If it can't, `vec` should be false, and `apply` will be used to go row\u001b[39;00m\n\u001b[1;32m    127\u001b[0m \u001b[39m# by row \u001b[39;00m\n\u001b[1;32m    128\u001b[0m \u001b[39melse\u001b[39;00m:\n\u001b[0;32m--> 129\u001b[0m     sb[\u001b[39mself\u001b[39m\u001b[39m.\u001b[39mout_key] \u001b[39m=\u001b[39m sb\u001b[39m.\u001b[39;49mapply(\u001b[39mlambda\u001b[39;49;00m row: \u001b[39mself\u001b[39;49m\u001b[39m.\u001b[39;49mfn(\u001b[39m*\u001b[39;49m\u001b[39m*\u001b[39;49mrow, \u001b[39m*\u001b[39;49m\u001b[39m*\u001b[39;49mkwargs), axis\u001b[39m=\u001b[39;49m\u001b[39m1\u001b[39;49m)\n",
      "File \u001b[0;32m~/.pyenv/versions/3.11.5/lib/python3.11/site-packages/pandas/core/frame.py:10037\u001b[0m, in \u001b[0;36mDataFrame.apply\u001b[0;34m(self, func, axis, raw, result_type, args, by_row, **kwargs)\u001b[0m\n\u001b[1;32m  10025\u001b[0m \u001b[39mfrom\u001b[39;00m \u001b[39mpandas\u001b[39;00m\u001b[39m.\u001b[39;00m\u001b[39mcore\u001b[39;00m\u001b[39m.\u001b[39;00m\u001b[39mapply\u001b[39;00m \u001b[39mimport\u001b[39;00m frame_apply\n\u001b[1;32m  10027\u001b[0m op \u001b[39m=\u001b[39m frame_apply(\n\u001b[1;32m  10028\u001b[0m     \u001b[39mself\u001b[39m,\n\u001b[1;32m  10029\u001b[0m     func\u001b[39m=\u001b[39mfunc,\n\u001b[0;32m   (...)\u001b[0m\n\u001b[1;32m  10035\u001b[0m     kwargs\u001b[39m=\u001b[39mkwargs,\n\u001b[1;32m  10036\u001b[0m )\n\u001b[0;32m> 10037\u001b[0m \u001b[39mreturn\u001b[39;00m op\u001b[39m.\u001b[39;49mapply()\u001b[39m.\u001b[39m__finalize__(\u001b[39mself\u001b[39m, method\u001b[39m=\u001b[39m\u001b[39m\"\u001b[39m\u001b[39mapply\u001b[39m\u001b[39m\"\u001b[39m)\n",
      "File \u001b[0;32m~/.pyenv/versions/3.11.5/lib/python3.11/site-packages/pandas/core/apply.py:837\u001b[0m, in \u001b[0;36mFrameApply.apply\u001b[0;34m(self)\u001b[0m\n\u001b[1;32m    834\u001b[0m \u001b[39melif\u001b[39;00m \u001b[39mself\u001b[39m\u001b[39m.\u001b[39mraw:\n\u001b[1;32m    835\u001b[0m     \u001b[39mreturn\u001b[39;00m \u001b[39mself\u001b[39m\u001b[39m.\u001b[39mapply_raw()\n\u001b[0;32m--> 837\u001b[0m \u001b[39mreturn\u001b[39;00m \u001b[39mself\u001b[39;49m\u001b[39m.\u001b[39;49mapply_standard()\n",
      "File \u001b[0;32m~/.pyenv/versions/3.11.5/lib/python3.11/site-packages/pandas/core/apply.py:963\u001b[0m, in \u001b[0;36mFrameApply.apply_standard\u001b[0;34m(self)\u001b[0m\n\u001b[1;32m    962\u001b[0m \u001b[39mdef\u001b[39;00m \u001b[39mapply_standard\u001b[39m(\u001b[39mself\u001b[39m):\n\u001b[0;32m--> 963\u001b[0m     results, res_index \u001b[39m=\u001b[39m \u001b[39mself\u001b[39;49m\u001b[39m.\u001b[39;49mapply_series_generator()\n\u001b[1;32m    965\u001b[0m     \u001b[39m# wrap results\u001b[39;00m\n\u001b[1;32m    966\u001b[0m     \u001b[39mreturn\u001b[39;00m \u001b[39mself\u001b[39m\u001b[39m.\u001b[39mwrap_results(results, res_index)\n",
      "File \u001b[0;32m~/.pyenv/versions/3.11.5/lib/python3.11/site-packages/pandas/core/apply.py:979\u001b[0m, in \u001b[0;36mFrameApply.apply_series_generator\u001b[0;34m(self)\u001b[0m\n\u001b[1;32m    976\u001b[0m \u001b[39mwith\u001b[39;00m option_context(\u001b[39m\"\u001b[39m\u001b[39mmode.chained_assignment\u001b[39m\u001b[39m\"\u001b[39m, \u001b[39mNone\u001b[39;00m):\n\u001b[1;32m    977\u001b[0m     \u001b[39mfor\u001b[39;00m i, v \u001b[39min\u001b[39;00m \u001b[39menumerate\u001b[39m(series_gen):\n\u001b[1;32m    978\u001b[0m         \u001b[39m# ignore SettingWithCopy here in case the user mutates\u001b[39;00m\n\u001b[0;32m--> 979\u001b[0m         results[i] \u001b[39m=\u001b[39m \u001b[39mself\u001b[39;49m\u001b[39m.\u001b[39;49mfunc(v, \u001b[39m*\u001b[39;49m\u001b[39mself\u001b[39;49m\u001b[39m.\u001b[39;49margs, \u001b[39m*\u001b[39;49m\u001b[39m*\u001b[39;49m\u001b[39mself\u001b[39;49m\u001b[39m.\u001b[39;49mkwargs)\n\u001b[1;32m    980\u001b[0m         \u001b[39mif\u001b[39;00m \u001b[39misinstance\u001b[39m(results[i], ABCSeries):\n\u001b[1;32m    981\u001b[0m             \u001b[39m# If we have a view on v, we need to make a copy because\u001b[39;00m\n\u001b[1;32m    982\u001b[0m             \u001b[39m#  series_generator will swap out the underlying data\u001b[39;00m\n\u001b[1;32m    983\u001b[0m             results[i] \u001b[39m=\u001b[39m results[i]\u001b[39m.\u001b[39mcopy(deep\u001b[39m=\u001b[39m\u001b[39mFalse\u001b[39;00m)\n",
      "File \u001b[0;32m~/CodeToJoy/philoso-py/gp_fitness.py:129\u001b[0m, in \u001b[0;36mScoreboardPipelineElement.__call__.<locals>.<lambda>\u001b[0;34m(row)\u001b[0m\n\u001b[1;32m    125\u001b[0m     sb[\u001b[39mself\u001b[39m\u001b[39m.\u001b[39mout_key] \u001b[39m=\u001b[39m \u001b[39mself\u001b[39m\u001b[39m.\u001b[39mfn(\u001b[39m*\u001b[39m\u001b[39m*\u001b[39msb[\u001b[39mself\u001b[39m\u001b[39m.\u001b[39marg_keys], \u001b[39m*\u001b[39m\u001b[39m*\u001b[39mkwargs)\n\u001b[1;32m    126\u001b[0m \u001b[39m# If it can't, `vec` should be false, and `apply` will be used to go row\u001b[39;00m\n\u001b[1;32m    127\u001b[0m \u001b[39m# by row \u001b[39;00m\n\u001b[1;32m    128\u001b[0m \u001b[39melse\u001b[39;00m:\n\u001b[0;32m--> 129\u001b[0m     sb[\u001b[39mself\u001b[39m\u001b[39m.\u001b[39mout_key] \u001b[39m=\u001b[39m sb\u001b[39m.\u001b[39mapply(\u001b[39mlambda\u001b[39;00m row: \u001b[39mself\u001b[39;49m\u001b[39m.\u001b[39;49mfn(\u001b[39m*\u001b[39;49m\u001b[39m*\u001b[39;49mrow, \u001b[39m*\u001b[39;49m\u001b[39m*\u001b[39;49mkwargs), axis\u001b[39m=\u001b[39m\u001b[39m1\u001b[39m)\n",
      "File \u001b[0;32m~/CodeToJoy/philoso-py/gp_fitness.py:354\u001b[0m, in \u001b[0;36mmse\u001b[0;34m(tree, target, ivs, **kwargs)\u001b[0m\n\u001b[1;32m    349\u001b[0m \u001b[39m@scoreboard_pipeline_element\u001b[39m(out_key\u001b[39m=\u001b[39m\u001b[39m'\u001b[39m\u001b[39mmse\u001b[39m\u001b[39m'\u001b[39m)\n\u001b[1;32m    350\u001b[0m \u001b[39mdef\u001b[39;00m \u001b[39mmse\u001b[39m(tree: GPNonTerminal, target: pd\u001b[39m.\u001b[39mSeries\u001b[39m=\u001b[39m\u001b[39mNone\u001b[39;00m, ivs\u001b[39m=\u001b[39m\u001b[39mNone\u001b[39;00m, \u001b[39m*\u001b[39m\u001b[39m*\u001b[39mkwargs):\n\u001b[1;32m    351\u001b[0m \u001b[39m    \u001b[39m\u001b[39m\"\"\"Calculates the Mean Squared Error of tree outputs. Adds `mse`, \u001b[39;00m\n\u001b[1;32m    352\u001b[0m \u001b[39m    requires `tree`\u001b[39;00m\n\u001b[1;32m    353\u001b[0m \u001b[39m    \"\"\"\u001b[39;00m\n\u001b[0;32m--> 354\u001b[0m     \u001b[39mreturn\u001b[39;00m ((target \u001b[39m-\u001b[39m tree(\u001b[39m*\u001b[39;49m\u001b[39m*\u001b[39;49mivs))\u001b[39m*\u001b[39m\u001b[39m*\u001b[39m\u001b[39m2\u001b[39m)\u001b[39m.\u001b[39mmean()\n",
      "File \u001b[0;32m~/CodeToJoy/philoso-py/gp_trees.py:130\u001b[0m, in \u001b[0;36mGPNonTerminal.__call__\u001b[0;34m(self, **kwargs)\u001b[0m\n\u001b[1;32m    128\u001b[0m     \u001b[39mwith\u001b[39;00m warnings\u001b[39m.\u001b[39mcatch_warnings():\n\u001b[1;32m    129\u001b[0m         warnings\u001b[39m.\u001b[39mfilterwarnings(\u001b[39m\"\u001b[39m\u001b[39mignore\u001b[39m\u001b[39m\"\u001b[39m, message\u001b[39m=\u001b[39m\u001b[39m\"\u001b[39m\u001b[39moverflow encountered in scalar power\u001b[39m\u001b[39m\"\u001b[39m)\n\u001b[0;32m--> 130\u001b[0m         \u001b[39mreturn\u001b[39;00m \u001b[39msuper\u001b[39;49m()\u001b[39m.\u001b[39;49m\u001b[39m__call__\u001b[39;49m(\u001b[39m*\u001b[39;49m\u001b[39m*\u001b[39;49mkwargs)\n\u001b[1;32m    131\u001b[0m \u001b[39m# What if we get a numerical exception?\u001b[39;00m\n\u001b[1;32m    132\u001b[0m \u001b[39mexcept\u001b[39;00m \u001b[39mOverflowError\u001b[39;00m:\n",
      "File \u001b[0;32m~/CodeToJoy/philoso-py/trees.py:1330\u001b[0m, in \u001b[0;36mNonTerminal.__call__\u001b[0;34m(self, **kwargs)\u001b[0m\n\u001b[1;32m   1325\u001b[0m \u001b[39mdef\u001b[39;00m \u001b[39m__call__\u001b[39m(\u001b[39mself\u001b[39m, \u001b[39m*\u001b[39m\u001b[39m*\u001b[39mkwargs): \u001b[39m## XXX document changes - added kwargs\u001b[39;00m\n\u001b[1;32m   1326\u001b[0m \u001b[39m    \u001b[39m\u001b[39m\"\"\"Magic method that makes NonTerminals Callable: but really it's just\u001b[39;00m\n\u001b[1;32m   1327\u001b[0m \u001b[39m    calling label (Labels are also callable), which is just calling an\u001b[39;00m\n\u001b[1;32m   1328\u001b[0m \u001b[39m    Operator (also also callable).\u001b[39;00m\n\u001b[1;32m   1329\u001b[0m \u001b[39m    \"\"\"\u001b[39;00m\n\u001b[0;32m-> 1330\u001b[0m     \u001b[39mreturn\u001b[39;00m \u001b[39mself\u001b[39m\u001b[39m.\u001b[39m_operator(\u001b[39m*\u001b[39m[c(\u001b[39m*\u001b[39;49m\u001b[39m*\u001b[39;49mkwargs) \u001b[39mfor\u001b[39;49;00m c \u001b[39min\u001b[39;49;00m \u001b[39mself\u001b[39;49m])\n",
      "File \u001b[0;32m~/CodeToJoy/philoso-py/trees.py:1330\u001b[0m, in \u001b[0;36m<listcomp>\u001b[0;34m(.0)\u001b[0m\n\u001b[1;32m   1325\u001b[0m \u001b[39mdef\u001b[39;00m \u001b[39m__call__\u001b[39m(\u001b[39mself\u001b[39m, \u001b[39m*\u001b[39m\u001b[39m*\u001b[39mkwargs): \u001b[39m## XXX document changes - added kwargs\u001b[39;00m\n\u001b[1;32m   1326\u001b[0m \u001b[39m    \u001b[39m\u001b[39m\"\"\"Magic method that makes NonTerminals Callable: but really it's just\u001b[39;00m\n\u001b[1;32m   1327\u001b[0m \u001b[39m    calling label (Labels are also callable), which is just calling an\u001b[39;00m\n\u001b[1;32m   1328\u001b[0m \u001b[39m    Operator (also also callable).\u001b[39;00m\n\u001b[1;32m   1329\u001b[0m \u001b[39m    \"\"\"\u001b[39;00m\n\u001b[0;32m-> 1330\u001b[0m     \u001b[39mreturn\u001b[39;00m \u001b[39mself\u001b[39m\u001b[39m.\u001b[39m_operator(\u001b[39m*\u001b[39m[c(\u001b[39m*\u001b[39;49m\u001b[39m*\u001b[39;49mkwargs) \u001b[39mfor\u001b[39;00m c \u001b[39min\u001b[39;00m \u001b[39mself\u001b[39m])\n",
      "File \u001b[0;32m~/CodeToJoy/philoso-py/gp_trees.py:130\u001b[0m, in \u001b[0;36mGPNonTerminal.__call__\u001b[0;34m(self, **kwargs)\u001b[0m\n\u001b[1;32m    128\u001b[0m     \u001b[39mwith\u001b[39;00m warnings\u001b[39m.\u001b[39mcatch_warnings():\n\u001b[1;32m    129\u001b[0m         warnings\u001b[39m.\u001b[39mfilterwarnings(\u001b[39m\"\u001b[39m\u001b[39mignore\u001b[39m\u001b[39m\"\u001b[39m, message\u001b[39m=\u001b[39m\u001b[39m\"\u001b[39m\u001b[39moverflow encountered in scalar power\u001b[39m\u001b[39m\"\u001b[39m)\n\u001b[0;32m--> 130\u001b[0m         \u001b[39mreturn\u001b[39;00m \u001b[39msuper\u001b[39;49m()\u001b[39m.\u001b[39;49m\u001b[39m__call__\u001b[39;49m(\u001b[39m*\u001b[39;49m\u001b[39m*\u001b[39;49mkwargs)\n\u001b[1;32m    131\u001b[0m \u001b[39m# What if we get a numerical exception?\u001b[39;00m\n\u001b[1;32m    132\u001b[0m \u001b[39mexcept\u001b[39;00m \u001b[39mOverflowError\u001b[39;00m:\n",
      "File \u001b[0;32m~/CodeToJoy/philoso-py/trees.py:1330\u001b[0m, in \u001b[0;36mNonTerminal.__call__\u001b[0;34m(self, **kwargs)\u001b[0m\n\u001b[1;32m   1325\u001b[0m \u001b[39mdef\u001b[39;00m \u001b[39m__call__\u001b[39m(\u001b[39mself\u001b[39m, \u001b[39m*\u001b[39m\u001b[39m*\u001b[39mkwargs): \u001b[39m## XXX document changes - added kwargs\u001b[39;00m\n\u001b[1;32m   1326\u001b[0m \u001b[39m    \u001b[39m\u001b[39m\"\"\"Magic method that makes NonTerminals Callable: but really it's just\u001b[39;00m\n\u001b[1;32m   1327\u001b[0m \u001b[39m    calling label (Labels are also callable), which is just calling an\u001b[39;00m\n\u001b[1;32m   1328\u001b[0m \u001b[39m    Operator (also also callable).\u001b[39;00m\n\u001b[1;32m   1329\u001b[0m \u001b[39m    \"\"\"\u001b[39;00m\n\u001b[0;32m-> 1330\u001b[0m     \u001b[39mreturn\u001b[39;00m \u001b[39mself\u001b[39m\u001b[39m.\u001b[39m_operator(\u001b[39m*\u001b[39m[c(\u001b[39m*\u001b[39;49m\u001b[39m*\u001b[39;49mkwargs) \u001b[39mfor\u001b[39;49;00m c \u001b[39min\u001b[39;49;00m \u001b[39mself\u001b[39;49m])\n",
      "File \u001b[0;32m~/CodeToJoy/philoso-py/trees.py:1330\u001b[0m, in \u001b[0;36m<listcomp>\u001b[0;34m(.0)\u001b[0m\n\u001b[1;32m   1325\u001b[0m \u001b[39mdef\u001b[39;00m \u001b[39m__call__\u001b[39m(\u001b[39mself\u001b[39m, \u001b[39m*\u001b[39m\u001b[39m*\u001b[39mkwargs): \u001b[39m## XXX document changes - added kwargs\u001b[39;00m\n\u001b[1;32m   1326\u001b[0m \u001b[39m    \u001b[39m\u001b[39m\"\"\"Magic method that makes NonTerminals Callable: but really it's just\u001b[39;00m\n\u001b[1;32m   1327\u001b[0m \u001b[39m    calling label (Labels are also callable), which is just calling an\u001b[39;00m\n\u001b[1;32m   1328\u001b[0m \u001b[39m    Operator (also also callable).\u001b[39;00m\n\u001b[1;32m   1329\u001b[0m \u001b[39m    \"\"\"\u001b[39;00m\n\u001b[0;32m-> 1330\u001b[0m     \u001b[39mreturn\u001b[39;00m \u001b[39mself\u001b[39m\u001b[39m.\u001b[39m_operator(\u001b[39m*\u001b[39m[c(\u001b[39m*\u001b[39;49m\u001b[39m*\u001b[39;49mkwargs) \u001b[39mfor\u001b[39;00m c \u001b[39min\u001b[39;00m \u001b[39mself\u001b[39m])\n",
      "    \u001b[0;31m[... skipping similar frames: <listcomp> at line 1330 (3 times), GPNonTerminal.__call__ at line 130 (3 times), NonTerminal.__call__ at line 1330 (3 times)]\u001b[0m\n",
      "File \u001b[0;32m~/CodeToJoy/philoso-py/gp_trees.py:130\u001b[0m, in \u001b[0;36mGPNonTerminal.__call__\u001b[0;34m(self, **kwargs)\u001b[0m\n\u001b[1;32m    128\u001b[0m     \u001b[39mwith\u001b[39;00m warnings\u001b[39m.\u001b[39mcatch_warnings():\n\u001b[1;32m    129\u001b[0m         warnings\u001b[39m.\u001b[39mfilterwarnings(\u001b[39m\"\u001b[39m\u001b[39mignore\u001b[39m\u001b[39m\"\u001b[39m, message\u001b[39m=\u001b[39m\u001b[39m\"\u001b[39m\u001b[39moverflow encountered in scalar power\u001b[39m\u001b[39m\"\u001b[39m)\n\u001b[0;32m--> 130\u001b[0m         \u001b[39mreturn\u001b[39;00m \u001b[39msuper\u001b[39;49m()\u001b[39m.\u001b[39;49m\u001b[39m__call__\u001b[39;49m(\u001b[39m*\u001b[39;49m\u001b[39m*\u001b[39;49mkwargs)\n\u001b[1;32m    131\u001b[0m \u001b[39m# What if we get a numerical exception?\u001b[39;00m\n\u001b[1;32m    132\u001b[0m \u001b[39mexcept\u001b[39;00m \u001b[39mOverflowError\u001b[39;00m:\n",
      "File \u001b[0;32m~/CodeToJoy/philoso-py/trees.py:1330\u001b[0m, in \u001b[0;36mNonTerminal.__call__\u001b[0;34m(self, **kwargs)\u001b[0m\n\u001b[1;32m   1325\u001b[0m \u001b[39mdef\u001b[39;00m \u001b[39m__call__\u001b[39m(\u001b[39mself\u001b[39m, \u001b[39m*\u001b[39m\u001b[39m*\u001b[39mkwargs): \u001b[39m## XXX document changes - added kwargs\u001b[39;00m\n\u001b[1;32m   1326\u001b[0m \u001b[39m    \u001b[39m\u001b[39m\"\"\"Magic method that makes NonTerminals Callable: but really it's just\u001b[39;00m\n\u001b[1;32m   1327\u001b[0m \u001b[39m    calling label (Labels are also callable), which is just calling an\u001b[39;00m\n\u001b[1;32m   1328\u001b[0m \u001b[39m    Operator (also also callable).\u001b[39;00m\n\u001b[1;32m   1329\u001b[0m \u001b[39m    \"\"\"\u001b[39;00m\n\u001b[0;32m-> 1330\u001b[0m     \u001b[39mreturn\u001b[39;00m \u001b[39mself\u001b[39m\u001b[39m.\u001b[39m_operator(\u001b[39m*\u001b[39m[c(\u001b[39m*\u001b[39;49m\u001b[39m*\u001b[39;49mkwargs) \u001b[39mfor\u001b[39;49;00m c \u001b[39min\u001b[39;49;00m \u001b[39mself\u001b[39;49m])\n",
      "File \u001b[0;32m~/CodeToJoy/philoso-py/trees.py:1330\u001b[0m, in \u001b[0;36m<listcomp>\u001b[0;34m(.0)\u001b[0m\n\u001b[1;32m   1325\u001b[0m \u001b[39mdef\u001b[39;00m \u001b[39m__call__\u001b[39m(\u001b[39mself\u001b[39m, \u001b[39m*\u001b[39m\u001b[39m*\u001b[39mkwargs): \u001b[39m## XXX document changes - added kwargs\u001b[39;00m\n\u001b[1;32m   1326\u001b[0m \u001b[39m    \u001b[39m\u001b[39m\"\"\"Magic method that makes NonTerminals Callable: but really it's just\u001b[39;00m\n\u001b[1;32m   1327\u001b[0m \u001b[39m    calling label (Labels are also callable), which is just calling an\u001b[39;00m\n\u001b[1;32m   1328\u001b[0m \u001b[39m    Operator (also also callable).\u001b[39;00m\n\u001b[1;32m   1329\u001b[0m \u001b[39m    \"\"\"\u001b[39;00m\n\u001b[0;32m-> 1330\u001b[0m     \u001b[39mreturn\u001b[39;00m \u001b[39mself\u001b[39m\u001b[39m.\u001b[39m_operator(\u001b[39m*\u001b[39m[c(\u001b[39m*\u001b[39;49m\u001b[39m*\u001b[39;49mkwargs) \u001b[39mfor\u001b[39;00m c \u001b[39min\u001b[39;00m \u001b[39mself\u001b[39m])\n",
      "File \u001b[0;32m~/CodeToJoy/philoso-py/gp_trees.py:129\u001b[0m, in \u001b[0;36mGPNonTerminal.__call__\u001b[0;34m(self, **kwargs)\u001b[0m\n\u001b[1;32m    127\u001b[0m \u001b[39mtry\u001b[39;00m:\n\u001b[1;32m    128\u001b[0m     \u001b[39mwith\u001b[39;00m warnings\u001b[39m.\u001b[39mcatch_warnings():\n\u001b[0;32m--> 129\u001b[0m         warnings\u001b[39m.\u001b[39;49mfilterwarnings(\u001b[39m\"\u001b[39;49m\u001b[39mignore\u001b[39;49m\u001b[39m\"\u001b[39;49m, message\u001b[39m=\u001b[39;49m\u001b[39m\"\u001b[39;49m\u001b[39moverflow encountered in scalar power\u001b[39;49m\u001b[39m\"\u001b[39;49m)\n\u001b[1;32m    130\u001b[0m         \u001b[39mreturn\u001b[39;00m \u001b[39msuper\u001b[39m()\u001b[39m.\u001b[39m\u001b[39m__call__\u001b[39m(\u001b[39m*\u001b[39m\u001b[39m*\u001b[39mkwargs)\n\u001b[1;32m    131\u001b[0m \u001b[39m# What if we get a numerical exception?\u001b[39;00m\n",
      "File \u001b[0;32m~/.pyenv/versions/3.11.5/lib/python3.11/warnings.py:155\u001b[0m, in \u001b[0;36mfilterwarnings\u001b[0;34m(action, message, category, module, lineno, append)\u001b[0m\n\u001b[1;32m    152\u001b[0m     \u001b[39mimport\u001b[39;00m \u001b[39mre\u001b[39;00m\n\u001b[1;32m    154\u001b[0m \u001b[39mif\u001b[39;00m message:\n\u001b[0;32m--> 155\u001b[0m     message \u001b[39m=\u001b[39m re\u001b[39m.\u001b[39;49mcompile(message, re\u001b[39m.\u001b[39;49mI)\n\u001b[1;32m    156\u001b[0m \u001b[39melse\u001b[39;00m:\n\u001b[1;32m    157\u001b[0m     message \u001b[39m=\u001b[39m \u001b[39mNone\u001b[39;00m\n",
      "File \u001b[0;32m~/.pyenv/versions/3.11.5/lib/python3.11/re/__init__.py:227\u001b[0m, in \u001b[0;36mcompile\u001b[0;34m(pattern, flags)\u001b[0m\n\u001b[1;32m    225\u001b[0m \u001b[39mdef\u001b[39;00m \u001b[39mcompile\u001b[39m(pattern, flags\u001b[39m=\u001b[39m\u001b[39m0\u001b[39m):\n\u001b[1;32m    226\u001b[0m     \u001b[39m\"\u001b[39m\u001b[39mCompile a regular expression pattern, returning a Pattern object.\u001b[39m\u001b[39m\"\u001b[39m\n\u001b[0;32m--> 227\u001b[0m     \u001b[39mreturn\u001b[39;00m _compile(pattern, flags)\n",
      "File \u001b[0;32m~/.pyenv/versions/3.11.5/lib/python3.11/re/__init__.py:275\u001b[0m, in \u001b[0;36m_compile\u001b[0;34m(pattern, flags)\u001b[0m\n\u001b[1;32m    272\u001b[0m \u001b[39mdef\u001b[39;00m \u001b[39m_compile\u001b[39m(pattern, flags):\n\u001b[1;32m    273\u001b[0m     \u001b[39m# internal: compile pattern\u001b[39;00m\n\u001b[1;32m    274\u001b[0m     \u001b[39mif\u001b[39;00m \u001b[39misinstance\u001b[39m(flags, RegexFlag):\n\u001b[0;32m--> 275\u001b[0m         flags \u001b[39m=\u001b[39m flags\u001b[39m.\u001b[39;49mvalue\n\u001b[1;32m    276\u001b[0m     \u001b[39mtry\u001b[39;00m:\n\u001b[1;32m    277\u001b[0m         \u001b[39mreturn\u001b[39;00m _cache[\u001b[39mtype\u001b[39m(pattern), pattern, flags]\n",
      "File \u001b[0;32m~/.pyenv/versions/3.11.5/lib/python3.11/enum.py:211\u001b[0m, in \u001b[0;36mproperty.__get__\u001b[0;34m(self, instance, ownerclass)\u001b[0m\n\u001b[1;32m    207\u001b[0m         \u001b[39mraise\u001b[39;00m \u001b[39mAttributeError\u001b[39;00m(\n\u001b[1;32m    208\u001b[0m                 \u001b[39m'\u001b[39m\u001b[39m%r\u001b[39;00m\u001b[39m has no attribute \u001b[39m\u001b[39m%r\u001b[39;00m\u001b[39m'\u001b[39m \u001b[39m%\u001b[39m (ownerclass, \u001b[39mself\u001b[39m\u001b[39m.\u001b[39mname)\n\u001b[1;32m    209\u001b[0m                 ) \u001b[39mfrom\u001b[39;00m \u001b[39mNone\u001b[39;00m\n\u001b[1;32m    210\u001b[0m \u001b[39melse\u001b[39;00m:\n\u001b[0;32m--> 211\u001b[0m     \u001b[39mreturn\u001b[39;00m \u001b[39mself\u001b[39;49m\u001b[39m.\u001b[39;49mfget(instance)\n",
      "File \u001b[0;32m~/.pyenv/versions/3.11.5/lib/python3.11/enum.py:1249\u001b[0m, in \u001b[0;36mEnum.value\u001b[0;34m(self)\u001b[0m\n\u001b[1;32m   1246\u001b[0m \u001b[39m    \u001b[39m\u001b[39m\"\"\"The name of the Enum member.\"\"\"\u001b[39;00m\n\u001b[1;32m   1247\u001b[0m     \u001b[39mreturn\u001b[39;00m \u001b[39mself\u001b[39m\u001b[39m.\u001b[39m_name_\n\u001b[0;32m-> 1249\u001b[0m \u001b[39m@property\u001b[39m\n\u001b[1;32m   1250\u001b[0m \u001b[39mdef\u001b[39;00m \u001b[39mvalue\u001b[39m(\u001b[39mself\u001b[39m):\n\u001b[1;32m   1251\u001b[0m \u001b[39m    \u001b[39m\u001b[39m\"\"\"The value of the Enum member.\"\"\"\u001b[39;00m\n\u001b[1;32m   1252\u001b[0m     \u001b[39mreturn\u001b[39;00m \u001b[39mself\u001b[39m\u001b[39m.\u001b[39m_value_\n",
      "\u001b[0;31mKeyboardInterrupt\u001b[0m: "
     ]
    }
   ],
   "source": [
    "result = gp_rand_poly_test(500, generations=2000, mutation_sd=0.3)"
   ]
  },
  {
   "cell_type": "code",
   "execution_count": null,
   "metadata": {},
   "outputs": [
    {
     "data": {
      "text/html": [
       "\n",
       "                <audio  controls=\"controls\" autoplay=\"autoplay\">\n",
       "                    <source src=\"data:audio/mpeg;base64,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\" type=\"audio/mpeg\" />\n",
       "                    Your browser does not support the audio element.\n",
       "                </audio>\n",
       "              "
      ],
      "text/plain": [
       "<IPython.lib.display.Audio object>"
      ]
     },
     "execution_count": 3,
     "metadata": {},
     "output_type": "execute_result"
    }
   ],
   "source": [
    "Audio(filename = './sounds/ElevatorBell.mp3', autoplay=True, rate=22000)"
   ]
  },
  {
   "cell_type": "code",
   "execution_count": null,
   "metadata": {},
   "outputs": [
    {
     "data": {
      "text/plain": [
       "tree(\"([float]<SUM>([float]$x)([float]<SUM>([float]<POW>([float]$x)([int]2))([float]<SUM>([float]<SUM>([float]$x)([float]<POW>([float]<POW>([float]<SUM>([float]<PROD>([float]<PROD>([float]$x)([float]$x))([float]<SUM>([float]<PROD>([float]-0.6401430634195189)([float]<POW>([float]<SUM>([float]<POW>([float]<POW>([float]0.29516012194817964)([int]7))([int]-1))([float]<POW>([float]<POW>([float]<SUM>([float]<SUM>([float]<SUM>([float]<SUM>([float]<SUM>([float]0.04623360404095303)([float]<SUM>([float]0.3780676201367927)([float]$x)))([float]<POW>([float]0.5619335332089476)([int]3)))([float]$x))([float]<SUM>([float]<POW>([float]<SUM>([float]<POW>([float]<POW>([float]$x)([int]-1))([int]0))([float]$x))([int]6))([float]$x)))([float]<SUM>([float]<SUM>([float]<SUM>([float]<POW>([float]<POW>([float]$x)([int]7))([int]5))([float]<POW>([float]-0.08994581360956203)([int]9)))([float]$x))([float]<POW>([float]<POW>([float]<SUM>([float]<SUM>([float]<POW>([float]<POW>([float]$x)([int]2))([int]-1))([float]<POW>([float]0.5689019229938428)([int]3)))([float]$x))([int]2))([int]3))))([int]6))([int]8)))([int]6)))([float]$x)))([float]<POW>([float]<POW>([float]<SUM>([float]<POW>([float]$x)([int]6))([float]<PROD>([float]<SUM>([float]<PROD>([float]0.24395821795185801)([float]<POW>([float]<POW>([float]<SUM>([float]$x)([float]-0.9487036206431483))([int]5))([int]-1)))([float]$x))([float]<SUM>([float]<PROD>([float]<POW>([float]<POW>([float]<POW>([float]0.1436059297598941)([int]8))([int]1))([int]4))([float]<SUM>([float]<SUM>([float]$x)([float]<PROD>([float]<POW>([float]<POW>([float]-0.11299182707149755)([int]8))([int]6))([float]<PROD>([float]<PROD>([float]$x)([float]<SUM>([float]-0.14912799513925504)([float]0.7678812996690608)))([float]<SUM>([float]-0.19255768452653013)([float]$x)))))([float]<PROD>([float]$x)([float]$x))))([float]<SUM>([float]<PROD>([float]<SUM>([float]<POW>([float]$x)([int]7))([float]<SUM>([float]<PROD>([float]0.04840188650481386)([float]<POW>([float]$x)([int]5)))([float]<SUM>([float]<SUM>([float]<POW>([float]<SUM>([float]<SUM>([float]<SUM>([float]<SUM>([float]0.04623360404095303)([float]<SUM>([float]0.3780676201367927)([float]<POW>([float]-0.019818263725493168)([int]-1))))([float]<POW>([float]<SUM>([float]<POW>([float]<POW>([float]<SUM>([float]$x)([float]$x))([int]3))([int]6))([float]<POW>([float]<SUM>([float]0.38271094594468247)([float]<SUM>([float]$x)([float]<SUM>([float]$x)([float]$x))))([int]8)))([int]3)))([float]<SUM>([float]-0.47561350085983134)([float]-1.1434973972726152)))([float]<SUM>([float]<POW>([float]$x)([int]6))([float]$x)))([int]5))([float]-0.051209437637490335))([float]<SUM>([float]<POW>([float]$x)([int]0))([float]$x)))))([float]$x))([float]<POW>([float]<SUM>([float]<SUM>([float]<SUM>([float]<SUM>([float]$x)([float]<SUM>([float]<SUM>([float]<POW>([float]0.23396075636871988)([int]-1))([float]<SUM>([float]$x)([float]<SUM>([float]<SUM>([float]<POW>([float]$x)([int]3))([float]<POW>([float]$x)([int]3)))([float]<POW>([float]$x)([int]3)))))([float]$x)))([float]<POW>([float]-0.2817817776805168)([int]-4)))([float]$x))([float]<SUM>([float]<PROD>([float]$x)([float]$x))([float]$x)))([int]2))))))([int]8))([int]2)))([int]2))([int]-1)))([float]<PROD>([float]$x)([float]$x)))))\")"
      ]
     },
     "execution_count": 4,
     "metadata": {},
     "output_type": "execute_result"
    }
   ],
   "source": [
    "result[1]"
   ]
  },
  {
   "cell_type": "code",
   "execution_count": null,
   "metadata": {},
   "outputs": [
    {
     "data": {
      "text/plain": [
       "dict_keys(['isae', 'rmse', 'tree', 'penalty', 'fitness', 'pre_fitness', 'sae', 'mse', 'imse', 'raw_fitness'])"
      ]
     },
     "execution_count": 5,
     "metadata": {},
     "output_type": "execute_result"
    }
   ],
   "source": [
    "result[0].keys()"
   ]
  },
  {
   "cell_type": "code",
   "execution_count": null,
   "metadata": {},
   "outputs": [
    {
     "data": {
      "text/plain": [
       "[14786.69615177886,\n",
       " 4762.22368175641,\n",
       " 5883.467469522142,\n",
       " 3818.7320991828415,\n",
       " 3894.1452127247344,\n",
       " 3932.0140975286427,\n",
       " 3876.5487394607985,\n",
       " 3680.812329103581,\n",
       " 3667.521585932879,\n",
       " 3222.491814424067,\n",
       " 3863.7015835993398,\n",
       " 3875.5703342588163,\n",
       " 3488.5450953951804,\n",
       " 3491.428476510253,\n",
       " 3647.179202476248,\n",
       " 3403.682357759988,\n",
       " 3524.852598864009,\n",
       " 3580.092124819472,\n",
       " 3272.371069874967,\n",
       " 3381.9979692968,\n",
       " 3796.110069424519,\n",
       " 3682.7559263957833,\n",
       " 3551.0514659518244,\n",
       " 3796.8387030517897,\n",
       " 3479.2662533070898,\n",
       " 3478.1315652496132,\n",
       " 3343.9769365247425,\n",
       " 3264.0329840965014,\n",
       " 3563.927223844124,\n",
       " 2526.73836376254,\n",
       " 2483.142283214757,\n",
       " 3065.690040236362,\n",
       " 2270.172674301985,\n",
       " 2562.525535883833,\n",
       " 2597.6168906861963,\n",
       " 2389.947470394236,\n",
       " 2027.365914990672,\n",
       " 2103.995681281571,\n",
       " 2026.6806001881516,\n",
       " 2275.23721054209,\n",
       " 2394.320540883186,\n",
       " 2262.204748014473,\n",
       " 2330.9963022931024,\n",
       " 2273.1334712702687,\n",
       " 2047.5830894677756,\n",
       " 2062.5563368704943,\n",
       " 2027.51841887082,\n",
       " 1969.191014792061,\n",
       " 2009.204191803396,\n",
       " 2184.8904335409966,\n",
       " 1825.8716466756944,\n",
       " 2133.710703770198,\n",
       " 2055.510838300508,\n",
       " 2131.8764047304417,\n",
       " 1903.3230027823804,\n",
       " 2019.5896352999566,\n",
       " 2461.6901110302942,\n",
       " 1940.5634648865612,\n",
       " 2100.537736098514,\n",
       " 2258.688527714072,\n",
       " 2137.2112717456744,\n",
       " 2110.7634365898152,\n",
       " 2061.609622892055,\n",
       " 2066.2731950920793,\n",
       " 1931.6933139648002,\n",
       " 2342.595800500994,\n",
       " 2006.1472849390848,\n",
       " 2199.7862011938264,\n",
       " 2178.2551354404995,\n",
       " 2012.1709801031895,\n",
       " 2123.049740555332,\n",
       " 2170.756938652307,\n",
       " 2129.186882009405,\n",
       " 2176.610231781053,\n",
       " 2204.3590653839983,\n",
       " 2081.963212141992,\n",
       " 2010.4136597336583,\n",
       " 2244.2041125083892,\n",
       " 2245.6757486750666,\n",
       " 2156.564218205123,\n",
       " 2223.0721155513393,\n",
       " 1960.1830171327824,\n",
       " 2095.6469316783946,\n",
       " 1989.4810132580067,\n",
       " 2112.7830462971547,\n",
       " 2083.459303406071,\n",
       " 2161.281216998079,\n",
       " 2007.2332348940988,\n",
       " 2284.8049192985495,\n",
       " 1938.0057653659915,\n",
       " 1880.213389435624,\n",
       " 2054.2281802065186,\n",
       " 2016.7364011103602,\n",
       " 2064.8336716989256,\n",
       " 2212.4930754345573,\n",
       " 2059.073597016851,\n",
       " 2130.878190781553,\n",
       " 2019.3077444768908,\n",
       " 2130.5660875088065,\n",
       " 2263.2493807870246,\n",
       " 1954.3471341215377,\n",
       " 2074.193456489235,\n",
       " 2140.253221764778,\n",
       " 2102.971623009575,\n",
       " 1960.7391547302834,\n",
       " 1961.8483551616343,\n",
       " 1940.967904633619,\n",
       " 2025.5309599645173,\n",
       " 2101.510336862998,\n",
       " 2106.3030173398447,\n",
       " 2057.9116976577825,\n",
       " 2055.801776884096,\n",
       " 1942.4321073213791,\n",
       " 1812.3924186333506,\n",
       " 1894.0239246096994,\n",
       " 1903.9811565490052,\n",
       " 1752.266882808884,\n",
       " 1751.6270677673244,\n",
       " 1912.608416576822,\n",
       " 1807.8473394475807,\n",
       " 1874.2899801846922,\n",
       " 1986.3057757042607,\n",
       " 1851.9671812656143,\n",
       " 2031.8589704570086,\n",
       " 1967.080630949452,\n",
       " 1857.891441473158,\n",
       " 2062.1230901663084,\n",
       " 1924.6740401166899,\n",
       " 1958.5131046414785,\n",
       " 2049.5042362283907,\n",
       " 2024.1913166613208,\n",
       " 2072.879929618757,\n",
       " 1982.9581352608518,\n",
       " 1893.255897400362,\n",
       " 1996.589553845061,\n",
       " 1953.7394708604847,\n",
       " 1978.59409929492,\n",
       " 1876.2483611751545,\n",
       " 2047.2930298421652,\n",
       " 1841.011833558742,\n",
       " 2144.9769955902707,\n",
       " 1934.6920787833296,\n",
       " 2057.6806134610606,\n",
       " 1823.3783971581931,\n",
       " 1822.5629425807201,\n",
       " 2095.0167001789123,\n",
       " 1819.6386932228502,\n",
       " 1809.2502656111078,\n",
       " 1808.0491647406095,\n",
       " 1783.7150717612026,\n",
       " 1568.2704426081327,\n",
       " 1663.1811887552963,\n",
       " 1817.845524820768,\n",
       " 1874.0939835216845,\n",
       " 1835.0520722425824,\n",
       " 1756.4426663982017,\n",
       " 1592.7055752370231,\n",
       " 1737.3688214326787,\n",
       " 1581.9194924599367,\n",
       " 1677.9854116992544,\n",
       " 1904.533590332538,\n",
       " 1581.0396939590455,\n",
       " 1525.6395990135836,\n",
       " 1785.7250644857386,\n",
       " 1654.6290048735946,\n",
       " 1732.3952664874255,\n",
       " 1728.1611062978834,\n",
       " 1633.9074876199033,\n",
       " 1612.3542454198664,\n",
       " 1765.1694824605634,\n",
       " 1719.8986712882454,\n",
       " 1615.7578630364344,\n",
       " 1625.473787451161,\n",
       " 1668.1933733647634,\n",
       " 1783.3497411414019,\n",
       " 1786.4482616241223,\n",
       " 1850.8250203512234,\n",
       " 1670.9581098877773,\n",
       " 1866.6350762785187,\n",
       " 1679.2976764343937,\n",
       " 1821.058025148542,\n",
       " 1677.8519897172753,\n",
       " 1562.11824219051,\n",
       " 1741.113706396497,\n",
       " 1866.4747978661028,\n",
       " 1780.4882879333989,\n",
       " 1681.707846874642,\n",
       " 1631.819379848895,\n",
       " 1732.2448405853836,\n",
       " 1567.8565256052618,\n",
       " 1552.750380429071,\n",
       " 1831.9798667776877,\n",
       " 1799.253878566102,\n",
       " 1592.660007755046,\n",
       " 1579.4633469783198,\n",
       " 1474.118007775081,\n",
       " 1822.9738085510241,\n",
       " 1671.510674095913,\n",
       " 1684.9199394729442,\n",
       " 1709.7213707875328,\n",
       " 1505.5117469898235,\n",
       " 1816.0516836414852,\n",
       " 1672.0329633480394,\n",
       " 1717.119424269988,\n",
       " 1859.8939962538059,\n",
       " 1862.4997552276318,\n",
       " 1228.3789747599933,\n",
       " 1269.5878568697588,\n",
       " 1292.1228696794903,\n",
       " 1339.798957592208,\n",
       " 1205.5961869695805,\n",
       " 1087.4604111379433,\n",
       " 1313.1818131468524,\n",
       " 1251.5133086737137,\n",
       " 1434.8839577189885,\n",
       " 1283.8652538955293,\n",
       " 1434.3076457952013,\n",
       " 1330.746597961749,\n",
       " 1257.8014607179357,\n",
       " 1372.8339032395304,\n",
       " 1318.1173132539643,\n",
       " 1341.4951671279575,\n",
       " 1392.3198587488107,\n",
       " 1212.7209145559282,\n",
       " 1372.716281353737,\n",
       " 1333.134355109483,\n",
       " 1286.4761873866134,\n",
       " 1300.7734405807666,\n",
       " 1274.6902494299222,\n",
       " 1351.7629418312495,\n",
       " 1280.3428043342103,\n",
       " 1298.206253062311,\n",
       " 1387.4944220178438,\n",
       " 1247.841260574318,\n",
       " 1289.81391808764,\n",
       " 1200.846418932837,\n",
       " 1242.0959206057441,\n",
       " 1267.6576831547598,\n",
       " 1351.46329803465,\n",
       " 1318.3190704220337,\n",
       " 1304.414382387437,\n",
       " 1286.2816710953348,\n",
       " 1383.1907358651677,\n",
       " 1142.629167681824,\n",
       " 1175.1692975104534,\n",
       " 1331.1501738678057,\n",
       " 1284.9070411019507,\n",
       " 1336.8670339459263,\n",
       " 1417.423208202765,\n",
       " 1238.267082372934,\n",
       " 1365.5731625624044,\n",
       " 1138.0948710646776,\n",
       " 1244.1294476990695,\n",
       " 1246.0950190808612,\n",
       " 1290.0587375365358,\n",
       " 1500.6745375419723,\n",
       " 1343.0360325122751,\n",
       " 1246.715393554248,\n",
       " 1208.651526209723,\n",
       " 1330.9428015505468,\n",
       " 1173.4293613963794,\n",
       " 1297.8985043438215,\n",
       " 1283.2962190019116,\n",
       " 1271.9659946254621,\n",
       " 1406.1205933907079,\n",
       " 1316.8823469239596,\n",
       " 1189.405041221177,\n",
       " 1210.5083599968725,\n",
       " 1178.322390485277,\n",
       " 1299.4700255181276,\n",
       " 1214.9865660302407,\n",
       " 1430.4205740935204,\n",
       " 1261.3236909536313,\n",
       " 1368.5455403098929,\n",
       " 1477.7924997400512,\n",
       " 1261.6123576137727,\n",
       " 1289.1181937588094,\n",
       " 1350.2118727444056,\n",
       " 1393.2842050513882,\n",
       " 1353.2406320072957,\n",
       " 1340.7333014250278,\n",
       " 1374.9586731207226,\n",
       " 1377.863818662709,\n",
       " 1450.2005215290424,\n",
       " 1405.0131891488613,\n",
       " 1220.1824554526297,\n",
       " 1398.6003636413225,\n",
       " 1249.9362240002295,\n",
       " 1303.8760652187862,\n",
       " 1323.913857734813,\n",
       " 1208.9809551127407,\n",
       " 1318.156327830192,\n",
       " 1386.6371228711262,\n",
       " 1206.8419519275674,\n",
       " 1277.064541630648,\n",
       " 1227.0801462754496,\n",
       " 1161.974734117114,\n",
       " 1192.3849794027524,\n",
       " 1393.4095774450695,\n",
       " 1159.6493070926115,\n",
       " 1482.700997968165,\n",
       " 1238.4697188835282,\n",
       " 1119.743013184036,\n",
       " 1222.6391996475465,\n",
       " 1279.7794368293546,\n",
       " 1253.5864038622644,\n",
       " 1119.3712478163636,\n",
       " 1307.7342753834018,\n",
       " 1439.8739339729707,\n",
       " 1188.1237125039772,\n",
       " 1232.8644461855708,\n",
       " 1319.524085486484,\n",
       " 1258.836611348115,\n",
       " 1182.813852215843,\n",
       " 1126.736465045541,\n",
       " 1209.8280972524738,\n",
       " 1123.4761842908772,\n",
       " 1320.1459266963795,\n",
       " 1217.1227282333123,\n",
       " 1265.332707630633,\n",
       " 1279.1791039634209,\n",
       " 1363.3520943278063,\n",
       " 1347.6556469618522,\n",
       " 1237.5131098559473,\n",
       " 1173.2264307675773,\n",
       " 1348.037131792646,\n",
       " 1350.9016293789045,\n",
       " 1328.8449807078523,\n",
       " 1407.8333189477635,\n",
       " 1179.1222744717415,\n",
       " 1297.4665869873916,\n",
       " 1226.3725258487013,\n",
       " 1330.2778854532676,\n",
       " 1310.3113042431123,\n",
       " 1233.0918118946674,\n",
       " 1344.834544744125,\n",
       " 1275.0990228622447,\n",
       " 1165.0765436021077,\n",
       " 1237.9219484523287,\n",
       " 1351.5930005545858,\n",
       " 1304.5328823152456,\n",
       " 1192.7325556917403,\n",
       " 1518.1908271693417,\n",
       " 1370.533724707531,\n",
       " 1105.461698320637,\n",
       " 1307.6444200107587,\n",
       " 1264.0981892463412,\n",
       " 1374.187764787743,\n",
       " 1296.704822786327,\n",
       " 1249.94235064111,\n",
       " 1270.6788691071713,\n",
       " 1330.9047804076981,\n",
       " 1189.226250167804,\n",
       " 1444.365114837882,\n",
       " 1214.134496229208,\n",
       " 1256.944976781019,\n",
       " 1324.4838483007088,\n",
       " 1126.575459489362,\n",
       " 1186.9539734905388,\n",
       " 1426.808756659646,\n",
       " 1364.1568420943013,\n",
       " 1271.301564763505,\n",
       " 1405.9388953873697,\n",
       " 1231.5260283058803,\n",
       " 1203.235289967325,\n",
       " 1305.0126192277596,\n",
       " 1119.9258721126753,\n",
       " 1295.4863591093556,\n",
       " 1247.8602222430213,\n",
       " 1499.2806566733625,\n",
       " 1367.53919760149,\n",
       " 1134.124455239168,\n",
       " 1239.3627472715048,\n",
       " 1142.6011800848014,\n",
       " 1321.1637281267076,\n",
       " 1331.272392091022,\n",
       " 1359.3980152153679,\n",
       " 1336.683685862479,\n",
       " 1575.4594642629534,\n",
       " 1340.9789563428608,\n",
       " 1309.4499124012502,\n",
       " 1219.4168245041903,\n",
       " 1306.0767048961409,\n",
       " 1222.0921603124702,\n",
       " 1340.4959322081988,\n",
       " 1360.9013080615182,\n",
       " 1284.6475689987765,\n",
       " 1342.248768941726,\n",
       " 1442.729030233374,\n",
       " 1395.2535492363252,\n",
       " 1262.0190371900017,\n",
       " 1386.173522387723,\n",
       " 1419.7180713692908,\n",
       " 1219.3762975725135,\n",
       " 1187.6262169644774,\n",
       " 1369.14503527259,\n",
       " 1229.6498745598024,\n",
       " 1266.4362716744126,\n",
       " 1305.6832982765532,\n",
       " 1415.6307352685783,\n",
       " 1319.6294143567452,\n",
       " 1252.5623233435583,\n",
       " 1363.5783585630143,\n",
       " 1254.8947035783317,\n",
       " 1344.3824590147676,\n",
       " 1245.7933819524744,\n",
       " 1132.6807322976997,\n",
       " 1177.9103799702252,\n",
       " 1282.027396782335,\n",
       " 1299.7338482881742,\n",
       " 1251.7564722154686,\n",
       " 1480.0237130285627,\n",
       " 1171.341389050017,\n",
       " 1272.705155674842,\n",
       " 1282.8464172163197,\n",
       " 1280.3073927778717,\n",
       " 1266.5688691254968,\n",
       " 1134.9985984190207,\n",
       " 1339.7657321920321,\n",
       " 1064.4256221904584,\n",
       " 1491.0036389947666,\n",
       " 1247.9490323371192,\n",
       " 1492.032267788569,\n",
       " 1439.8550509269585,\n",
       " 1460.392069210639,\n",
       " 1222.6769954326612,\n",
       " 1299.4991238397813,\n",
       " 1418.758587966989,\n",
       " 1153.1320900378582,\n",
       " 1299.2998765108189,\n",
       " 1319.6300305810958,\n",
       " 1342.1421279682831,\n",
       " 1343.5275030709636,\n",
       " 1240.9339051885197,\n",
       " 1177.4464607965292,\n",
       " 1288.293262419791,\n",
       " 1399.5401843548927,\n",
       " 1168.9559743985399,\n",
       " 1341.1369755338044,\n",
       " 1395.407469297279,\n",
       " 1341.1149618067811,\n",
       " 1313.4603116285452,\n",
       " 1393.9289906444183,\n",
       " 1381.5895614460408,\n",
       " 1337.3825728901531,\n",
       " 1354.7752265863137,\n",
       " 1163.4765013741437,\n",
       " 1421.0492564276733,\n",
       " 1387.0567366934313,\n",
       " 1431.6434995803986,\n",
       " 1320.796400047794,\n",
       " 1249.628346159581,\n",
       " 1427.493822059872,\n",
       " 1193.6157249106097,\n",
       " 1303.8010492164904,\n",
       " 1539.63643516392,\n",
       " 1279.9686914695421,\n",
       " 1162.5355679584984,\n",
       " 1271.3540121221438,\n",
       " 1420.2839702283457,\n",
       " 1291.065090546127,\n",
       " 1271.0949476749472,\n",
       " 1277.702319795129,\n",
       " 1286.730012081045,\n",
       " 1527.693498425558,\n",
       " 1274.0496871360062,\n",
       " 1342.8376577816828,\n",
       " 1336.9643138166807,\n",
       " 1104.2725691647709,\n",
       " 1318.0014607224293,\n",
       " 1439.7696676052785,\n",
       " 1246.9640961101763,\n",
       " 1288.0520226017748,\n",
       " 1373.7421364264796,\n",
       " 1202.308534022142,\n",
       " 1562.6276754577168,\n",
       " 1242.3985434842104,\n",
       " 1447.600721363657,\n",
       " 1319.8855559798646,\n",
       " 1326.2549134876745,\n",
       " 1240.4773691395696,\n",
       " 1347.3966407760986,\n",
       " 1286.0874480478046,\n",
       " 1252.304486851719,\n",
       " 1471.8858475251593,\n",
       " 1355.0472953467909,\n",
       " 1314.160152791521,\n",
       " 1231.649344621101,\n",
       " 1301.5408923489422,\n",
       " 1197.5415167108551,\n",
       " 1282.051112251735,\n",
       " 1301.8532663386752,\n",
       " 1293.1107105325755,\n",
       " 1332.999923648504,\n",
       " 1394.5664473033748,\n",
       " 1342.2135357209843,\n",
       " 1280.428195768502,\n",
       " 1265.6837165337815,\n",
       " 1203.415140362483,\n",
       " 1391.5169353630492,\n",
       " 1174.866959202284,\n",
       " 1444.7697785010487,\n",
       " 1306.899689100593,\n",
       " 1228.030331663053,\n",
       " 1150.2976796657836,\n",
       " 1400.0520643794437,\n",
       " 1319.8936621345813,\n",
       " 1344.4571618418418,\n",
       " 1412.5823886681276,\n",
       " 1183.494407473571,\n",
       " 1363.1601265094762,\n",
       " 1221.253482509256,\n",
       " 1232.123884472271,\n",
       " 1479.229852138436,\n",
       " 1372.6438681033978,\n",
       " 1198.0940993323388,\n",
       " 1238.9644855935662,\n",
       " 1193.811384465906,\n",
       " 1363.698539099118,\n",
       " 1292.8310576069507,\n",
       " 1373.581643728715,\n",
       " 1258.3167043082076,\n",
       " 1231.2766132624956,\n",
       " 1218.0846024604275,\n",
       " 1505.0036144539783,\n",
       " 1243.137706575402,\n",
       " 1296.9559780520399,\n",
       " 1279.5464008238437,\n",
       " 1039.1243744298893,\n",
       " 1252.823893298249,\n",
       " 1286.427679004481,\n",
       " 1298.3780032344957,\n",
       " 1151.4027733926648,\n",
       " 1381.4440328390076,\n",
       " 1354.5362863328355,\n",
       " 1216.5864620265138,\n",
       " 1366.4898544452187,\n",
       " 1203.695083565559,\n",
       " 1333.5351368063652,\n",
       " 1194.743115044476,\n",
       " 1362.7832550978462,\n",
       " 1273.75353985154,\n",
       " 1388.8537778442253,\n",
       " 1200.6372045572284,\n",
       " 1281.0116102258605,\n",
       " 1444.5562607728089,\n",
       " 1438.7228114826164,\n",
       " 1246.9816223824016,\n",
       " 1346.8573786410461,\n",
       " 1158.367814736214,\n",
       " 1381.4770307659073,\n",
       " 1428.1988258227684,\n",
       " 1065.3652618608241,\n",
       " 1302.0245055452192,\n",
       " 1373.256625193376,\n",
       " 1247.5376726247089,\n",
       " 1248.32661034473,\n",
       " 1262.0175254410674,\n",
       " 1180.6594127462763,\n",
       " 1275.1901427766836,\n",
       " 1310.1167271115216,\n",
       " 1450.185719467498,\n",
       " 1359.1393585765159,\n",
       " 1301.1787082441624,\n",
       " 1120.474526308053,\n",
       " 1268.4728769297192,\n",
       " 1219.9992112963844,\n",
       " 1274.3182043832367,\n",
       " 1327.4067709288006,\n",
       " 1129.9559639755823,\n",
       " 1256.9200637568345,\n",
       " 1322.2998477842941,\n",
       " 1203.4402495121556,\n",
       " 1369.9716343774385,\n",
       " 1406.860855412008,\n",
       " 1311.597633061696,\n",
       " 1435.6295202696838,\n",
       " 1340.0580130154801,\n",
       " 1364.7905090308568,\n",
       " 1315.06369316389,\n",
       " 1264.139776837006,\n",
       " 1199.5705881208312,\n",
       " 1222.5997750649803,\n",
       " 1388.944417084433,\n",
       " 1201.9047862613072,\n",
       " 1400.826977615175,\n",
       " 1195.3430650481382,\n",
       " 1252.4023695026776,\n",
       " 1337.2253361004994,\n",
       " 1147.3368304136318,\n",
       " 1320.2880674999637,\n",
       " 1337.9702565526536,\n",
       " 1126.8723824717645,\n",
       " 1280.415408637984,\n",
       " 1346.6940285622754,\n",
       " 1370.702778111757,\n",
       " 1370.1278068042936,\n",
       " 1362.473062310797,\n",
       " 1307.539438317847,\n",
       " 1403.2706111446898,\n",
       " 1240.2241434822351,\n",
       " 1262.8254186205213,\n",
       " 1351.654901862306,\n",
       " 1227.0585698233592,\n",
       " 1265.8424995148505,\n",
       " 1342.636251738752,\n",
       " 1150.7640935022212,\n",
       " 1275.9059535210147,\n",
       " 1480.9065991933674,\n",
       " 1315.1688337743483,\n",
       " 1273.019783376416,\n",
       " 1495.829211935065,\n",
       " 1438.727037242135,\n",
       " 1362.6146387774113,\n",
       " 1237.3016284835426,\n",
       " 1319.1076401223547,\n",
       " 1326.6836397843779,\n",
       " 1308.5546732009102,\n",
       " 1390.902599571263,\n",
       " 1554.4670491653694,\n",
       " 1367.8733733016322,\n",
       " 1179.0337647346873,\n",
       " 1132.5541534914387,\n",
       " 1191.1586217341985,\n",
       " 1298.0435395914565,\n",
       " 1169.362440703102,\n",
       " 1229.6509050279276,\n",
       " 1352.495348889537,\n",
       " 1365.8759398548348,\n",
       " 1340.0507900698187,\n",
       " 1371.4561001193383,\n",
       " 1279.9856173097326,\n",
       " 1305.7503432535095,\n",
       " 1343.05645654317,\n",
       " 1378.7224428165964,\n",
       " 1174.4317908407268,\n",
       " 1239.30726200783,\n",
       " 1386.4031781963035,\n",
       " 1489.0976074349876,\n",
       " 1374.196723825909,\n",
       " 1199.5182909953419,\n",
       " 1389.5685426279222,\n",
       " 1088.56612023814,\n",
       " 1519.567911361215,\n",
       " 1371.079556882952,\n",
       " 1381.248596443393,\n",
       " 1300.339752838696,\n",
       " 1400.3911034325981,\n",
       " 1260.7222934373503,\n",
       " 1332.57751851422,\n",
       " 1232.819412902008,\n",
       " 1365.695087794525,\n",
       " 1449.3144812539153,\n",
       " 1253.0519039210808,\n",
       " 1230.8603275825826,\n",
       " 1146.4293114673253,\n",
       " 1400.0135821422962,\n",
       " 1360.9701239229814,\n",
       " 1315.7528756319912,\n",
       " 1265.4413023562538,\n",
       " 1121.4692648234611,\n",
       " 1305.7520137365898,\n",
       " 1326.4685034934112,\n",
       " 1286.4689189133048,\n",
       " 1350.162828052704,\n",
       " 1416.3939541414939,\n",
       " 1244.5612262515594,\n",
       " 1309.3694382234678,\n",
       " 1313.085418950408,\n",
       " 1439.9341410651173,\n",
       " 1233.771830887523,\n",
       " 1108.909892717175,\n",
       " 1386.2085616208874,\n",
       " 1287.540075984291,\n",
       " 1356.178603363428,\n",
       " 1261.2740793333405,\n",
       " 1489.1915983364981,\n",
       " 1353.2323064782418,\n",
       " 1360.2315306417984,\n",
       " 1208.1546502976219,\n",
       " 1163.314644534323,\n",
       " 1240.8725473072157,\n",
       " 1342.7736955947453,\n",
       " 1416.419754216877,\n",
       " 1322.8574682878632,\n",
       " 1217.1724291431794,\n",
       " 1204.226486559717,\n",
       " 1274.4271078250995,\n",
       " 1333.0467835304612,\n",
       " 1404.4382348676909,\n",
       " 1237.3899998412055,\n",
       " 1306.0318737912319,\n",
       " 1310.7439132721777,\n",
       " 1283.3399560019584,\n",
       " 1236.068759201352,\n",
       " 1083.4452021371128,\n",
       " 1165.951411150063,\n",
       " 1262.0406316702188,\n",
       " 1202.4831961538398,\n",
       " 1226.1393867883194,\n",
       " 1428.4488738256698,\n",
       " 1378.951276796312,\n",
       " 1249.1610824345028,\n",
       " 1243.1652009633615,\n",
       " 1491.396879742472,\n",
       " 1367.4188944790078,\n",
       " 1397.0949948089103,\n",
       " 1176.2000065962468,\n",
       " 1276.260857921982,\n",
       " 1133.9802663317794,\n",
       " 1214.420689734826,\n",
       " 1293.5442138788167,\n",
       " 1259.5304480608654,\n",
       " 1158.8587749511362,\n",
       " 1212.8077895098036,\n",
       " 1263.3606081454197,\n",
       " 1262.578296037862,\n",
       " 1333.009393596414,\n",
       " 1405.2344447370047,\n",
       " 1404.3107389497566,\n",
       " 1345.601723503327,\n",
       " 1342.2306642456285,\n",
       " 1317.1691684081202,\n",
       " 1160.199586060804,\n",
       " 1285.9280480483735,\n",
       " 1382.4988805527396,\n",
       " 1394.9896760765837,\n",
       " 1401.8239409216033,\n",
       " 1354.740927219933,\n",
       " 1346.5261002321042,\n",
       " 1637.3746663055858,\n",
       " 1363.648838000598,\n",
       " 1367.8207307094067,\n",
       " 1301.8597334474268,\n",
       " 1379.9427043411217,\n",
       " 1329.1094747839059,\n",
       " 1304.236610287757,\n",
       " 1458.5664910565044,\n",
       " 1225.5323038052131,\n",
       " 1357.0103639463766,\n",
       " 1327.6543202612318,\n",
       " 1341.4629917128273,\n",
       " 1390.7946041364205,\n",
       " 1375.9424319286218,\n",
       " 1406.9751166599478,\n",
       " 1223.0429135118927,\n",
       " 1420.8854553780936,\n",
       " 1366.375957294,\n",
       " 1439.722165819356,\n",
       " 1415.321876682676,\n",
       " 1357.182338336314,\n",
       " 1440.4451870136504,\n",
       " 1297.7134605419246,\n",
       " 1236.548798061947,\n",
       " 1528.191940677653,\n",
       " 1415.9539585516582,\n",
       " 1189.544084144326,\n",
       " 1248.0944695165442,\n",
       " 1219.3869955099115,\n",
       " 1463.8281670438741,\n",
       " 1265.394439667215,\n",
       " 1350.1340599028408,\n",
       " 1270.6096459467876,\n",
       " 1302.1240088829131,\n",
       " 1302.2572611350938,\n",
       " 1438.6549765239079,\n",
       " 1377.3435650722515,\n",
       " 1469.0614965599527,\n",
       " 1451.3475415473483,\n",
       " 1338.7344636929108,\n",
       " 1262.4763873355976,\n",
       " 1429.097342758924,\n",
       " 1338.2108613376406,\n",
       " 1332.4206692395746,\n",
       " 1375.1142278130728,\n",
       " 1361.3472912252828,\n",
       " 1378.249887547901,\n",
       " 1240.2433003085368,\n",
       " 1351.6073302631542,\n",
       " 1311.6789992571232,\n",
       " 1337.9594817771658,\n",
       " 1244.8507461692639,\n",
       " 1283.1082831785434,\n",
       " 1307.103898849885,\n",
       " 1285.9926115486137,\n",
       " 1252.2153797473668,\n",
       " 1295.625125433172,\n",
       " 1355.6877550305614,\n",
       " 1381.3910849622205,\n",
       " 1359.7446001762971,\n",
       " 1360.4788070845252,\n",
       " 1366.8414334187278,\n",
       " 1308.1326596500342,\n",
       " 1244.3177546147056,\n",
       " 1506.2445791972245,\n",
       " 1179.6572840343117,\n",
       " 1274.5262961724754,\n",
       " 1341.6519471354557,\n",
       " 1403.7785488760887,\n",
       " 1172.1358567530006,\n",
       " 1185.4689418698242,\n",
       " 1395.9906658219234,\n",
       " 1161.7895316476563,\n",
       " 1329.7118183782954,\n",
       " 1324.1970685669003,\n",
       " 1462.5183698914557,\n",
       " 1346.7380829284687,\n",
       " 1333.513021122113,\n",
       " 1297.650047001924,\n",
       " 1154.0811515447745,\n",
       " 1322.124161872516,\n",
       " 1221.0782043398217,\n",
       " 1398.6457998633666,\n",
       " 1277.5319562902016,\n",
       " 1169.8777404349387,\n",
       " 1109.679278906607,\n",
       " 1368.0113544098006,\n",
       " 1342.9128128786954,\n",
       " 1297.5071977204486,\n",
       " 1265.436403299321,\n",
       " 1328.1174082234545,\n",
       " 1394.5562766657044,\n",
       " 1474.197059258965,\n",
       " 1272.0217104607766,\n",
       " 1326.8958069132866,\n",
       " 1259.1307293234247,\n",
       " 1468.0377129997134,\n",
       " 1295.5554944776884,\n",
       " 1334.593951163595,\n",
       " 1333.580643505802,\n",
       " 1345.3732252361774,\n",
       " 1368.457016705262,\n",
       " 1256.7172550618507,\n",
       " 1452.2956515376422,\n",
       " 1342.790792906164,\n",
       " 1517.7861664575908,\n",
       " 1246.3805380376955,\n",
       " 1333.888482720801,\n",
       " 1405.7436546897918,\n",
       " 1265.9177513757397,\n",
       " 1253.601344995499,\n",
       " 1325.9723598841697,\n",
       " 1315.2349248015505,\n",
       " 1255.6069386794861,\n",
       " 1197.2636725277055,\n",
       " 1294.1692834851726,\n",
       " 1317.8696696375575,\n",
       " 1377.517259376232,\n",
       " 1300.377664005925,\n",
       " 1273.086823639104,\n",
       " 1392.9609997931695,\n",
       " 1310.653256270635,\n",
       " 1094.9022107982328,\n",
       " 1354.6327415177502,\n",
       " 1191.0462621426977,\n",
       " 1267.8993601048765,\n",
       " 1221.2006804313683,\n",
       " 1185.9465860118855,\n",
       " 1255.6997338253525,\n",
       " 1389.9581512565387,\n",
       " 1256.1627566754003,\n",
       " 1175.2388296770807,\n",
       " 1245.0347088488452,\n",
       " 1307.5737287401075,\n",
       " 1269.1892816560096,\n",
       " 1410.0289866216299,\n",
       " 1397.539538270109,\n",
       " 1102.14487140154,\n",
       " 1295.561665869542,\n",
       " 1291.048328154776,\n",
       " 1413.0645109791767,\n",
       " 1205.995704477307,\n",
       " 1278.7488140241703,\n",
       " 1278.0984530502162,\n",
       " 1363.0249774387917,\n",
       " 1427.6864710242126,\n",
       " 1290.6715434059795,\n",
       " 1289.7338524972663,\n",
       " 1421.8569886125772,\n",
       " 1425.3984806754122,\n",
       " 1288.9902014863435,\n",
       " 1246.3213745740438,\n",
       " 1285.6501441162932,\n",
       " 1249.8138722784277,\n",
       " 1215.6966415447612,\n",
       " 1255.0300649726373,\n",
       " 1283.4591047035824,\n",
       " 1202.6713589088542,\n",
       " 1243.4104592859628,\n",
       " 1296.1855019327381,\n",
       " 1164.8861423414755,\n",
       " 1258.7174011576935,\n",
       " 1320.841382366841,\n",
       " 1383.6182709734835,\n",
       " 1276.9365694345747,\n",
       " 1295.7857847252749,\n",
       " 1196.4023508118307,\n",
       " 1424.2050022931392,\n",
       " 1396.816660307416,\n",
       " 1321.3131095847727,\n",
       " 1264.2476907601433,\n",
       " 1213.2219613735099,\n",
       " 1300.645903068427,\n",
       " 1321.597186835651,\n",
       " 1145.6881414260029,\n",
       " 1241.2835861004407,\n",
       " 1357.193384800512,\n",
       " 1422.740787914653,\n",
       " 1307.778087699596,\n",
       " 1287.7344010258732,\n",
       " 1364.5822468257898,\n",
       " 1269.8020964152445,\n",
       " 1295.163620710939,\n",
       " 1244.489735729095,\n",
       " 1208.1782180877694,\n",
       " 1409.4212840518856,\n",
       " 1247.4378356330126,\n",
       " 1534.362839572463,\n",
       " 1416.204356484577,\n",
       " 1247.3803172676874,\n",
       " 1292.1666400189818,\n",
       " 1243.1692764180289,\n",
       " 1286.215643277684,\n",
       " 1357.1423879436968,\n",
       " 1358.1062649235355,\n",
       " 1305.5536775217968,\n",
       " 1306.676409369147,\n",
       " 1376.082824879051,\n",
       " 1377.7793817036647,\n",
       " 1409.1099707208243,\n",
       " 1419.3889549581902,\n",
       " 1177.886977128628,\n",
       " 1488.1869951141675,\n",
       " 1320.942347209825,\n",
       " 1314.8440757236558,\n",
       " 1410.174576928839,\n",
       " 1302.6134278026034,\n",
       " 1387.5369692033378,\n",
       " 1202.3740131448474,\n",
       " 1323.6581370273818,\n",
       " 1357.8285340779482,\n",
       " 1226.0789517174262,\n",
       " 1256.6253471960767,\n",
       " 1336.5181417105734,\n",
       " 1419.9112820126143,\n",
       " 1229.8132521484833,\n",
       " 1424.1425206400863,\n",
       " 1324.101022779049,\n",
       " 1262.9491981797537,\n",
       " 1202.2145406009565,\n",
       " 1330.4968733399517,\n",
       " 1186.7264598862341,\n",
       " 1135.3150435414614,\n",
       " 1166.4117280738926,\n",
       " 1133.3746267064278,\n",
       " 1171.8145520453377,\n",
       " 979.4682066820541,\n",
       " 1035.909213717058,\n",
       " 916.3972527163861,\n",
       " 951.5055171038197,\n",
       " 1065.6552702576957,\n",
       " 1078.903366079138,\n",
       " 994.0803974890513,\n",
       " 982.9878827942221,\n",
       " 987.8181890151668,\n",
       " 940.7706164341955,\n",
       " 933.7590539084181,\n",
       " 1039.9027049825647,\n",
       " 1057.6437727407833,\n",
       " 999.0629613954856,\n",
       " 879.8813663494548,\n",
       " 1035.2506786593124,\n",
       " 1047.1758384056375,\n",
       " 1086.2323709278107,\n",
       " 996.0525742732827,\n",
       " 1060.2759977906867,\n",
       " 1019.2201725772987,\n",
       " 949.3763088751772,\n",
       " 1017.3786811541592,\n",
       " 1051.1941317819394,\n",
       " 950.3662705578197,\n",
       " 1106.6708274505097,\n",
       " 1001.4102780642506,\n",
       " 935.2936136332257,\n",
       " 970.5549689273545,\n",
       " 1007.491871945258,\n",
       " 967.4000090967022,\n",
       " 1111.2424598630628,\n",
       " 920.6174776451306,\n",
       " 963.889046694772,\n",
       " 962.7956155074089,\n",
       " 1123.635893987581,\n",
       " 919.0697374177031,\n",
       " 1064.228430481861,\n",
       " 1057.0514546676056,\n",
       " 931.1188858496309,\n",
       " 1063.5605928662758,\n",
       " 1030.6055163707283,\n",
       " 1017.0332727215659,\n",
       " 1025.1457804640368,\n",
       " ...]"
      ]
     },
     "execution_count": 6,
     "metadata": {},
     "output_type": "execute_result"
    }
   ],
   "source": [
    "result[0]['rmse']"
   ]
  },
  {
   "cell_type": "code",
   "execution_count": null,
   "metadata": {},
   "outputs": [],
   "source": []
  }
 ],
 "metadata": {
  "kernelspec": {
   "display_name": "Python 3 (ipykernel)",
   "language": "python",
   "name": "python3"
  },
  "language_info": {
   "codemirror_mode": {
    "name": "ipython",
    "version": 3
   },
   "file_extension": ".py",
   "mimetype": "text/x-python",
   "name": "python",
   "nbconvert_exporter": "python",
   "pygments_lexer": "ipython3",
   "version": "3.11.5"
  }
 },
 "nbformat": 4,
 "nbformat_minor": 4
}
