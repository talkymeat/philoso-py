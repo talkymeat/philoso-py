{
 "cells": [
  {
   "cell_type": "code",
   "execution_count": 1,
   "metadata": {},
   "outputs": [],
   "source": [
    "from gp_poly_test import gp_rand_poly_test\n",
    "from IPython.display import Audio"
   ]
  },
  {
   "cell_type": "markdown",
   "metadata": {},
   "source": [
    "<h3>How to call <code>gp_rand_poly_test</code></h3>\n",
    "\n",
    "This notebook can be used to test a simplified version of genetic programming, in which the form of the evolved program is pre-specified as a polynomial of order *order* with *num_var* variables, and the program evolves through continuous-valued mutations in the value of the coefficients. The test is performed with a single function call to `gp_poly_test`. First edit the function call below as needed, then hit the 'run all' button. \n",
    "\n",
    "The cell at the top of the notebook imports the code needed to run everything. The second cell is the one you may want to edit to change the parameters of the test. The basic syntax for is `gp_poly_test` is:\n",
    "\n",
    "`gp_poly_test(order, num_vars, n)`\n",
    "\n",
    "... where `order`, `num_vars`, and `n` are variables you replace with integer values, e.g.:\n",
    "\n",
    "`gp_poly_test(1, 3, 100)`\n",
    "\n",
    "... would generate a 1st-order polynomial (a linear expression) with three variables `a`, `b`, `c`, and random coefficients, plus a dataset of 100 points in `a, b, c` space, and a list of corresponding values of the linear expression, which are the targets the GP will try to approximate.\n",
    "\n",
    "Further optional keyword parameters can be set, which otherwise will take default values:\n",
    "\n",
    "<ul>\n",
    "<li><b>generations (default = 100)</b>: Number of generations the GP runs for</li>\n",
    "<li><b>pop (default = 100)</b>: Number of trees in a generation</li>\n",
    "<li><b>iv_min (default = -100)</b>: Minimum value of a variable in the independent variables dataset</li>\n",
    "<li><b>iv_max (default = 100)</b>: Maximum value of a variable in the independent variables dataset</li>\n",
    "<li><b>coeff_min (default = -20)</b>: Minimum value of a coefficient in the target polynomial</li>\n",
    "<li><b>coeff_max (default = 20)</b>: Minimum value of a coefficient in the target polynomial</li>\n",
    "<li><b>mutation_rate (default =  0.2)</b>: Probability that a coefficient value in a GP tree will mutate from one generation to the next</li>\n",
    "<li><b>mutation_sd (default = 1.0)</b>: Standard deviation of the normal distribution defining the deltas added to coefficient values when they are mutated</li>\n",
    "<li><b>elitism (default = 5)</b>: The <em>k</em> best trees in each generation pass on one copy each to the next generation without any chance of mutation: this parameter sets the value of <em>k</em>. If it's zero, no trees are protected from mutation.</li>\n",
    "</ul>\n",
    "\n",
    "One word of caution: GP takes a while to run - the program will appear to be doing nothing in between showing the tree for the target polynomial and displaying the results. This is normal. Make yourself a cuppa and come back in a bit. The final cell will ding to tell you it's done, and the variable `result` will then contain a dictionary with more detailed output data, which you can use to create further visualisations."
   ]
  },
  {
   "cell_type": "code",
   "execution_count": 2,
   "metadata": {
    "scrolled": false
   },
   "outputs": [
    {
     "name": "stdout",
     "output_type": "stream",
     "text": [
      "0 generations\n",
      "50 generations\n",
      "100 generations\n"
     ]
    }
   ],
   "source": [
    "result = gp_rand_poly_test(500, generations=200, mutation_sd=0.3)"
   ]
  },
  {
   "cell_type": "code",
   "execution_count": null,
   "metadata": {},
   "outputs": [],
   "source": [
    "Audio(filename = './sounds/ElevatorBell.mp3', autoplay=True, rate=22000)"
   ]
  },
  {
   "cell_type": "code",
   "execution_count": null,
   "metadata": {},
   "outputs": [],
   "source": []
  }
 ],
 "metadata": {
  "kernelspec": {
   "display_name": "Python 3 (ipykernel)",
   "language": "python",
   "name": "python3"
  },
  "language_info": {
   "codemirror_mode": {
    "name": "ipython",
    "version": 3
   },
   "file_extension": ".py",
   "mimetype": "text/x-python",
   "name": "python",
   "nbconvert_exporter": "python",
   "pygments_lexer": "ipython3",
   "version": "3.11.5"
  }
 },
 "nbformat": 4,
 "nbformat_minor": 4
}
