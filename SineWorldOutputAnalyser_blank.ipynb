{
 "cells": [
  {
   "cell_type": "markdown",
   "metadata": {},
   "source": [
    "## Analyse SineWorld Outputs"
   ]
  },
  {
   "cell_type": "code",
   "execution_count": null,
   "metadata": {},
   "outputs": [],
   "source": [
    "import pandas as pd\n",
    "import numpy as np\n",
    "from gymnasium.spaces.utils import unflatten\n",
    "\n",
    "from pathlib import Path\n",
    "\n",
    "from hd import HierarchicalDict as HD\n",
    "from agent import Agent\n",
    "\n",
    "from output_analytics import agent_day_data"
   ]
  },
  {
   "cell_type": "code",
   "execution_count": null,
   "metadata": {},
   "outputs": [],
   "source": [
    "root = Path(\"\") # e.g.: \"output/aa\"\n",
    "aname = '' # e.g. 'a_0'\n"
   ]
  },
  {
   "cell_type": "code",
   "execution_count": null,
   "metadata": {},
   "outputs": [],
   "source": [
    "a, ag_mems, ag_deeds = agent_day_data(root, aname)\n",
    "ag_mems.name"
   ]
  },
  {
   "cell_type": "code",
   "execution_count": null,
   "metadata": {
    "scrolled": true
   },
   "outputs": [],
   "source": [
    "ag_mems.memories[0]"
   ]
  },
  {
   "cell_type": "code",
   "execution_count": null,
   "metadata": {},
   "outputs": [],
   "source": [
    "summary_data = ag_mems.memory_summary"
   ]
  },
  {
   "cell_type": "code",
   "execution_count": null,
   "metadata": {},
   "outputs": [],
   "source": [
    "summary_data"
   ]
  },
  {
   "cell_type": "code",
   "execution_count": null,
   "metadata": {},
   "outputs": [],
   "source": [
    "ag_mems.plot_mem_col_one_stat('mse', 'min')"
   ]
  },
  {
   "cell_type": "code",
   "execution_count": null,
   "metadata": {},
   "outputs": [],
   "source": [
    "ag_mems.plot_mem_col_one_stat('mse', 'mean')"
   ]
  },
  {
   "cell_type": "code",
   "execution_count": null,
   "metadata": {},
   "outputs": [],
   "source": [
    "ag_mems.plot_mem_col_one_stat('mse', 'std')"
   ]
  },
  {
   "cell_type": "code",
   "execution_count": null,
   "metadata": {},
   "outputs": [],
   "source": [
    "ag_mems.plot_mem_col_one_stat('mse', 'max')"
   ]
  },
  {
   "cell_type": "code",
   "execution_count": null,
   "metadata": {},
   "outputs": [],
   "source": [
    "ag_mems.plot_mem_col_one_stat('rmse', 'min')"
   ]
  },
  {
   "cell_type": "code",
   "execution_count": null,
   "metadata": {},
   "outputs": [],
   "source": [
    "graph_it = ag_mems.some_mem_graphs(0, 5)\n",
    "next(graph_it)"
   ]
  },
  {
   "cell_type": "code",
   "execution_count": null,
   "metadata": {},
   "outputs": [],
   "source": [
    "next(graph_it)"
   ]
  },
  {
   "cell_type": "code",
   "execution_count": null,
   "metadata": {},
   "outputs": [],
   "source": [
    "next(graph_it)"
   ]
  },
  {
   "cell_type": "code",
   "execution_count": null,
   "metadata": {},
   "outputs": [],
   "source": [
    "next(graph_it)"
   ]
  },
  {
   "cell_type": "code",
   "execution_count": null,
   "metadata": {},
   "outputs": [],
   "source": [
    "ag_mems.mem_t_vals_plot()"
   ]
  },
  {
   "cell_type": "code",
   "execution_count": null,
   "metadata": {},
   "outputs": [],
   "source": [
    "ag_mems.get_best_mems('value').reset_index()"
   ]
  },
  {
   "cell_type": "code",
   "execution_count": null,
   "metadata": {},
   "outputs": [],
   "source": [
    "ag_mems.plot_best_mems('mse', max_=False)"
   ]
  },
  {
   "cell_type": "code",
   "execution_count": null,
   "metadata": {},
   "outputs": [],
   "source": [
    "ag_mems.plot_best_mems('fitness')"
   ]
  },
  {
   "cell_type": "code",
   "execution_count": null,
   "metadata": {},
   "outputs": [],
   "source": [
    "ag_mems.plot_best_mems('raw_fitness')"
   ]
  },
  {
   "cell_type": "code",
   "execution_count": null,
   "metadata": {},
   "outputs": [],
   "source": [
    "ag_mems.plot_best_mems('value')"
   ]
  },
  {
   "cell_type": "code",
   "execution_count": null,
   "metadata": {},
   "outputs": [],
   "source": [
    "ag_mems.regress_all('value')"
   ]
  },
  {
   "cell_type": "code",
   "execution_count": null,
   "metadata": {},
   "outputs": [],
   "source": [
    "ag_mems.regress_all('rmse', clip=1e9)"
   ]
  },
  {
   "cell_type": "code",
   "execution_count": null,
   "metadata": {},
   "outputs": [],
   "source": [
    "ag_mems.regress_all('fitness')"
   ]
  },
  {
   "cell_type": "code",
   "execution_count": null,
   "metadata": {},
   "outputs": [],
   "source": [
    "ag_mems.regress_all('raw_fitness')"
   ]
  },
  {
   "cell_type": "code",
   "execution_count": null,
   "metadata": {},
   "outputs": [],
   "source": [
    "ag_deeds.plot_act_counts()"
   ]
  },
  {
   "cell_type": "code",
   "execution_count": null,
   "metadata": {},
   "outputs": [],
   "source": [
    "ag_deeds.plot_action_means()"
   ]
  },
  {
   "cell_type": "code",
   "execution_count": null,
   "metadata": {},
   "outputs": [],
   "source": [
    "ag_deeds.plot_mutator_weights()"
   ]
  },
  {
   "cell_type": "markdown",
   "metadata": {},
   "source": [
    "## Register Ages"
   ]
  },
  {
   "cell_type": "code",
   "execution_count": null,
   "metadata": {},
   "outputs": [],
   "source": [
    "ag_deeds.plot_age_pub_bias()"
   ]
  },
  {
   "cell_type": "code",
   "execution_count": null,
   "metadata": {},
   "outputs": [],
   "source": [
    "ag_deeds.plot_gp_ages()"
   ]
  },
  {
   "cell_type": "code",
   "execution_count": null,
   "metadata": {},
   "outputs": [],
   "source": [
    "ag_deeds.agent.ac._observation_space"
   ]
  },
  {
   "cell_type": "code",
   "execution_count": null,
   "metadata": {},
   "outputs": [],
   "source": [
    "ag = ag_deeds.agent"
   ]
  },
  {
   "cell_type": "code",
   "execution_count": null,
   "metadata": {},
   "outputs": [],
   "source": [
    "obs50 = unflatten(ag.ac._observation_space, np.array(eval(ag_deeds.deeds[0].at[50, 'obs'])))"
   ]
  },
  {
   "cell_type": "code",
   "execution_count": null,
   "metadata": {},
   "outputs": [],
   "source": [
    "obs50_gp = dict(zip(('bests', 'scoreboards', 'records'), obs50['gp_obs']))"
   ]
  },
  {
   "cell_type": "code",
   "execution_count": null,
   "metadata": {},
   "outputs": [],
   "source": [
    "dict(zip(ag.ac.observations['gp_obs'].gp_vars_out, [val.item() for val in obs50_gp['bests'][0]]))"
   ]
  },
  {
   "cell_type": "code",
   "execution_count": null,
   "metadata": {},
   "outputs": [],
   "source": [
    "def get_reg_best(obs, reg):\n",
    "    obs_ = unflatten(ag.ac._observation_space, np.array(eval(obs)))\n",
    "    obs_ = dict(zip(('bests', 'scoreboards', 'records'), obs_['gp_obs']))\n",
    "    obs_ = dict(zip(ag.ac.observations['gp_obs'].gp_vars_out, [val.item() for val in obs_['bests'][reg]]))\n",
    "    return obs_\n",
    "\n",
    "# for df in ag_deeds.deeds:\n",
    "#     for reg in (0, 1):\n",
    "#         df_ = pd.DataFrame([get_reg_best(obs, reg) for obs in df['obs']])\n",
    "#         df_.plot(subplots=True, figsize=(12,20))"
   ]
  },
  {
   "cell_type": "code",
   "execution_count": null,
   "metadata": {},
   "outputs": [],
   "source": [
    "# def one_var_all_stats(vals: np.ndarray, agent: Agent):\n",
    "#     return dict(zip(\n",
    "#         [f.__fullname__ for f in agent.ac.observations['gp_obs'].sb_statfuncs],\n",
    "#         [v.item() for v in vals]\n",
    "#     ))\n",
    "\n",
    "# def one_gp_all_vars(vals2d: np.ndarray, agent: Agent):\n",
    "#     d = {}\n",
    "#     for k, vals in zip(agent.ac.observations['gp_obs'].gp_vars_core, vals2d):\n",
    "#         d = {\n",
    "#             **d,\n",
    "#             **{f\"{k}_{k_}\": v_ for k_, v_ in one_var_all_stats(vals, agent).items()}\n",
    "#         }\n",
    "#     return d\n",
    "\n",
    "# def all_gps_all_vars(vals3d: np.ndarray, agent: Agent):\n",
    "#     d = {}\n",
    "#     for i, vals in enumerate(vals3d):\n",
    "#         d = {\n",
    "#             **d,\n",
    "#             **{f\"gp{i}_{k_}\": v_ for k_, v_ in one_gp_all_vars(vals, agent).items()}\n",
    "#         }\n",
    "#     return d\n",
    "\n",
    "# all_gps_all_vars(obs50_gp['scoreboards'], agent)"
   ]
  },
  {
   "cell_type": "code",
   "execution_count": null,
   "metadata": {},
   "outputs": [],
   "source": [
    "# def obs_str_2_dict(obs_str):\n",
    "#     obs = unflatten(agent.ac._observation_space, np.array(eval(obs_str)))\n",
    "#     obs = dict(zip(('bests', 'scoreboards', 'records'), obs['gp_obs']))\n",
    "#     return all_gps_all_vars(obs['scoreboards'], agent)\n",
    "\n",
    "# df = pd.DataFrame([obs_str_2_dict(obs_str) for obs_str in data[0][0]['obs']])"
   ]
  },
  {
   "cell_type": "code",
   "execution_count": null,
   "metadata": {},
   "outputs": [],
   "source": [
    "#df.plot(subplots=True, figsize=(12,400))"
   ]
  },
  {
   "cell_type": "code",
   "execution_count": null,
   "metadata": {},
   "outputs": [],
   "source": [
    "# def obs_dicts(obs_str):\n",
    "#     obs = unflatten(agent.ac._observation_space, np.array(eval(obs_str)))\n",
    "#     gp_obs = dict(zip(('bests', 'scoreboards', 'records'), obs['gp_obs']))\n",
    "#     obs['gp_obs'] = gp_obs\n",
    "#     return obs\n",
    "\n",
    "# obs50 = obs_dicts(data[0][0].at[50, 'obs'])"
   ]
  },
  {
   "cell_type": "code",
   "execution_count": null,
   "metadata": {},
   "outputs": [],
   "source": [
    "# len(obs50['gp_obs']['records'])"
   ]
  },
  {
   "cell_type": "code",
   "execution_count": null,
   "metadata": {},
   "outputs": [],
   "source": [
    "# def obs_str_2_df(obs_str):\n",
    "#     obs = obs_dicts(obs_str)\n",
    "#     ds = [\n",
    "#         {\n",
    "#             f\"gp{i}_{var}\": col \n",
    "#             for var, col \n",
    "#             in zip(agent.ac.observations['gp_obs'].gp_vars_core, arr)\n",
    "#         } \n",
    "#         for i, arr \n",
    "#         in enumerate(obs['gp_obs']['records'])\n",
    "#     ]\n",
    "#     d = {}\n",
    "#     for d_ in ds:\n",
    "#         d = {**d, **d_}\n",
    "#     return pd.DataFrame(d)\n"
   ]
  },
  {
   "cell_type": "code",
   "execution_count": null,
   "metadata": {},
   "outputs": [],
   "source": [
    "# for i in range(100):\n",
    "#     df_ = obs_str_2_df(data[0][0].at[i, 'obs'])\n",
    "#     df_.loc[:, df_.columns.str.contains('0')].plot(subplots=True, figsize=(12,10), title=f'T = {i}')\n"
   ]
  },
  {
   "cell_type": "code",
   "execution_count": null,
   "metadata": {},
   "outputs": [],
   "source": [
    "# {1,2} - {2,3}"
   ]
  },
  {
   "cell_type": "code",
   "execution_count": null,
   "metadata": {},
   "outputs": [],
   "source": [
    "# obs50['lit_review'] = dict(zip(('publications', 'credits'), obs50['lit_review']))"
   ]
  },
  {
   "cell_type": "code",
   "execution_count": null,
   "metadata": {},
   "outputs": [],
   "source": [
    "# [val.shape for val in obs50['lit_review'].values()]"
   ]
  },
  {
   "cell_type": "code",
   "execution_count": null,
   "metadata": {},
   "outputs": [],
   "source": [
    "# dfs = []\n",
    "# for i in range(list(obs50['lit_review'].values())[0].shape[0]):\n",
    "#     df = pd.DataFrame(dict(zip(agent.ac.observations['gp_obs'].gp_vars_core, obs50['lit_review']['publications'][i].T)))\n",
    "#     df['credit'] = obs50['lit_review'][\"credits\"][i]\n",
    "#     df['table'] = i\n",
    "#     dfs.append(df)\n",
    "# publications = pd.concat(dfs)\n",
    "# publications"
   ]
  },
  {
   "cell_type": "code",
   "execution_count": null,
   "metadata": {},
   "outputs": [],
   "source": [
    "# dfs = []\n",
    "# for i in range(obs50['remembering'].shape[0]):\n",
    "#     df = pd.DataFrame(dict(zip(agent.ac.observations['gp_obs'].gp_vars_core, obs50['remembering'][i].T)))\n",
    "#     df['table'] = i\n",
    "#     dfs.append(df)\n",
    "# memories = pd.concat(dfs)\n",
    "# memories"
   ]
  },
  {
   "cell_type": "code",
   "execution_count": null,
   "metadata": {},
   "outputs": [],
   "source": [
    "ag_mems.get_best_mems('value')['obs_width'].plot()"
   ]
  },
  {
   "cell_type": "code",
   "execution_count": null,
   "metadata": {},
   "outputs": [],
   "source": [
    "ag_mems.model.world.max_observation_size = 10000\n",
    "tf = ag_mems.agent.ac.tree_factory_classes[0]()\n",
    "gp = ag_mems.agent.ac.gp_system(tree_factory=tf, operators=tf.op_set)\n",
    "for i, row in enumerate(ag_mems.get_best_mems('value').iloc):\n",
    "    t = gp.tree(row['tree'])\n",
    "    swo = ag_mems.model.world(row['obs_start'], row['obs_stop'], 10000)\n",
    "    iv = next(swo)\n",
    "    res = pd.concat([iv, swo.target], axis=1)\n",
    "    res['y_'] = t(x=iv).T[0]\n",
    "    ax = res.plot.scatter('x', 'y', s=1, title=f'Gen {i}')\n",
    "    res.plot.scatter('x', 'y_', ax=ax, color='r', s=1)"
   ]
  },
  {
   "cell_type": "code",
   "execution_count": null,
   "metadata": {},
   "outputs": [],
   "source": [
    "gp = ag_mems.agent.ac.gp_system(tree_factory=ag_mems.agent.ac.tree_factory_classes[0]())"
   ]
  },
  {
   "cell_type": "code",
   "execution_count": null,
   "metadata": {},
   "outputs": [],
   "source": [
    "list(ag_mems.agent.ac.tree_factory_classes[0]().op_set)[0].name"
   ]
  },
  {
   "cell_type": "code",
   "execution_count": null,
   "metadata": {},
   "outputs": [],
   "source": []
  }
 ],
 "metadata": {
  "kernelspec": {
   "display_name": "philos_env",
   "language": "python",
   "name": "python3"
  },
  "language_info": {
   "codemirror_mode": {
    "name": "ipython",
    "version": 3
   },
   "file_extension": ".py",
   "mimetype": "text/x-python",
   "name": "python",
   "nbconvert_exporter": "python",
   "pygments_lexer": "ipython3",
   "version": "3.12.2"
  }
 },
 "nbformat": 4,
 "nbformat_minor": 4
}
