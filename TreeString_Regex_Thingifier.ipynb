{
 "cells": [
  {
   "cell_type": "code",
   "execution_count": 1,
   "metadata": {},
   "outputs": [],
   "source": [
    "import re"
   ]
  },
  {
   "cell_type": "code",
   "execution_count": 2,
   "metadata": {},
   "outputs": [],
   "source": [
    "def tp(treestring, rgx):\n",
    "    m = re.fullmatch(rgx, treestring)\n",
    "    print(m)\n",
    "    if m:\n",
    "        # Capture groups from the regex:\n",
    "        # Node label. Can be empty if default_label is set in Label (TESTME)\n",
    "        print(\"lab =\", m.group(\"label\"))\n",
    "        print(\"op =\", m.group(\"operator\") if m.group(\"operator\") else \"noep\")\n",
    "        # Metadata on node. Placeholder, for now.\n",
    "        print(\"node_data =\", m.group(\"node_data\"))\n",
    "        # children are other nodes under the present node; leaf is element\n",
    "        # of the content the tree ranges over - typically a str for DOP, a\n",
    "        # float for GP\n",
    "        print(\"children =\", m.group(\"children\"))\n",
    "        print(\"leaf =\", m.group(\"leaf\"))\n",
    "    else:\n",
    "        print(\"noe\")"
   ]
  },
  {
   "cell_type": "code",
   "execution_count": 11,
   "metadata": {},
   "outputs": [],
   "source": [
    "r1 = r\"\\((\\[(?P<label>[^\\]]*)\\])?(?P<node_data>\\{.*\\})?((?P<children>\\(.*\\)*?)|(?P<leaf>.*))\\)\"\n",
    "r2 = r\"\\((\\[(?P<label>[^\\]:]*)(:(?P<operator>[A-Z]+))?\\])?(?P<node_data>\\{.*\\})?((?P<children>\\(.*\\)*?)|(?P<leaf>[^\\)]*))\\)\"\n",
    "r3 = r\"\\((\\[(?P<label>[^\\]]*)\\])?(\\<(?P<operator>[A-Z]+)\\>)?(?P<node_data>\\{.*\\})?((?P<children>\\(.*\\)*?)|(?P<leaf>[^\\)]*))\\)\""
   ]
  },
  {
   "cell_type": "code",
   "execution_count": 13,
   "metadata": {},
   "outputs": [
    {
     "name": "stdout",
     "output_type": "stream",
     "text": [
      "<_sre.SRE_Match object; span=(0, 125), match=\"([S]([NP]([PN]True))([VP]([V]'saw')([NP]([NP]([De>\n",
      "lab = S\n",
      "op = noep\n",
      "node_data = None\n",
      "children = ([NP]([PN]True))([VP]([V]'saw')([NP]([NP]([Det]'the')([N]'dog'))([PP]([Prep]'with')([NP]([Det]'the')([N]'telescope')))))\n",
      "leaf = None\n",
      "=========================\n",
      "None\n",
      "noe\n",
      "=========================\n",
      "<_sre.SRE_Match object; span=(0, 46), match='([S]([N]sentence)([VP]([V]parses)([N]parser)))'>\n",
      "lab = S\n",
      "op = noep\n",
      "node_data = None\n",
      "children = ([N]sentence)([VP]([V]parses)([N]parser))\n",
      "leaf = None\n",
      "=========================\n",
      "<_sre.SRE_Match object; span=(0, 8), match='([f]3.5)'>\n",
      "lab = f\n",
      "op = noep\n",
      "node_data = None\n",
      "children = None\n",
      "leaf = 3.5\n",
      "=========================\n",
      "None\n",
      "noe\n",
      "=========================\n",
      "<_sre.SRE_Match object; span=(0, 125), match=\"([S]([NP]([PN]True))([VP]([V]'saw')([NP]([NP]([De>\n",
      "lab = S\n",
      "op = noep\n",
      "node_data = None\n",
      "children = ([NP]([PN]True))([VP]([V]'saw')([NP]([NP]([Det]'the')([N]'dog'))([PP]([Prep]'with')([NP]([Det]'the')([N]'telescope')))))\n",
      "leaf = None\n",
      "=========================\n",
      "<_sre.SRE_Match object; span=(0, 25), match='([i]<MULT>([i]6)([f]3.5))'>\n",
      "lab = i\n",
      "op = MULT\n",
      "node_data = None\n",
      "children = ([i]6)([f]3.5)\n",
      "leaf = None\n",
      "=========================\n",
      "<_sre.SRE_Match object; span=(0, 46), match='([S]([N]sentence)([VP]([V]parses)([N]parser)))'>\n",
      "lab = S\n",
      "op = noep\n",
      "node_data = None\n",
      "children = ([N]sentence)([VP]([V]parses)([N]parser))\n",
      "leaf = None\n",
      "=========================\n",
      "<_sre.SRE_Match object; span=(0, 8), match='([f]3.5)'>\n",
      "lab = f\n",
      "op = noep\n",
      "node_data = None\n",
      "children = None\n",
      "leaf = 3.5\n",
      "=========================\n",
      "None\n",
      "noe\n",
      "=========================\n"
     ]
    }
   ],
   "source": [
    "t =  [None] * 5\n",
    "t[0] = \"([S]([NP]([PN]True))([VP]([V]'saw')([NP]([NP]([Det]'the')([N]'dog'))([PP]([Prep]'with')([NP]([Det]'the')([N]'telescope'))))))\"\n",
    "t[1] = \"([i]<MULT>([i]6)([f]3.5))\"\n",
    "t[2] = \"([S]([N]sentence)([VP]([V]parses)([N]parser)))\"\n",
    "t[3] = \"([f]3.5)\"\n",
    "t[4] = \"([f]3.5))\"\n",
    "for r in [r2, r3]:\n",
    "    for tr in t:\n",
    "        tp(tr, r)\n",
    "        print(\"=========================\")"
   ]
  },
  {
   "cell_type": "code",
   "execution_count": 5,
   "metadata": {},
   "outputs": [
    {
     "ename": "NameError",
     "evalue": "name 't1' is not defined",
     "output_type": "error",
     "traceback": [
      "\u001b[0;31m---------------------------------------------------------------------------\u001b[0m",
      "\u001b[0;31mNameError\u001b[0m                                 Traceback (most recent call last)",
      "\u001b[0;32m<ipython-input-5-d8c9642bcb73>\u001b[0m in \u001b[0;36m<module>\u001b[0;34m\u001b[0m\n\u001b[0;32m----> 1\u001b[0;31m \u001b[0mtp\u001b[0m\u001b[0;34m(\u001b[0m\u001b[0mt1\u001b[0m\u001b[0;34m,\u001b[0m \u001b[0mr2\u001b[0m\u001b[0;34m)\u001b[0m\u001b[0;34m\u001b[0m\u001b[0;34m\u001b[0m\u001b[0m\n\u001b[0m",
      "\u001b[0;31mNameError\u001b[0m: name 't1' is not defined"
     ]
    }
   ],
   "source": [
    "tp(t1, r2)"
   ]
  },
  {
   "cell_type": "code",
   "execution_count": null,
   "metadata": {},
   "outputs": [],
   "source": [
    "m = re.match(\"(?P<ab>(ab)*):(?P<cd>(cd)*)\", \"abab:cdcdcd\")\n",
    "m"
   ]
  },
  {
   "cell_type": "code",
   "execution_count": null,
   "metadata": {},
   "outputs": [],
   "source": [
    "m.group('cd')"
   ]
  },
  {
   "cell_type": "code",
   "execution_count": 3,
   "metadata": {},
   "outputs": [],
   "source": [
    "rgx = r\"\\((\\[(?P<label>[^\\]]*)\\])?(\\<(?P<operator>[A-Z]+)\\>)?(?P<node_data>\\{.*\\})?((?P<children>\\(.*\\)*?)|(?P<leaf>[^\\)]*))\\)\""
   ]
  },
  {
   "cell_type": "code",
   "execution_count": 4,
   "metadata": {},
   "outputs": [
    {
     "name": "stdout",
     "output_type": "stream",
     "text": [
      "<_sre.SRE_Match object; span=(0, 18), match='([float]<PAND>3.0)'>\n",
      "lab = float\n",
      "op = PAND\n",
      "node_data = None\n",
      "children = None\n",
      "leaf = 3.0\n"
     ]
    }
   ],
   "source": [
    "tp(\"([float]<PAND>3.0)\", rgx)"
   ]
  },
  {
   "cell_type": "code",
   "execution_count": null,
   "metadata": {},
   "outputs": [],
   "source": []
  }
 ],
 "metadata": {
  "kernelspec": {
   "display_name": "Python 3",
   "language": "python",
   "name": "python3"
  },
  "language_info": {
   "codemirror_mode": {
    "name": "ipython",
    "version": 3
   },
   "file_extension": ".py",
   "mimetype": "text/x-python",
   "name": "python",
   "nbconvert_exporter": "python",
   "pygments_lexer": "ipython3",
   "version": "3.6.10"
  }
 },
 "nbformat": 4,
 "nbformat_minor": 4
}
