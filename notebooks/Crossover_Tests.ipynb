{
 "cells": [
  {
   "cell_type": "code",
   "execution_count": 14,
   "metadata": {},
   "outputs": [],
   "source": [
    "from gp import GPTreebank\n",
    "import operators as ops\n",
    "from figtree import showtree\n",
    "import pandas as pd\n",
    "import numpy as np\n",
    "from random import uniform\n",
    "from math import pi, sin\n",
    "from matplotlib import pyplot as plt "
   ]
  },
  {
   "cell_type": "code",
   "execution_count": 2,
   "metadata": {},
   "outputs": [],
   "source": [
    "gp = GPTreebank(mutation_rate=0, mutation_sd=0, crossover_rate=0.2, operators=[ops.EQ])"
   ]
  },
  {
   "cell_type": "code",
   "execution_count": 3,
   "metadata": {},
   "outputs": [],
   "source": [
    "t5 = gp.tree(\"([bool]<EQ>([float]5.0)([int]5))\")\n",
    "t9 = gp.tree(\"([bool]<EQ>([float]9.0)([int]9))\")\n",
    "t3 = gp.tree(\"([bool]<EQ>([float]3.0)([int]3))\")"
   ]
  },
  {
   "cell_type": "code",
   "execution_count": 4,
   "metadata": {},
   "outputs": [
    {
     "name": "stdout",
     "output_type": "stream",
     "text": [
      "0.0944 0.0995 0.106 0.1004\n"
     ]
    }
   ],
   "source": [
    "n=10000\n",
    "L_mut_9 = 0\n",
    "R_mut_9 = 0 # Tribute to Rrose Sélavy\n",
    "L_mut_3 = 0\n",
    "R_mut_3 = 0 # Tribute to Rrose Sélavy\n",
    "for i in range(n):\n",
    "    cp = t5.copy(gp_copy=True)\n",
    "    L_mut_9 += cp[0]()[0] == 9\n",
    "    R_mut_9 += cp[1]()[0] == 9\n",
    "    L_mut_3 += cp[0]()[0] == 3\n",
    "    R_mut_3 += cp[1]()[0] == 3\n",
    "    cp.delete()\n",
    "    \n",
    "print(L_mut_9/n, R_mut_9/n, L_mut_3/n, R_mut_3/n)"
   ]
  },
  {
   "cell_type": "code",
   "execution_count": 9,
   "metadata": {},
   "outputs": [],
   "source": [
    "iv_min=-5*pi\n",
    "iv_max=5*pi\n",
    "iv_dict = {'x': [uniform(iv_min, iv_max) for j in range(n)]}\n",
    "iv_data = pd.DataFrame(iv_dict)"
   ]
  },
  {
   "cell_type": "code",
   "execution_count": 11,
   "metadata": {},
   "outputs": [],
   "source": [
    "target = np.sin(iv_data['x'])"
   ]
  },
  {
   "cell_type": "code",
   "execution_count": 35,
   "metadata": {},
   "outputs": [
    {
     "data": {
      "image/png": "[encoded data removed]",
      "text/plain": [
       "<Figure size 432x288 with 1 Axes>"
      ]
     },
     "metadata": {
      "needs_background": "light"
     },
     "output_type": "display_data"
    }
   ],
   "source": []
  },
  {
   "cell_type": "code",
   "execution_count": 16,
   "metadata": {},
   "outputs": [
    {
     "data": {
      "text/plain": [
       "'x'"
      ]
     },
     "execution_count": 16,
     "metadata": {},
     "output_type": "execute_result"
    }
   ],
   "source": [
    "iv_data['x'].name"
   ]
  },
  {
   "cell_type": "code",
   "execution_count": 32,
   "metadata": {},
   "outputs": [],
   "source": [
    "t = GPTreebank(operators=[ops.SUM, ops.PROD, ops.SQ, ops.POW, ops.CUBE]).tree(\"([float]<SUM>([float]0.009639889151812575)([float]<PROD>([float]<SUM>([float]<SUM>([float]<PROD>([float]-1.285429980496091)([float]2.4920440633677794))([float]<SUM>([float]x)([float]<POW>([float]<SQ>([float]-0.034412242329498424))([int]0))))([float]0.25969171209316233))([float]<PROD>([float]<SUM>([float]0.009912767110902507)([float]<PROD>([float]0.0238275413253935)([float]0.6697294474677175)))([float]<SUM>([float]<SUM>([float]<SUM>([float]<SUM>([float]0.012393089165790728)([float]<SQ>([float]<PROD>([float]0.11235966546549335)([float]x))))([float]-0.5543561169801772))([float]-0.4730826037642899))([float]<PROD>([float]-3.3050455491778727)([float]0.021275670795627012))))))\", x=iv_data['x'])"
   ]
  },
  {
   "cell_type": "code",
   "execution_count": 33,
   "metadata": {},
   "outputs": [
    {
     "data": {
      "text/plain": [
       "0      -0.536605\n",
       "1       0.318772\n",
       "2       0.001218\n",
       "3       0.622550\n",
       "4       0.026017\n",
       "          ...   \n",
       "9995    0.016407\n",
       "9996   -0.031857\n",
       "9997   -0.055422\n",
       "9998   -0.015760\n",
       "9999    0.035938\n",
       "Length: 10000, dtype: float64"
      ]
     },
     "execution_count": 33,
     "metadata": {},
     "output_type": "execute_result"
    }
   ],
   "source": [
    "t()"
   ]
  },
  {
   "cell_type": "code",
   "execution_count": 34,
   "metadata": {},
   "outputs": [],
   "source": [
    "estimate = t()"
   ]
  },
  {
   "cell_type": "code",
   "execution_count": 27,
   "metadata": {},
   "outputs": [],
   "source": [
    "estimate = pd.Series([0]*len(target))"
   ]
  },
  {
   "cell_type": "code",
   "execution_count": 28,
   "metadata": {},
   "outputs": [
    {
     "data": {
      "text/plain": [
       "0       0\n",
       "1       0\n",
       "2       0\n",
       "3       0\n",
       "4       0\n",
       "       ..\n",
       "9995    0\n",
       "9996    0\n",
       "9997    0\n",
       "9998    0\n",
       "9999    0\n",
       "Length: 10000, dtype: int64"
      ]
     },
     "execution_count": 28,
     "metadata": {},
     "output_type": "execute_result"
    }
   ],
   "source": [
    "estimate"
   ]
  },
  {
   "cell_type": "code",
   "execution_count": 30,
   "metadata": {},
   "outputs": [
    {
     "data": {
      "text/plain": [
       "{'mse': 0.5062329157971686, 'imse': 1.9753753041231878}"
      ]
     },
     "execution_count": 30,
     "metadata": {},
     "output_type": "execute_result"
    }
   ],
   "source": [
    "results = {}\n",
    "results[\"mse\"] = (np.square(estimate - target)).mean()\n",
    "results[\"imse\"] = 1/results[\"mse\"]\n",
    "results"
   ]
  },
  {
   "cell_type": "code",
   "execution_count": 42,
   "metadata": {},
   "outputs": [
    {
     "data": {
      "image/png": "[encoded data removed]",
      "text/plain": [
       "<Figure size 432x288 with 1 Axes>"
      ]
     },
     "metadata": {
      "needs_background": "light"
     },
     "output_type": "display_data"
    }
   ],
   "source": [
    "fig = plt.figure()\n",
    "ax1 = fig.add_subplot(111)\n",
    "ax1.scatter(iv_data['x'], estimate, c='b', label='est')\n",
    "ax1.scatter(iv_data['x'], target, c='r', label = 'target')\n",
    "plt.legend(loc='upper left');\n",
    "plt.show()"
   ]
  },
  {
   "cell_type": "code",
   "execution_count": 38,
   "metadata": {},
   "outputs": [
    {
     "ename": "AttributeError",
     "evalue": "'PathCollection' object has no attribute 'scatter'",
     "output_type": "error",
     "traceback": [
      "\u001b[0;31m---------------------------------------------------------------------------\u001b[0m",
      "\u001b[0;31mAttributeError\u001b[0m                            Traceback (most recent call last)",
      "\u001b[0;32m<ipython-input-38-893b23ee2991>\u001b[0m in \u001b[0;36m<module>\u001b[0;34m\u001b[0m\n\u001b[0;32m----> 1\u001b[0;31m \u001b[0mfig\u001b[0m\u001b[0;34m.\u001b[0m\u001b[0mscatter\u001b[0m\u001b[0;34m(\u001b[0m\u001b[0miv_data\u001b[0m\u001b[0;34m[\u001b[0m\u001b[0;34m'x'\u001b[0m\u001b[0;34m]\u001b[0m\u001b[0;34m,\u001b[0m \u001b[0mestimate\u001b[0m\u001b[0;34m)\u001b[0m\u001b[0;34m\u001b[0m\u001b[0;34m\u001b[0m\u001b[0m\n\u001b[0m",
      "\u001b[0;31mAttributeError\u001b[0m: 'PathCollection' object has no attribute 'scatter'"
     ]
    }
   ],
   "source": [
    "ax1.scatter(iv_data['x'], estimate)"
   ]
  },
  {
   "cell_type": "code",
   "execution_count": null,
   "metadata": {},
   "outputs": [],
   "source": []
  }
 ],
 "metadata": {
  "kernelspec": {
   "display_name": "Python 3",
   "language": "python",
   "name": "python3"
  },
  "language_info": {
   "codemirror_mode": {
    "name": "ipython",
    "version": 3
   },
   "file_extension": ".py",
   "mimetype": "text/x-python",
   "name": "python",
   "nbconvert_exporter": "python",
   "pygments_lexer": "ipython3",
   "version": "3.6.10"
  }
 },
 "nbformat": 4,
 "nbformat_minor": 4
}
