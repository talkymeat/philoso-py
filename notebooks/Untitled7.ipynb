{
 "cells": [
  {
   "cell_type": "code",
   "execution_count": 2,
   "metadata": {},
   "outputs": [],
   "source": [
    "import pandas as pd"
   ]
  },
  {
   "cell_type": "code",
   "execution_count": 3,
   "metadata": {},
   "outputs": [],
   "source": [
    "df = pd.DataFrame({'y0': [9.0, 18.0, 31.0, 48.0, 169.0],\n",
    "    'y1': [14.0, 28.0, 28.0, 74.0, 106.0],\n",
    "    'y2': [11.0, 37.0, 79.0, 137.0, 211.0],\n",
    "    'y3': [18.0, 39.0, 68.0, 105.0, 150.0]\n",
    "})"
   ]
  },
  {
   "cell_type": "code",
   "execution_count": 5,
   "metadata": {},
   "outputs": [
    {
     "name": "stdout",
     "output_type": "stream",
     "text": [
      "[0.0, 955.8, 2470.8, 1100.2]\n",
      "[1.0, 0.0010451505016722408, 0.00040456347600938586, 0.0009081002542680711]\n",
      "[0.0, 30.9160152671718, 49.70714234393283, 33.16926287996162]\n",
      "[1.0, 0.031332232160841855, 0.01972108767670776, 0.029266068850037866]\n"
     ]
    }
   ],
   "source": [
    "def mse(y = 'y0', df=df):\n",
    "    diffs = df[y] - df.y0\n",
    "    sqdiffs = diffs**2\n",
    "    mse = sqdiffs.mean()\n",
    "    return mse\n",
    "\n",
    "\n",
    "def inv(val):\n",
    "    return 1/val if val else float('inf')\n",
    "\n",
    "def rmse(y):\n",
    "    return mse(y)**0.5\n",
    "\n",
    "def simse(y):\n",
    "    return inv(1+mse(y))\n",
    "\n",
    "def sirmse(y):\n",
    "    return inv(1+rmse(y))\n",
    "\n",
    "print([mse(y) for y in df])\n",
    "print([simse(y) for y in df])\n",
    "print([rmse(y) for y in df])\n",
    "print([sirmse(y) for y in df])\n",
    "\n"
   ]
  },
  {
   "cell_type": "code",
   "execution_count": 12,
   "metadata": {},
   "outputs": [
    {
     "name": "stdout",
     "output_type": "stream",
     "text": [
      "0     5.0\n",
      "1    10.0\n",
      "2     3.0\n",
      "3    26.0\n",
      "4    63.0\n",
      "dtype: float64\n",
      "3\n"
     ]
    }
   ],
   "source": [
    "print(abs(df.y0 - df.y1))\n",
    "print(abs(-3))"
   ]
  },
  {
   "cell_type": "code",
   "execution_count": 28,
   "metadata": {},
   "outputs": [
    {
     "data": {
      "text/plain": [
       "{'a': 1, 'b': 2, 'c': 3}"
      ]
     },
     "execution_count": 28,
     "metadata": {},
     "output_type": "execute_result"
    }
   ],
   "source": [
    "{**{'a': 1, 'b': 1}, **{'b': 2, \"c\": 3}}"
   ]
  },
  {
   "cell_type": "code",
   "execution_count": 32,
   "metadata": {},
   "outputs": [
    {
     "name": "stdout",
     "output_type": "stream",
     "text": [
      "None\n",
      "{'arg': 'sae', 'isae': <function isae at 0x7f50aa44cb80>, 'out': None}\n"
     ]
    }
   ],
   "source": [
    "def invfunc(arg: str):\n",
    "    out = exec(f\"def i{arg}({arg}, **kwargs):\\n\\treturn 1/({arg}+1)\")\n",
    "    return locals()[f'i{arg}']\n",
    "\n",
    "out = invfunc('sae')\n"
   ]
  },
  {
   "cell_type": "code",
   "execution_count": 29,
   "metadata": {},
   "outputs": [
    {
     "ename": "NameError",
     "evalue": "name 'isae' is not defined",
     "output_type": "error",
     "traceback": [
      "\u001b[0;31m---------------------------------------------------------------------------\u001b[0m",
      "\u001b[0;31mNameError\u001b[0m                                 Traceback (most recent call last)",
      "\u001b[1;32m/home/dave/CodeToJoy/philoso-py/notebooks/Untitled7.ipynb Cell 7\u001b[0m line \u001b[0;36m1\n\u001b[0;32m----> <a href='vscode-notebook-cell:/home/dave/CodeToJoy/philoso-py/notebooks/Untitled7.ipynb#X10sZmlsZQ%3D%3D?line=0'>1</a>\u001b[0m isae(\u001b[39m5\u001b[39m)\n",
      "\u001b[0;31mNameError\u001b[0m: name 'isae' is not defined"
     ]
    }
   ],
   "source": [
    "isae(5)"
   ]
  },
  {
   "cell_type": "code",
   "execution_count": 11,
   "metadata": {},
   "outputs": [],
   "source": [
    "ll0 = [0.16952084719853724, 0.06370669049627474, 0.03922353493794955, 0.02833434587145914, 0.022177465450384563, 0.02702702702702703]\n",
    "ll1 = [0.04855331055421783, 0.09261009443297592, 1.0, 0.09261009443297592, 0.04855331055421783, 0.04473440989903873]"
   ]
  },
  {
   "cell_type": "code",
   "execution_count": 12,
   "metadata": {},
   "outputs": [
    {
     "data": {
      "text/plain": [
       "(0.05833165183027205, 0.22117686997890437)"
      ]
     },
     "execution_count": 12,
     "metadata": {},
     "output_type": "execute_result"
    }
   ],
   "source": [
    "m0 = sum(ll0)/len(ll0)\n",
    "m1 = sum(ll1)/len(ll1)\n",
    "m0, m1"
   ]
  },
  {
   "cell_type": "code",
   "execution_count": 13,
   "metadata": {},
   "outputs": [],
   "source": [
    "def f(ll, m):\n",
    "    return [x+m for x in ll]"
   ]
  },
  {
   "cell_type": "code",
   "execution_count": 15,
   "metadata": {},
   "outputs": [
    {
     "data": {
      "text/plain": [
       "[0.2697301805331222,\n",
       " 0.3137869644118803,\n",
       " 1.2211768699789043,\n",
       " 0.3137869644118803,\n",
       " 0.2697301805331222,\n",
       " 0.2659112798779431]"
      ]
     },
     "execution_count": 15,
     "metadata": {},
     "output_type": "execute_result"
    }
   ],
   "source": [
    "f(ll1, m1)"
   ]
  },
  {
   "cell_type": "code",
   "execution_count": 19,
   "metadata": {},
   "outputs": [
    {
     "data": {
      "text/plain": [
       "[0, 1, 2, None]"
      ]
     },
     "execution_count": 19,
     "metadata": {},
     "output_type": "execute_result"
    }
   ],
   "source": [
    "ls = [0, 1, 2]\n",
    "ls.append(None)\n",
    "ls"
   ]
  },
  {
   "cell_type": "code",
   "execution_count": null,
   "metadata": {},
   "outputs": [],
   "source": []
  }
 ],
 "metadata": {
  "kernelspec": {
   "display_name": "Python 3",
   "language": "python",
   "name": "python3"
  },
  "language_info": {
   "codemirror_mode": {
    "name": "ipython",
    "version": 3
   },
   "file_extension": ".py",
   "mimetype": "text/x-python",
   "name": "python",
   "nbconvert_exporter": "python",
   "pygments_lexer": "ipython3",
   "version": "3.11.5"
  }
 },
 "nbformat": 4,
 "nbformat_minor": 4
}
