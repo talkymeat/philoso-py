{
 "cells": [
  {
   "cell_type": "code",
   "execution_count": 2,
   "metadata": {},
   "outputs": [],
   "source": [
    "import numpy as np\n",
    "import pandas as pd\n",
    "import matplotlib.pyplot as plt\n",
    "from icecream import ic\n",
    "from random import randint\n",
    "# from typing import Collection, Mapping\n",
    "# import operators as ops\n",
    "# from trees import *\n",
    "# from gp import GPTreebank\n",
    "# from tree_factories import RandomPolynomialFactory\n",
    "\n",
    "\n",
    "# plt.ion()\n",
    "# df = pd.DataFrame({'x': [1.0, 2.0]})\n",
    "# h, v = 1, 1\n",
    "# fig, axs = plt.subplots(v, h)\n",
    "# axs.set_title('thing')\n",
    "# while t < 100\n",
    "#     ax.data = df.x\n",
    "#     plt.draw()\n",
    "#     t += 1"
   ]
  },
  {
   "cell_type": "code",
   "execution_count": null,
   "metadata": {},
   "outputs": [],
   "source": [
    "\n",
    "def eratosthenes(n):\n",
    "    sieve = lambda i, nums: (i+1, [x for x in filter(lambda x: x%nums[i] or x==nums[i], nums)])\n",
    "    i, nums = 0, list(range(2, n+1))\n",
    "    while nums[i]**2 < n:\n",
    "        i, nums = sieve(i, nums)\n",
    "    return nums\n",
    "\n",
    "def prime_cycle(n):\n",
    "    primes = pd.DataFrame({'p': eratosthenes(n)})\n",
    "    i = 0\n",
    "    while True:\n",
    "        yield ((i % primes['p']) + 1).product()\n",
    "        i += 1\n",
    "\n",
    "pc = prime_cycle(13)"
   ]
  },
  {
   "cell_type": "code",
   "execution_count": null,
   "metadata": {},
   "outputs": [],
   "source": [
    "\n",
    "plt.ion()\n",
    "y = np.array([1.0, 2.0, 4.0, 5.0, 3.0])\n",
    "h, v = 1, 1\n",
    "fig, ax = plt.subplots(v, h)\n",
    "ax.set_title('thing')\n",
    "t = 0\n",
    "line = ax.plot(y)[0]\n",
    "while t < 10:\n",
    "    y = np.append(y, randint(-5, 5))\n",
    "    line.set_data(np.arange(len(y)), y)\n",
    "    ax.set_ylim(y.min(), y.max())\n",
    "    ax.set_xlim(0, len(y))\n",
    "    t += 1\n",
    "    plt.draw()\n",
    "    plt.pause(0.1)\n",
    "    ic(line.get_data())\n",
    "\n",
    "\"\"\"df.x = (df.x-3)*-1\n",
    "line.set_ydata(np.array(df.x))\n",
    "ax.set_ylim(df.min(), df.max())\n",
    "print(line.get_data())\n",
    "\n",
    "while t < 10:\n",
    "    df.x = (df.x-3)*-1\n",
    "    line.set_ydata(df.x)\n",
    "    plt.draw()\n",
    "    plt.pause(1)\n",
    "    t += 1\n",
    "\n",
    "pc = prime_cycle(13)\n",
    "strlen = 0\n",
    "i = 0\n",
    "for v in pc:\n",
    "    if i > 1000:\n",
    "        break\n",
    "    nn = f\"{v}\"\n",
    "    print(nn, end=\"\\n\" if strlen + len(nn) +1 > 100 else ' ')\n",
    "    strlen = ((strlen + 1) if strlen + len(nn) + 1 <= 100 else 0) + len(nn)\n",
    "    i += 1\"\"\"\n",
    "\n",
    "print(y)"
   ]
  },
  {
   "cell_type": "code",
   "execution_count": null,
   "metadata": {},
   "outputs": [],
   "source": [
    "j = 1\n",
    "seq = []\n",
    "primes = pd.DataFrame({'p': eratosthenes(13)})"
   ]
  },
  {
   "cell_type": "code",
   "execution_count": null,
   "metadata": {},
   "outputs": [],
   "source": [
    "primes[f'p_{j}'] = (j % primes[f'p']) + 1\n",
    "seq.append(primes[f'p_{j}'].product())\n",
    "j += 1\n",
    "print(seq)\n",
    "primes"
   ]
  },
  {
   "cell_type": "code",
   "execution_count": null,
   "metadata": {},
   "outputs": [],
   "source": [
    "import pylab as plt\n",
    "import numpy as np\n",
    "\n",
    "X = np.linspace(0,2,1000)\n",
    "Y = X**2 + np.random.random(X.shape)\n",
    "\n",
    "plt.ion()\n",
    "graph = plt.plot(X,Y)[0]\n",
    "\n",
    "while True:\n",
    "    Y = X**2 + np.random.random(X.shape)\n",
    "    graph.set_ydata(Y)\n",
    "    plt.draw()"
   ]
  },
  {
   "cell_type": "code",
   "execution_count": null,
   "metadata": {},
   "outputs": [],
   "source": [
    "samples = [\n",
    "    '1,2',\n",
    "    '1 2',\n",
    "    '1, 2',\n",
    "    '1 ,2',\n",
    "    '1 , 2',\n",
    "    ' 1 , 2',\n",
    "    '1 , 2 ',\n",
    "    ' 1 , 2 ',\n",
    "    ' 1 ,, 2 ',\n",
    "    ' , 1 , , 2 , ',\n",
    "    '1,2',\n",
    "    '1: 2',\n",
    "    '1; 2',\n",
    "    '1 ,:2',\n",
    "    '1 ;, 2:',\n",
    "    ' 1 - 2',\n",
    "    '1 , :2 ',\n",
    "    ' 1: , 2 ',\n",
    "    ' 1 ,, 2 ',\n",
    "    ' ,; 1 :, :, 2 -, ',\n",
    "    ',:,',\n",
    "    '12',\n",
    "    '12,',\n",
    "    ' 12;,:'\n",
    "]\n",
    "\n",
    "import sys\n",
    "sys.path.append('..')\n",
    "from utils import collect\n",
    "import re\n",
    "from icecream import ic\n",
    "from typing import TypeAlias\n",
    "\n",
    "OPTS = 'View all? <Y.*>\\nView some? <a: int, b: int>\\nView one? <a: int>\\nView none? <anything>\\n:: '\n",
    "Response: TypeAlias = tuple[str|int|None, int|None]\n",
    "\n",
    "def supersplit(input: list[str]|str, *seps, ws_default=True, ws_always=False) -> list[str]:\n",
    "    input = collect(input, list, empty_if_none=True)\n",
    "    if (not seps and ws_default) or (ws_always and '' not in seps):\n",
    "        seps = ('',) + seps\n",
    "    outlist = []\n",
    "    for item in input: \n",
    "        outlist += item.split(seps[0]) if seps[0] else item.split()\n",
    "    outlist = [i for i in outlist if i]\n",
    "    if len(seps)==1:\n",
    "        return outlist\n",
    "    return supersplit(outlist, *seps[1:], ws_default=False)\n",
    "\n",
    "def confirm(instr: str, interp: str, tbc: Response) -> Response:\n",
    "    confirm_ = input(\n",
    "        f\"You entered {instr}. Did you mean {interp}?\\n\" +\n",
    "        \"Enter 'y' for yes, 'n' for no, or anything else to quit.\\n\" +\n",
    "        \":: \"\n",
    "    )\n",
    "    y, n = confirm_.lower()=='y', confirm_.lower()=='n'\n",
    "    if n:\n",
    "        return parse_input(\n",
    "            input(\n",
    "                'Try again.\\n' +\n",
    "                OPTS\n",
    "            )\n",
    "        )\n",
    "    elif not y:\n",
    "        return (None, None)\n",
    "    else:\n",
    "        return tbc\n",
    "    \n",
    "def parse_input(instr: str) -> Response:\n",
    "    if not instr:\n",
    "        return None, None\n",
    "    instr_l = supersplit(instr, '', *list(\"\\\"',:;\"))\n",
    "    if instr_l[0].lower().startswith('y'):\n",
    "        resp = ('y', None)\n",
    "        if instr_l[0].lower() not in ['y', 'yes']:\n",
    "            return confirm(instr, 'yes', resp)\n",
    "        return resp\n",
    "    if re.fullmatch(f'[0-9][0-9]*', instr_l[0]):\n",
    "        start, end = int(instr_l[0]), None\n",
    "        hmm = False\n",
    "        if len(instr_l) == 1:\n",
    "            return start, None\n",
    "        if re.fullmatch(f'[0-9][0-9]*', instr_l[1]):\n",
    "            end = int(instr_l[1])\n",
    "            if end < start:\n",
    "                start, end = end, start\n",
    "            end = end if end-start else None\n",
    "            if len(instr_l) > 2:\n",
    "                hmm = True\n",
    "        else:\n",
    "            hmm = True\n",
    "        if hmm:\n",
    "            return confirm(instr, (start, end) if end else start, (start, end))\n",
    "        return start, end\n",
    "    return None, None"
   ]
  },
  {
   "cell_type": "code",
   "execution_count": null,
   "metadata": {},
   "outputs": [],
   "source": [
    "\n",
    "import sys\n",
    "sys.path.append('..')\n",
    "from utils import collect\n",
    "from logtools import MiniLog\n",
    "\n",
    "ml = MiniLog()\n",
    "_ = ml.pass_through()\n",
    "\n",
    "_(1,2,3,4,5,6)"
   ]
  },
  {
   "cell_type": "code",
   "execution_count": null,
   "metadata": {},
   "outputs": [],
   "source": [
    "x = _(1)\n",
    "print(x)\n",
    "ml.log"
   ]
  },
  {
   "cell_type": "code",
   "execution_count": null,
   "metadata": {},
   "outputs": [],
   "source": [
    "class SuperTuple(tuple):\n",
    "    def __new__(self, *args):\n",
    "        return tuple.__new__(SuperTuple, args)\n",
    "\n",
    "    def __getitem__(self, *idcs):\n",
    "        out = ()\n",
    "        for i in idcs[0]:\n",
    "            if isinstance(i, int):\n",
    "                i = slice(i, i+1)\n",
    "            out += super(SuperTuple, self).__getitem__(i)\n",
    "        return out\n",
    "    \n",
    "st = SuperTuple(0,1,2,3,4,5,65,7,8,9)\n",
    "\n",
    "slices = st[1:3, 0, -1::-1, :]\n",
    "print(slices)"
   ]
  },
  {
   "cell_type": "code",
   "execution_count": null,
   "metadata": {},
   "outputs": [],
   "source": [
    "lemon = (0,1,2,3,4,5,65,7,8,9)\n",
    "for ice in slices[0]:\n",
    "    print(lemon[ice])\n",
    "slices"
   ]
  },
  {
   "cell_type": "code",
   "execution_count": null,
   "metadata": {},
   "outputs": [],
   "source": [
    "lemon\n"
   ]
  },
  {
   "cell_type": "code",
   "execution_count": null,
   "metadata": {},
   "outputs": [],
   "source": [
    "f(ll1, m1)"
   ]
  },
  {
   "cell_type": "code",
   "execution_count": null,
   "metadata": {},
   "outputs": [],
   "source": [
    "ls = [0, 1, 2]\n",
    "ls.append(None)\n",
    "ls"
   ]
  },
  {
   "cell_type": "code",
   "execution_count": null,
   "metadata": {},
   "outputs": [],
   "source": [
    "max(3,5)"
   ]
  },
  {
   "cell_type": "code",
   "execution_count": 3,
   "metadata": {},
   "outputs": [],
   "source": [
    "df = pd.DataFrame({'x': [2, 3, 4, 5, 6]})"
   ]
  },
  {
   "cell_type": "code",
   "execution_count": 8,
   "metadata": {},
   "outputs": [
    {
     "name": "stdout",
     "output_type": "stream",
     "text": [
      "<class 'numpy.bool_'>: True\n"
     ]
    }
   ],
   "source": [
    "df = pd.DataFrame({\n",
    "    'x': [2, 3, 4, 5, 6],\n",
    "    'P': [True, False, True, False, True]\n",
    "})\n",
    "x = np.float64(2)\n",
    "y = np.float64(6)\n",
    "z = 6\n",
    "print(f\"{type(df.P[2])}: {df.P[2]}\")\n"
   ]
  },
  {
   "cell_type": "code",
   "execution_count": 7,
   "metadata": {},
   "outputs": [
    {
     "name": "stdout",
     "output_type": "stream",
     "text": [
      "<class 'numpy.float64'>: 2.0\n",
      "<class 'numpy.float64'>: 6.0\n",
      "<class 'int'> 6\n",
      "<class 'numpy.int64'>: 2\n",
      "<class 'numpy.int64'>: 6\n",
      "<class 'numpy.float64'>: 8.0\n",
      "<class 'numpy.float64'>: 216.0\n",
      "<class 'int'> 216\n",
      "<class 'numpy.int64'>: 8\n",
      "<class 'numpy.int64'>: 216\n",
      "<class 'numpy.float64'>: 512.0\n",
      "<class 'numpy.float64'>: 10077696.0\n",
      "<class 'int'> 10077696\n",
      "<class 'numpy.int64'>: 512\n",
      "<class 'numpy.int64'>: 10077696\n",
      "<class 'numpy.float64'>: 134217728.0\n",
      "<class 'numpy.float64'>: 1.0234903690774692e+21\n",
      "<class 'int'> 1023490369077469249536\n",
      "<class 'numpy.int64'>: 134217728\n",
      "<class 'numpy.int64'>: 8919445023443910656\n",
      "<class 'numpy.float64'>: 2.4178516392292583e+24\n",
      "<class 'numpy.float64'>: 1.0721394614761024e+63\n",
      "<class 'int'> 1072139461476102327188594863736626789369714638009610458844102656\n",
      "<class 'numpy.int64'>: 0\n",
      "<class 'numpy.int64'>: 0\n",
      "<class 'numpy.float64'>: 1.4134776518227075e+73\n",
      "<class 'numpy.float64'>: 1.2324061112431748e+189\n",
      "<class 'int'> 1232406111243174653059858033931395645750109691593297366462918115213294777385885342193406555126439853538535834325211970805891242706700804842800629666756850473146325522155528117527457789116416\n",
      "<class 'numpy.int64'>: 0\n",
      "<class 'numpy.int64'>: 0\n",
      "<class 'numpy.float64'>: 2.8240139587082175e+219\n",
      "<class 'numpy.float64'>: inf\n",
      "<class 'int'> 1871808993809418829790429103426882438786662254175963786650952773814712310606698321011165848131196892251161574369057615641810535967104187538700298832722640576517116278582720887168586295007968103679386922614571996591200280873609306983580580666332290151834139215032106867630810528338936960765130041151054381654194672299415814998115660809431796111841585090790337515774456074622952569226269534810389234543305334226780413915733224322380948088608135868158467102280274970520938099205113411139212893173423748274963269804037294691342133382711924733058746362687963739052935479296\n",
      "<class 'numpy.int64'>: 0\n",
      "<class 'numpy.int64'>: 0\n",
      "<class 'numpy.float64'>: inf\n",
      "<class 'numpy.float64'>: inf\n",
      "<class 'int'> 6558198975769087584006225431194103238140522870769789911894574469884072272692831879133597434703965225618486406377967796241586571878839048849613058483873010555449302163672925891977218609319379229578944759536228814514800735388406678031748221659278245279123462306536801226704311107447461864117997009884066484106170347595679058683967677141419603914638616341095132259039940763261608829121250729312521835487445816660962918872552570974194286972345128199439999111961606141963907483195422102038071021403063857563769726736338735510688466709722594646061763155159705195265633604926226136431105787573267485684467205031454473990307362769949356948795147126405464301460218657449898819934529607229667706457608497651678359757415326216483883675045637724240794454103163354379427980777277552387874614630672776555162995951284560554202142137599225890067162543388403160271129089875561038976747823485669393045686125514998250275530335350584941736152052773133207104851810162774671723397915119165150090170982829356966736482818887918503877861783972092225575089811421148771517833870165694122883731580088945533941892449530664264725294156929990990958405058611798578626370269334357678040344207203897121576506275071559558080819122187448124708233681840797902156288218251997946997645272721591313140655131730925689825166746702113963772084340954665955734272263596440266439312440609808898907582085514957269897057505859107334232064875793216515855813109360311828414645247662892241757508612258838312247532643567732429037922092309849330705188746900948681916249267938297931142385465275723146907082781982481774978493328122430580631593941403207808596145184391479072427028877054661115894563876403924863346880038872085036913690665327415513207418126336\n",
      "<class 'numpy.int64'>: 0\n",
      "<class 'numpy.int64'>: 0\n",
      "<class 'numpy.float64'>: inf\n",
      "<class 'numpy.float64'>: inf\n",
      "<class 'int'> "
     ]
    },
    {
     "name": "stderr",
     "output_type": "stream",
     "text": [
      "/tmp/ipykernel_610075/1547432354.py:12: RuntimeWarning: overflow encountered in scalar power\n",
      "  y **= 3\n",
      "/tmp/ipykernel_610075/1547432354.py:13: RuntimeWarning: overflow encountered in scalar power\n",
      "  x **= 3\n"
     ]
    },
    {
     "ename": "ValueError",
     "evalue": "Exceeds the limit (4300 digits) for integer string conversion; use sys.set_int_max_str_digits() to increase the limit",
     "output_type": "error",
     "traceback": [
      "\u001b[0;31m---------------------------------------------------------------------------\u001b[0m",
      "\u001b[0;31mValueError\u001b[0m                                Traceback (most recent call last)",
      "\u001b[1;32m/home/dave/CodeToJoy/philoso-py/notebooks/Untitled7.ipynb Cell 18\u001b[0m line \u001b[0;36m5\n\u001b[1;32m      <a href='vscode-notebook-cell:/home/dave/CodeToJoy/philoso-py/notebooks/Untitled7.ipynb#X26sZmlsZQ%3D%3D?line=2'>3</a>\u001b[0m \u001b[39mprint\u001b[39m(\u001b[39mf\u001b[39m\u001b[39m\"\u001b[39m\u001b[39m{\u001b[39;00m\u001b[39mtype\u001b[39m(x)\u001b[39m}\u001b[39;00m\u001b[39m: \u001b[39m\u001b[39m{\u001b[39;00mx\u001b[39m}\u001b[39;00m\u001b[39m\"\u001b[39m)\n\u001b[1;32m      <a href='vscode-notebook-cell:/home/dave/CodeToJoy/philoso-py/notebooks/Untitled7.ipynb#X26sZmlsZQ%3D%3D?line=3'>4</a>\u001b[0m \u001b[39mprint\u001b[39m(\u001b[39mf\u001b[39m\u001b[39m\"\u001b[39m\u001b[39m{\u001b[39;00m\u001b[39mtype\u001b[39m(y)\u001b[39m}\u001b[39;00m\u001b[39m: \u001b[39m\u001b[39m{\u001b[39;00my\u001b[39m}\u001b[39;00m\u001b[39m\"\u001b[39m)\n\u001b[0;32m----> <a href='vscode-notebook-cell:/home/dave/CodeToJoy/philoso-py/notebooks/Untitled7.ipynb#X26sZmlsZQ%3D%3D?line=4'>5</a>\u001b[0m \u001b[39mprint\u001b[39;49m(\u001b[39mtype\u001b[39;49m(z), z)\n\u001b[1;32m      <a href='vscode-notebook-cell:/home/dave/CodeToJoy/philoso-py/notebooks/Untitled7.ipynb#X26sZmlsZQ%3D%3D?line=5'>6</a>\u001b[0m \u001b[39mprint\u001b[39m(\u001b[39mf\u001b[39m\u001b[39m\"\u001b[39m\u001b[39m{\u001b[39;00m\u001b[39mtype\u001b[39m(df\u001b[39m.\u001b[39mx[\u001b[39m0\u001b[39m])\u001b[39m}\u001b[39;00m\u001b[39m: \u001b[39m\u001b[39m{\u001b[39;00mdf\u001b[39m.\u001b[39mx[\u001b[39m0\u001b[39m]\u001b[39m}\u001b[39;00m\u001b[39m\"\u001b[39m)\n\u001b[1;32m      <a href='vscode-notebook-cell:/home/dave/CodeToJoy/philoso-py/notebooks/Untitled7.ipynb#X26sZmlsZQ%3D%3D?line=6'>7</a>\u001b[0m \u001b[39mprint\u001b[39m(\u001b[39mf\u001b[39m\u001b[39m\"\u001b[39m\u001b[39m{\u001b[39;00m\u001b[39mtype\u001b[39m(df\u001b[39m.\u001b[39mx[\u001b[39m4\u001b[39m])\u001b[39m}\u001b[39;00m\u001b[39m: \u001b[39m\u001b[39m{\u001b[39;00mdf\u001b[39m.\u001b[39mx[\u001b[39m4\u001b[39m]\u001b[39m}\u001b[39;00m\u001b[39m\"\u001b[39m)\n",
      "\u001b[0;31mValueError\u001b[0m: Exceeds the limit (4300 digits) for integer string conversion; use sys.set_int_max_str_digits() to increase the limit"
     ]
    }
   ],
   "source": [
    "aleph = False\n",
    "while not aleph:\n",
    "    print(f\"{type(x)}: {x}\")\n",
    "    print(f\"{type(y)}: {y}\")\n",
    "    print(type(z), z)\n",
    "    print(f\"{type(df.x[0])}: {df.x[0]}\")\n",
    "    print(f\"{type(df.x[4])}: {df.x[4]}\")\n",
    "    if df.x[0] == np.inf:\n",
    "        aleph = True\n",
    "    else:\n",
    "        df.x **= 3\n",
    "        y **= 3\n",
    "        x **= 3\n",
    "        z **= 3\n",
    "    \n"
   ]
  },
  {
   "cell_type": "code",
   "execution_count": null,
   "metadata": {},
   "outputs": [],
   "source": [
    "float = np.float64"
   ]
  },
  {
   "cell_type": "code",
   "execution_count": null,
   "metadata": {},
   "outputs": [],
   "source": [
    "type(1.0)"
   ]
  },
  {
   "cell_type": "code",
   "execution_count": 9,
   "metadata": {},
   "outputs": [
    {
     "ename": "TypeError",
     "evalue": "NoneType takes no arguments",
     "output_type": "error",
     "traceback": [
      "\u001b[0;31m---------------------------------------------------------------------------\u001b[0m",
      "\u001b[0;31mTypeError\u001b[0m                                 Traceback (most recent call last)",
      "\u001b[1;32m/home/dave/CodeToJoy/philoso-py/notebooks/Untitled7.ipynb Cell 21\u001b[0m line \u001b[0;36m1\n\u001b[0;32m----> <a href='vscode-notebook-cell:/home/dave/CodeToJoy/philoso-py/notebooks/Untitled7.ipynb#X32sZmlsZQ%3D%3D?line=0'>1</a>\u001b[0m \u001b[39mtype\u001b[39;49m(\u001b[39mNone\u001b[39;49;00m)(\u001b[39m'\u001b[39;49m\u001b[39mbanana\u001b[39;49m\u001b[39m'\u001b[39;49m)\n",
      "\u001b[0;31mTypeError\u001b[0m: NoneType takes no arguments"
     ]
    }
   ],
   "source": [
    "type(None)('banana')"
   ]
  },
  {
   "cell_type": "code",
   "execution_count": 27,
   "metadata": {},
   "outputs": [],
   "source": [
    "class D:\n",
    "    TYPES = {\n",
    "        int: np.int64,\n",
    "        float: np.float64,\n",
    "        complex: np.complex128,\n",
    "        bool: np.bool_,\n",
    "        str: np.string_,\n",
    "        list: np.array\n",
    "    }\n",
    "\n",
    "    def f(*arg):\n",
    "        return False\n",
    "\n",
    "    def __new__(self, val):\n",
    "        t = type(val)\n",
    "        if t in D.TYPES:\n",
    "            return D.TYPES[t](val)\n",
    "        return val"
   ]
  },
  {
   "cell_type": "code",
   "execution_count": 28,
   "metadata": {},
   "outputs": [
    {
     "name": "stdout",
     "output_type": "stream",
     "text": [
      "<class 'numpy.ndarray'>\n",
      "<class 'numpy.int64'>\n"
     ]
    }
   ],
   "source": [
    "arr = D([1,2,3])\n",
    "print(type(arr))\n",
    "print(type(arr[1]))"
   ]
  },
  {
   "cell_type": "code",
   "execution_count": null,
   "metadata": {},
   "outputs": [],
   "source": []
  }
 ],
 "metadata": {
  "kernelspec": {
   "display_name": "Python 3",
   "language": "python",
   "name": "python3"
  },
  "language_info": {
   "codemirror_mode": {
    "name": "ipython",
    "version": 3
   },
   "file_extension": ".py",
   "mimetype": "text/x-python",
   "name": "python",
   "nbconvert_exporter": "python",
   "pygments_lexer": "ipython3",
   "version": "3.11.5"
  }
 },
 "nbformat": 4,
 "nbformat_minor": 4
}
