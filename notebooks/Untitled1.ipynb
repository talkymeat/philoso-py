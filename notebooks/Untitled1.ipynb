{
 "cells": [
  {
   "cell_type": "code",
   "execution_count": 1,
   "metadata": {},
   "outputs": [
    {
     "name": "stdout",
     "output_type": "stream",
     "text": [
      "primt\n"
     ]
    }
   ],
   "source": [
    "import operators as ops\n",
    "from trees import *\n",
    "import pandas as pd\n",
    "import numpy as np\n",
    "#from pandas.core.arrays.string_ import StringDtype\n",
    "print('primt')"
   ]
  },
  {
   "cell_type": "code",
   "execution_count": 12,
   "metadata": {},
   "outputs": [],
   "source": [
    "class _DoesNothing:\n",
    "    pass\n",
    "\n",
    "dtype_dict = {\n",
    "     pd.core.arrays.string_.StringDtype: str   \n",
    "}\n",
    "\n",
    "type_dict = {\n",
    "    str: 's',\n",
    "    int: 'i',\n",
    "    float: 'f',\n",
    "    complex: 'c',\n",
    "    bool: 'b',\n",
    "    _DoesNothing: 'x'\n",
    "}\n",
    "\n",
    "def _type_ify(arg):\n",
    "    if type(arg) == pd.Series:\n",
    "        dt = dtype_dict.get(arg.dtype, dtype_dict.get(type(arg.dtype), False))\n",
    "        if dt:\n",
    "            return dt\n",
    "        else:\n",
    "            for k in type_dict.keys():\n",
    "                if arg.dtype == k:\n",
    "                    dtype_dict[arg.dtype] = k\n",
    "                    return k\n",
    "            dtype_dict[arg.dtype] = _DoesNothing\n",
    "            return _DoesNothing\n",
    "    return type(arg)\n",
    "        \n",
    "        "
   ]
  },
  {
   "cell_type": "code",
   "execution_count": 3,
   "metadata": {},
   "outputs": [
    {
     "data": {
      "text/html": [
       "<div>\n",
       "<style scoped>\n",
       "    .dataframe tbody tr th:only-of-type {\n",
       "        vertical-align: middle;\n",
       "    }\n",
       "\n",
       "    .dataframe tbody tr th {\n",
       "        vertical-align: top;\n",
       "    }\n",
       "\n",
       "    .dataframe thead th {\n",
       "        text-align: right;\n",
       "    }\n",
       "</style>\n",
       "<table border=\"1\" class=\"dataframe\">\n",
       "  <thead>\n",
       "    <tr style=\"text-align: right;\">\n",
       "      <th></th>\n",
       "      <th>strings</th>\n",
       "      <th>ints</th>\n",
       "      <th>floats</th>\n",
       "      <th>complexes</th>\n",
       "      <th>bools</th>\n",
       "      <th>dates</th>\n",
       "    </tr>\n",
       "  </thead>\n",
       "  <tbody>\n",
       "    <tr>\n",
       "      <th>0</th>\n",
       "      <td>one</td>\n",
       "      <td>1</td>\n",
       "      <td>1.0</td>\n",
       "      <td>1.000000+4.000000j</td>\n",
       "      <td>True</td>\n",
       "      <td>2013-01-01</td>\n",
       "    </tr>\n",
       "    <tr>\n",
       "      <th>1</th>\n",
       "      <td>two</td>\n",
       "      <td>2</td>\n",
       "      <td>2.0</td>\n",
       "      <td>2.000000+3.000000j</td>\n",
       "      <td>False</td>\n",
       "      <td>2013-01-02</td>\n",
       "    </tr>\n",
       "    <tr>\n",
       "      <th>2</th>\n",
       "      <td>three</td>\n",
       "      <td>3</td>\n",
       "      <td>3.0</td>\n",
       "      <td>3.000000+2.000000j</td>\n",
       "      <td>True</td>\n",
       "      <td>2013-01-03</td>\n",
       "    </tr>\n",
       "    <tr>\n",
       "      <th>3</th>\n",
       "      <td>four</td>\n",
       "      <td>4</td>\n",
       "      <td>4.0</td>\n",
       "      <td>4.000000+1.000000j</td>\n",
       "      <td>False</td>\n",
       "      <td>2013-01-04</td>\n",
       "    </tr>\n",
       "  </tbody>\n",
       "</table>\n",
       "</div>"
      ],
      "text/plain": [
       "  strings  ints  floats           complexes  bools      dates\n",
       "0     one     1     1.0  1.000000+4.000000j   True 2013-01-01\n",
       "1     two     2     2.0  2.000000+3.000000j  False 2013-01-02\n",
       "2   three     3     3.0  3.000000+2.000000j   True 2013-01-03\n",
       "3    four     4     4.0  4.000000+1.000000j  False 2013-01-04"
      ]
     },
     "execution_count": 3,
     "metadata": {},
     "output_type": "execute_result"
    }
   ],
   "source": [
    "df = pd.DataFrame(\n",
    "    {\n",
    "        \"strings\": [\"one\", \"two\", \"three\", \"four\"],\n",
    "        \"ints\": [1,2,3,4],\n",
    "        \"floats\": [1.0, 2.0, 3.0, 4.0],\n",
    "        \"complexes\": [1+4j, 2+3j, 3+2j, 4+1j],\n",
    "        \"bools\": [True, False, True, False]\n",
    "    }\n",
    ")\n",
    "df[\"strings\"] = df[\"strings\"].astype(\"string\")\n",
    "df[\"dates\"] = pd.Series(pd.date_range(\"20130101\", periods=4))\n",
    "df"
   ]
  },
  {
   "cell_type": "code",
   "execution_count": 13,
   "metadata": {
    "scrolled": true
   },
   "outputs": [
    {
     "name": "stdout",
     "output_type": "stream",
     "text": [
      "<class 'str'>\n",
      "<class 'int'>\n",
      "<class 'float'>\n",
      "<class 'complex'>\n",
      "<class 'bool'>\n",
      "<class 'NoneType'>\n",
      "<class 'str'>\n",
      "<class 'int'>\n",
      "<class 'float'>\n",
      "<class 'complex'>\n",
      "<class 'bool'>\n",
      "<class '__main__._DoesNothing'>\n"
     ]
    }
   ],
   "source": [
    "for t in [\"str\", 0, 0.0, 0.0+1j, True, None]:\n",
    "    print(type_let(t))\n",
    "    \n",
    "for h in df:\n",
    "    print(type_let(df[h]))"
   ]
  },
  {
   "cell_type": "code",
   "execution_count": 9,
   "metadata": {},
   "outputs": [
    {
     "data": {
      "text/plain": [
       "True"
      ]
     },
     "execution_count": 9,
     "metadata": {},
     "output_type": "execute_result"
    }
   ],
   "source": [
    "bool(_DoesNothing)"
   ]
  },
  {
   "cell_type": "code",
   "execution_count": null,
   "metadata": {},
   "outputs": [],
   "source": [
    "df[\"dates\"] = pd.Series(pd.date_range(\"20130101\", periods=4))\n",
    "df"
   ]
  },
  {
   "cell_type": "code",
   "execution_count": null,
   "metadata": {
    "scrolled": true
   },
   "outputs": [],
   "source": [
    "for name in list(df):\n",
    "    print(type(np.zeros(1,df[name].dtype)[0].item()))"
   ]
  },
  {
   "cell_type": "code",
   "execution_count": null,
   "metadata": {},
   "outputs": [],
   "source": [
    "df[\"strings\"].dtype == StringDtype"
   ]
  },
  {
   "cell_type": "code",
   "execution_count": null,
   "metadata": {},
   "outputs": [],
   "source": [
    "tree0 = tree(\"([S]([NP]([PN]'she'))([VP]([V]'saw')([S]([NP]([NP]([Det]'the')([N]'dog'))([PP]([Prep]'with')([NP]([Det]'the')([N]'telescope'))))([VP]([V]'observing')([NP]([PN]'neptune'))))))\", treebank = tb)\n",
    "tb.print_all_labels()"
   ]
  },
  {
   "cell_type": "code",
   "execution_count": null,
   "metadata": {},
   "outputs": [],
   "source": [
    "print('ptint')\n",
    "tree0[0].delete()\n",
    "tree0"
   ]
  },
  {
   "cell_type": "code",
   "execution_count": null,
   "metadata": {},
   "outputs": [],
   "source": [
    "tb.print_all_labels()"
   ]
  },
  {
   "cell_type": "code",
   "execution_count": null,
   "metadata": {},
   "outputs": [],
   "source": [
    "op = [ops.SUM, ops.PROD, ops.SQ, ops.EQ, ops.NOT, ops.OR, ops.AND]\n",
    "tlt = TypeLabelledTreebank(op)\n",
    "gpt0 = tlt.tree(\"([bool]<AND>([bool]<EQ>([float]<SQ>([int]6))([float]<PROD>([int]9)([float]<SUM>([float]2.5)([float]1.5))))([bool]<OR>([bool]<NOT>([bool]<EQ>([int]0)([int]1)))([bool]False)))\")\n"
   ]
  },
  {
   "cell_type": "code",
   "execution_count": null,
   "metadata": {},
   "outputs": [],
   "source": [
    "tlt.print_all_labels()"
   ]
  },
  {
   "cell_type": "code",
   "execution_count": null,
   "metadata": {},
   "outputs": [],
   "source": [
    "gpt_err0 = tlt.tree(\"([bool]<AND>([bool]<EQ>([float]<SQ>([int]6.0))([float]<PROD>([int]9)([float]<SUM>([float]2.5)([float]1.5))))([bool]<OR>([bool]<NOT>([bool]<EQ>([int]0)([int]1)))([bool]False)))\")"
   ]
  },
  {
   "cell_type": "code",
   "execution_count": null,
   "metadata": {},
   "outputs": [],
   "source": [
    "tlt.print_all_labels()"
   ]
  },
  {
   "cell_type": "code",
   "execution_count": null,
   "metadata": {},
   "outputs": [],
   "source": []
  }
 ],
 "metadata": {
  "kernelspec": {
   "display_name": "Python 3",
   "language": "python",
   "name": "python3"
  },
  "language_info": {
   "codemirror_mode": {
    "name": "ipython",
    "version": 3
   },
   "file_extension": ".py",
   "mimetype": "text/x-python",
   "name": "python",
   "nbconvert_exporter": "python",
   "pygments_lexer": "ipython3",
   "version": "3.6.10"
  }
 },
 "nbformat": 4,
 "nbformat_minor": 4
}
