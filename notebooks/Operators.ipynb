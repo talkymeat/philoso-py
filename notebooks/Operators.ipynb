{
 "cells": [
  {
   "cell_type": "code",
   "execution_count": 1,
   "metadata": {},
   "outputs": [],
   "source": [
    "import pandas as pd\n",
    "import numpy as np\n",
    "import operators as ops\n",
    "from functools import reduce"
   ]
  },
  {
   "cell_type": "code",
   "execution_count": null,
   "metadata": {},
   "outputs": [],
   "source": [
    "df = pd.DataFrame(\n",
    "    {\n",
    "        \"s1\": [\"one\", \"two\", \"three\", \"four\"],\n",
    "        \"s2\": [\"something's\", \"got\", \"to\", \"give\"],\n",
    "        \"i1\": [1,2,3,4],\n",
    "        \"i2\": [42, 69, 420, 666],\n",
    "        \"f1\": [1.0, 2.0, 3.0, 4.0],\n",
    "        \"f2\": [3.142, 2.718, 1.414, 1.618],\n",
    "        \"c1\": [1+4j, 2+3j, 3+2j, 4+1j],\n",
    "        \"c2\": [0.5+0.866j, -0.5+0.866j, -1+0j, -0.5-0.866j],\n",
    "        \"b1\": [False, False, True, True],\n",
    "        \"b2\": [True, False, True, False]\n",
    "    }\n",
    ")\n",
    "df[\"s1\"] = df[\"s1\"].astype(\"string\")\n",
    "df[\"s2\"] = df[\"s2\"].astype(\"string\")\n",
    "ops.CONCAT(df[\"s1\"], df[\"s2\"])"
   ]
  },
  {
   "cell_type": "code",
   "execution_count": null,
   "metadata": {},
   "outputs": [],
   "source": [
    "d1 = pd.Series([13,17,19,23])\n",
    "d2 = pd.Series([29,31,37,41])\n",
    "d3 = pd.Series([2,3,5,7])\n",
    "d_no = pd.Series([43,47,53,59,61])\n",
    "s1 = pd.Series([9])\n",
    "s2 = pd.Series([11])\n",
    "w1 = pd.Series([\"one\", 'two', 'three', 'four'], dtype = \"string\")\n",
    "w2 = pd.Series([\"something's\"], dtype = \"string\")\n",
    "w3 = pd.Series(['got'], dtype = \"string\")\n",
    "w4 = pd.Series(['to'], dtype = \"string\")\n",
    "w5 = pd.Series(['give'], dtype = \"string\")"
   ]
  },
  {
   "cell_type": "code",
   "execution_count": null,
   "metadata": {},
   "outputs": [],
   "source": [
    "def arg_lengths(*args):\n",
    "    leng = 1\n",
    "    for arg in args:\n",
    "        if not len(arg) in [1, leng]:\n",
    "            if leng == 1:\n",
    "                leng = len(arg)\n",
    "            else:\n",
    "                raise ValueError\n",
    "    return [pd.Series([arg[0]]*leng) if len(arg) == 1 else arg for arg in args]\n",
    "            "
   ]
  },
  {
   "cell_type": "code",
   "execution_count": 2,
   "metadata": {},
   "outputs": [],
   "source": [
    "df = pd.DataFrame(\n",
    "    {\n",
    "        \"s1\": [\"one\", \"two\", \"three\", \"four\"],\n",
    "        \"s2\": [\"something's\", \"got\", \"to\", \"give\"],\n",
    "        \"i1\": [1,2,3,4],\n",
    "        \"i2\": [42, 69, 420, 666],\n",
    "        \"i3\": [42, 2, 420, 4],\n",
    "        \"f1\": [1.0, 2.0, 3.0, 4.0],\n",
    "        \"f2\": [3.142, 2.718, 1.414, 1.618],\n",
    "        \"c1\": [1+4j, 2+3j, 3+2j, 4+1j],\n",
    "        \"c2\": [0.5+0.866j, -0.5+0.866j, -1+0j, -0.5-0.866j],\n",
    "        \"b1\": [False, False, True, True],\n",
    "        \"b2\": [True, False, True, False]\n",
    "    }\n",
    ")\n",
    "df1 = pd.DataFrame(\n",
    "    {\n",
    "        \"w1\": [\"something's\"],\n",
    "        \"w2\": [\"got\"],\n",
    "        \"w3\": [\"to\"],\n",
    "        \"w4\": [\"give\"],\n",
    "        \"i1\": [5],\n",
    "        \"i2\": [404],\n",
    "        \"f1\": [1.999],\n",
    "        \"f2\": [9.0],\n",
    "        \"f3\": [3.0],\n",
    "        \"c1\": [1+1j],\n",
    "        \"c2\": [0.1+0.9j],\n",
    "        \"b1\": [False],\n",
    "        \"b2\": [True]\n",
    "    }\n",
    ")"
   ]
  },
  {
   "cell_type": "code",
   "execution_count": 3,
   "metadata": {},
   "outputs": [
    {
     "data": {
      "text/plain": [
       "0      (one, something's, got, to, give)\n",
       "1      (two, something's, got, to, give)\n",
       "2    (three, something's, got, to, give)\n",
       "3     (four, something's, got, to, give)\n",
       "dtype: object"
      ]
     },
     "execution_count": 3,
     "metadata": {},
     "output_type": "execute_result"
    }
   ],
   "source": [
    "ops.ID(df[\"s1\"], df1[\"w1\"], df1[\"w2\"], df1[\"w3\"], df1[\"w4\"])"
   ]
  },
  {
   "cell_type": "code",
   "execution_count": null,
   "metadata": {},
   "outputs": [],
   "source": [
    "args = (df[\"s1\"], \"something's\", \"got\", \"to\", \"give\")\n",
    "tuple(arg if type(arg)==pd.Series else pd.Series([arg], dtype = ops.Operator.dtype_dict.get(type(arg), type(arg))) for arg in args)"
   ]
  },
  {
   "cell_type": "code",
   "execution_count": null,
   "metadata": {},
   "outputs": [],
   "source": [
    "ops.Operator.dtype_dict.get(type(\"arg\"), type(\"arg\"))"
   ]
  },
  {
   "cell_type": "code",
   "execution_count": null,
   "metadata": {},
   "outputs": [],
   "source": [
    "df[\"i1\"] + df[\"i2\"]"
   ]
  },
  {
   "cell_type": "code",
   "execution_count": null,
   "metadata": {},
   "outputs": [],
   "source": [
    "sodf = pd.DataFrame({\n",
    "    \"id1\": [\"first10\",\"second3\", \"first2\", \"first10\", \"second8\"],\n",
    "    \"id2\": [\"second5\", \"first19\", \"second7\", \"second10\", \"first22\"],\n",
    "    \"val\": [10, 14, 8, 1, 9]\n",
    "})"
   ]
  },
  {
   "cell_type": "code",
   "execution_count": null,
   "metadata": {},
   "outputs": [],
   "source": [
    "def conditional_swap(row):\n",
    "    if row[\"id1\"].startswith(\"second\"):\n",
    "        row[\"id1\"], row[\"id2\"] = row[\"id2\"], row[\"id1\"]\n",
    "    return row\n",
    "        \n",
    "sodf.apply(conditional_swap, axis=1)"
   ]
  },
  {
   "cell_type": "code",
   "execution_count": 4,
   "metadata": {},
   "outputs": [],
   "source": [
    "def steps(x):\n",
    "    min_dist = 360.0/x\n",
    "    mult = (x/2) + (0.5 if x%2 else 1)\n",
    "    step_list = []\n",
    "    count = 1\n",
    "    while len(step_list) < x:\n",
    "        for i in range(x):\n",
    "            nxt = (i * mult * min_dist)%360\n",
    "            if nxt in step_list:\n",
    "                mult += 1\n",
    "                step_list = []\n",
    "                count += 1\n",
    "                break\n",
    "            else:\n",
    "                step_list.append(nxt)\n",
    "    #print(step_list)\n",
    "    #print(sorted(step_list))\n",
    "    #print(mult)\n",
    "    return count"
   ]
  },
  {
   "cell_type": "code",
   "execution_count": 5,
   "metadata": {},
   "outputs": [
    {
     "data": {
      "text/plain": [
       "2"
      ]
     },
     "execution_count": 5,
     "metadata": {},
     "output_type": "execute_result"
    }
   ],
   "source": [
    "max([steps(i) for i in range(1, 10000)])"
   ]
  },
  {
   "cell_type": "code",
   "execution_count": null,
   "metadata": {},
   "outputs": [],
   "source": [
    "steps(9)"
   ]
  },
  {
   "cell_type": "code",
   "execution_count": null,
   "metadata": {},
   "outputs": [],
   "source": []
  }
 ],
 "metadata": {
  "kernelspec": {
   "display_name": "Python 3",
   "language": "python",
   "name": "python3"
  },
  "language_info": {
   "codemirror_mode": {
    "name": "ipython",
    "version": 3
   },
   "file_extension": ".py",
   "mimetype": "text/x-python",
   "name": "python",
   "nbconvert_exporter": "python",
   "pygments_lexer": "ipython3",
   "version": "3.6.10"
  }
 },
 "nbformat": 4,
 "nbformat_minor": 4
}
