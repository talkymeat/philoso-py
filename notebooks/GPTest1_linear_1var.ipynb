{
 "cells": [
  {
   "cell_type": "code",
   "execution_count": 1,
   "metadata": {},
   "outputs": [],
   "source": [
    "from gp import GPTreebank\n",
    "import pandas as pd\n",
    "import operators as ops\n",
    "import seaborn as sns\n",
    "from matplotlib import pyplot as plt"
   ]
  },
  {
   "cell_type": "code",
   "execution_count": 2,
   "metadata": {},
   "outputs": [
    {
     "data": {
      "text/html": [
       "<div>\n",
       "<style scoped>\n",
       "    .dataframe tbody tr th:only-of-type {\n",
       "        vertical-align: middle;\n",
       "    }\n",
       "\n",
       "    .dataframe tbody tr th {\n",
       "        vertical-align: top;\n",
       "    }\n",
       "\n",
       "    .dataframe thead th {\n",
       "        text-align: right;\n",
       "    }\n",
       "</style>\n",
       "<table border=\"1\" class=\"dataframe\">\n",
       "  <thead>\n",
       "    <tr style=\"text-align: right;\">\n",
       "      <th></th>\n",
       "      <th>x</th>\n",
       "      <th>y</th>\n",
       "    </tr>\n",
       "  </thead>\n",
       "  <tbody>\n",
       "    <tr>\n",
       "      <th>0</th>\n",
       "      <td>-100.0</td>\n",
       "      <td>-687.0</td>\n",
       "    </tr>\n",
       "    <tr>\n",
       "      <th>1</th>\n",
       "      <td>-99.0</td>\n",
       "      <td>-680.0</td>\n",
       "    </tr>\n",
       "    <tr>\n",
       "      <th>2</th>\n",
       "      <td>-98.0</td>\n",
       "      <td>-673.0</td>\n",
       "    </tr>\n",
       "    <tr>\n",
       "      <th>3</th>\n",
       "      <td>-97.0</td>\n",
       "      <td>-666.0</td>\n",
       "    </tr>\n",
       "    <tr>\n",
       "      <th>4</th>\n",
       "      <td>-96.0</td>\n",
       "      <td>-659.0</td>\n",
       "    </tr>\n",
       "    <tr>\n",
       "      <th>...</th>\n",
       "      <td>...</td>\n",
       "      <td>...</td>\n",
       "    </tr>\n",
       "    <tr>\n",
       "      <th>196</th>\n",
       "      <td>96.0</td>\n",
       "      <td>685.0</td>\n",
       "    </tr>\n",
       "    <tr>\n",
       "      <th>197</th>\n",
       "      <td>97.0</td>\n",
       "      <td>692.0</td>\n",
       "    </tr>\n",
       "    <tr>\n",
       "      <th>198</th>\n",
       "      <td>98.0</td>\n",
       "      <td>699.0</td>\n",
       "    </tr>\n",
       "    <tr>\n",
       "      <th>199</th>\n",
       "      <td>99.0</td>\n",
       "      <td>706.0</td>\n",
       "    </tr>\n",
       "    <tr>\n",
       "      <th>200</th>\n",
       "      <td>100.0</td>\n",
       "      <td>713.0</td>\n",
       "    </tr>\n",
       "  </tbody>\n",
       "</table>\n",
       "<p>201 rows × 2 columns</p>\n",
       "</div>"
      ],
      "text/plain": [
       "         x      y\n",
       "0   -100.0 -687.0\n",
       "1    -99.0 -680.0\n",
       "2    -98.0 -673.0\n",
       "3    -97.0 -666.0\n",
       "4    -96.0 -659.0\n",
       "..     ...    ...\n",
       "196   96.0  685.0\n",
       "197   97.0  692.0\n",
       "198   98.0  699.0\n",
       "199   99.0  706.0\n",
       "200  100.0  713.0\n",
       "\n",
       "[201 rows x 2 columns]"
      ]
     },
     "execution_count": 2,
     "metadata": {},
     "output_type": "execute_result"
    }
   ],
   "source": [
    "df = pd.DataFrame({'x': [float(x) for x in range(-100, 101)]})\n",
    "df['y'] = 7 * df['x'] + 13\n",
    "df"
   ]
  },
  {
   "cell_type": "code",
   "execution_count": 3,
   "metadata": {},
   "outputs": [],
   "source": [
    "gp = GPTreebank(mutation_rate = 0.2, mutation_sd=1.0, operators=[ops.SUM, ops.PROD, ops.SQ, ops.POW, ops.CUBE])"
   ]
  },
  {
   "cell_type": "code",
   "execution_count": 4,
   "metadata": {},
   "outputs": [
    {
     "name": "stdout",
     "output_type": "stream",
     "text": [
      "gen 0:\n",
      "best tree = [tree(\"([float]<SUM>([float]4.3476359019336925)([float]<PROD>([float]6.914757928039478)([float]x)))\")]\n",
      "best RMSE = 9.966258790889727\n",
      "gen 1 ok\n",
      "gen 2 ok\n",
      "gen 3 ok\n",
      "gen 4 ok\n",
      "gen 5 ok\n",
      "gen 6 ok\n",
      "gen 7 ok\n",
      "gen 8 ok\n",
      "gen 9 ok\n",
      "gen 10:\n",
      "best tree = [tree(\"([float]<SUM>([float]12.99286103088086)([float]<PROD>([float]7.006252463218629)([float]x)))\")]\n",
      "best RMSE = 0.3628568070526327\n",
      "gen 11 ok\n",
      "gen 12 ok\n",
      "gen 13 ok\n",
      "gen 14 ok\n",
      "gen 15 ok\n",
      "gen 16 ok\n",
      "gen 17 ok\n",
      "gen 18 ok\n",
      "gen 19 ok\n",
      "gen 20:\n",
      "best tree = [tree(\"([float]<SUM>([float]12.998446951708138)([float]<PROD>([float]7.006252463218629)([float]x)))\")]\n",
      "best RMSE = 0.362789897190294\n",
      "gen 21 ok\n",
      "gen 22 ok\n",
      "gen 23 ok\n",
      "gen 24 ok\n",
      "gen 25 ok\n",
      "gen 26 ok\n",
      "gen 27 ok\n",
      "gen 28 ok\n",
      "gen 29 ok\n",
      "gen 30:\n",
      "best tree = [tree(\"([float]<SUM>([float]12.998446951708138)([float]<PROD>([float]7.006252463218629)([float]x)))\")]\n",
      "best RMSE = 0.362789897190294\n",
      "gen 31 ok\n",
      "gen 32 ok\n",
      "gen 33 ok\n",
      "gen 34 ok\n",
      "gen 35 ok\n",
      "gen 36 ok\n",
      "gen 37 ok\n",
      "gen 38 ok\n",
      "gen 39 ok\n",
      "gen 40:\n",
      "best tree = [tree(\"([float]<SUM>([float]13.029503664332621)([float]<PROD>([float]7.000034253708643)([float]x)))\")]\n",
      "best RMSE = 0.02957053220335623\n",
      "gen 41 ok\n",
      "gen 42 ok\n",
      "gen 43 ok\n",
      "gen 44 ok\n",
      "gen 45 ok\n",
      "gen 46 ok\n",
      "gen 47 ok\n",
      "gen 48 ok\n",
      "gen 49 ok\n",
      "gen 50:\n",
      "best tree = [tree(\"([float]<SUM>([float]13.007635368292764)([float]<PROD>([float]7.000034253708643)([float]x)))\")]\n",
      "best RMSE = 0.007889804478186444\n",
      "gen 51 ok\n",
      "gen 52 ok\n",
      "gen 53 ok\n",
      "gen 54 ok\n",
      "gen 55 ok\n",
      "gen 56 ok\n",
      "gen 57 ok\n",
      "gen 58 ok\n",
      "gen 59 ok\n",
      "gen 60:\n",
      "best tree = [tree(\"([float]<SUM>([float]12.999803654585554)([float]<PROD>([float]7.000034253708643)([float]x)))\")]\n",
      "best RMSE = 0.0019971773230257296\n",
      "gen 61 ok\n",
      "gen 62 ok\n",
      "gen 63 ok\n",
      "gen 64 ok\n",
      "gen 65 ok\n",
      "gen 66 ok\n",
      "gen 67 ok\n",
      "gen 68 ok\n",
      "gen 69 ok\n",
      "gen 70:\n",
      "best tree = [tree(\"([float]<SUM>([float]12.999803654585554)([float]<PROD>([float]7.000034253708643)([float]x)))\")]\n",
      "best RMSE = 0.0019971773230257296\n",
      "gen 71 ok\n",
      "gen 72 ok\n",
      "gen 73 ok\n",
      "gen 74 ok\n",
      "gen 75 ok\n",
      "gen 76 ok\n",
      "gen 77 ok\n",
      "gen 78 ok\n",
      "gen 79 ok\n",
      "gen 80:\n",
      "best tree = [tree(\"([float]<SUM>([float]12.999803654585554)([float]<PROD>([float]7.000034253708643)([float]x)))\")]\n",
      "best RMSE = 0.0019971773230257296\n",
      "gen 81 ok\n",
      "gen 82 ok\n",
      "gen 83 ok\n",
      "gen 84 ok\n",
      "gen 85 ok\n",
      "gen 86 ok\n",
      "gen 87 ok\n",
      "gen 88 ok\n",
      "gen 89 ok\n",
      "gen 90:\n",
      "best tree = [tree(\"([float]<SUM>([float]12.999803654585554)([float]<PROD>([float]7.000034253708643)([float]x)))\")]\n",
      "best RMSE = 0.0019971773230257296\n",
      "gen 91 ok\n",
      "gen 92 ok\n",
      "gen 93 ok\n",
      "gen 94 ok\n",
      "gen 95 ok\n",
      "gen 96 ok\n",
      "gen 97 ok\n",
      "gen 98 ok\n",
      "gen 99 ok\n"
     ]
    }
   ],
   "source": [
    "res = gp.run_gp(pd.DataFrame(df['x']), df['y'], 100, 100, gp.create_seed_polynomial, \n",
    "                elitism=5, best_tree=True, rmses=True, best_rmse=True, \n",
    "                order=1, const_min=-20, const_max=20)"
   ]
  },
  {
   "cell_type": "code",
   "execution_count": 5,
   "metadata": {},
   "outputs": [
    {
     "data": {
      "text/plain": [
       "dict_keys(['mses', 'imses', 'best_mse', 'rmses', 'best_tree', 'best_rmse'])"
      ]
     },
     "execution_count": 5,
     "metadata": {},
     "output_type": "execute_result"
    }
   ],
   "source": [
    "res.keys()"
   ]
  },
  {
   "cell_type": "code",
   "execution_count": 6,
   "metadata": {},
   "outputs": [
    {
     "data": {
      "text/plain": [
       "[<matplotlib.lines.Line2D at 0x7f8f0b8d4f98>]"
      ]
     },
     "execution_count": 6,
     "metadata": {},
     "output_type": "execute_result"
    },
    {
     "data": {
      "image/png": "[encoded data removed]",
      "text/plain": [
       "<Figure size 432x288 with 1 Axes>"
      ]
     },
     "metadata": {
      "needs_background": "light"
     },
     "output_type": "display_data"
    }
   ],
   "source": [
    "plt.plot(res['best_mse'])"
   ]
  },
  {
   "cell_type": "code",
   "execution_count": 7,
   "metadata": {},
   "outputs": [
    {
     "data": {
      "text/plain": [
       "[<matplotlib.lines.Line2D at 0x7f8f0bac9550>]"
      ]
     },
     "execution_count": 7,
     "metadata": {},
     "output_type": "execute_result"
    },
    {
     "data": {
      "image/png": "[encoded data removed]",
      "text/plain": [
       "<Figure size 432x288 with 1 Axes>"
      ]
     },
     "metadata": {
      "needs_background": "light"
     },
     "output_type": "display_data"
    }
   ],
   "source": [
    "plt.plot(res['best_rmse'])"
   ]
  },
  {
   "cell_type": "code",
   "execution_count": 8,
   "metadata": {},
   "outputs": [
    {
     "name": "stdout",
     "output_type": "stream",
     "text": [
      "[tree(\"([float]<SUM>([float]4.3476359019336925)([float]<PROD>([float]6.914757928039478)([float]x)))\")]\n",
      "[tree(\"([float]<SUM>([float]15.49006701404462)([float]<PROD>([float]7.116762198404589)([float]x)))\")]\n",
      "[tree(\"([float]<SUM>([float]15.49006701404462)([float]<PROD>([float]7.116762198404589)([float]x)))\")]\n",
      "[tree(\"([float]<SUM>([float]15.49006701404462)([float]<PROD>([float]7.116762198404589)([float]x)))\")]\n",
      "[tree(\"([float]<SUM>([float]15.264920028661166)([float]<PROD>([float]7.006252463218629)([float]x)))\")]\n",
      "[tree(\"([float]<SUM>([float]15.264920028661166)([float]<PROD>([float]7.006252463218629)([float]x)))\")]\n",
      "[tree(\"([float]<SUM>([float]13.90221273800379)([float]<PROD>([float]7.006252463218629)([float]x)))\")]\n",
      "[tree(\"([float]<SUM>([float]13.194800723763837)([float]<PROD>([float]7.006252463218629)([float]x)))\")]\n",
      "[tree(\"([float]<SUM>([float]13.194800723763837)([float]<PROD>([float]7.006252463218629)([float]x)))\")]\n",
      "[tree(\"([float]<SUM>([float]12.889951404748924)([float]<PROD>([float]7.006252463218629)([float]x)))\")]\n",
      "[tree(\"([float]<SUM>([float]12.99286103088086)([float]<PROD>([float]7.006252463218629)([float]x)))\")]\n",
      "[tree(\"([float]<SUM>([float]12.99286103088086)([float]<PROD>([float]7.006252463218629)([float]x)))\")]\n",
      "[tree(\"([float]<SUM>([float]12.99286103088086)([float]<PROD>([float]7.006252463218629)([float]x)))\")]\n",
      "[tree(\"([float]<SUM>([float]12.99286103088086)([float]<PROD>([float]7.006252463218629)([float]x)))\")]\n",
      "[tree(\"([float]<SUM>([float]12.99286103088086)([float]<PROD>([float]7.006252463218629)([float]x)))\")]\n",
      "[tree(\"([float]<SUM>([float]12.99286103088086)([float]<PROD>([float]7.006252463218629)([float]x)))\")]\n",
      "[tree(\"([float]<SUM>([float]12.99286103088086)([float]<PROD>([float]7.006252463218629)([float]x)))\")]\n",
      "[tree(\"([float]<SUM>([float]12.99286103088086)([float]<PROD>([float]7.006252463218629)([float]x)))\")]\n",
      "[tree(\"([float]<SUM>([float]12.998446951708138)([float]<PROD>([float]7.006252463218629)([float]x)))\")]\n",
      "[tree(\"([float]<SUM>([float]12.998446951708138)([float]<PROD>([float]7.006252463218629)([float]x)))\")]\n",
      "[tree(\"([float]<SUM>([float]12.998446951708138)([float]<PROD>([float]7.006252463218629)([float]x)))\")]\n",
      "[tree(\"([float]<SUM>([float]12.998446951708138)([float]<PROD>([float]7.006252463218629)([float]x)))\")]\n",
      "[tree(\"([float]<SUM>([float]12.998446951708138)([float]<PROD>([float]7.006252463218629)([float]x)))\")]\n",
      "[tree(\"([float]<SUM>([float]12.998446951708138)([float]<PROD>([float]7.006252463218629)([float]x)))\")]\n",
      "[tree(\"([float]<SUM>([float]12.998446951708138)([float]<PROD>([float]7.006252463218629)([float]x)))\")]\n",
      "[tree(\"([float]<SUM>([float]12.998446951708138)([float]<PROD>([float]7.006252463218629)([float]x)))\")]\n",
      "[tree(\"([float]<SUM>([float]12.998446951708138)([float]<PROD>([float]7.006252463218629)([float]x)))\")]\n",
      "[tree(\"([float]<SUM>([float]12.998446951708138)([float]<PROD>([float]7.006252463218629)([float]x)))\")]\n",
      "[tree(\"([float]<SUM>([float]12.998446951708138)([float]<PROD>([float]7.006252463218629)([float]x)))\")]\n",
      "[tree(\"([float]<SUM>([float]12.998446951708138)([float]<PROD>([float]7.006252463218629)([float]x)))\")]\n",
      "[tree(\"([float]<SUM>([float]12.998446951708138)([float]<PROD>([float]7.006252463218629)([float]x)))\")]\n",
      "[tree(\"([float]<SUM>([float]12.998446951708138)([float]<PROD>([float]7.006252463218629)([float]x)))\")]\n",
      "[tree(\"([float]<SUM>([float]12.998446951708138)([float]<PROD>([float]7.006252463218629)([float]x)))\")]\n",
      "[tree(\"([float]<SUM>([float]12.998446951708138)([float]<PROD>([float]7.006252463218629)([float]x)))\")]\n",
      "[tree(\"([float]<SUM>([float]12.998446951708138)([float]<PROD>([float]7.006252463218629)([float]x)))\")]\n",
      "[tree(\"([float]<SUM>([float]12.998446951708138)([float]<PROD>([float]7.006252463218629)([float]x)))\")]\n",
      "[tree(\"([float]<SUM>([float]12.998446951708138)([float]<PROD>([float]7.006252463218629)([float]x)))\")]\n",
      "[tree(\"([float]<SUM>([float]12.998446951708138)([float]<PROD>([float]7.006252463218629)([float]x)))\")]\n",
      "[tree(\"([float]<SUM>([float]12.780943378440734)([float]<PROD>([float]7.000034253708643)([float]x)))\")]\n",
      "[tree(\"([float]<SUM>([float]12.780943378440734)([float]<PROD>([float]7.000034253708643)([float]x)))\")]\n",
      "[tree(\"([float]<SUM>([float]13.029503664332621)([float]<PROD>([float]7.000034253708643)([float]x)))\")]\n",
      "[tree(\"([float]<SUM>([float]13.029503664332621)([float]<PROD>([float]7.000034253708643)([float]x)))\")]\n",
      "[tree(\"([float]<SUM>([float]13.029503664332621)([float]<PROD>([float]7.000034253708643)([float]x)))\")]\n",
      "[tree(\"([float]<SUM>([float]13.029503664332621)([float]<PROD>([float]7.000034253708643)([float]x)))\")]\n",
      "[tree(\"([float]<SUM>([float]13.007635368292764)([float]<PROD>([float]7.000034253708643)([float]x)))\")]\n",
      "[tree(\"([float]<SUM>([float]13.007635368292764)([float]<PROD>([float]7.000034253708643)([float]x)))\")]\n",
      "[tree(\"([float]<SUM>([float]13.007635368292764)([float]<PROD>([float]7.000034253708643)([float]x)))\")]\n",
      "[tree(\"([float]<SUM>([float]13.007635368292764)([float]<PROD>([float]7.000034253708643)([float]x)))\")]\n",
      "[tree(\"([float]<SUM>([float]13.007635368292764)([float]<PROD>([float]7.000034253708643)([float]x)))\")]\n",
      "[tree(\"([float]<SUM>([float]13.007635368292764)([float]<PROD>([float]7.000034253708643)([float]x)))\")]\n",
      "[tree(\"([float]<SUM>([float]13.007635368292764)([float]<PROD>([float]7.000034253708643)([float]x)))\")]\n",
      "[tree(\"([float]<SUM>([float]13.007635368292764)([float]<PROD>([float]7.000034253708643)([float]x)))\")]\n",
      "[tree(\"([float]<SUM>([float]13.007635368292764)([float]<PROD>([float]7.000034253708643)([float]x)))\")]\n",
      "[tree(\"([float]<SUM>([float]12.999803654585554)([float]<PROD>([float]7.000034253708643)([float]x)))\")]\n",
      "[tree(\"([float]<SUM>([float]12.999803654585554)([float]<PROD>([float]7.000034253708643)([float]x)))\")]\n",
      "[tree(\"([float]<SUM>([float]12.999803654585554)([float]<PROD>([float]7.000034253708643)([float]x)))\")]\n",
      "[tree(\"([float]<SUM>([float]12.999803654585554)([float]<PROD>([float]7.000034253708643)([float]x)))\")]\n",
      "[tree(\"([float]<SUM>([float]12.999803654585554)([float]<PROD>([float]7.000034253708643)([float]x)))\")]\n",
      "[tree(\"([float]<SUM>([float]12.999803654585554)([float]<PROD>([float]7.000034253708643)([float]x)))\")]\n",
      "[tree(\"([float]<SUM>([float]12.999803654585554)([float]<PROD>([float]7.000034253708643)([float]x)))\")]\n",
      "[tree(\"([float]<SUM>([float]12.999803654585554)([float]<PROD>([float]7.000034253708643)([float]x)))\")]\n",
      "[tree(\"([float]<SUM>([float]12.999803654585554)([float]<PROD>([float]7.000034253708643)([float]x)))\")]\n",
      "[tree(\"([float]<SUM>([float]12.999803654585554)([float]<PROD>([float]7.000034253708643)([float]x)))\")]\n",
      "[tree(\"([float]<SUM>([float]12.999803654585554)([float]<PROD>([float]7.000034253708643)([float]x)))\")]\n",
      "[tree(\"([float]<SUM>([float]12.999803654585554)([float]<PROD>([float]7.000034253708643)([float]x)))\")]\n",
      "[tree(\"([float]<SUM>([float]12.999803654585554)([float]<PROD>([float]7.000034253708643)([float]x)))\")]\n",
      "[tree(\"([float]<SUM>([float]12.999803654585554)([float]<PROD>([float]7.000034253708643)([float]x)))\")]\n",
      "[tree(\"([float]<SUM>([float]12.999803654585554)([float]<PROD>([float]7.000034253708643)([float]x)))\")]\n",
      "[tree(\"([float]<SUM>([float]12.999803654585554)([float]<PROD>([float]7.000034253708643)([float]x)))\")]\n",
      "[tree(\"([float]<SUM>([float]12.999803654585554)([float]<PROD>([float]7.000034253708643)([float]x)))\")]\n",
      "[tree(\"([float]<SUM>([float]12.999803654585554)([float]<PROD>([float]7.000034253708643)([float]x)))\")]\n",
      "[tree(\"([float]<SUM>([float]12.999803654585554)([float]<PROD>([float]7.000034253708643)([float]x)))\")]\n",
      "[tree(\"([float]<SUM>([float]12.999803654585554)([float]<PROD>([float]7.000034253708643)([float]x)))\")]\n",
      "[tree(\"([float]<SUM>([float]12.999803654585554)([float]<PROD>([float]7.000034253708643)([float]x)))\")]\n",
      "[tree(\"([float]<SUM>([float]12.999803654585554)([float]<PROD>([float]7.000034253708643)([float]x)))\")]\n",
      "[tree(\"([float]<SUM>([float]12.999803654585554)([float]<PROD>([float]7.000034253708643)([float]x)))\")]\n",
      "[tree(\"([float]<SUM>([float]12.999803654585554)([float]<PROD>([float]7.000034253708643)([float]x)))\")]\n",
      "[tree(\"([float]<SUM>([float]12.999803654585554)([float]<PROD>([float]7.000034253708643)([float]x)))\")]\n",
      "[tree(\"([float]<SUM>([float]12.999803654585554)([float]<PROD>([float]7.000034253708643)([float]x)))\")]\n",
      "[tree(\"([float]<SUM>([float]12.999803654585554)([float]<PROD>([float]7.000034253708643)([float]x)))\")]\n",
      "[tree(\"([float]<SUM>([float]12.999803654585554)([float]<PROD>([float]7.000034253708643)([float]x)))\")]\n",
      "[tree(\"([float]<SUM>([float]12.999803654585554)([float]<PROD>([float]7.000034253708643)([float]x)))\")]\n",
      "[tree(\"([float]<SUM>([float]12.999803654585554)([float]<PROD>([float]7.000034253708643)([float]x)))\")]\n",
      "[tree(\"([float]<SUM>([float]12.999803654585554)([float]<PROD>([float]7.000034253708643)([float]x)))\")]\n",
      "[tree(\"([float]<SUM>([float]12.999803654585554)([float]<PROD>([float]7.000034253708643)([float]x)))\")]\n",
      "[tree(\"([float]<SUM>([float]12.999803654585554)([float]<PROD>([float]7.000034253708643)([float]x)))\")]\n",
      "[tree(\"([float]<SUM>([float]12.999803654585554)([float]<PROD>([float]7.000034253708643)([float]x)))\")]\n",
      "[tree(\"([float]<SUM>([float]12.999803654585554)([float]<PROD>([float]7.000034253708643)([float]x)))\")]\n",
      "[tree(\"([float]<SUM>([float]12.999803654585554)([float]<PROD>([float]7.000034253708643)([float]x)))\")]\n",
      "[tree(\"([float]<SUM>([float]12.999803654585554)([float]<PROD>([float]7.000034253708643)([float]x)))\")]\n",
      "[tree(\"([float]<SUM>([float]12.999803654585554)([float]<PROD>([float]7.000034253708643)([float]x)))\")]\n",
      "[tree(\"([float]<SUM>([float]12.999803654585554)([float]<PROD>([float]7.000034253708643)([float]x)))\")]\n",
      "[tree(\"([float]<SUM>([float]12.999803654585554)([float]<PROD>([float]7.000034253708643)([float]x)))\")]\n",
      "[tree(\"([float]<SUM>([float]12.999803654585554)([float]<PROD>([float]7.000034253708643)([float]x)))\")]\n",
      "[tree(\"([float]<SUM>([float]12.999803654585554)([float]<PROD>([float]7.000034253708643)([float]x)))\")]\n",
      "[tree(\"([float]<SUM>([float]12.999803654585554)([float]<PROD>([float]7.000034253708643)([float]x)))\")]\n",
      "[tree(\"([float]<SUM>([float]12.999803654585554)([float]<PROD>([float]7.000034253708643)([float]x)))\")]\n",
      "[tree(\"([float]<SUM>([float]12.999803654585554)([float]<PROD>([float]7.000034253708643)([float]x)))\")]\n",
      "[tree(\"([float]<SUM>([float]12.999803654585554)([float]<PROD>([float]7.000034253708643)([float]x)))\")]\n",
      "[tree(\"([float]<SUM>([float]12.999803654585554)([float]<PROD>([float]7.000034253708643)([float]x)))\")]\n"
     ]
    }
   ],
   "source": [
    "for t in res['best_tree']:\n",
    "    print(t)"
   ]
  },
  {
   "cell_type": "code",
   "execution_count": 9,
   "metadata": {},
   "outputs": [
    {
     "data": {
      "text/plain": [
       "[0.3628568070526327,\n",
       " 0.3791105259170289,\n",
       " 0.3801877205196151,\n",
       " 0.3817165414805983,\n",
       " 0.3927199864140903,\n",
       " 0.4117783621358211,\n",
       " 0.4117783621358211,\n",
       " 0.4117783621358211,\n",
       " 0.4117783621358211,\n",
       " 0.4117783621358211,\n",
       " 0.4117783621358211,\n",
       " 0.4117783621358211,\n",
       " 0.4117783621358211,\n",
       " 0.4117783621358211,\n",
       " 0.4117783621358211,\n",
       " 0.4117783621358211,\n",
       " 0.4117783621358211,\n",
       " 0.4117783621358211,\n",
       " 0.4117783621358211,\n",
       " 0.4117783621358211,\n",
       " 0.4117783621358211,\n",
       " 0.4117783621358211,\n",
       " 0.4117783621358211,\n",
       " 0.4117783621358211,\n",
       " 0.4117783621358211,\n",
       " 0.4117783621358211,\n",
       " 0.4117783621358211,\n",
       " 0.4117783621358211,\n",
       " 0.4117783621358211,\n",
       " 0.4117783621358211,\n",
       " 0.4117783621358211,\n",
       " 0.4117783621358211,\n",
       " 0.4117783621358211,\n",
       " 0.4117783621358211,\n",
       " 0.4117783621358211,\n",
       " 0.4117783621358211,\n",
       " 0.4117783621358211,\n",
       " 0.4117783621358211,\n",
       " 0.4117783621358211,\n",
       " 0.4117783621358211,\n",
       " 0.4117783621358211,\n",
       " 0.4117783621358211,\n",
       " 0.4117783621358211,\n",
       " 0.4117783621358211,\n",
       " 0.4117783621358211,\n",
       " 0.4117783621358211,\n",
       " 0.4117783621358211,\n",
       " 0.4117783621358211,\n",
       " 0.4117783621358211,\n",
       " 0.4117783621358211,\n",
       " 0.41367183167557836,\n",
       " 0.41367183167557836,\n",
       " 0.41367183167557836,\n",
       " 0.41367183167557836,\n",
       " 0.46978434891482285,\n",
       " 0.46978434891482285,\n",
       " 0.46978434891482285,\n",
       " 0.47126507558109687,\n",
       " 0.4861062922810044,\n",
       " 0.4971588721500394,\n",
       " 0.5228566018821653,\n",
       " 0.5228566018821653,\n",
       " 0.5228566018821653,\n",
       " 0.5251144923198773,\n",
       " 0.5335678653465533,\n",
       " 0.5348356406900138,\n",
       " 0.5957797301055392,\n",
       " 0.5957797301055392,\n",
       " 0.6199066261306342,\n",
       " 0.7605258065949287,\n",
       " 0.9724206508299995,\n",
       " 0.9724206508299995,\n",
       " 0.9724206508299995,\n",
       " 0.9897419574515157,\n",
       " 1.043628469428724,\n",
       " 1.1323010409563101,\n",
       " 1.504403511402052,\n",
       " 3.27902370310303,\n",
       " 4.763715597029328,\n",
       " 6.26523385445711,\n",
       " 22.303429218170226,\n",
       " 23.320107784339815,\n",
       " 25.060549962772242,\n",
       " 25.239622255982788,\n",
       " 26.319498867758025,\n",
       " 27.231201577162583,\n",
       " 31.755755464452285,\n",
       " 31.914528933345803,\n",
       " 37.169450201130005,\n",
       " 44.09497779411073,\n",
       " 53.232462184900264,\n",
       " 57.06128190262284,\n",
       " 59.11237134530455,\n",
       " 61.85627432804113,\n",
       " 62.04843592628491,\n",
       " 64.830939630396,\n",
       " 88.89034284384783,\n",
       " 97.36267850068894,\n",
       " 112.60374599912579,\n",
       " 130.63118025421056]"
      ]
     },
     "execution_count": 9,
     "metadata": {},
     "output_type": "execute_result"
    }
   ],
   "source": [
    "sorted(res['rmses'][10])"
   ]
  },
  {
   "cell_type": "code",
   "execution_count": 21,
   "metadata": {},
   "outputs": [
    {
     "data": {
      "text/plain": [
       "<AxesSubplot:>"
      ]
     },
     "execution_count": 21,
     "metadata": {},
     "output_type": "execute_result"
    },
    {
     "data": {
      "image/png": "[encoded data removed]",
      "text/plain": [
       "<Figure size 432x288 with 2 Axes>"
      ]
     },
     "metadata": {
      "needs_background": "light"
     },
     "output_type": "display_data"
    }
   ],
   "source": [
    "sns.heatmap(pd.DataFrame(res['rmses']).transpose())"
   ]
  },
  {
   "cell_type": "code",
   "execution_count": 22,
   "metadata": {},
   "outputs": [
    {
     "data": {
      "text/plain": [
       "<AxesSubplot:>"
      ]
     },
     "execution_count": 22,
     "metadata": {},
     "output_type": "execute_result"
    },
    {
     "data": {
      "image/png": "[encoded data removed]",
      "text/plain": [
       "<Figure size 432x288 with 2 Axes>"
      ]
     },
     "metadata": {
      "needs_background": "light"
     },
     "output_type": "display_data"
    }
   ],
   "source": [
    "sns.heatmap(pd.DataFrame(res['mses']).transpose())"
   ]
  },
  {
   "cell_type": "code",
   "execution_count": null,
   "metadata": {},
   "outputs": [],
   "source": []
  }
 ],
 "metadata": {
  "kernelspec": {
   "display_name": "Python 3",
   "language": "python",
   "name": "python3"
  },
  "language_info": {
   "codemirror_mode": {
    "name": "ipython",
    "version": 3
   },
   "file_extension": ".py",
   "mimetype": "text/x-python",
   "name": "python",
   "nbconvert_exporter": "python",
   "pygments_lexer": "ipython3",
   "version": "3.6.10"
  }
 },
 "nbformat": 4,
 "nbformat_minor": 4
}
