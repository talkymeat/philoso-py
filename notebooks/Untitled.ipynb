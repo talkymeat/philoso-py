{
 "cells": [
  {
   "cell_type": "code",
   "execution_count": null,
   "metadata": {},
   "outputs": [],
   "source": [
    "from trees import *\n",
    "from figtree import showtree\n",
    "from tree_iter import DepthFirstBottomUp\n",
    "from gp import GP\n",
    "import operators as ops\n",
    "\n",
    "op = [ops.SUM, ops.PROD, ops.SQ, ops.CUBE, ops.POW]\n",
    "gp = GP(operators=op)\n",
    "mewtwo = gp.tree(\"([float]<SUM>([float]<SQ>([int]$mu))([float]<SUM>([float]<PROD>([int]3)([int]$mu))([int]2)))\")"
   ]
  },
  {
   "cell_type": "code",
   "execution_count": null,
   "metadata": {},
   "outputs": [],
   "source": [
    "import pandas as pd\n",
    "\n",
    "mewtwo(**pd.DataFrame({'mu': [-4, -3, -2, -1, 0, 1, 2, 3, 4]}))"
   ]
  },
  {
   "cell_type": "code",
   "execution_count": null,
   "metadata": {},
   "outputs": [],
   "source": [
    "mewtwo(mu=-1)"
   ]
  },
  {
   "cell_type": "code",
   "execution_count": null,
   "metadata": {},
   "outputs": [],
   "source": []
  },
  {
   "cell_type": "code",
   "execution_count": null,
   "metadata": {},
   "outputs": [],
   "source": [
    "class TestLabel:\n",
    "    def __init__(self, id) -> None:\n",
    "        self.class_id = id\n",
    "\n",
    "    @property\n",
    "    def class_id(self):  ##-OK\n",
    "        \"\"\"(type) The unique ID of the Label, and of the corresponding category\n",
    "        of trees.\n",
    "        \"\"\"\n",
    "        return self._class_id ##-OK\n",
    "\n",
    "\n",
    "    @class_id.setter ##-OK\n",
    "    def class_id(self, class_id): ##-OK XXX test this\n",
    "        \"\"\"Setter for classname. Checks that the name is a `str` that evaluates\n",
    "        to a `type`, or a `type`: if neither of those obtain, the type of the\n",
    "        parameter is used instead. Also checks that the name is unique.\n",
    "\n",
    "        Parameters\n",
    "        ----------\n",
    "        name : Any\n",
    "            The type that names the class the label represents.\n",
    "\n",
    "        Raises\n",
    "        ------\n",
    "        TypeError:\n",
    "            If `name` is not a `type`\n",
    "        \"\"\"\n",
    "        if isinstance(class_id, str):\n",
    "            try:\n",
    "                class_id = eval(class_id)\n",
    "            except Exception:\n",
    "                raise AttributeError(\"Invalid label\")\n",
    "        # if isinstance(class_id, type): # Type check\n",
    "        #     class_id = type(class_id)\n",
    "        # OK, fine I guess.\n",
    "        self._class_id = class_id"
   ]
  },
  {
   "cell_type": "code",
   "execution_count": null,
   "metadata": {},
   "outputs": [],
   "source": [
    "addxy = gp.tree('([float]<SUM>([int]$x)([int]$y))')"
   ]
  },
  {
   "cell_type": "code",
   "execution_count": null,
   "metadata": {},
   "outputs": [],
   "source": [
    "addxy(x=1,y=2)"
   ]
  },
  {
   "cell_type": "code",
   "execution_count": null,
   "metadata": {},
   "outputs": [],
   "source": [
    "from observatories import *\n",
    "import pandas as pd"
   ]
  },
  {
   "cell_type": "code",
   "execution_count": null,
   "metadata": {},
   "outputs": [],
   "source": [
    "def eratosthenes(n):\n",
    "    sieve = lambda i, nums: (i+1, [x for x in filter(lambda x: x%nums[i] or x==nums[i], nums)])\n",
    "    i, nums = 0, list(range(2, n+1))\n",
    "    while nums[i]**2 < n:\n",
    "        i, nums = sieve(i, nums)\n",
    "    return nums\n",
    "\n",
    "print(eratosthenes(200)[-2::-2])\n",
    "print(eratosthenes(200)[1::2])"
   ]
  },
  {
   "cell_type": "code",
   "execution_count": null,
   "metadata": {},
   "outputs": [],
   "source": [
    "\n",
    "df = pd.DataFrame({'A': eratosthenes(200)[-2::-2], 'B': eratosthenes(200)[1::2]})\n",
    "df['C'] = df.A * df.B\n",
    "\n",
    "df.shape"
   ]
  },
  {
   "cell_type": "code",
   "execution_count": null,
   "metadata": {},
   "outputs": [],
   "source": [
    "obsy = StaticObservatory(['A', 'B'], 'C', data=df, obs_len=15)"
   ]
  },
  {
   "cell_type": "code",
   "execution_count": null,
   "metadata": {},
   "outputs": [],
   "source": [
    "i=0\n",
    "while i<100:\n",
    "    ob = next(obsy)\n",
    "    t = obsy.target()\n",
    "    if ((ob.B * ob.A) == t['C']).all():\n",
    "        pass\n",
    "    else:\n",
    "        print(pd.DataFrame({'AxB': (ob.B * ob.A), 'C': t}))\n",
    "    i+=1"
   ]
  },
  {
   "cell_type": "code",
   "execution_count": null,
   "metadata": {},
   "outputs": [],
   "source": []
  },
  {
   "cell_type": "code",
   "execution_count": null,
   "metadata": {},
   "outputs": [],
   "source": [
    "from observatories import FunctionObservatory\n",
    "import pandas as pd\n",
    "import random"
   ]
  },
  {
   "cell_type": "code",
   "execution_count": null,
   "metadata": {},
   "outputs": [],
   "source": [
    "fo = FunctionObservatory('x', 'y', {'x': lambda n: pd.Series([random.uniform(-10, 10) for i in range(n)]), 'y': lambda z: z**2 + 2*z + 1}, 10)"
   ]
  },
  {
   "cell_type": "code",
   "execution_count": null,
   "metadata": {},
   "outputs": [],
   "source": [
    "n = next(fo)\n",
    "n"
   ]
  },
  {
   "cell_type": "code",
   "execution_count": null,
   "metadata": {},
   "outputs": [],
   "source": [
    "f = lambda z: z**2 + 2*z + 1"
   ]
  },
  {
   "cell_type": "code",
   "execution_count": null,
   "metadata": {},
   "outputs": [],
   "source": [
    "f(n)"
   ]
  },
  {
   "cell_type": "code",
   "execution_count": null,
   "metadata": {},
   "outputs": [],
   "source": [
    "fo.target()"
   ]
  },
  {
   "cell_type": "code",
   "execution_count": null,
   "metadata": {},
   "outputs": [],
   "source": [
    "fo.sources"
   ]
  },
  {
   "cell_type": "code",
   "execution_count": null,
   "metadata": {},
   "outputs": [],
   "source": [
    "fo._iv_data"
   ]
  },
  {
   "cell_type": "code",
   "execution_count": null,
   "metadata": {},
   "outputs": [],
   "source": [
    "print(fo._iv_data)"
   ]
  },
  {
   "cell_type": "code",
   "execution_count": null,
   "metadata": {},
   "outputs": [],
   "source": [
    "from typing import runtime_checkable\n",
    "\n",
    "\n",
    "def id(x: float) -> float:\n",
    "    return x"
   ]
  },
  {
   "cell_type": "code",
   "execution_count": 11,
   "metadata": {},
   "outputs": [
    {
     "name": "stdout",
     "output_type": "stream",
     "text": [
      "Python 3.10.0\n"
     ]
    }
   ],
   "source": [
    "!python --version"
   ]
  },
  {
   "cell_type": "code",
   "execution_count": 1,
   "metadata": {},
   "outputs": [],
   "source": [
    "from tree_factories import RandomPolynomialFactory\n",
    "from treebanks import TypeLabelledTreebank\n",
    "from figtree import showtree"
   ]
  },
  {
   "cell_type": "code",
   "execution_count": 2,
   "metadata": {},
   "outputs": [],
   "source": [
    "rpf = RandomPolynomialFactory(TypeLabelledTreebank(), 3, -10.0, 10.0)"
   ]
  },
  {
   "cell_type": "code",
   "execution_count": 3,
   "metadata": {},
   "outputs": [],
   "source": [
    "poly = rpf('x', 'y')"
   ]
  },
  {
   "cell_type": "code",
   "execution_count": 4,
   "metadata": {},
   "outputs": [
    {
     "data": {
      "text/plain": [
       "tree(\"([float]<SUM>([float]<SUM>([float]<SUM>([float]<SUM>([float]<SUM>([float]<SUM>([float]<SUM>([float]<SUM>([float]<SUM>([float]6.687312256532053)([float]<PROD>([float]-7.631480383451743)([float]'$x')))([float]<PROD>([float]9.11966094638516)([float]'$y')))([float]<PROD>([float]4.431435964146747)([float]<SQ>([float]'$x'))))([float]<PROD>([float]-8.588058372950583)([float]<SQ>([float]'$y'))))([float]<PROD>([float]<PROD>([float]9.515860353202712)([float]'$x'))([float]'$y')))([float]<PROD>([float]-4.021370246178575)([float]<CUBE>([float]'$x'))))([float]<PROD>([float]-5.595025520504333)([float]<CUBE>([float]'$y'))))([float]<PROD>([float]<PROD>([float]5.173824903775815)([float]<SQ>([float]'$x')))([float]'$y')))([float]<PROD>([float]<PROD>([float]-7.393262315795619)([float]'$x'))([float]<SQ>([float]'$y'))))\")"
      ]
     },
     "execution_count": 4,
     "metadata": {},
     "output_type": "execute_result"
    }
   ],
   "source": [
    "poly"
   ]
  },
  {
   "cell_type": "code",
   "execution_count": 5,
   "metadata": {},
   "outputs": [
    {
     "name": "stdout",
     "output_type": "stream",
     "text": [
      "Usage: ./tex2svg.sh input.tex output.svg\n",
      "       ./tex2svg.sh inline-tex-formula output.svg\n",
      "       ./tex2svg.sh inline-tex-formula - (output to stdout)\n"
     ]
    },
    {
     "name": "stderr",
     "output_type": "stream",
     "text": [
      "/var/folders/hv/s4384wb96rs26yhqz76sj5sh0000gn/T/tmpx059umul/figtree_0.svg: cairosvg: command not found\n"
     ]
    },
    {
     "ename": "FileNotFoundError",
     "evalue": "No such file or directory: '/var/folders/hv/s4384wb96rs26yhqz76sj5sh0000gn/T/tmpx059umul/figtree_0.png'",
     "output_type": "error",
     "traceback": [
      "\u001b[0;31m---------------------------------------------------------------------------\u001b[0m",
      "\u001b[0;31mTypeError\u001b[0m                                 Traceback (most recent call last)",
      "File \u001b[0;32m~/github/philoso-py/phil_venv/lib/python3.10/site-packages/IPython/core/display.py:1045\u001b[0m, in \u001b[0;36mImage._data_and_metadata\u001b[0;34m(self, always_both)\u001b[0m\n\u001b[1;32m   1044\u001b[0m \u001b[39mtry\u001b[39;00m:\n\u001b[0;32m-> 1045\u001b[0m     b64_data \u001b[39m=\u001b[39m b2a_base64(\u001b[39mself\u001b[39;49m\u001b[39m.\u001b[39;49mdata, newline\u001b[39m=\u001b[39;49m\u001b[39mFalse\u001b[39;49;00m)\u001b[39m.\u001b[39mdecode(\u001b[39m\"\u001b[39m\u001b[39mascii\u001b[39m\u001b[39m\"\u001b[39m)\n\u001b[1;32m   1046\u001b[0m \u001b[39mexcept\u001b[39;00m \u001b[39mTypeError\u001b[39;00m \u001b[39mas\u001b[39;00m e:\n",
      "\u001b[0;31mTypeError\u001b[0m: a bytes-like object is required, not 'str'",
      "\nThe above exception was the direct cause of the following exception:\n",
      "\u001b[0;31mFileNotFoundError\u001b[0m                         Traceback (most recent call last)",
      "File \u001b[0;32m~/github/philoso-py/phil_venv/lib/python3.10/site-packages/IPython/core/formatters.py:974\u001b[0m, in \u001b[0;36mMimeBundleFormatter.__call__\u001b[0;34m(self, obj, include, exclude)\u001b[0m\n\u001b[1;32m    971\u001b[0m     method \u001b[39m=\u001b[39m get_real_method(obj, \u001b[39mself\u001b[39m\u001b[39m.\u001b[39mprint_method)\n\u001b[1;32m    973\u001b[0m     \u001b[39mif\u001b[39;00m method \u001b[39mis\u001b[39;00m \u001b[39mnot\u001b[39;00m \u001b[39mNone\u001b[39;00m:\n\u001b[0;32m--> 974\u001b[0m         \u001b[39mreturn\u001b[39;00m method(include\u001b[39m=\u001b[39;49minclude, exclude\u001b[39m=\u001b[39;49mexclude)\n\u001b[1;32m    975\u001b[0m     \u001b[39mreturn\u001b[39;00m \u001b[39mNone\u001b[39;00m\n\u001b[1;32m    976\u001b[0m \u001b[39melse\u001b[39;00m:\n",
      "File \u001b[0;32m~/github/philoso-py/phil_venv/lib/python3.10/site-packages/IPython/core/display.py:1035\u001b[0m, in \u001b[0;36mImage._repr_mimebundle_\u001b[0;34m(self, include, exclude)\u001b[0m\n\u001b[1;32m   1033\u001b[0m \u001b[39mif\u001b[39;00m \u001b[39mself\u001b[39m\u001b[39m.\u001b[39membed:\n\u001b[1;32m   1034\u001b[0m     mimetype \u001b[39m=\u001b[39m \u001b[39mself\u001b[39m\u001b[39m.\u001b[39m_mimetype\n\u001b[0;32m-> 1035\u001b[0m     data, metadata \u001b[39m=\u001b[39m \u001b[39mself\u001b[39;49m\u001b[39m.\u001b[39;49m_data_and_metadata(always_both\u001b[39m=\u001b[39;49m\u001b[39mTrue\u001b[39;49;00m)\n\u001b[1;32m   1036\u001b[0m     \u001b[39mif\u001b[39;00m metadata:\n\u001b[1;32m   1037\u001b[0m         metadata \u001b[39m=\u001b[39m {mimetype: metadata}\n",
      "File \u001b[0;32m~/github/philoso-py/phil_venv/lib/python3.10/site-packages/IPython/core/display.py:1047\u001b[0m, in \u001b[0;36mImage._data_and_metadata\u001b[0;34m(self, always_both)\u001b[0m\n\u001b[1;32m   1045\u001b[0m     b64_data \u001b[39m=\u001b[39m b2a_base64(\u001b[39mself\u001b[39m\u001b[39m.\u001b[39mdata, newline\u001b[39m=\u001b[39m\u001b[39mFalse\u001b[39;00m)\u001b[39m.\u001b[39mdecode(\u001b[39m\"\u001b[39m\u001b[39mascii\u001b[39m\u001b[39m\"\u001b[39m)\n\u001b[1;32m   1046\u001b[0m \u001b[39mexcept\u001b[39;00m \u001b[39mTypeError\u001b[39;00m \u001b[39mas\u001b[39;00m e:\n\u001b[0;32m-> 1047\u001b[0m     \u001b[39mraise\u001b[39;00m \u001b[39mFileNotFoundError\u001b[39;00m(\n\u001b[1;32m   1048\u001b[0m         \u001b[39m\"\u001b[39m\u001b[39mNo such file or directory: \u001b[39m\u001b[39m'\u001b[39m\u001b[39m%s\u001b[39;00m\u001b[39m'\u001b[39m\u001b[39m\"\u001b[39m \u001b[39m%\u001b[39m (\u001b[39mself\u001b[39m\u001b[39m.\u001b[39mdata)) \u001b[39mfrom\u001b[39;00m \u001b[39me\u001b[39;00m\n\u001b[1;32m   1049\u001b[0m md \u001b[39m=\u001b[39m {}\n\u001b[1;32m   1050\u001b[0m \u001b[39mif\u001b[39;00m \u001b[39mself\u001b[39m\u001b[39m.\u001b[39mmetadata:\n",
      "\u001b[0;31mFileNotFoundError\u001b[0m: No such file or directory: '/var/folders/hv/s4384wb96rs26yhqz76sj5sh0000gn/T/tmpx059umul/figtree_0.png'"
     ]
    },
    {
     "ename": "FileNotFoundError",
     "evalue": "No such file or directory: '/var/folders/hv/s4384wb96rs26yhqz76sj5sh0000gn/T/tmpx059umul/figtree_0.png'",
     "output_type": "error",
     "traceback": [
      "\u001b[0;31m---------------------------------------------------------------------------\u001b[0m",
      "\u001b[0;31mTypeError\u001b[0m                                 Traceback (most recent call last)",
      "File \u001b[0;32m~/github/philoso-py/phil_venv/lib/python3.10/site-packages/IPython/core/display.py:1045\u001b[0m, in \u001b[0;36mImage._data_and_metadata\u001b[0;34m(self, always_both)\u001b[0m\n\u001b[1;32m   1044\u001b[0m \u001b[39mtry\u001b[39;00m:\n\u001b[0;32m-> 1045\u001b[0m     b64_data \u001b[39m=\u001b[39m b2a_base64(\u001b[39mself\u001b[39;49m\u001b[39m.\u001b[39;49mdata, newline\u001b[39m=\u001b[39;49m\u001b[39mFalse\u001b[39;49;00m)\u001b[39m.\u001b[39mdecode(\u001b[39m\"\u001b[39m\u001b[39mascii\u001b[39m\u001b[39m\"\u001b[39m)\n\u001b[1;32m   1046\u001b[0m \u001b[39mexcept\u001b[39;00m \u001b[39mTypeError\u001b[39;00m \u001b[39mas\u001b[39;00m e:\n",
      "\u001b[0;31mTypeError\u001b[0m: a bytes-like object is required, not 'str'",
      "\nThe above exception was the direct cause of the following exception:\n",
      "\u001b[0;31mFileNotFoundError\u001b[0m                         Traceback (most recent call last)",
      "File \u001b[0;32m~/github/philoso-py/phil_venv/lib/python3.10/site-packages/IPython/core/formatters.py:344\u001b[0m, in \u001b[0;36mBaseFormatter.__call__\u001b[0;34m(self, obj)\u001b[0m\n\u001b[1;32m    342\u001b[0m     method \u001b[39m=\u001b[39m get_real_method(obj, \u001b[39mself\u001b[39m\u001b[39m.\u001b[39mprint_method)\n\u001b[1;32m    343\u001b[0m     \u001b[39mif\u001b[39;00m method \u001b[39mis\u001b[39;00m \u001b[39mnot\u001b[39;00m \u001b[39mNone\u001b[39;00m:\n\u001b[0;32m--> 344\u001b[0m         \u001b[39mreturn\u001b[39;00m method()\n\u001b[1;32m    345\u001b[0m     \u001b[39mreturn\u001b[39;00m \u001b[39mNone\u001b[39;00m\n\u001b[1;32m    346\u001b[0m \u001b[39melse\u001b[39;00m:\n",
      "File \u001b[0;32m~/github/philoso-py/phil_venv/lib/python3.10/site-packages/IPython/core/display.py:1067\u001b[0m, in \u001b[0;36mImage._repr_png_\u001b[0;34m(self)\u001b[0m\n\u001b[1;32m   1065\u001b[0m \u001b[39mdef\u001b[39;00m \u001b[39m_repr_png_\u001b[39m(\u001b[39mself\u001b[39m):\n\u001b[1;32m   1066\u001b[0m     \u001b[39mif\u001b[39;00m \u001b[39mself\u001b[39m\u001b[39m.\u001b[39membed \u001b[39mand\u001b[39;00m \u001b[39mself\u001b[39m\u001b[39m.\u001b[39mformat \u001b[39m==\u001b[39m \u001b[39mself\u001b[39m\u001b[39m.\u001b[39m_FMT_PNG:\n\u001b[0;32m-> 1067\u001b[0m         \u001b[39mreturn\u001b[39;00m \u001b[39mself\u001b[39;49m\u001b[39m.\u001b[39;49m_data_and_metadata()\n",
      "File \u001b[0;32m~/github/philoso-py/phil_venv/lib/python3.10/site-packages/IPython/core/display.py:1047\u001b[0m, in \u001b[0;36mImage._data_and_metadata\u001b[0;34m(self, always_both)\u001b[0m\n\u001b[1;32m   1045\u001b[0m     b64_data \u001b[39m=\u001b[39m b2a_base64(\u001b[39mself\u001b[39m\u001b[39m.\u001b[39mdata, newline\u001b[39m=\u001b[39m\u001b[39mFalse\u001b[39;00m)\u001b[39m.\u001b[39mdecode(\u001b[39m\"\u001b[39m\u001b[39mascii\u001b[39m\u001b[39m\"\u001b[39m)\n\u001b[1;32m   1046\u001b[0m \u001b[39mexcept\u001b[39;00m \u001b[39mTypeError\u001b[39;00m \u001b[39mas\u001b[39;00m e:\n\u001b[0;32m-> 1047\u001b[0m     \u001b[39mraise\u001b[39;00m \u001b[39mFileNotFoundError\u001b[39;00m(\n\u001b[1;32m   1048\u001b[0m         \u001b[39m\"\u001b[39m\u001b[39mNo such file or directory: \u001b[39m\u001b[39m'\u001b[39m\u001b[39m%s\u001b[39;00m\u001b[39m'\u001b[39m\u001b[39m\"\u001b[39m \u001b[39m%\u001b[39m (\u001b[39mself\u001b[39m\u001b[39m.\u001b[39mdata)) \u001b[39mfrom\u001b[39;00m \u001b[39me\u001b[39;00m\n\u001b[1;32m   1049\u001b[0m md \u001b[39m=\u001b[39m {}\n\u001b[1;32m   1050\u001b[0m \u001b[39mif\u001b[39;00m \u001b[39mself\u001b[39m\u001b[39m.\u001b[39mmetadata:\n",
      "\u001b[0;31mFileNotFoundError\u001b[0m: No such file or directory: '/var/folders/hv/s4384wb96rs26yhqz76sj5sh0000gn/T/tmpx059umul/figtree_0.png'"
     ]
    },
    {
     "data": {
      "text/plain": [
       "<IPython.core.display.Image object>"
      ]
     },
     "metadata": {},
     "output_type": "display_data"
    }
   ],
   "source": [
    "showtree(poly)"
   ]
  },
  {
   "cell_type": "code",
   "execution_count": null,
   "metadata": {},
   "outputs": [],
   "source": [
    "x =6\n",
    "while x:\n",
    "    print(x)\n",
    "    x -= 1"
   ]
  },
  {
   "cell_type": "code",
   "execution_count": 6,
   "metadata": {},
   "outputs": [
    {
     "data": {
      "text/plain": [
       "True"
      ]
     },
     "execution_count": 6,
     "metadata": {},
     "output_type": "execute_result"
    }
   ],
   "source": [
    "issubclass(int, int)"
   ]
  },
  {
   "cell_type": "code",
   "execution_count": null,
   "metadata": {},
   "outputs": [],
   "source": [
    "\"\"\"\n",
    "([float]<SUM>\n",
    "    ([float]<SUM>\n",
    "        ([float]<SUM>\n",
    "            ([float]<SUM>\n",
    "                ([float]<SUM>\n",
    "                    ([float]<SUM>\n",
    "                        ([float]<SUM>\n",
    "                            ([float]<SUM>\n",
    "                                ([float]<SUM>\n",
    "                                    ([float]-2.3876893943397404)\n",
    "                                    ([float]<PROD>\n",
    "                                        ([float]6.049159814572754)\n",
    "                                        ([float]'$x')))\n",
    "                                ([float]<PROD>\n",
    "                                    ([float]-0.16844036641581184)\n",
    "                                    ([float]'$y')))\n",
    "                            ([float]<PROD>\n",
    "                                ([float]4.494622351393938)\n",
    "                                ([float]<SQ>\n",
    "                                    ([float]'$x'))))\n",
    "                        ([float]<PROD>\n",
    "                            ([float]7.841642215954966)\n",
    "                            ([float]<SQ>\n",
    "                                ([float]'$y'))))\n",
    "                    ([float]<PROD>\n",
    "                        ([float]<PROD>\n",
    "                            ([float]-4.652645712349868)\n",
    "                            ([float]'$x'))\n",
    "                        ([float]'$y')))\n",
    "                ([float]<PROD>\n",
    "                    ([float]1.264236135544996)\n",
    "                    ([float]<CUBE>\n",
    "                        ([float]'$x'))))\n",
    "            ([float]<PROD>\n",
    "                ([float]5.326149992496102)\n",
    "                ([float]<CUBE>\n",
    "                    ([float]'$y'))))\n",
    "        ([float]<PROD>\n",
    "            ([float]<PROD>\n",
    "                ([float]2.952505736957132)\n",
    "                ([float]<SQ>\n",
    "                    ([float]'$x')))\n",
    "            ([float]'$y')))\n",
    "    ([float]<PROD>\n",
    "        ([float]<PROD>\n",
    "            ([float]3.3544622648597624)\n",
    "            ([float]'$x'))\n",
    "        ([float]<SQ>\n",
    "            ([float]'$y'))))\n",
    "\"\"\""
   ]
  }
 ],
 "metadata": {
  "kernelspec": {
   "display_name": "phil_venv",
   "language": "python",
   "name": "python3"
  },
  "language_info": {
   "codemirror_mode": {
    "name": "ipython",
    "version": 3
   },
   "file_extension": ".py",
   "mimetype": "text/x-python",
   "name": "python",
   "nbconvert_exporter": "python",
   "pygments_lexer": "ipython3",
   "version": "3.10.0"
  }
 },
 "nbformat": 4,
 "nbformat_minor": 4
}
