{
 "cells": [
  {
   "cell_type": "code",
   "execution_count": 285,
   "metadata": {},
   "outputs": [],
   "source": [
    "from gp import GPTreebank, Constant\n",
    "import pandas as pd\n",
    "import numpy as np\n",
    "import operators as ops\n",
    "from copy import copy\n",
    "from random import choices, uniform\n",
    "from matplotlib import pyplot as plt \n",
    "from itertools import chain, combinations"
   ]
  },
  {
   "cell_type": "code",
   "execution_count": 2,
   "metadata": {},
   "outputs": [],
   "source": [
    "df = pd.DataFrame({'x': [float(x) for x in range(-100, 101)]})\n",
    "df['y'] = 7 * df['x'] + 13"
   ]
  },
  {
   "cell_type": "code",
   "execution_count": 3,
   "metadata": {},
   "outputs": [
    {
     "data": {
      "text/html": [
       "<div>\n",
       "<style scoped>\n",
       "    .dataframe tbody tr th:only-of-type {\n",
       "        vertical-align: middle;\n",
       "    }\n",
       "\n",
       "    .dataframe tbody tr th {\n",
       "        vertical-align: top;\n",
       "    }\n",
       "\n",
       "    .dataframe thead th {\n",
       "        text-align: right;\n",
       "    }\n",
       "</style>\n",
       "<table border=\"1\" class=\"dataframe\">\n",
       "  <thead>\n",
       "    <tr style=\"text-align: right;\">\n",
       "      <th></th>\n",
       "      <th>x</th>\n",
       "      <th>y</th>\n",
       "    </tr>\n",
       "  </thead>\n",
       "  <tbody>\n",
       "    <tr>\n",
       "      <th>0</th>\n",
       "      <td>-100.0</td>\n",
       "      <td>-687.0</td>\n",
       "    </tr>\n",
       "    <tr>\n",
       "      <th>1</th>\n",
       "      <td>-99.0</td>\n",
       "      <td>-680.0</td>\n",
       "    </tr>\n",
       "    <tr>\n",
       "      <th>2</th>\n",
       "      <td>-98.0</td>\n",
       "      <td>-673.0</td>\n",
       "    </tr>\n",
       "    <tr>\n",
       "      <th>3</th>\n",
       "      <td>-97.0</td>\n",
       "      <td>-666.0</td>\n",
       "    </tr>\n",
       "    <tr>\n",
       "      <th>4</th>\n",
       "      <td>-96.0</td>\n",
       "      <td>-659.0</td>\n",
       "    </tr>\n",
       "    <tr>\n",
       "      <th>...</th>\n",
       "      <td>...</td>\n",
       "      <td>...</td>\n",
       "    </tr>\n",
       "    <tr>\n",
       "      <th>196</th>\n",
       "      <td>96.0</td>\n",
       "      <td>685.0</td>\n",
       "    </tr>\n",
       "    <tr>\n",
       "      <th>197</th>\n",
       "      <td>97.0</td>\n",
       "      <td>692.0</td>\n",
       "    </tr>\n",
       "    <tr>\n",
       "      <th>198</th>\n",
       "      <td>98.0</td>\n",
       "      <td>699.0</td>\n",
       "    </tr>\n",
       "    <tr>\n",
       "      <th>199</th>\n",
       "      <td>99.0</td>\n",
       "      <td>706.0</td>\n",
       "    </tr>\n",
       "    <tr>\n",
       "      <th>200</th>\n",
       "      <td>100.0</td>\n",
       "      <td>713.0</td>\n",
       "    </tr>\n",
       "  </tbody>\n",
       "</table>\n",
       "<p>201 rows × 2 columns</p>\n",
       "</div>"
      ],
      "text/plain": [
       "         x      y\n",
       "0   -100.0 -687.0\n",
       "1    -99.0 -680.0\n",
       "2    -98.0 -673.0\n",
       "3    -97.0 -666.0\n",
       "4    -96.0 -659.0\n",
       "..     ...    ...\n",
       "196   96.0  685.0\n",
       "197   97.0  692.0\n",
       "198   98.0  699.0\n",
       "199   99.0  706.0\n",
       "200  100.0  713.0\n",
       "\n",
       "[201 rows x 2 columns]"
      ]
     },
     "execution_count": 3,
     "metadata": {},
     "output_type": "execute_result"
    }
   ],
   "source": [
    "df"
   ]
  },
  {
   "cell_type": "code",
   "execution_count": 4,
   "metadata": {},
   "outputs": [],
   "source": [
    "gp = GPTreebank(mutation_rate = 0.2, mutation_sd=1.0, operators=[ops.SUM, ops.PROD])"
   ]
  },
  {
   "cell_type": "code",
   "execution_count": 5,
   "metadata": {},
   "outputs": [],
   "source": [
    "gpt0 = gp.tree(\"([float]<SUM>([float]<PROD>([float]0.5)([float]x))([float]-9.0))\", x = df['x'])\n"
   ]
  },
  {
   "cell_type": "code",
   "execution_count": 6,
   "metadata": {},
   "outputs": [
    {
     "data": {
      "text/plain": [
       "tree(\"([float]<SUM>([float]<PROD>([float]0.5)([float]x))([float]-9.0))\")"
      ]
     },
     "execution_count": 6,
     "metadata": {},
     "output_type": "execute_result"
    }
   ],
   "source": [
    "gpt0"
   ]
  },
  {
   "cell_type": "code",
   "execution_count": 7,
   "metadata": {},
   "outputs": [
    {
     "data": {
      "text/plain": [
       "tree(\"([float]3.0)\")"
      ]
     },
     "execution_count": 7,
     "metadata": {},
     "output_type": "execute_result"
    }
   ],
   "source": [
    "for i in range(99):\n",
    "    "
   ]
  },
  {
   "cell_type": "code",
   "execution_count": 74,
   "metadata": {},
   "outputs": [],
   "source": [
    "def k_best(k, trees, scores, mark_4_del=True):\n",
    "    scoreboard = pd.DataFrame({\n",
    "        't': trees,\n",
    "        's': scores\n",
    "    })\n",
    "    best = scoreboard.nlargest(k, 's')['t']\n",
    "    if mark_4_del:\n",
    "        scoreboard['t'].apply(lambda t: t.metadata.__setitem__('to_delete', True))\n",
    "        best.apply(lambda t: t.metadata.__setitem__('to_delete', False))\n",
    "    return list(best)\n",
    "    "
   ]
  },
  {
   "cell_type": "code",
   "execution_count": 172,
   "metadata": {},
   "outputs": [
    {
     "name": "stdout",
     "output_type": "stream",
     "text": [
      "0.11241908138381157\n",
      "[81381.52459604309, 26428.32053545721, 12043.47364271643, 1707.5926784604433, 1581.6934600899745, 1581.6934600899745, 557.7224182660153, 557.7224182660153, 557.7224182660153, 534.9890099192444, 510.3177867204252, 499.87414023506454, 473.59239693095435, 465.28832823788696, 462.539251811518, 447.41134069563094, 446.5526017910868, 431.0779161016009, 370.1368581901017, 370.1368581901017, 345.1427721460279, 317.70393317788063, 293.6280956893298, 293.6280956893298, 191.17513443855498, 191.17513443855498, 191.17513443855498, 167.49068443181773, 132.94659330359875, 128.4814123760521, 128.4814123760521, 89.99774289780544, 89.99774289780544, 77.76340296377684, 63.14912673388637, 61.580230217472256, 61.580230217472256, 57.36563358755077, 49.09019253342789, 49.09019253342789, 45.54548127176751, 35.249175126088595, 35.249175126088595, 28.52148622451274, 23.782874704439646, 23.782874704439646, 18.300226206230285, 15.273511023910867, 8.290509590572103, 2.881027097715511, 0.3764635420403082, 0.3764635420403082, 0.3764635420403082, 0.3676434660645643, 0.36467161169029, 0.36467161169029, 0.36464678272241047, 0.36464678272241047, 0.36464678272241047, 0.36464678272241047, 0.36464678272241047, 0.012666974061516808, 0.012666974061516808, 0.012666974061516808, 0.012666974061516808, 0.012666974061516808, 0.012666974061516808, 0.012666974061516808, 0.012666974061516808, 0.012666974061516808, 0.012666974061516808, 0.012666974061516808, 0.012666974061516808, 0.012666974061516808, 0.012666974061516808, 0.012666974061516808, 0.012666974061516808, 0.012643137625238214, 0.012643137625238214, 0.012643137625238214, 0.012643137625238214, 0.012643137625238214, 0.012643137625238214, 0.012643137625238214, 0.012643137625238214, 0.012643137625238214, 0.012643137625238214, 0.012643137625238214, 0.012643137625238214, 0.012643137625238214, 0.012643137625238214, 0.012643137625238214, 0.012643137625238214, 0.012643137625238214, 0.012638049859180048, 0.012638049859180048, 0.012638049859180048, 0.012638049859180048, 0.012638049859180048, 0.012638049859180048, 0.012638049859180048]\n",
      "[tree(\"([float]<SUM>([float]<PROD>([float]7.001937264133841)([float]x))([float]12.99827497802417))\")]\n"
     ]
    }
   ],
   "source": [
    "for i in range(28):\n",
    "    imses = [1/(np.square(t() - df['y'])).mean() for t in gp.get_all_root_nodes()[float]]\n",
    "    bestscores.append(1/max(imses))\n",
    "    k_best(5, gp.get_all_root_nodes()[float], imses)\n",
    "    old_gen = gp.get_all_root_nodes()[float]\n",
    "    new_gen = [t.copy(gp_copy=True) for t in choices(old_gen, imses, k=pop-elitism)]\n",
    "    for t in filter(lambda t: t.metadata['to_delete'] == True, old_gen):\n",
    "        t.delete()\n",
    "    \n",
    "imses = [1/(np.square(t() - df['y'])).mean() for t in gp.get_all_root_nodes()[float]]\n",
    "bestscores.append(1/max(imses))\n",
    "print(bestscores[-1]**.5)\n",
    "print(bestscores)\n",
    "print(k_best(1, gp.get_all_root_nodes()[float], imses, mark_4_del=False))"
   ]
  },
  {
   "cell_type": "code",
   "execution_count": 176,
   "metadata": {},
   "outputs": [
    {
     "data": {
      "text/plain": [
       "[<matplotlib.lines.Line2D at 0x7fb99808a8d0>]"
      ]
     },
     "execution_count": 176,
     "metadata": {},
     "output_type": "execute_result"
    },
    {
     "data": {
      "image/png": "[encoded data removed]",
      "text/plain": [
       "<Figure size 432x288 with 1 Axes>"
      ]
     },
     "metadata": {
      "needs_background": "light"
     },
     "output_type": "display_data"
    }
   ],
   "source": [
    "plt.plot([s**0.5 for s in bestscores])"
   ]
  },
  {
   "cell_type": "code",
   "execution_count": 177,
   "metadata": {},
   "outputs": [],
   "source": []
  },
  {
   "cell_type": "code",
   "execution_count": 269,
   "metadata": {},
   "outputs": [
    {
     "ename": "RecursionError",
     "evalue": "maximum recursion depth exceeded in comparison",
     "output_type": "error",
     "traceback": [
      "\u001b[0;31m---------------------------------------------------------------------------\u001b[0m",
      "\u001b[0;31mRecursionError\u001b[0m                            Traceback (most recent call last)",
      "\u001b[0;32m<ipython-input-269-488b36954b24>\u001b[0m in \u001b[0;36m<module>\u001b[0;34m\u001b[0m\n\u001b[1;32m     16\u001b[0m         \u001b[0;32mreturn\u001b[0m \u001b[0msums\u001b[0m\u001b[0;34m\u001b[0m\u001b[0;34m\u001b[0m\u001b[0m\n\u001b[1;32m     17\u001b[0m \u001b[0;34m\u001b[0m\u001b[0m\n\u001b[0;32m---> 18\u001b[0;31m \u001b[0mall_sums\u001b[0m\u001b[0;34m(\u001b[0m\u001b[0;36m1\u001b[0m\u001b[0;34m,\u001b[0m\u001b[0;36m0\u001b[0m\u001b[0;34m)\u001b[0m\u001b[0;34m\u001b[0m\u001b[0;34m\u001b[0m\u001b[0m\n\u001b[0m",
      "\u001b[0;32m<ipython-input-269-488b36954b24>\u001b[0m in \u001b[0;36mall_sums\u001b[0;34m(tot, k)\u001b[0m\n\u001b[1;32m     10\u001b[0m         \u001b[0mfirst\u001b[0m \u001b[0;34m=\u001b[0m \u001b[0mtot\u001b[0m \u001b[0;34m-\u001b[0m \u001b[0;34m(\u001b[0m\u001b[0mk\u001b[0m\u001b[0;34m-\u001b[0m\u001b[0;36m1\u001b[0m\u001b[0;34m)\u001b[0m\u001b[0;34m\u001b[0m\u001b[0;34m\u001b[0m\u001b[0m\n\u001b[1;32m     11\u001b[0m         \u001b[0;32mwhile\u001b[0m \u001b[0mfirst\u001b[0m \u001b[0;34m>\u001b[0m \u001b[0;36m0\u001b[0m\u001b[0;34m:\u001b[0m\u001b[0;34m\u001b[0m\u001b[0;34m\u001b[0m\u001b[0m\n\u001b[0;32m---> 12\u001b[0;31m             \u001b[0mtails\u001b[0m \u001b[0;34m=\u001b[0m \u001b[0mall_sums\u001b[0m\u001b[0;34m(\u001b[0m\u001b[0mtot\u001b[0m\u001b[0;34m-\u001b[0m\u001b[0mfirst\u001b[0m\u001b[0;34m,\u001b[0m \u001b[0mk\u001b[0m\u001b[0;34m-\u001b[0m\u001b[0;36m1\u001b[0m\u001b[0;34m)\u001b[0m\u001b[0;34m\u001b[0m\u001b[0;34m\u001b[0m\u001b[0m\n\u001b[0m\u001b[1;32m     13\u001b[0m             \u001b[0mt\u001b[0m \u001b[0;34m=\u001b[0m \u001b[0mtails\u001b[0m\u001b[0;34m[\u001b[0m\u001b[0;36m0\u001b[0m\u001b[0;34m]\u001b[0m\u001b[0;34m\u001b[0m\u001b[0;34m\u001b[0m\u001b[0m\n\u001b[1;32m     14\u001b[0m             \u001b[0msums\u001b[0m \u001b[0;34m+=\u001b[0m \u001b[0mtuple\u001b[0m\u001b[0;34m(\u001b[0m\u001b[0;34m(\u001b[0m\u001b[0mfirst\u001b[0m\u001b[0;34m,\u001b[0m\u001b[0;34m)\u001b[0m \u001b[0;34m+\u001b[0m \u001b[0mtail\u001b[0m \u001b[0;32mfor\u001b[0m \u001b[0mtail\u001b[0m \u001b[0;32min\u001b[0m \u001b[0mtails\u001b[0m\u001b[0;34m)\u001b[0m\u001b[0;34m\u001b[0m\u001b[0;34m\u001b[0m\u001b[0m\n",
      "... last 1 frames repeated, from the frame below ...\n",
      "\u001b[0;32m<ipython-input-269-488b36954b24>\u001b[0m in \u001b[0;36mall_sums\u001b[0;34m(tot, k)\u001b[0m\n\u001b[1;32m     10\u001b[0m         \u001b[0mfirst\u001b[0m \u001b[0;34m=\u001b[0m \u001b[0mtot\u001b[0m \u001b[0;34m-\u001b[0m \u001b[0;34m(\u001b[0m\u001b[0mk\u001b[0m\u001b[0;34m-\u001b[0m\u001b[0;36m1\u001b[0m\u001b[0;34m)\u001b[0m\u001b[0;34m\u001b[0m\u001b[0;34m\u001b[0m\u001b[0m\n\u001b[1;32m     11\u001b[0m         \u001b[0;32mwhile\u001b[0m \u001b[0mfirst\u001b[0m \u001b[0;34m>\u001b[0m \u001b[0;36m0\u001b[0m\u001b[0;34m:\u001b[0m\u001b[0;34m\u001b[0m\u001b[0;34m\u001b[0m\u001b[0m\n\u001b[0;32m---> 12\u001b[0;31m             \u001b[0mtails\u001b[0m \u001b[0;34m=\u001b[0m \u001b[0mall_sums\u001b[0m\u001b[0;34m(\u001b[0m\u001b[0mtot\u001b[0m\u001b[0;34m-\u001b[0m\u001b[0mfirst\u001b[0m\u001b[0;34m,\u001b[0m \u001b[0mk\u001b[0m\u001b[0;34m-\u001b[0m\u001b[0;36m1\u001b[0m\u001b[0;34m)\u001b[0m\u001b[0;34m\u001b[0m\u001b[0;34m\u001b[0m\u001b[0m\n\u001b[0m\u001b[1;32m     13\u001b[0m             \u001b[0mt\u001b[0m \u001b[0;34m=\u001b[0m \u001b[0mtails\u001b[0m\u001b[0;34m[\u001b[0m\u001b[0;36m0\u001b[0m\u001b[0;34m]\u001b[0m\u001b[0;34m\u001b[0m\u001b[0;34m\u001b[0m\u001b[0m\n\u001b[1;32m     14\u001b[0m             \u001b[0msums\u001b[0m \u001b[0;34m+=\u001b[0m \u001b[0mtuple\u001b[0m\u001b[0;34m(\u001b[0m\u001b[0;34m(\u001b[0m\u001b[0mfirst\u001b[0m\u001b[0;34m,\u001b[0m\u001b[0;34m)\u001b[0m \u001b[0;34m+\u001b[0m \u001b[0mtail\u001b[0m \u001b[0;32mfor\u001b[0m \u001b[0mtail\u001b[0m \u001b[0;32min\u001b[0m \u001b[0mtails\u001b[0m\u001b[0;34m)\u001b[0m\u001b[0;34m\u001b[0m\u001b[0;34m\u001b[0m\u001b[0m\n",
      "\u001b[0;31mRecursionError\u001b[0m: maximum recursion depth exceeded in comparison"
     ]
    }
   ],
   "source": [
    "def all_sums(tot, k): # do a video on this\n",
    "    if tot < k:\n",
    "        print('wut')\n",
    "    if tot==k:\n",
    "        return ((1,) * k,)\n",
    "    elif k==1:\n",
    "        return ((tot,),)\n",
    "    else:\n",
    "        sums = ()\n",
    "        first = tot - (k-1)\n",
    "        while first > 0:\n",
    "            tails = all_sums(tot-first, k-1)\n",
    "            t = tails[0]\n",
    "            sums += tuple((first,) + tail for tail in tails)\n",
    "            first -= 1\n",
    "        return sums\n",
    "\n",
    "all_sums(1,0)"
   ]
  },
  {
   "cell_type": "code",
   "execution_count": 280,
   "metadata": {},
   "outputs": [],
   "source": [
    "def poly_terms(vars_, order): \n",
    "    combos = tuple(chain.from_iterable(combinations(vars_, r) for r in range(order+1)))\n",
    "    print(tuple(combos))\n",
    "    terms = []\n",
    "    for n in range(order+1):\n",
    "        print(len(combos[0]), '<=', n)\n",
    "        for c in filter(lambda combo: len(combo) <= n, combos):\n",
    "            if len(c):\n",
    "                terms += [(c, powers) for powers in all_sums(n, len(c))]\n",
    "            elif not n:\n",
    "                terms.append(((), ()))\n",
    "    return tuple(terms)"
   ]
  },
  {
   "cell_type": "code",
   "execution_count": 282,
   "metadata": {},
   "outputs": [
    {
     "name": "stdout",
     "output_type": "stream",
     "text": [
      "((), ('v',), ('w',), ('x',), ('y',), ('z',), ('a',), ('v', 'w'), ('v', 'x'), ('v', 'y'), ('v', 'z'), ('v', 'a'), ('w', 'x'), ('w', 'y'), ('w', 'z'), ('w', 'a'), ('x', 'y'), ('x', 'z'), ('x', 'a'), ('y', 'z'), ('y', 'a'), ('z', 'a'), ('v', 'w', 'x'), ('v', 'w', 'y'), ('v', 'w', 'z'), ('v', 'w', 'a'), ('v', 'x', 'y'), ('v', 'x', 'z'), ('v', 'x', 'a'), ('v', 'y', 'z'), ('v', 'y', 'a'), ('v', 'z', 'a'), ('w', 'x', 'y'), ('w', 'x', 'z'), ('w', 'x', 'a'), ('w', 'y', 'z'), ('w', 'y', 'a'), ('w', 'z', 'a'), ('x', 'y', 'z'), ('x', 'y', 'a'), ('x', 'z', 'a'), ('y', 'z', 'a'), ('v', 'w', 'x', 'y'), ('v', 'w', 'x', 'z'), ('v', 'w', 'x', 'a'), ('v', 'w', 'y', 'z'), ('v', 'w', 'y', 'a'), ('v', 'w', 'z', 'a'), ('v', 'x', 'y', 'z'), ('v', 'x', 'y', 'a'), ('v', 'x', 'z', 'a'), ('v', 'y', 'z', 'a'), ('w', 'x', 'y', 'z'), ('w', 'x', 'y', 'a'), ('w', 'x', 'z', 'a'), ('w', 'y', 'z', 'a'), ('x', 'y', 'z', 'a'))\n",
      "0 <= 0\n",
      "waa\n",
      "0 <= 1\n",
      "0 <= 2\n",
      "0 <= 3\n",
      "0 <= 4\n"
     ]
    },
    {
     "data": {
      "text/plain": [
       "[((), ()),\n",
       " (('v',), (1,)),\n",
       " (('w',), (1,)),\n",
       " (('x',), (1,)),\n",
       " (('y',), (1,)),\n",
       " (('z',), (1,)),\n",
       " (('a',), (1,)),\n",
       " (('v',), (2,)),\n",
       " (('w',), (2,)),\n",
       " (('x',), (2,)),\n",
       " (('y',), (2,)),\n",
       " (('z',), (2,)),\n",
       " (('a',), (2,)),\n",
       " (('v', 'w'), (1, 1)),\n",
       " (('v', 'x'), (1, 1)),\n",
       " (('v', 'y'), (1, 1)),\n",
       " (('v', 'z'), (1, 1)),\n",
       " (('v', 'a'), (1, 1)),\n",
       " (('w', 'x'), (1, 1)),\n",
       " (('w', 'y'), (1, 1)),\n",
       " (('w', 'z'), (1, 1)),\n",
       " (('w', 'a'), (1, 1)),\n",
       " (('x', 'y'), (1, 1)),\n",
       " (('x', 'z'), (1, 1)),\n",
       " (('x', 'a'), (1, 1)),\n",
       " (('y', 'z'), (1, 1)),\n",
       " (('y', 'a'), (1, 1)),\n",
       " (('z', 'a'), (1, 1)),\n",
       " (('v',), (3,)),\n",
       " (('w',), (3,)),\n",
       " (('x',), (3,)),\n",
       " (('y',), (3,)),\n",
       " (('z',), (3,)),\n",
       " (('a',), (3,)),\n",
       " (('v', 'w'), (2, 1)),\n",
       " (('v', 'w'), (1, 2)),\n",
       " (('v', 'x'), (2, 1)),\n",
       " (('v', 'x'), (1, 2)),\n",
       " (('v', 'y'), (2, 1)),\n",
       " (('v', 'y'), (1, 2)),\n",
       " (('v', 'z'), (2, 1)),\n",
       " (('v', 'z'), (1, 2)),\n",
       " (('v', 'a'), (2, 1)),\n",
       " (('v', 'a'), (1, 2)),\n",
       " (('w', 'x'), (2, 1)),\n",
       " (('w', 'x'), (1, 2)),\n",
       " (('w', 'y'), (2, 1)),\n",
       " (('w', 'y'), (1, 2)),\n",
       " (('w', 'z'), (2, 1)),\n",
       " (('w', 'z'), (1, 2)),\n",
       " (('w', 'a'), (2, 1)),\n",
       " (('w', 'a'), (1, 2)),\n",
       " (('x', 'y'), (2, 1)),\n",
       " (('x', 'y'), (1, 2)),\n",
       " (('x', 'z'), (2, 1)),\n",
       " (('x', 'z'), (1, 2)),\n",
       " (('x', 'a'), (2, 1)),\n",
       " (('x', 'a'), (1, 2)),\n",
       " (('y', 'z'), (2, 1)),\n",
       " (('y', 'z'), (1, 2)),\n",
       " (('y', 'a'), (2, 1)),\n",
       " (('y', 'a'), (1, 2)),\n",
       " (('z', 'a'), (2, 1)),\n",
       " (('z', 'a'), (1, 2)),\n",
       " (('v', 'w', 'x'), (1, 1, 1)),\n",
       " (('v', 'w', 'y'), (1, 1, 1)),\n",
       " (('v', 'w', 'z'), (1, 1, 1)),\n",
       " (('v', 'w', 'a'), (1, 1, 1)),\n",
       " (('v', 'x', 'y'), (1, 1, 1)),\n",
       " (('v', 'x', 'z'), (1, 1, 1)),\n",
       " (('v', 'x', 'a'), (1, 1, 1)),\n",
       " (('v', 'y', 'z'), (1, 1, 1)),\n",
       " (('v', 'y', 'a'), (1, 1, 1)),\n",
       " (('v', 'z', 'a'), (1, 1, 1)),\n",
       " (('w', 'x', 'y'), (1, 1, 1)),\n",
       " (('w', 'x', 'z'), (1, 1, 1)),\n",
       " (('w', 'x', 'a'), (1, 1, 1)),\n",
       " (('w', 'y', 'z'), (1, 1, 1)),\n",
       " (('w', 'y', 'a'), (1, 1, 1)),\n",
       " (('w', 'z', 'a'), (1, 1, 1)),\n",
       " (('x', 'y', 'z'), (1, 1, 1)),\n",
       " (('x', 'y', 'a'), (1, 1, 1)),\n",
       " (('x', 'z', 'a'), (1, 1, 1)),\n",
       " (('y', 'z', 'a'), (1, 1, 1)),\n",
       " (('v',), (4,)),\n",
       " (('w',), (4,)),\n",
       " (('x',), (4,)),\n",
       " (('y',), (4,)),\n",
       " (('z',), (4,)),\n",
       " (('a',), (4,)),\n",
       " (('v', 'w'), (3, 1)),\n",
       " (('v', 'w'), (2, 2)),\n",
       " (('v', 'w'), (1, 3)),\n",
       " (('v', 'x'), (3, 1)),\n",
       " (('v', 'x'), (2, 2)),\n",
       " (('v', 'x'), (1, 3)),\n",
       " (('v', 'y'), (3, 1)),\n",
       " (('v', 'y'), (2, 2)),\n",
       " (('v', 'y'), (1, 3)),\n",
       " (('v', 'z'), (3, 1)),\n",
       " (('v', 'z'), (2, 2)),\n",
       " (('v', 'z'), (1, 3)),\n",
       " (('v', 'a'), (3, 1)),\n",
       " (('v', 'a'), (2, 2)),\n",
       " (('v', 'a'), (1, 3)),\n",
       " (('w', 'x'), (3, 1)),\n",
       " (('w', 'x'), (2, 2)),\n",
       " (('w', 'x'), (1, 3)),\n",
       " (('w', 'y'), (3, 1)),\n",
       " (('w', 'y'), (2, 2)),\n",
       " (('w', 'y'), (1, 3)),\n",
       " (('w', 'z'), (3, 1)),\n",
       " (('w', 'z'), (2, 2)),\n",
       " (('w', 'z'), (1, 3)),\n",
       " (('w', 'a'), (3, 1)),\n",
       " (('w', 'a'), (2, 2)),\n",
       " (('w', 'a'), (1, 3)),\n",
       " (('x', 'y'), (3, 1)),\n",
       " (('x', 'y'), (2, 2)),\n",
       " (('x', 'y'), (1, 3)),\n",
       " (('x', 'z'), (3, 1)),\n",
       " (('x', 'z'), (2, 2)),\n",
       " (('x', 'z'), (1, 3)),\n",
       " (('x', 'a'), (3, 1)),\n",
       " (('x', 'a'), (2, 2)),\n",
       " (('x', 'a'), (1, 3)),\n",
       " (('y', 'z'), (3, 1)),\n",
       " (('y', 'z'), (2, 2)),\n",
       " (('y', 'z'), (1, 3)),\n",
       " (('y', 'a'), (3, 1)),\n",
       " (('y', 'a'), (2, 2)),\n",
       " (('y', 'a'), (1, 3)),\n",
       " (('z', 'a'), (3, 1)),\n",
       " (('z', 'a'), (2, 2)),\n",
       " (('z', 'a'), (1, 3)),\n",
       " (('v', 'w', 'x'), (2, 1, 1)),\n",
       " (('v', 'w', 'x'), (1, 2, 1)),\n",
       " (('v', 'w', 'x'), (1, 1, 2)),\n",
       " (('v', 'w', 'y'), (2, 1, 1)),\n",
       " (('v', 'w', 'y'), (1, 2, 1)),\n",
       " (('v', 'w', 'y'), (1, 1, 2)),\n",
       " (('v', 'w', 'z'), (2, 1, 1)),\n",
       " (('v', 'w', 'z'), (1, 2, 1)),\n",
       " (('v', 'w', 'z'), (1, 1, 2)),\n",
       " (('v', 'w', 'a'), (2, 1, 1)),\n",
       " (('v', 'w', 'a'), (1, 2, 1)),\n",
       " (('v', 'w', 'a'), (1, 1, 2)),\n",
       " (('v', 'x', 'y'), (2, 1, 1)),\n",
       " (('v', 'x', 'y'), (1, 2, 1)),\n",
       " (('v', 'x', 'y'), (1, 1, 2)),\n",
       " (('v', 'x', 'z'), (2, 1, 1)),\n",
       " (('v', 'x', 'z'), (1, 2, 1)),\n",
       " (('v', 'x', 'z'), (1, 1, 2)),\n",
       " (('v', 'x', 'a'), (2, 1, 1)),\n",
       " (('v', 'x', 'a'), (1, 2, 1)),\n",
       " (('v', 'x', 'a'), (1, 1, 2)),\n",
       " (('v', 'y', 'z'), (2, 1, 1)),\n",
       " (('v', 'y', 'z'), (1, 2, 1)),\n",
       " (('v', 'y', 'z'), (1, 1, 2)),\n",
       " (('v', 'y', 'a'), (2, 1, 1)),\n",
       " (('v', 'y', 'a'), (1, 2, 1)),\n",
       " (('v', 'y', 'a'), (1, 1, 2)),\n",
       " (('v', 'z', 'a'), (2, 1, 1)),\n",
       " (('v', 'z', 'a'), (1, 2, 1)),\n",
       " (('v', 'z', 'a'), (1, 1, 2)),\n",
       " (('w', 'x', 'y'), (2, 1, 1)),\n",
       " (('w', 'x', 'y'), (1, 2, 1)),\n",
       " (('w', 'x', 'y'), (1, 1, 2)),\n",
       " (('w', 'x', 'z'), (2, 1, 1)),\n",
       " (('w', 'x', 'z'), (1, 2, 1)),\n",
       " (('w', 'x', 'z'), (1, 1, 2)),\n",
       " (('w', 'x', 'a'), (2, 1, 1)),\n",
       " (('w', 'x', 'a'), (1, 2, 1)),\n",
       " (('w', 'x', 'a'), (1, 1, 2)),\n",
       " (('w', 'y', 'z'), (2, 1, 1)),\n",
       " (('w', 'y', 'z'), (1, 2, 1)),\n",
       " (('w', 'y', 'z'), (1, 1, 2)),\n",
       " (('w', 'y', 'a'), (2, 1, 1)),\n",
       " (('w', 'y', 'a'), (1, 2, 1)),\n",
       " (('w', 'y', 'a'), (1, 1, 2)),\n",
       " (('w', 'z', 'a'), (2, 1, 1)),\n",
       " (('w', 'z', 'a'), (1, 2, 1)),\n",
       " (('w', 'z', 'a'), (1, 1, 2)),\n",
       " (('x', 'y', 'z'), (2, 1, 1)),\n",
       " (('x', 'y', 'z'), (1, 2, 1)),\n",
       " (('x', 'y', 'z'), (1, 1, 2)),\n",
       " (('x', 'y', 'a'), (2, 1, 1)),\n",
       " (('x', 'y', 'a'), (1, 2, 1)),\n",
       " (('x', 'y', 'a'), (1, 1, 2)),\n",
       " (('x', 'z', 'a'), (2, 1, 1)),\n",
       " (('x', 'z', 'a'), (1, 2, 1)),\n",
       " (('x', 'z', 'a'), (1, 1, 2)),\n",
       " (('y', 'z', 'a'), (2, 1, 1)),\n",
       " (('y', 'z', 'a'), (1, 2, 1)),\n",
       " (('y', 'z', 'a'), (1, 1, 2)),\n",
       " (('v', 'w', 'x', 'y'), (1, 1, 1, 1)),\n",
       " (('v', 'w', 'x', 'z'), (1, 1, 1, 1)),\n",
       " (('v', 'w', 'x', 'a'), (1, 1, 1, 1)),\n",
       " (('v', 'w', 'y', 'z'), (1, 1, 1, 1)),\n",
       " (('v', 'w', 'y', 'a'), (1, 1, 1, 1)),\n",
       " (('v', 'w', 'z', 'a'), (1, 1, 1, 1)),\n",
       " (('v', 'x', 'y', 'z'), (1, 1, 1, 1)),\n",
       " (('v', 'x', 'y', 'a'), (1, 1, 1, 1)),\n",
       " (('v', 'x', 'z', 'a'), (1, 1, 1, 1)),\n",
       " (('v', 'y', 'z', 'a'), (1, 1, 1, 1)),\n",
       " (('w', 'x', 'y', 'z'), (1, 1, 1, 1)),\n",
       " (('w', 'x', 'y', 'a'), (1, 1, 1, 1)),\n",
       " (('w', 'x', 'z', 'a'), (1, 1, 1, 1)),\n",
       " (('w', 'y', 'z', 'a'), (1, 1, 1, 1)),\n",
       " (('x', 'y', 'z', 'a'), (1, 1, 1, 1))]"
      ]
     },
     "execution_count": 282,
     "metadata": {},
     "output_type": "execute_result"
    }
   ],
   "source": [
    "list(poly_terms(('v', 'w', 'x', 'y', 'z', 'a'), 4))"
   ]
  },
  {
   "cell_type": "code",
   "execution_count": 190,
   "metadata": {},
   "outputs": [
    {
     "data": {
      "text/plain": [
       "(('a', 'b', 'c', 'd'), (1, 1, 1, 1))"
      ]
     },
     "execution_count": 190,
     "metadata": {},
     "output_type": "execute_result"
    }
   ],
   "source": [
    "c = ('a', 'b', 'c', 'd')\n",
    "(c, tuple([1] * len(c)))"
   ]
  },
  {
   "cell_type": "code",
   "execution_count": 192,
   "metadata": {},
   "outputs": [
    {
     "data": {
      "text/plain": [
       "(1, 1, 1)"
      ]
     },
     "execution_count": 192,
     "metadata": {},
     "output_type": "execute_result"
    }
   ],
   "source": [
    "(1,) * 3"
   ]
  },
  {
   "cell_type": "code",
   "execution_count": 193,
   "metadata": {},
   "outputs": [
    {
     "data": {
      "text/plain": [
       "(1,)"
      ]
     },
     "execution_count": 193,
     "metadata": {},
     "output_type": "execute_result"
    }
   ],
   "source": [
    "tuple((1,))"
   ]
  },
  {
   "cell_type": "code",
   "execution_count": 263,
   "metadata": {},
   "outputs": [],
   "source": [
    "n = 4\n",
    "f = filter(lambda combo: len(combo) <= n, [\"combos\", 'pum', 'bup', 'murr'])"
   ]
  },
  {
   "cell_type": "code",
   "execution_count": 286,
   "metadata": {},
   "outputs": [
    {
     "data": {
      "text/html": [
       "<div>\n",
       "<style scoped>\n",
       "    .dataframe tbody tr th:only-of-type {\n",
       "        vertical-align: middle;\n",
       "    }\n",
       "\n",
       "    .dataframe tbody tr th {\n",
       "        vertical-align: top;\n",
       "    }\n",
       "\n",
       "    .dataframe thead th {\n",
       "        text-align: right;\n",
       "    }\n",
       "</style>\n",
       "<table border=\"1\" class=\"dataframe\">\n",
       "  <thead>\n",
       "    <tr style=\"text-align: right;\">\n",
       "      <th></th>\n",
       "      <th>a</th>\n",
       "      <th>b</th>\n",
       "      <th>c</th>\n",
       "      <th>d</th>\n",
       "      <th>e</th>\n",
       "    </tr>\n",
       "  </thead>\n",
       "  <tbody>\n",
       "    <tr>\n",
       "      <th>0</th>\n",
       "      <td>-16.863037</td>\n",
       "      <td>-95.138633</td>\n",
       "      <td>-10.965624</td>\n",
       "      <td>43.668115</td>\n",
       "      <td>42.684341</td>\n",
       "    </tr>\n",
       "    <tr>\n",
       "      <th>1</th>\n",
       "      <td>-32.268966</td>\n",
       "      <td>-18.837979</td>\n",
       "      <td>-27.569932</td>\n",
       "      <td>-89.775431</td>\n",
       "      <td>-95.320669</td>\n",
       "    </tr>\n",
       "    <tr>\n",
       "      <th>2</th>\n",
       "      <td>24.275786</td>\n",
       "      <td>-47.924789</td>\n",
       "      <td>34.758628</td>\n",
       "      <td>52.175623</td>\n",
       "      <td>87.784445</td>\n",
       "    </tr>\n",
       "    <tr>\n",
       "      <th>3</th>\n",
       "      <td>59.625620</td>\n",
       "      <td>22.055025</td>\n",
       "      <td>79.851172</td>\n",
       "      <td>-43.763232</td>\n",
       "      <td>52.505449</td>\n",
       "    </tr>\n",
       "    <tr>\n",
       "      <th>4</th>\n",
       "      <td>73.935882</td>\n",
       "      <td>-43.023794</td>\n",
       "      <td>-76.717743</td>\n",
       "      <td>-43.880959</td>\n",
       "      <td>19.789356</td>\n",
       "    </tr>\n",
       "    <tr>\n",
       "      <th>5</th>\n",
       "      <td>-92.455892</td>\n",
       "      <td>-54.826566</td>\n",
       "      <td>8.721879</td>\n",
       "      <td>-93.876193</td>\n",
       "      <td>17.513983</td>\n",
       "    </tr>\n",
       "    <tr>\n",
       "      <th>6</th>\n",
       "      <td>-87.380704</td>\n",
       "      <td>-32.326731</td>\n",
       "      <td>81.170607</td>\n",
       "      <td>14.313691</td>\n",
       "      <td>2.787542</td>\n",
       "    </tr>\n",
       "    <tr>\n",
       "      <th>7</th>\n",
       "      <td>-93.803882</td>\n",
       "      <td>-98.849419</td>\n",
       "      <td>85.806883</td>\n",
       "      <td>-53.872887</td>\n",
       "      <td>-47.139213</td>\n",
       "    </tr>\n",
       "    <tr>\n",
       "      <th>8</th>\n",
       "      <td>-11.935573</td>\n",
       "      <td>39.979989</td>\n",
       "      <td>28.285092</td>\n",
       "      <td>69.933469</td>\n",
       "      <td>-24.372546</td>\n",
       "    </tr>\n",
       "    <tr>\n",
       "      <th>9</th>\n",
       "      <td>39.622903</td>\n",
       "      <td>12.910389</td>\n",
       "      <td>23.007397</td>\n",
       "      <td>59.469616</td>\n",
       "      <td>-33.346341</td>\n",
       "    </tr>\n",
       "    <tr>\n",
       "      <th>10</th>\n",
       "      <td>11.204753</td>\n",
       "      <td>-88.518895</td>\n",
       "      <td>-79.599664</td>\n",
       "      <td>-33.682247</td>\n",
       "      <td>-3.070237</td>\n",
       "    </tr>\n",
       "    <tr>\n",
       "      <th>11</th>\n",
       "      <td>29.298430</td>\n",
       "      <td>88.734051</td>\n",
       "      <td>89.273382</td>\n",
       "      <td>74.073197</td>\n",
       "      <td>35.661978</td>\n",
       "    </tr>\n",
       "    <tr>\n",
       "      <th>12</th>\n",
       "      <td>-9.303739</td>\n",
       "      <td>-25.835647</td>\n",
       "      <td>34.110438</td>\n",
       "      <td>-62.290981</td>\n",
       "      <td>89.681368</td>\n",
       "    </tr>\n",
       "    <tr>\n",
       "      <th>13</th>\n",
       "      <td>-15.074091</td>\n",
       "      <td>86.825729</td>\n",
       "      <td>-67.165841</td>\n",
       "      <td>-96.246544</td>\n",
       "      <td>42.503831</td>\n",
       "    </tr>\n",
       "    <tr>\n",
       "      <th>14</th>\n",
       "      <td>17.745151</td>\n",
       "      <td>-33.811214</td>\n",
       "      <td>-81.266386</td>\n",
       "      <td>54.794876</td>\n",
       "      <td>40.946278</td>\n",
       "    </tr>\n",
       "    <tr>\n",
       "      <th>15</th>\n",
       "      <td>-16.877813</td>\n",
       "      <td>92.037459</td>\n",
       "      <td>-56.795445</td>\n",
       "      <td>62.745054</td>\n",
       "      <td>-72.971571</td>\n",
       "    </tr>\n",
       "    <tr>\n",
       "      <th>16</th>\n",
       "      <td>97.607942</td>\n",
       "      <td>91.876177</td>\n",
       "      <td>96.516476</td>\n",
       "      <td>-63.168010</td>\n",
       "      <td>2.945694</td>\n",
       "    </tr>\n",
       "    <tr>\n",
       "      <th>17</th>\n",
       "      <td>-28.344132</td>\n",
       "      <td>-39.121528</td>\n",
       "      <td>-9.011374</td>\n",
       "      <td>20.917172</td>\n",
       "      <td>83.398049</td>\n",
       "    </tr>\n",
       "    <tr>\n",
       "      <th>18</th>\n",
       "      <td>3.556635</td>\n",
       "      <td>72.307030</td>\n",
       "      <td>20.104662</td>\n",
       "      <td>99.827684</td>\n",
       "      <td>-82.951414</td>\n",
       "    </tr>\n",
       "    <tr>\n",
       "      <th>19</th>\n",
       "      <td>26.028219</td>\n",
       "      <td>-16.379719</td>\n",
       "      <td>-91.045178</td>\n",
       "      <td>-60.308065</td>\n",
       "      <td>-30.375447</td>\n",
       "    </tr>\n",
       "  </tbody>\n",
       "</table>\n",
       "</div>"
      ],
      "text/plain": [
       "            a          b          c          d          e\n",
       "0  -16.863037 -95.138633 -10.965624  43.668115  42.684341\n",
       "1  -32.268966 -18.837979 -27.569932 -89.775431 -95.320669\n",
       "2   24.275786 -47.924789  34.758628  52.175623  87.784445\n",
       "3   59.625620  22.055025  79.851172 -43.763232  52.505449\n",
       "4   73.935882 -43.023794 -76.717743 -43.880959  19.789356\n",
       "5  -92.455892 -54.826566   8.721879 -93.876193  17.513983\n",
       "6  -87.380704 -32.326731  81.170607  14.313691   2.787542\n",
       "7  -93.803882 -98.849419  85.806883 -53.872887 -47.139213\n",
       "8  -11.935573  39.979989  28.285092  69.933469 -24.372546\n",
       "9   39.622903  12.910389  23.007397  59.469616 -33.346341\n",
       "10  11.204753 -88.518895 -79.599664 -33.682247  -3.070237\n",
       "11  29.298430  88.734051  89.273382  74.073197  35.661978\n",
       "12  -9.303739 -25.835647  34.110438 -62.290981  89.681368\n",
       "13 -15.074091  86.825729 -67.165841 -96.246544  42.503831\n",
       "14  17.745151 -33.811214 -81.266386  54.794876  40.946278\n",
       "15 -16.877813  92.037459 -56.795445  62.745054 -72.971571\n",
       "16  97.607942  91.876177  96.516476 -63.168010   2.945694\n",
       "17 -28.344132 -39.121528  -9.011374  20.917172  83.398049\n",
       "18   3.556635  72.307030  20.104662  99.827684 -82.951414\n",
       "19  26.028219 -16.379719 -91.045178 -60.308065 -30.375447"
      ]
     },
     "execution_count": 286,
     "metadata": {},
     "output_type": "execute_result"
    }
   ],
   "source": [
    "df_vars = pd.DataFrame({\n",
    "    'a': [uniform(-100, 100) for i in range(20)],\n",
    "    'b': [uniform(-100, 100) for i in range(20)],\n",
    "    'c': [uniform(-100, 100) for i in range(20)],\n",
    "    'd': [uniform(-100, 100) for i in range(20)],\n",
    "    'e': [uniform(-100, 100) for i in range(20)]\n",
    "})\n",
    "df_vars"
   ]
  },
  {
   "cell_type": "code",
   "execution_count": 289,
   "metadata": {},
   "outputs": [
    {
     "name": "stdout",
     "output_type": "stream",
     "text": [
      "((), ('a',), ('b',), ('c',), ('d',), ('e',), ('a', 'b'), ('a', 'c'), ('a', 'd'), ('a', 'e'), ('b', 'c'), ('b', 'd'), ('b', 'e'), ('c', 'd'), ('c', 'e'), ('d', 'e'), ('a', 'b', 'c'), ('a', 'b', 'd'), ('a', 'b', 'e'), ('a', 'c', 'd'), ('a', 'c', 'e'), ('a', 'd', 'e'), ('b', 'c', 'd'), ('b', 'c', 'e'), ('b', 'd', 'e'), ('c', 'd', 'e'))\n",
      "0 <= 0\n",
      "waa\n",
      "0 <= 1\n",
      "0 <= 2\n",
      "0 <= 3\n"
     ]
    },
    {
     "data": {
      "text/plain": [
       "[((), ()),\n",
       " (('a',), (1,)),\n",
       " (('b',), (1,)),\n",
       " (('c',), (1,)),\n",
       " (('d',), (1,)),\n",
       " (('e',), (1,)),\n",
       " (('a',), (2,)),\n",
       " (('b',), (2,)),\n",
       " (('c',), (2,)),\n",
       " (('d',), (2,)),\n",
       " (('e',), (2,)),\n",
       " (('a', 'b'), (1, 1)),\n",
       " (('a', 'c'), (1, 1)),\n",
       " (('a', 'd'), (1, 1)),\n",
       " (('a', 'e'), (1, 1)),\n",
       " (('b', 'c'), (1, 1)),\n",
       " (('b', 'd'), (1, 1)),\n",
       " (('b', 'e'), (1, 1)),\n",
       " (('c', 'd'), (1, 1)),\n",
       " (('c', 'e'), (1, 1)),\n",
       " (('d', 'e'), (1, 1)),\n",
       " (('a',), (3,)),\n",
       " (('b',), (3,)),\n",
       " (('c',), (3,)),\n",
       " (('d',), (3,)),\n",
       " (('e',), (3,)),\n",
       " (('a', 'b'), (2, 1)),\n",
       " (('a', 'b'), (1, 2)),\n",
       " (('a', 'c'), (2, 1)),\n",
       " (('a', 'c'), (1, 2)),\n",
       " (('a', 'd'), (2, 1)),\n",
       " (('a', 'd'), (1, 2)),\n",
       " (('a', 'e'), (2, 1)),\n",
       " (('a', 'e'), (1, 2)),\n",
       " (('b', 'c'), (2, 1)),\n",
       " (('b', 'c'), (1, 2)),\n",
       " (('b', 'd'), (2, 1)),\n",
       " (('b', 'd'), (1, 2)),\n",
       " (('b', 'e'), (2, 1)),\n",
       " (('b', 'e'), (1, 2)),\n",
       " (('c', 'd'), (2, 1)),\n",
       " (('c', 'd'), (1, 2)),\n",
       " (('c', 'e'), (2, 1)),\n",
       " (('c', 'e'), (1, 2)),\n",
       " (('d', 'e'), (2, 1)),\n",
       " (('d', 'e'), (1, 2)),\n",
       " (('a', 'b', 'c'), (1, 1, 1)),\n",
       " (('a', 'b', 'd'), (1, 1, 1)),\n",
       " (('a', 'b', 'e'), (1, 1, 1)),\n",
       " (('a', 'c', 'd'), (1, 1, 1)),\n",
       " (('a', 'c', 'e'), (1, 1, 1)),\n",
       " (('a', 'd', 'e'), (1, 1, 1)),\n",
       " (('b', 'c', 'd'), (1, 1, 1)),\n",
       " (('b', 'c', 'e'), (1, 1, 1)),\n",
       " (('b', 'd', 'e'), (1, 1, 1)),\n",
       " (('c', 'd', 'e'), (1, 1, 1))]"
      ]
     },
     "execution_count": 289,
     "metadata": {},
     "output_type": "execute_result"
    }
   ],
   "source": [
    "list(poly_terms(df_vars, 3))"
   ]
  },
  {
   "cell_type": "code",
   "execution_count": 291,
   "metadata": {},
   "outputs": [
    {
     "data": {
      "text/plain": [
       "[1, 2, 3, 4]"
      ]
     },
     "execution_count": 291,
     "metadata": {},
     "output_type": "execute_result"
    }
   ],
   "source": [
    "v = [4,1,3,2]\n",
    "sorted(v)"
   ]
  },
  {
   "cell_type": "code",
   "execution_count": 292,
   "metadata": {},
   "outputs": [
    {
     "data": {
      "text/plain": [
       "[4, 1, 3, 2]"
      ]
     },
     "execution_count": 292,
     "metadata": {},
     "output_type": "execute_result"
    }
   ],
   "source": [
    "v"
   ]
  },
  {
   "cell_type": "code",
   "execution_count": null,
   "metadata": {},
   "outputs": [],
   "source": []
  }
 ],
 "metadata": {
  "kernelspec": {
   "display_name": "Python 3 (ipykernel)",
   "language": "python",
   "name": "python3"
  },
  "language_info": {
   "codemirror_mode": {
    "name": "ipython",
    "version": 3
   },
   "file_extension": ".py",
   "mimetype": "text/x-python",
   "name": "python",
   "nbconvert_exporter": "python",
   "pygments_lexer": "ipython3",
   "version": "3.10.0"
  }
 },
 "nbformat": 4,
 "nbformat_minor": 4
}
