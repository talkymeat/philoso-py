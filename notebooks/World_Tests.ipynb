{
 "cells": [
  {
   "cell_type": "code",
   "execution_count": 1,
   "metadata": {},
   "outputs": [
    {
     "name": "stdout",
     "output_type": "stream",
     "text": [
      "<world.VectorWorld object at 0x7fb902083d30>\n",
      "I am a fish\n",
      "[-0.09320887842585072, -0.007211981843171337, -0.06424166352530598, -0.13706013414410714, -0.06153428361601146, -0.005065600284859422, 0.022067592765393097, 0.030461670835475903, 0.07520361825026689, -0.09476184600293244, 0.00032740248367503646, 0.01204899497995396, -0.14473890872621048, -0.009787513084842433, -0.007672144679184104, 0.11198051573807853, -0.01583729731634374, -0.05614225908855204, -0.0025400071906943635, 0.008198154190036963, -0.06258199087616612, 0.02416549293763823, 0.06308576636254824, 0.023707645720627432, 0.07871616668580156, -0.12950093082428535, 0.026193222377338676, -0.05113263459503778, -0.09090745136076035, 0.06479617354915355, 0.05073258289673577, 0.16560243246934947, -0.08559935696869242, -0.05752190054421811, -0.22412912448015804, -0.15290534022452099, -0.04815733600114051, 0.1001244708093438, -0.20788809519957843, -0.09039374748328176, 0.1335146074812742, -0.10599020200569537, -0.04689816321467625, 0.14263013693221974, -0.045484440608366206, 0.049401153703747994, -0.07875672382861924, 0.09664827203099342, -0.21512684448766653, -0.055915772895159005, -0.18190046490317568, -0.026560209542992902, 0.026127544198289304, -0.05235434222444316, -0.12936489248700112, 0.2695701390669568, -0.09800247043779588, 0.22186546885825442, -0.11391841578194384, -0.08462814644894995, 0.014313480434183873, 0.052698135852882605, -0.044462872316618024, 0.047964847202570764, 0.08713882563448205, -0.0846340026614482, 0.06879012393883958, 0.026143689657392236, -0.1638883478510583, 0.03378331752483622, 0.053077615309069265, 0.09212482750463893, 0.05359730315505715, -0.08885050948281505, -0.222003716189704, 0.19887154963688888, 0.10858274185083082, 0.0016338473448480593, -0.1444896061393157, -0.1638772425683175, 0.22233782265407684, 0.04598169422376039, -0.025884226497591412, -0.04828056613702645, 0.11246820879017368, 0.05265751439896138, 0.033468288980162075, -0.003069661886861076, -0.01572822719440962, -0.0398559875869635, -0.09570099222965128, 0.1503381672955159, 0.030535678248242833, 0.03165329662503354, 0.012840188864990026, 0.09204580089676465, -0.15392891070128967, 0.1671424342455887, 0.19798882627631342, 0.10180812523753752]\n",
      "[-0.09320887842585072, -0.007211981843171337, -0.06424166352530598, -0.13706013414410714, -0.06153428361601146, -0.005065600284859422, 0.022067592765393097, 0.030461670835475903, 0.07520361825026689, -0.09476184600293244, 0.00032740248367503646, 0.01204899497995396, -0.14473890872621048, -0.009787513084842433, -0.007672144679184104, 0.11198051573807853, -0.01583729731634374, -0.05614225908855204, -0.0025400071906943635, 0.008198154190036963, -0.06258199087616612, 0.02416549293763823, 0.06308576636254824, 0.023707645720627432, 0.07871616668580156, -0.12950093082428535, 0.026193222377338676, -0.05113263459503778, -0.09090745136076035, 0.06479617354915355, 0.05073258289673577, 0.16560243246934947, -0.08559935696869242, -0.05752190054421811, -0.22412912448015804, -0.15290534022452099, -0.04815733600114051, 0.1001244708093438, -0.20788809519957843, -0.09039374748328176, 0.1335146074812742, -0.10599020200569537, -0.04689816321467625, 0.14263013693221974, -0.045484440608366206, 0.049401153703747994, -0.07875672382861924, 0.09664827203099342, -0.21512684448766653, -0.055915772895159005, -0.18190046490317568, -0.026560209542992902, 0.026127544198289304, -0.05235434222444316, -0.12936489248700112, 0.2695701390669568, -0.09800247043779588, 0.22186546885825442, -0.11391841578194384, -0.08462814644894995, 0.014313480434183873, 0.052698135852882605, -0.044462872316618024, 0.047964847202570764, 0.08713882563448205, -0.0846340026614482, 0.06879012393883958, 0.026143689657392236, -0.1638883478510583, 0.03378331752483622, 0.053077615309069265, 0.09212482750463893, 0.05359730315505715, -0.08885050948281505, -0.222003716189704, 0.19887154963688888, 0.10858274185083082, 0.0016338473448480593, -0.1444896061393157, -0.1638772425683175, 0.22233782265407684, 0.04598169422376039, -0.025884226497591412, -0.04828056613702645, 0.11246820879017368, 0.05265751439896138, 0.033468288980162075, -0.003069661886861076, -0.01572822719440962, -0.0398559875869635, -0.09570099222965128, 0.1503381672955159, 0.030535678248242833, 0.03165329662503354, 0.012840188864990026, 0.09204580089676465, -0.15392891070128967, 0.1671424342455887, 0.19798882627631342, 0.10180812523753752]\n",
      "True\n"
     ]
    }
   ],
   "source": [
    "from world import VectorWorld\n",
    "from scipy import stats\n",
    "import numpy as np\n",
    "\n",
    "world = VectorWorld(\n",
    "    length=10,\n",
    "    initial_conditions = [\n",
    "        0.0, 1.0, 2.0, 3.0, 42.0, 5.0, 6.0, 7.0, 8.0, 9.0\n",
    "    ],\n",
    "    fn_list = [lambda x: 2*x],\n",
    "    max_observation_size = 10,\n",
    "    transposal_probability = 0.2,\n",
    "    jitter_stdev = 0.1\n",
    ")\n",
    "print(world)\n",
    "sample = [0.0]*100\n",
    "s = world._apply_jitter(sample)\n",
    "print(s)\n",
    "k2, p = stats.normaltest(s)\n",
    "print(p > 0.05)"
   ]
  },
  {
   "cell_type": "code",
   "execution_count": 1,
   "metadata": {},
   "outputs": [],
   "source": [
    "from collections import deque\n",
    "import random\n",
    "from world import VectorWorld"
   ]
  },
  {
   "cell_type": "code",
   "execution_count": 49,
   "metadata": {},
   "outputs": [
    {
     "name": "stdout",
     "output_type": "stream",
     "text": [
      "[-1,0,0,0,2,0]\n",
      "[-1,0,-1,0,2,0]\n",
      "[-1,0,-2,0,2,0]\n",
      "[-1,0,-3,0,2,0]\n",
      "[-1,0,-4,0,2,0]\n"
     ]
    }
   ],
   "source": [
    "for x in range(0, -5, -1):\n",
    "    print(f\"[-1,0,{x},0,2,0]\")"
   ]
  },
  {
   "cell_type": "code",
   "execution_count": 25,
   "metadata": {},
   "outputs": [
    {
     "name": "stdout",
     "output_type": "stream",
     "text": [
      "min: -140, max: 180, sum: 584, mean: 0.001\n"
     ]
    }
   ],
   "source": [
    "n = 100\n",
    "mini = 0\n",
    "maxi = 0\n",
    "sum_of_sums_of_sums = 0\n",
    "for j in range(n):\n",
    "    sum_of_sums = 0\n",
    "    for i in range(4000):\n",
    "        sum_of_sums += random.randint(0,1) * 2 - 1\n",
    "    mini = min(mini, sum_of_sums)\n",
    "    maxi = max(maxi, sum_of_sums)\n",
    "    sum_of_sums_of_sums += sum_of_sums\n",
    "print(f\"min: {mini}, max: {maxi}, sum: {sum_of_sums_of_sums}, mean: {sum_of_sums_of_sums/(n*4000):.2f}\")"
   ]
  },
  {
   "cell_type": "code",
   "execution_count": 3,
   "metadata": {},
   "outputs": [
    {
     "name": "stdout",
     "output_type": "stream",
     "text": [
      "[2, 3, 4, 5, 6, 7, 8, 9]\n",
      "[2, 3, 4, 5, 6, 7]\n"
     ]
    }
   ],
   "source": [
    "liszt = [0,1,2,3,4,5,6,7,8,9]\n",
    "liszt[:2] = []\n",
    "print(liszt)\n",
    "liszt[len(liszt)-2:] = []\n",
    "print(liszt)"
   ]
  },
  {
   "cell_type": "code",
   "execution_count": 7,
   "metadata": {},
   "outputs": [
    {
     "data": {
      "text/plain": [
       "[-1.367718238830463,\n",
       " 1.4131442308542776,\n",
       " -1.7423464520365721,\n",
       " -2.6822852157963197,\n",
       " -1.7508021579421373,\n",
       " -0.865431997503332,\n",
       " -0.8529449844438903,\n",
       " -2.0855552807414823,\n",
       " 0.8919101877511528,\n",
       " -0.44333274563682606,\n",
       " -0.6852297807294738,\n",
       " 0.3048968663056928,\n",
       " -1.0332703545204178,\n",
       " -0.07029617006007793,\n",
       " -0.24097933734452623,\n",
       " 0.19256579323417963,\n",
       " -1.0466697103735472,\n",
       " 0.4033417351533339,\n",
       " 1.3290258882684032,\n",
       " -1.2585966662046315,\n",
       " 0.010172745971512373,\n",
       " 0.885018177598242,\n",
       " 1.0423991469573324,\n",
       " -0.4557336439189803,\n",
       " -0.5656925062144667,\n",
       " 1.2851164748182258,\n",
       " 1.4621198354798366,\n",
       " 0.11171492910978381,\n",
       " 0.4979529444790286,\n",
       " -0.22956490176119607,\n",
       " 0.05880846718653413,\n",
       " -0.6954316463279128,\n",
       " -0.14719759252458176,\n",
       " 1.78606655465497,\n",
       " 0.04064985752229919,\n",
       " -0.16743666174102084,\n",
       " 1.0268507144261614,\n",
       " 1.008138333418122,\n",
       " -0.4698592007129598,\n",
       " -0.17486986117932243,\n",
       " 1.650121741537519,\n",
       " -0.6169578378646147,\n",
       " -0.8556441660996847,\n",
       " 2.5134131915430413,\n",
       " 1.732098750259608,\n",
       " -0.5822501904749016,\n",
       " 0.765800637064947,\n",
       " 0.8532027402681915,\n",
       " 0.11625324187428217,\n",
       " -0.3411774582423993,\n",
       " 0.46041197331164524,\n",
       " -0.19303130860981493,\n",
       " 0.2886681364860774,\n",
       " -0.07927181604164349,\n",
       " -1.302822292998724,\n",
       " 1.059658935396537,\n",
       " 1.8496344314089432,\n",
       " -0.3981075123046832,\n",
       " 0.1459598730580249,\n",
       " -0.5615105691949024,\n",
       " 1.0383811048076579,\n",
       " 0.022745676328623118,\n",
       " -0.5966167101294934,\n",
       " -1.1183066149046472,\n",
       " -0.6665632447858423,\n",
       " 0.5096852540182958,\n",
       " -1.3067974852825504,\n",
       " -0.3122231305728148,\n",
       " 0.6173979265524973,\n",
       " 0.4593287404508568,\n",
       " 1.3996361301182083,\n",
       " -0.09553425979490568,\n",
       " 1.2196356046478232,\n",
       " -0.9522900003448947,\n",
       " -0.7707992193765614,\n",
       " -0.8078384392777987,\n",
       " -2.18021519879629,\n",
       " 0.04592793526793935,\n",
       " -2.2293909814200985,\n",
       " -0.8288131926509109,\n",
       " -0.1043879377548665,\n",
       " -0.2731716173397615,\n",
       " 1.472808050224829,\n",
       " 0.43021677281060744,\n",
       " -0.5686218180451615,\n",
       " -0.21806555074245962,\n",
       " 1.183144735266144,\n",
       " 0.46825276323598125,\n",
       " -0.9194017695754029,\n",
       " -0.612224540837464,\n",
       " 2.155507325499558,\n",
       " 0.299279373557606,\n",
       " 2.4111369991543152,\n",
       " 0.04606812028870294,\n",
       " -1.8971246754747018,\n",
       " 0.7792770265528957,\n",
       " 0.7217164952861883,\n",
       " 0.72095850637907,\n",
       " 1.9686599097406325,\n",
       " -0.23547627108711638]"
      ]
     },
     "execution_count": 7,
     "metadata": {},
     "output_type": "execute_result"
    }
   ],
   "source": [
    "import random\n",
    "[random.gauss(samp, 1.0) for samp in ([0.0]*100)]"
   ]
  },
  {
   "cell_type": "code",
   "execution_count": 8,
   "metadata": {},
   "outputs": [
    {
     "data": {
      "text/plain": [
       "['ABC',\n",
       " 'AbstractTree',\n",
       " 'DOP',\n",
       " 'DOPNonTerminal',\n",
       " 'DOPTerminal',\n",
       " 'GPTreebank',\n",
       " 'GPNonTerminal',\n",
       " 'GPTerminal',\n",
       " 'Label',\n",
       " 'NonTerminal',\n",
       " 'Terminal',\n",
       " 'Tree',\n",
       " '__builtins__',\n",
       " '__cached__',\n",
       " '__doc__',\n",
       " '__file__',\n",
       " '__loader__',\n",
       " '__name__',\n",
       " '__package__',\n",
       " '__spec__',\n",
       " 'abstractmethod',\n",
       " 'getlabel',\n",
       " 'main',\n",
       " 'plt',\n",
       " 'rcParams',\n",
       " 're',\n",
       " 'test_trees']"
      ]
     },
     "execution_count": 8,
     "metadata": {},
     "output_type": "execute_result"
    }
   ],
   "source": [
    "import trees\n",
    "\n",
    "dir(trees)"
   ]
  },
  {
   "cell_type": "code",
   "execution_count": 2,
   "metadata": {},
   "outputs": [
    {
     "name": "stdout",
     "output_type": "stream",
     "text": [
      "0\n",
      "([N]'sentence')\n",
      "(0, 0)\n",
      "sentence\n",
      "(1, 0)\n",
      "0\n",
      "([V]'parses')\n",
      "(1, 1)\n",
      "1\n",
      "([N]'parser')\n",
      "(1, 1, 0)\n",
      "(1, 0)\n",
      "parser\n"
     ]
    }
   ],
   "source": [
    "from trees import Tree, Label\n",
    "\n",
    "t1 = Tree.tree(\"([S]([N]sentence)([VP]([V]parses)([N]parser)))\")\n",
    "print(t1[0])\n",
    "print(t1[0, 0])\n",
    "print(t1[1, 0])\n",
    "print(t1[1, 1])\n",
    "print(t1[1, 1, 0])"
   ]
  },
  {
   "cell_type": "code",
   "execution_count": 1,
   "metadata": {},
   "outputs": [
    {
     "name": "stdout",
     "output_type": "stream",
     "text": [
      "([Det]) <class 'trees.NonTerminal'> ['L', 'N', 'STRICT_ADDITION', 'T', '__abstractmethods__', '__add__', '__call__', '__class__', '__copy__', '__delattr__', '__dict__', '__dir__', '__doc__', '__eq__', '__format__', '__ge__', '__getattribute__', '__getitem__', '__gt__', '__hash__', '__init__', '__init_subclass__', '__le__', '__len__', '__lt__', '__module__', '__ne__', '__new__', '__reduce__', '__reduce_ex__', '__repr__', '__setattr__', '__sizeof__', '__str__', '__subclasshook__', '__weakref__', '_abc_cache', '_abc_negative_cache', '_abc_negative_cache_version', '_abc_registry', '_children', '_label', 'add_permissive', 'add_strict', 'children', 'depth', 'get_all_nonterminal_leaves', 'get_leftmost_nonterminal_leaf', 'get_tree', 'label', 'parent', 'size', 'to_LaTeX', 'tree', 'width'] ([NP]([Det])([N]'sentence'))\n",
      "([Det]) ['L', 'N', 'STRICT_ADDITION', 'T', '__abstractmethods__', '__add__', '__call__', '__class__', '__copy__', '__delattr__', '__dict__', '__dir__', '__doc__', '__eq__', '__format__', '__ge__', '__getattribute__', '__getitem__', '__gt__', '__hash__', '__init__', '__init_subclass__', '__le__', '__len__', '__lt__', '__module__', '__ne__', '__new__', '__reduce__', '__reduce_ex__', '__repr__', '__setattr__', '__sizeof__', '__str__', '__subclasshook__', '__weakref__', '_abc_cache', '_abc_negative_cache', '_abc_negative_cache_version', '_abc_registry', '_children', '_label', 'add_permissive', 'add_strict', 'children', 'depth', 'get_all_nonterminal_leaves', 'get_leftmost_nonterminal_leaf', 'get_tree', 'label', 'leaf', 'parent', 'size', 'to_LaTeX', 'tree', 'width'] ([NP]([Det])([N]'sentence'))\n",
      "([S]([NP]([Det])([N]'sentence'))([VP]([V]'parses')([NP]([Det]'the')([N]'parser'))))\n",
      "([Det]) <class 'trees.NonTerminal'> ['L', 'N', 'STRICT_ADDITION', 'T', '__abstractmethods__', '__add__', '__call__', '__class__', '__copy__', '__delattr__', '__dict__', '__dir__', '__doc__', '__eq__', '__format__', '__ge__', '__getattribute__', '__getitem__', '__gt__', '__hash__', '__init__', '__init_subclass__', '__le__', '__len__', '__lt__', '__module__', '__ne__', '__new__', '__reduce__', '__reduce_ex__', '__repr__', '__setattr__', '__sizeof__', '__str__', '__subclasshook__', '__weakref__', '_abc_cache', '_abc_negative_cache', '_abc_negative_cache_version', '_abc_registry', '_children', '_label', 'add_permissive', 'add_strict', 'children', 'depth', 'get_all_nonterminal_leaves', 'get_leftmost_nonterminal_leaf', 'get_tree', 'label', 'parent', 'size', 'to_LaTeX', 'tree', 'width'] ([NP]([Det])([N]'sentence'))\n",
      "([Det]) ['L', 'N', 'STRICT_ADDITION', 'T', '__abstractmethods__', '__add__', '__call__', '__class__', '__copy__', '__delattr__', '__dict__', '__dir__', '__doc__', '__eq__', '__format__', '__ge__', '__getattribute__', '__getitem__', '__gt__', '__hash__', '__init__', '__init_subclass__', '__le__', '__len__', '__lt__', '__module__', '__ne__', '__new__', '__reduce__', '__reduce_ex__', '__repr__', '__setattr__', '__sizeof__', '__str__', '__subclasshook__', '__weakref__', '_abc_cache', '_abc_negative_cache', '_abc_negative_cache_version', '_abc_registry', '_children', '_label', 'add_permissive', 'add_strict', 'children', 'depth', 'get_all_nonterminal_leaves', 'get_leftmost_nonterminal_leaf', 'get_tree', 'label', 'leaf', 'parent', 'size', 'to_LaTeX', 'tree', 'width'] ([NP]([Det])([N]'sentence'))\n",
      "([S]([NP]([Det])([N]'sentence'))([VP]([V]'parses')([NP]([Det]'the')([N]))))\n"
     ]
    },
    {
     "ename": "AttributeError",
     "evalue": "Cannot add Trees t1 and t2; the label on the leftmost non-terminal leaf-node of t1 does not match the root label of t2",
     "output_type": "error",
     "traceback": [
      "\u001b[0;31m---------------------------------------------------------------------------\u001b[0m",
      "\u001b[0;31mAttributeError\u001b[0m                            Traceback (most recent call last)",
      "\u001b[0;32m<ipython-input-1-bb07228fbfd0>\u001b[0m in \u001b[0;36m<module>\u001b[0;34m\u001b[0m\n\u001b[1;32m     16\u001b[0m \u001b[0mprint\u001b[0m\u001b[0;34m(\u001b[0m\u001b[0mt1\u001b[0m\u001b[0;34m+\u001b[0m\u001b[0mdet\u001b[0m\u001b[0;34m)\u001b[0m\u001b[0;34m\u001b[0m\u001b[0;34m\u001b[0m\u001b[0m\n\u001b[1;32m     17\u001b[0m \u001b[0;31m#print(t1+n) # doctest: +IGNORE_EXCEPTION_DETAIL\u001b[0m\u001b[0;34m\u001b[0m\u001b[0;34m\u001b[0m\u001b[0;34m\u001b[0m\u001b[0m\n\u001b[0;32m---> 18\u001b[0;31m \u001b[0mprint\u001b[0m\u001b[0;34m(\u001b[0m\u001b[0mt1\u001b[0m\u001b[0;34m+\u001b[0m\u001b[0mdet\u001b[0m\u001b[0;34m+\u001b[0m\u001b[0mn\u001b[0m\u001b[0;34m)\u001b[0m\u001b[0;34m\u001b[0m\u001b[0;34m\u001b[0m\u001b[0m\n\u001b[0m\u001b[1;32m     19\u001b[0m \u001b[0;31m#print(t1+n+det) # doctest: +IGNORE_EXCEPTION_DETAIL\u001b[0m\u001b[0;34m\u001b[0m\u001b[0;34m\u001b[0m\u001b[0;34m\u001b[0m\u001b[0m\n\u001b[1;32m     20\u001b[0m \u001b[0mprint\u001b[0m\u001b[0;34m(\u001b[0m\u001b[0mt2\u001b[0m\u001b[0;34m+\u001b[0m\u001b[0mn\u001b[0m\u001b[0;34m)\u001b[0m\u001b[0;34m\u001b[0m\u001b[0;34m\u001b[0m\u001b[0m\n",
      "\u001b[0;32m~/github/philosopy/trees.py\u001b[0m in \u001b[0;36m__add__\u001b[0;34m(self, other)\u001b[0m\n\u001b[1;32m    691\u001b[0m         leaf node exists)\n\u001b[1;32m    692\u001b[0m         \"\"\"\n\u001b[0;32m--> 693\u001b[0;31m         \u001b[0;32mreturn\u001b[0m \u001b[0mself\u001b[0m\u001b[0;34m.\u001b[0m\u001b[0madd_strict\u001b[0m\u001b[0;34m(\u001b[0m\u001b[0mother\u001b[0m\u001b[0;34m)\u001b[0m \u001b[0;32mif\u001b[0m \u001b[0mself\u001b[0m\u001b[0;34m.\u001b[0m\u001b[0m__class__\u001b[0m\u001b[0;34m.\u001b[0m\u001b[0mSTRICT_ADDITION\u001b[0m \u001b[0;32melse\u001b[0m \u001b[0mself\u001b[0m\u001b[0;34m.\u001b[0m\u001b[0madd_permissive\u001b[0m\u001b[0;34m(\u001b[0m\u001b[0mother\u001b[0m\u001b[0;34m)\u001b[0m\u001b[0;34m\u001b[0m\u001b[0;34m\u001b[0m\u001b[0m\n\u001b[0m\u001b[1;32m    694\u001b[0m \u001b[0;34m\u001b[0m\u001b[0m\n\u001b[1;32m    695\u001b[0m     \u001b[0;31m# TESTME COMMENTME\u001b[0m\u001b[0;34m\u001b[0m\u001b[0;34m\u001b[0m\u001b[0;34m\u001b[0m\u001b[0m\n",
      "\u001b[0;32m~/github/philosopy/trees.py\u001b[0m in \u001b[0;36madd_strict\u001b[0;34m(self, other)\u001b[0m\n\u001b[1;32m    760\u001b[0m                 \u001b[0;34m\"terminal leaf-node of t1 does not match the root label of t2\"\u001b[0m\u001b[0;34m\u001b[0m\u001b[0;34m\u001b[0m\u001b[0m\n\u001b[1;32m    761\u001b[0m                 \u001b[0;32mif\u001b[0m \u001b[0mlntln\u001b[0m \u001b[0;32melse\u001b[0m\u001b[0;34m\u001b[0m\u001b[0;34m\u001b[0m\u001b[0m\n\u001b[0;32m--> 762\u001b[0;31m                 \u001b[0;34m\"Cannot add Trees t1 and t2; t1 has no non-terminal leaf-nodes\"\u001b[0m\u001b[0;34m\u001b[0m\u001b[0;34m\u001b[0m\u001b[0m\n\u001b[0m\u001b[1;32m    763\u001b[0m             )\n\u001b[1;32m    764\u001b[0m \u001b[0;34m\u001b[0m\u001b[0m\n",
      "\u001b[0;31mAttributeError\u001b[0m: Cannot add Trees t1 and t2; the label on the leftmost non-terminal leaf-node of t1 does not match the root label of t2"
     ]
    }
   ],
   "source": [
    "from trees import Tree, Label, test_trees\n",
    "from functools import reduce\n",
    "from copy import copy\n",
    "t0 = Tree.tree(\"([S]([NP]([Det])([N]sentence))([VP]([V]parses)([NP]([Det]the)([N]parser))))\")\n",
    "t1 = Tree.tree(\"([S]([NP]([Det])([N]sentence))([VP]([V]parses)([NP]([Det]the)([N]))))\")\n",
    "t2 = Tree.tree(\"([S]([NP]([Det]the)([N]))([VP]([V]parses)([NP])))\")\n",
    "t3 = Tree.tree(\"([S]([NP]([Det])([N]))([VP]([V])([NP]([Det])([N]))))\")\n",
    "t4 = Tree.tree(\"([S]([NP])([VP]))\")\n",
    "t5 = Tree.tree(\"([S]([NP]([Det]the)([N]sentence))([VP]([V]parses)([NP]([Det]the)([N]parser))))\")\n",
    "det = Tree.tree(\"([Det]a)\")\n",
    "n = Tree.tree(\"([N]pudding)\")\n",
    "np = Tree.tree(\"([NP]([Det]the)([NN]([Adj]big)([N]banana)))\")\n",
    "v = Tree.tree(\"([V]badoinks)\")\n",
    "vp = Tree.tree(\"([VP]([VP]([V]is)([NP]([Det]your)([N]god)))([Adv]now))\")\n",
    "print(t0+det)\n",
    "print(t1+det)\n",
    "#print(t1+n) # doctest: +IGNORE_EXCEPTION_DETAIL\n",
    "print(t1+det+n)\n",
    "#print(t1+n+det) # doctest: +IGNORE_EXCEPTION_DETAIL\n",
    "print(t2+n)\n",
    "print(t2+n+np)\n",
    "print(t3+det+n+v+det+n)\n",
    "print(t4+np+vp)\n",
    "print((t4+np+vp)())"
   ]
  },
  {
   "cell_type": "code",
   "execution_count": 7,
   "metadata": {},
   "outputs": [
    {
     "name": "stdout",
     "output_type": "stream",
     "text": [
      "True\n",
      "False\n",
      "False\n",
      "True\n",
      "True\n",
      "False\n"
     ]
    }
   ],
   "source": [
    "from functools import reduce\n",
    "\n",
    "lstt = [True, True, True, True, True, True, True, True, True, True, True, True, True]\n",
    "lstf = [True, False, True, True, False, True, False, True, False, True, True, True, True]\n",
    "lsff = [False, False, False, False, False, False, False, False, False, False, False, False, False]\n",
    "\n",
    "print(reduce(lambda a, b: a and b, lstt))\n",
    "print(reduce(lambda a, b: a and b, lstf))\n",
    "print(reduce(lambda a, b: a and b, lsff))\n",
    "print(reduce(lambda a, b: a or b, lstt))\n",
    "print(reduce(lambda a, b: a or b, lstf))\n",
    "print(reduce(lambda a, b: a or b, lsff))"
   ]
  },
  {
   "cell_type": "code",
   "execution_count": 3,
   "metadata": {},
   "outputs": [
    {
     "ename": "AttributeError",
     "evalue": "'NoneType' object has no attribute 'sort'",
     "output_type": "error",
     "traceback": [
      "\u001b[0;31m---------------------------------------------------------------------------\u001b[0m",
      "\u001b[0;31mAttributeError\u001b[0m                            Traceback (most recent call last)",
      "\u001b[0;32m<ipython-input-3-b33ee3ec6cb8>\u001b[0m in \u001b[0;36m<module>\u001b[0;34m\u001b[0m\n\u001b[1;32m      2\u001b[0m     \u001b[0;32mreturn\u001b[0m \u001b[0mlist1\u001b[0m\u001b[0;34m.\u001b[0m\u001b[0mextend\u001b[0m\u001b[0;34m(\u001b[0m\u001b[0mlist2\u001b[0m\u001b[0;34m)\u001b[0m\u001b[0;34m.\u001b[0m\u001b[0msort\u001b[0m\u001b[0;34m(\u001b[0m\u001b[0mreverse\u001b[0m\u001b[0;34m=\u001b[0m\u001b[0mreverse\u001b[0m\u001b[0;34m)\u001b[0m\u001b[0;34m\u001b[0m\u001b[0;34m\u001b[0m\u001b[0m\n\u001b[1;32m      3\u001b[0m \u001b[0;34m\u001b[0m\u001b[0m\n\u001b[0;32m----> 4\u001b[0;31m \u001b[0mfull_sorted_list_methods\u001b[0m\u001b[0;34m(\u001b[0m\u001b[0;34m[\u001b[0m\u001b[0;36m2\u001b[0m\u001b[0;34m,\u001b[0m\u001b[0;36m6\u001b[0m\u001b[0;34m,\u001b[0m\u001b[0;36m4\u001b[0m\u001b[0;34m]\u001b[0m\u001b[0;34m,\u001b[0m \u001b[0;34m[\u001b[0m\u001b[0;36m1\u001b[0m\u001b[0;34m,\u001b[0m\u001b[0;36m9\u001b[0m\u001b[0;34m,\u001b[0m\u001b[0;36m3\u001b[0m\u001b[0;34m]\u001b[0m\u001b[0;34m)\u001b[0m\u001b[0;34m\u001b[0m\u001b[0;34m\u001b[0m\u001b[0m\n\u001b[0m",
      "\u001b[0;32m<ipython-input-3-b33ee3ec6cb8>\u001b[0m in \u001b[0;36mfull_sorted_list_methods\u001b[0;34m(list1, list2, reverse)\u001b[0m\n\u001b[1;32m      1\u001b[0m \u001b[0;32mdef\u001b[0m \u001b[0mfull_sorted_list_methods\u001b[0m\u001b[0;34m(\u001b[0m\u001b[0mlist1\u001b[0m\u001b[0;34m,\u001b[0m \u001b[0mlist2\u001b[0m\u001b[0;34m,\u001b[0m \u001b[0mreverse\u001b[0m \u001b[0;34m=\u001b[0m \u001b[0;32mFalse\u001b[0m\u001b[0;34m)\u001b[0m\u001b[0;34m:\u001b[0m\u001b[0;34m\u001b[0m\u001b[0;34m\u001b[0m\u001b[0m\n\u001b[0;32m----> 2\u001b[0;31m     \u001b[0;32mreturn\u001b[0m \u001b[0mlist1\u001b[0m\u001b[0;34m.\u001b[0m\u001b[0mextend\u001b[0m\u001b[0;34m(\u001b[0m\u001b[0mlist2\u001b[0m\u001b[0;34m)\u001b[0m\u001b[0;34m.\u001b[0m\u001b[0msort\u001b[0m\u001b[0;34m(\u001b[0m\u001b[0mreverse\u001b[0m\u001b[0;34m=\u001b[0m\u001b[0mreverse\u001b[0m\u001b[0;34m)\u001b[0m\u001b[0;34m\u001b[0m\u001b[0;34m\u001b[0m\u001b[0m\n\u001b[0m\u001b[1;32m      3\u001b[0m \u001b[0;34m\u001b[0m\u001b[0m\n\u001b[1;32m      4\u001b[0m \u001b[0mfull_sorted_list_methods\u001b[0m\u001b[0;34m(\u001b[0m\u001b[0;34m[\u001b[0m\u001b[0;36m2\u001b[0m\u001b[0;34m,\u001b[0m\u001b[0;36m6\u001b[0m\u001b[0;34m,\u001b[0m\u001b[0;36m4\u001b[0m\u001b[0;34m]\u001b[0m\u001b[0;34m,\u001b[0m \u001b[0;34m[\u001b[0m\u001b[0;36m1\u001b[0m\u001b[0;34m,\u001b[0m\u001b[0;36m9\u001b[0m\u001b[0;34m,\u001b[0m\u001b[0;36m3\u001b[0m\u001b[0;34m]\u001b[0m\u001b[0;34m)\u001b[0m\u001b[0;34m\u001b[0m\u001b[0;34m\u001b[0m\u001b[0m\n",
      "\u001b[0;31mAttributeError\u001b[0m: 'NoneType' object has no attribute 'sort'"
     ]
    }
   ],
   "source": [
    "def full_sorted_list_methods(list1, list2, reverse = False):\n",
    "    return list1.extend(list2).sort(reverse=reverse)\n",
    "\n",
    "full_sorted_list_methods([2,6,4], [1,9,3])"
   ]
  },
  {
   "cell_type": "code",
   "execution_count": null,
   "metadata": {},
   "outputs": [],
   "source": []
  }
 ],
 "metadata": {
  "kernelspec": {
   "display_name": "Python 3",
   "language": "python",
   "name": "python3"
  },
  "language_info": {
   "codemirror_mode": {
    "name": "ipython",
    "version": 3
   },
   "file_extension": ".py",
   "mimetype": "text/x-python",
   "name": "python",
   "nbconvert_exporter": "python",
   "pygments_lexer": "ipython3",
   "version": "3.6.10"
  }
 },
 "nbformat": 4,
 "nbformat_minor": 4
}
