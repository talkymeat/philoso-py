{
 "cells": [
  {
   "cell_type": "code",
   "execution_count": 2,
   "id": "f82edfb3",
   "metadata": {},
   "outputs": [],
   "source": [
    "import pandas as pd\n",
    "from gp import GPTreebank\n",
    "import operators as ops\n",
    "import math"
   ]
  },
  {
   "cell_type": "code",
   "execution_count": 3,
   "id": "136423a2",
   "metadata": {
    "scrolled": true
   },
   "outputs": [],
   "source": [
    "op = [ops.PROD]\n",
    "gp = GPTreebank(operators = op)\n",
    "df = pd.DataFrame({'x': [0., 2., 4., 6., 8.,]})\n",
    "t = [\n",
    "    gp.tree(\"([float]<PROD>([float]x)([int]1))\", x=df['x']),\n",
    "    gp.tree(\"([float]<PROD>([float]x)([int]3))\", x=df['x']),\n",
    "    gp.tree(\"([float]<PROD>([float]x)([int]5))\", x=df['x']),\n",
    "    gp.tree(\"([float]<PROD>([float]x)([int]7))\", x=df['x']),\n",
    "    gp.tree(\"([float]<PROD>([float]x)([int]9))\", x=df['x']),\n",
    "    gp.tree(\"([float]<PROD>([float]6.)([int]6))\")\n",
    "]\n",
    "t0 = pd.Series([0., 0., 0., 0., 0.])\n",
    "t1 = pd.Series([0., 10., 20., 30., 40.])\n",
    "res1, bes1 = gp.get_err_scores(t1, best_tree=True, rmses=True, best_rmse=True)\n",
    "#"
   ]
  },
  {
   "cell_type": "code",
   "execution_count": 4,
   "id": "a9867c16",
   "metadata": {},
   "outputs": [
    {
     "data": {
      "text/plain": [
       "0    36.0\n",
       "dtype: float64"
      ]
     },
     "execution_count": 4,
     "metadata": {},
     "output_type": "execute_result"
    }
   ],
   "source": [
    "pop = pd.DataFrame({'trees': gp.get_all_root_nodes()[float]})\n",
    "results = pd.DataFrame({'estimates': [None]*pop.shape[0]})\n",
    "for i, t in enumerate(pop['trees']):\n",
    "    results['estimates'][i] = t()\n",
    "results['estimates'][5]"
   ]
  },
  {
   "cell_type": "code",
   "execution_count": null,
   "id": "a678e3cd",
   "metadata": {},
   "outputs": [],
   "source": [
    "res1, bes1 = gp.get_err_scores(t1, best_tree=True, rmses=True, best_rmse=True)"
   ]
  },
  {
   "cell_type": "code",
   "execution_count": null,
   "id": "72ab4dcd",
   "metadata": {},
   "outputs": [
    {
     "data": {
      "text/plain": [
       "0      24.0\n",
       "1     216.0\n",
       "2     600.0\n",
       "3    1176.0\n",
       "4    1944.0\n",
       "5    1296.0\n",
       "Name: mses, dtype: float64"
      ]
     },
     "execution_count": 11,
     "metadata": {},
     "output_type": "execute_result"
    }
   ],
   "source": [
    "res1['mses']"
   ]
  },
  {
   "cell_type": "code",
   "execution_count": null,
   "id": "0b4684ca",
   "metadata": {},
   "outputs": [
    {
     "data": {
      "text/plain": [
       "{'best_mse': 0.0,\n",
       " 'best_tree': '[tree(\"([float]<PROD>([float]x)([int]5))\")]',\n",
       " 'best_rmse': 0.0}"
      ]
     },
     "execution_count": 5,
     "metadata": {},
     "output_type": "execute_result"
    }
   ],
   "source": [
    "bes1"
   ]
  },
  {
   "cell_type": "code",
   "execution_count": null,
   "id": "bffb02ca",
   "metadata": {},
   "outputs": [
    {
     "data": {
      "text/html": [
       "<div>\n",
       "<style scoped>\n",
       "    .dataframe tbody tr th:only-of-type {\n",
       "        vertical-align: middle;\n",
       "    }\n",
       "\n",
       "    .dataframe tbody tr th {\n",
       "        vertical-align: top;\n",
       "    }\n",
       "\n",
       "    .dataframe thead th {\n",
       "        text-align: right;\n",
       "    }\n",
       "</style>\n",
       "<table border=\"1\" class=\"dataframe\">\n",
       "  <thead>\n",
       "    <tr style=\"text-align: right;\">\n",
       "      <th></th>\n",
       "      <th>trees</th>\n",
       "      <th>results</th>\n",
       "    </tr>\n",
       "  </thead>\n",
       "  <tbody>\n",
       "    <tr>\n",
       "      <th>0</th>\n",
       "      <td>[([0.0, 2.0, 4.0, 6.0, 8.0]), (1)]</td>\n",
       "      <td>0    0.0\n",
       "1    2.0\n",
       "2    4.0\n",
       "3    6.0\n",
       "4    8.0\n",
       "d...</td>\n",
       "    </tr>\n",
       "    <tr>\n",
       "      <th>1</th>\n",
       "      <td>[([0.0, 2.0, 4.0, 6.0, 8.0]), (3)]</td>\n",
       "      <td>0     0.0\n",
       "1     6.0\n",
       "2    12.0\n",
       "3    18.0\n",
       "4    2...</td>\n",
       "    </tr>\n",
       "    <tr>\n",
       "      <th>2</th>\n",
       "      <td>[([0.0, 2.0, 4.0, 6.0, 8.0]), (5)]</td>\n",
       "      <td>0     0.0\n",
       "1    10.0\n",
       "2    20.0\n",
       "3    30.0\n",
       "4    4...</td>\n",
       "    </tr>\n",
       "    <tr>\n",
       "      <th>3</th>\n",
       "      <td>[([0.0, 2.0, 4.0, 6.0, 8.0]), (7)]</td>\n",
       "      <td>0     0.0\n",
       "1    14.0\n",
       "2    28.0\n",
       "3    42.0\n",
       "4    5...</td>\n",
       "    </tr>\n",
       "    <tr>\n",
       "      <th>4</th>\n",
       "      <td>[([0.0, 2.0, 4.0, 6.0, 8.0]), (9)]</td>\n",
       "      <td>0     0.0\n",
       "1    18.0\n",
       "2    36.0\n",
       "3    54.0\n",
       "4    7...</td>\n",
       "    </tr>\n",
       "    <tr>\n",
       "      <th>5</th>\n",
       "      <td>[(6.0), (6)]</td>\n",
       "      <td>0    36.0\n",
       "dtype: float64</td>\n",
       "    </tr>\n",
       "  </tbody>\n",
       "</table>\n",
       "</div>"
      ],
      "text/plain": [
       "                                trees  \\\n",
       "0  [([0.0, 2.0, 4.0, 6.0, 8.0]), (1)]   \n",
       "1  [([0.0, 2.0, 4.0, 6.0, 8.0]), (3)]   \n",
       "2  [([0.0, 2.0, 4.0, 6.0, 8.0]), (5)]   \n",
       "3  [([0.0, 2.0, 4.0, 6.0, 8.0]), (7)]   \n",
       "4  [([0.0, 2.0, 4.0, 6.0, 8.0]), (9)]   \n",
       "5                        [(6.0), (6)]   \n",
       "\n",
       "                                             results  \n",
       "0  0    0.0\n",
       "1    2.0\n",
       "2    4.0\n",
       "3    6.0\n",
       "4    8.0\n",
       "d...  \n",
       "1  0     0.0\n",
       "1     6.0\n",
       "2    12.0\n",
       "3    18.0\n",
       "4    2...  \n",
       "2  0     0.0\n",
       "1    10.0\n",
       "2    20.0\n",
       "3    30.0\n",
       "4    4...  \n",
       "3  0     0.0\n",
       "1    14.0\n",
       "2    28.0\n",
       "3    42.0\n",
       "4    5...  \n",
       "4  0     0.0\n",
       "1    18.0\n",
       "2    36.0\n",
       "3    54.0\n",
       "4    7...  \n",
       "5                           0    36.0\n",
       "dtype: float64  "
      ]
     },
     "execution_count": 10,
     "metadata": {},
     "output_type": "execute_result"
    }
   ],
   "source": [
    "pop"
   ]
  },
  {
   "cell_type": "code",
   "execution_count": null,
   "id": "515d7516",
   "metadata": {},
   "outputs": [
    {
     "data": {
      "text/plain": [
       "0     0.0\n",
       "1    14.0\n",
       "2    28.0\n",
       "3    42.0\n",
       "4    56.0\n",
       "dtype: float64"
      ]
     },
     "execution_count": 11,
     "metadata": {},
     "output_type": "execute_result"
    }
   ],
   "source": [
    "pop['results'][3]"
   ]
  },
  {
   "cell_type": "code",
   "execution_count": null,
   "id": "e2709fd6",
   "metadata": {},
   "outputs": [
    {
     "data": {
      "text/plain": [
       "(6, 2)"
      ]
     },
     "execution_count": 14,
     "metadata": {},
     "output_type": "execute_result"
    }
   ],
   "source": [
    "pop.shape"
   ]
  },
  {
   "cell_type": "code",
   "execution_count": null,
   "id": "6e9c8943",
   "metadata": {},
   "outputs": [],
   "source": [
    "df_t = pd.Series([0.,2.,4.,6., 8.])"
   ]
  },
  {
   "cell_type": "code",
   "execution_count": null,
   "id": "a2a310bc",
   "metadata": {},
   "outputs": [],
   "source": [
    "b=9"
   ]
  },
  {
   "cell_type": "code",
   "execution_count": null,
   "id": "ad553fbe",
   "metadata": {},
   "outputs": [
    {
     "data": {
      "text/plain": [
       "0     0.0\n",
       "1    18.0\n",
       "2    36.0\n",
       "3    54.0\n",
       "4    72.0\n",
       "dtype: float64"
      ]
     },
     "execution_count": 29,
     "metadata": {},
     "output_type": "execute_result"
    }
   ],
   "source": [
    "df_t*b"
   ]
  },
  {
   "cell_type": "code",
   "execution_count": null,
   "id": "f571e3aa",
   "metadata": {},
   "outputs": [
    {
     "data": {
      "text/plain": [
       "0       0.0\n",
       "1     324.0\n",
       "2    1296.0\n",
       "3    2916.0\n",
       "4    5184.0\n",
       "dtype: float64"
      ]
     },
     "execution_count": 30,
     "metadata": {},
     "output_type": "execute_result"
    }
   ],
   "source": [
    "(df_t*b)**2"
   ]
  },
  {
   "cell_type": "code",
   "execution_count": null,
   "id": "16f4b7e2",
   "metadata": {},
   "outputs": [
    {
     "data": {
      "text/plain": [
       "9720.0"
      ]
     },
     "execution_count": 31,
     "metadata": {},
     "output_type": "execute_result"
    }
   ],
   "source": [
    "((df_t*b)**2).sum()"
   ]
  },
  {
   "cell_type": "code",
   "execution_count": null,
   "id": "6fe40359",
   "metadata": {},
   "outputs": [
    {
     "data": {
      "text/plain": [
       "1944.0"
      ]
     },
     "execution_count": 32,
     "metadata": {},
     "output_type": "execute_result"
    }
   ],
   "source": [
    "((df_t*b)**2).mean()"
   ]
  },
  {
   "cell_type": "code",
   "execution_count": null,
   "id": "c580ed5f",
   "metadata": {},
   "outputs": [],
   "source": [
    "mses = pd.Series([24.,216.,600.,1176.,1944.,1296.])"
   ]
  },
  {
   "cell_type": "code",
   "execution_count": null,
   "id": "275b2eb8",
   "metadata": {},
   "outputs": [
    {
     "data": {
      "text/plain": [
       "0    0.041667\n",
       "1    0.004630\n",
       "2    0.001667\n",
       "3    0.000850\n",
       "4    0.000514\n",
       "5    0.000772\n",
       "dtype: float64"
      ]
     },
     "execution_count": 44,
     "metadata": {},
     "output_type": "execute_result"
    }
   ],
   "source": [
    "(mses**-1).round(6)"
   ]
  },
  {
   "cell_type": "code",
   "execution_count": null,
   "id": "2b5751a6",
   "metadata": {},
   "outputs": [
    {
     "data": {
      "text/plain": [
       "0    0.041667\n",
       "1    0.004630\n",
       "2    0.001667\n",
       "3    0.000850\n",
       "4    0.000514\n",
       "5    0.000772\n",
       "Name: imses, dtype: float64"
      ]
     },
     "execution_count": 42,
     "metadata": {},
     "output_type": "execute_result"
    }
   ],
   "source": [
    "res1['imses']"
   ]
  },
  {
   "cell_type": "code",
   "execution_count": null,
   "id": "df99b6dd",
   "metadata": {},
   "outputs": [
    {
     "data": {
      "text/plain": [
       "0     4.8990\n",
       "1    14.6969\n",
       "2    24.4949\n",
       "3    34.2929\n",
       "4    44.0908\n",
       "5    36.0000\n",
       "dtype: float64"
      ]
     },
     "execution_count": 49,
     "metadata": {},
     "output_type": "execute_result"
    }
   ],
   "source": [
    "(mses**.5).round(4)"
   ]
  },
  {
   "cell_type": "code",
   "execution_count": null,
   "id": "a15b2daf",
   "metadata": {},
   "outputs": [],
   "source": [
    "import math\n",
    "import numpy as np\n",
    "\n",
    "def softmax(errors):\n",
    "    summed_exp_err = np.exp(errors).sum()[0].item()\n",
    "    return errors.apply(lambda z: np.exp(z)/summed_exp_err)\n",
    "    "
   ]
  },
  {
   "cell_type": "code",
   "execution_count": null,
   "id": "23913a7f",
   "metadata": {},
   "outputs": [],
   "source": [
    "err = pd.DataFrame({'err': [1., 2., 3., 4.]})"
   ]
  },
  {
   "cell_type": "code",
   "execution_count": null,
   "id": "ca4ef03c",
   "metadata": {},
   "outputs": [
    {
     "data": {
      "text/plain": [
       "err    84.791025\n",
       "dtype: float64"
      ]
     },
     "execution_count": 18,
     "metadata": {},
     "output_type": "execute_result"
    }
   ],
   "source": [
    "np.exp(err).sum()"
   ]
  },
  {
   "cell_type": "code",
   "execution_count": null,
   "id": "f088b79d",
   "metadata": {},
   "outputs": [
    {
     "name": "stdout",
     "output_type": "stream",
     "text": [
      "inf\n",
      "   err\n",
      "0  1.0\n",
      "1  2.0\n",
      "2  3.0\n",
      "3  4.0\n",
      "4  inf\n",
      "   err\n",
      "0  0.0\n",
      "1  0.0\n",
      "2  0.0\n",
      "3  0.0\n",
      "4  NaN\n",
      "err    0.0\n",
      "dtype: float64\n"
     ]
    }
   ],
   "source": [
    "err = pd.DataFrame({'err': [1., 2., 3., 4., float('inf')]})\n",
    "sm = softmax(err)\n",
    "print(sm)\n",
    "print(sm.sum())"
   ]
  },
  {
   "cell_type": "code",
   "execution_count": null,
   "id": "0aa409f2",
   "metadata": {},
   "outputs": [],
   "source": [
    "import random\n",
    "import math"
   ]
  },
  {
   "cell_type": "code",
   "execution_count": null,
   "id": "b24bfc3f",
   "metadata": {},
   "outputs": [
    {
     "name": "stdout",
     "output_type": "stream",
     "text": [
      "[100000.  60000.  20000.  14000.   6000.]\n",
      "[0.00067045 0.00071615 0.00049975 0.00948068 0.02040816]\n"
     ]
    },
    {
     "data": {
      "text/plain": [
       "array([ True,  True,  True,  True,  True])"
      ]
     },
     "execution_count": 66,
     "metadata": {},
     "output_type": "execute_result"
    }
   ],
   "source": [
    "def diffs(n = 1000000):\n",
    "    totals = np.array([0] * 5)\n",
    "    w = np.array([.5, .3, .1, .07, .03])\n",
    "    target = w * n\n",
    "    print(target)\n",
    "    for _ in range(n):\n",
    "        totals[random.choices([0,1,2,3,4], weights = w)[0]] += 1\n",
    "    return (totals-target)/totals\n",
    "\n",
    "d = np.abs(diffs(200000))\n",
    "print(d)\n",
    "d < 0.05"
   ]
  },
  {
   "cell_type": "code",
   "execution_count": null,
   "id": "725a40ad",
   "metadata": {},
   "outputs": [
    {
     "data": {
      "text/plain": [
       "172.0"
      ]
     },
     "execution_count": 82,
     "metadata": {},
     "output_type": "execute_result"
    }
   ],
   "source": [
    "max([math.fabs(sum(random.choices([0,1], k=10000))-5000) for _ in range(1000)])"
   ]
  },
  {
   "cell_type": "code",
   "execution_count": null,
   "id": "543f0a45",
   "metadata": {},
   "outputs": [
    {
     "data": {
      "text/plain": [
       "45.0"
      ]
     },
     "execution_count": 79,
     "metadata": {},
     "output_type": "execute_result"
    }
   ],
   "source": [
    "math.fabs(45)"
   ]
  },
  {
   "cell_type": "code",
   "execution_count": 9,
   "id": "09246779",
   "metadata": {},
   "outputs": [
    {
     "name": "stdout",
     "output_type": "stream",
     "text": [
      "['c', 'a']\n",
      "['b', 'c']\n",
      "['c', 'a']\n",
      "['b', 'c']\n",
      "['b', 'b']\n",
      "['c', 'a']\n",
      "['c', 'c']\n",
      "['b', 'b']\n",
      "['c', 'b']\n",
      "['c', 'a']\n"
     ]
    }
   ],
   "source": [
    "import random\n",
    "\n",
    "for x in range(10):\n",
    "    print(random.choices(['a', 'b', 'c'], k=2))"
   ]
  },
  {
   "cell_type": "code",
   "execution_count": 13,
   "id": "ee79837b",
   "metadata": {},
   "outputs": [
    {
     "data": {
      "text/plain": [
       "20.0"
      ]
     },
     "execution_count": 13,
     "metadata": {},
     "output_type": "execute_result"
    }
   ],
   "source": [
    "sum([math.fabs((sum([not random.randrange(4) for i in range(20000)])-5000) < 200) for j in range(20)])"
   ]
  },
  {
   "cell_type": "code",
   "execution_count": 12,
   "id": "ef357946",
   "metadata": {},
   "outputs": [],
   "source": [
    "import math"
   ]
  },
  {
   "cell_type": "code",
   "execution_count": null,
   "id": "0c8024ed",
   "metadata": {},
   "outputs": [],
   "source": []
  }
 ],
 "metadata": {
  "kernelspec": {
   "display_name": "philoso_py",
   "language": "python",
   "name": "philoso_py"
  },
  "language_info": {
   "codemirror_mode": {
    "name": "ipython",
    "version": 3
   },
   "file_extension": ".py",
   "mimetype": "text/x-python",
   "name": "python",
   "nbconvert_exporter": "python",
   "pygments_lexer": "ipython3",
   "version": "3.10.0"
  }
 },
 "nbformat": 4,
 "nbformat_minor": 5
}
