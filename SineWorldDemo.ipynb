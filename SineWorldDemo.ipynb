{
 "cells": [
  {
   "cell_type": "code",
   "execution_count": 1,
   "metadata": {},
   "outputs": [
    {
     "name": "stdout",
     "output_type": "stream",
     "text": [
      "OK\n",
      "Seed: 14283718147270044812931100895571230355\n"
     ]
    }
   ],
   "source": [
    "import numpy as np\n",
    "from pathlib import Path\n",
    "\n",
    "from philoso_py import Model\n",
    "from world import SineWorld\n",
    "from observatories import SineWorldObservatoryFactory\n",
    "from gp_fitness import SimplerGPScoreboardFactory\n",
    "from model_time import ModelTime\n",
    "from repository import Publication\n",
    "from agent import Agent\n",
    "from agent_controller import AgentController\n",
    "from tree_factories import SimpleRandomAlgebraicTreeFactory\n",
    "from mutators import single_leaf_mutator_factory, single_xo_factory\n",
    "from ppo import ActorCriticNetworkTanh\n",
    "from reward import Curiosity, Renoun, GuardrailCollisions\n",
    "\n",
    "dancing_chaos_at_the_heart_of_the_world = np.random.Generator(np.random.PCG64())\n",
    "print(f'Seed: {dancing_chaos_at_the_heart_of_the_world.bit_generator.seed_seq.entropy}')\n",
    "out_dir = Path('output', 'test')\n",
    "ping_freq = 10"
   ]
  },
  {
   "cell_type": "code",
   "execution_count": 2,
   "metadata": {},
   "outputs": [
    {
     "name": "stdout",
     "output_type": "stream",
     "text": [
      "=== DAY 0 ===\n"
     ]
    },
    {
     "name": "stderr",
     "output_type": "stream",
     "text": [
      "/Users/xan/.pyenv/versions/3.12.2/envs/phenv/lib/python3.12/site-packages/torch/_compile.py:24: UserWarning: optimizer contains a parameter group with duplicate parameters; in future, this will cause an error; see github.com/pytorch/pytorch/issues/40967 for more information\n",
      "  return torch._dynamo.disable(fn, recursive)(*args, **kwargs)\n"
     ]
    },
    {
     "ename": "RuntimeError",
     "evalue": "asyncio.run() cannot be called from a running event loop",
     "output_type": "error",
     "traceback": [
      "\u001b[0;31m---------------------------------------------------------------------------\u001b[0m",
      "\u001b[0;31mRuntimeError\u001b[0m                              Traceback (most recent call last)",
      "Cell \u001b[0;32mIn[2], line 95\u001b[0m\n\u001b[1;32m     92\u001b[0m \u001b[38;5;28;01masync\u001b[39;00m \u001b[38;5;28;01mdef\u001b[39;00m \u001b[38;5;21mmain\u001b[39m():\n\u001b[1;32m     93\u001b[0m     model\u001b[38;5;241m.\u001b[39mrun(\u001b[38;5;241m50\u001b[39m,\u001b[38;5;241m100\u001b[39m, prefix\u001b[38;5;241m=\u001b[39m\u001b[38;5;124m'\u001b[39m\u001b[38;5;124mj__\u001b[39m\u001b[38;5;124m'\u001b[39m)\n\u001b[0;32m---> 95\u001b[0m \u001b[38;5;28;01mawait\u001b[39;00m main()\n",
      "Cell \u001b[0;32mIn[2], line 93\u001b[0m, in \u001b[0;36mmain\u001b[0;34m()\u001b[0m\n\u001b[1;32m     92\u001b[0m \u001b[38;5;28;01masync\u001b[39;00m \u001b[38;5;28;01mdef\u001b[39;00m \u001b[38;5;21mmain\u001b[39m():\n\u001b[0;32m---> 93\u001b[0m     \u001b[43mmodel\u001b[49m\u001b[38;5;241;43m.\u001b[39;49m\u001b[43mrun\u001b[49m\u001b[43m(\u001b[49m\u001b[38;5;241;43m50\u001b[39;49m\u001b[43m,\u001b[49m\u001b[38;5;241;43m100\u001b[39;49m\u001b[43m,\u001b[49m\u001b[43m \u001b[49m\u001b[43mprefix\u001b[49m\u001b[38;5;241;43m=\u001b[39;49m\u001b[38;5;124;43m'\u001b[39;49m\u001b[38;5;124;43mj__\u001b[39;49m\u001b[38;5;124;43m'\u001b[39;49m\u001b[43m)\u001b[49m\n",
      "File \u001b[0;32m~/CodeToJoy/philoso-py/philoso_py.py:59\u001b[0m, in \u001b[0;36mModel.run\u001b[0;34m(self, days, steps_per_day, state_file, prefix)\u001b[0m\n\u001b[1;32m     57\u001b[0m \u001b[38;5;28;01mfor\u001b[39;00m _ \u001b[38;5;129;01min\u001b[39;00m \u001b[38;5;28mrange\u001b[39m(days):\n\u001b[1;32m     58\u001b[0m     \u001b[38;5;28mprint\u001b[39m(\u001b[38;5;124mf\u001b[39m\u001b[38;5;124m'\u001b[39m\u001b[38;5;124m=== DAY \u001b[39m\u001b[38;5;132;01m{\u001b[39;00m_\u001b[38;5;132;01m}\u001b[39;00m\u001b[38;5;124m ===\u001b[39m\u001b[38;5;124m'\u001b[39m)\n\u001b[0;32m---> 59\u001b[0m     \u001b[43masyncio\u001b[49m\u001b[38;5;241;43m.\u001b[39;49m\u001b[43mrun\u001b[49m\u001b[43m(\u001b[49m\u001b[38;5;28;43mself\u001b[39;49m\u001b[38;5;241;43m.\u001b[39;49m\u001b[43mday\u001b[49m\u001b[43m(\u001b[49m\u001b[43msteps_per_day\u001b[49m\u001b[43m)\u001b[49m\u001b[43m)\u001b[49m \n\u001b[1;32m     60\u001b[0m     \u001b[38;5;28mself\u001b[39m\u001b[38;5;241m.\u001b[39mnight()\n\u001b[1;32m     61\u001b[0m \u001b[38;5;28;01mfor\u001b[39;00m r \u001b[38;5;129;01min\u001b[39;00m \u001b[38;5;28mself\u001b[39m\u001b[38;5;241m.\u001b[39mrewards:\n",
      "File \u001b[0;32m~/.pyenv/versions/3.12.2/lib/python3.12/asyncio/runners.py:190\u001b[0m, in \u001b[0;36mrun\u001b[0;34m(main, debug, loop_factory)\u001b[0m\n\u001b[1;32m    161\u001b[0m \u001b[38;5;250m\u001b[39m\u001b[38;5;124;03m\"\"\"Execute the coroutine and return the result.\u001b[39;00m\n\u001b[1;32m    162\u001b[0m \n\u001b[1;32m    163\u001b[0m \u001b[38;5;124;03mThis function runs the passed coroutine, taking care of\u001b[39;00m\n\u001b[0;32m   (...)\u001b[0m\n\u001b[1;32m    186\u001b[0m \u001b[38;5;124;03m    asyncio.run(main())\u001b[39;00m\n\u001b[1;32m    187\u001b[0m \u001b[38;5;124;03m\"\"\"\u001b[39;00m\n\u001b[1;32m    188\u001b[0m \u001b[38;5;28;01mif\u001b[39;00m events\u001b[38;5;241m.\u001b[39m_get_running_loop() \u001b[38;5;129;01mis\u001b[39;00m \u001b[38;5;129;01mnot\u001b[39;00m \u001b[38;5;28;01mNone\u001b[39;00m:\n\u001b[1;32m    189\u001b[0m     \u001b[38;5;66;03m# fail fast with short traceback\u001b[39;00m\n\u001b[0;32m--> 190\u001b[0m     \u001b[38;5;28;01mraise\u001b[39;00m \u001b[38;5;167;01mRuntimeError\u001b[39;00m(\n\u001b[1;32m    191\u001b[0m         \u001b[38;5;124m\"\u001b[39m\u001b[38;5;124masyncio.run() cannot be called from a running event loop\u001b[39m\u001b[38;5;124m\"\u001b[39m)\n\u001b[1;32m    193\u001b[0m \u001b[38;5;28;01mwith\u001b[39;00m Runner(debug\u001b[38;5;241m=\u001b[39mdebug, loop_factory\u001b[38;5;241m=\u001b[39mloop_factory) \u001b[38;5;28;01mas\u001b[39;00m runner:\n\u001b[1;32m    194\u001b[0m     \u001b[38;5;28;01mreturn\u001b[39;00m runner\u001b[38;5;241m.\u001b[39mrun(main)\n",
      "\u001b[0;31mRuntimeError\u001b[0m: asyncio.run() cannot be called from a running event loop"
     ]
    }
   ],
   "source": [
    "world = SineWorld(\n",
    "    np.pi*5, 100, 0.05, (1,100), (0.1, 10), \n",
    "    seed=dancing_chaos_at_the_heart_of_the_world\n",
    ")\n",
    "obs_factory = SineWorldObservatoryFactory(world)\n",
    "sb_factory = SimplerGPScoreboardFactory(\n",
    "    ['irmse', 'size', 'depth', 'penalty', 'hasnans', 'fitness'],\n",
    "    'y'\n",
    ")\n",
    "n_agents = 8\n",
    "gp_vars_core = [\n",
    "    'mse', 'rmse', 'size', 'depth', 'raw_fitness', 'fitness', 'value'\n",
    "]\n",
    "gp_vars_more = [\n",
    "    \"crossover_rate\", \"mutation_rate\", \n",
    "    \"mutation_sd\", \"max_depth\", \"max_size\", \"temp_coeff\", \"pop\", \"elitism\", \n",
    "    'obs_start', 'obs_stop', 'obs_num'\n",
    "]\n",
    "time = ModelTime()\n",
    "agent_names = {f'ag{i}': i for i in range(n_agents)}\n",
    "pub = Publication(\n",
    "    gp_vars_core + gp_vars_more, # cols: Sequence[str],\n",
    "    10, # rows: int,\n",
    "    time, # model_time: ModelTime,\n",
    "    agent_names,\n",
    "    types = np.float64, # types: Sequence[dtype] | Mapping[str, dtype] | dtype | None = None,\n",
    "    tables = 2, # tables: int = 1,\n",
    "    reward = 'ranked', # reward: PublicationRewardFunc | str | None = None,\n",
    "    value = 'value'\n",
    "    # DEFAULTS USED decay: float = 0.95, value: str = \"fitness\",\n",
    ")\n",
    "agents = [\n",
    "    Agent(\n",
    "        AgentController(\n",
    "            world, # World,\n",
    "            time, # ModelTime,\n",
    "            name, # name,\n",
    "            6, # mem_rows,\n",
    "            3, # mem_tables,\n",
    "            world.dv, # dv,\n",
    "            'irmse', # str, def_fitness\n",
    "            sb_factory, # SimpleGPScoreboardFactory, # Needs to be more general XXX TODO\n",
    "            obs_factory, # ObservatoryFactory\n",
    "            [SimpleRandomAlgebraicTreeFactory], #tree_factory_classes, # tree_factory_classes: list[type[TreeFactory]],\n",
    "            dancing_chaos_at_the_heart_of_the_world, # np.random.Generator,\n",
    "            agent_names, #agent_names, # dict[str, int],\n",
    "            pub, #repository, # Publication,\n",
    "            out_dir, # out_dir: str|Path,\n",
    "            50, #record_obs_len, # int,\n",
    "            max_readings=3, # max_readings, # int = 5,\n",
    "            mem_col_types=np.float64, # Sequence[np.dtype]|Mapping[str, np.dtype]|np.dtype|None=None,\n",
    "            gp_vars_core=gp_vars_core,\n",
    "            gp_vars_more=gp_vars_more,\n",
    "            ping_freq=ping_freq,\n",
    "            value='value',\n",
    "            mutators=[single_leaf_mutator_factory, single_xo_factory]\n",
    "        ), # AgentController\n",
    "        dancing_chaos_at_the_heart_of_the_world, # rng\n",
    "        network_class = ActorCriticNetworkTanh\n",
    "    ) for name in agent_names.keys()\n",
    "]\n",
    "# Note, this must be done after all agents have been made,\n",
    "# as some params depend on knowing how many other agents there are\n",
    "for agent in agents:\n",
    "    agent.make_networks()\n",
    "model = Model(\n",
    "    world, #: World,\n",
    "    dancing_chaos_at_the_heart_of_the_world, #: np.random.Generator,\n",
    "    agents, #: Container[Agent],\n",
    "    pub, # publications, #: Publication=None,\n",
    "    sb_factory, #: SimpleGPScoreboardFactory=None,\n",
    "    time, #: ModelTime=None\n",
    ")\n",
    "for agent in agents:\n",
    "    agent.ac.model = model\n",
    "model.add_reward(\n",
    "    Curiosity(\n",
    "        model, 'fitness', 1.0\n",
    "    )\n",
    ")\n",
    "model.add_reward(\n",
    "    Renoun(\n",
    "        model\n",
    "    )\n",
    ")\n",
    "model.add_reward(\n",
    "    GuardrailCollisions(\n",
    "        model\n",
    "    )\n",
    ")\n",
    "\n",
    "async def main():\n",
    "    model.run(50,100, prefix='j__')\n",
    "\n",
    "await main()"
   ]
  },
  {
   "cell_type": "code",
   "execution_count": null,
   "metadata": {},
   "outputs": [],
   "source": []
  }
 ],
 "metadata": {
  "kernelspec": {
   "display_name": "phenv",
   "language": "python",
   "name": "python3"
  },
  "language_info": {
   "codemirror_mode": {
    "name": "ipython",
    "version": 3
   },
   "file_extension": ".py",
   "mimetype": "text/x-python",
   "name": "python",
   "nbconvert_exporter": "python",
   "pygments_lexer": "ipython3",
   "version": "3.12.2"
  }
 },
 "nbformat": 4,
 "nbformat_minor": 2
}
