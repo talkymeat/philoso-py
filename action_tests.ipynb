{
 "cells": [
  {
   "cell_type": "code",
   "execution_count": 1,
   "id": "63d2e4fd",
   "metadata": {},
   "outputs": [],
   "source": [
    "from test_materials import paramarama, shhhh\n",
    "from philoso_py import ModelFactory\n",
    "from collections import defaultdict, OrderedDict\n",
    "import numpy as np\n",
    "import pandas as pd\n",
    "import torch"
   ]
  },
  {
   "cell_type": "code",
   "execution_count": 2,
   "id": "cbddf77f",
   "metadata": {},
   "outputs": [],
   "source": [
    "class ExploreActions:\n",
    "    def __init__(self, params=None):\n",
    "        self.mf = ModelFactory()\n",
    "        self.model = self.make_model_from_json(params=params)\n",
    "\n",
    "    @shhhh\n",
    "    def make_model_from_json(self, params=None):\n",
    "        params = paramarama if params is None else params\n",
    "        return self.mf.from_json(params)\n",
    "\n",
    "    def __getitem__(self, key):\n",
    "        return self.model.agents[0].actions[key]"
   ]
  },
  {
   "cell_type": "code",
   "execution_count": 3,
   "id": "a755f87f",
   "metadata": {},
   "outputs": [
    {
     "data": {
      "text/plain": [
       "Dict('gp_register': Discrete(2), 'long_box': Box(-inf, inf, (14,), float32))"
      ]
     },
     "execution_count": 3,
     "metadata": {},
     "output_type": "execute_result"
    }
   ],
   "source": [
    "ea = ExploreActions()\n",
    "gpn = ea['gp_new']\n",
    "gpn.action_space"
   ]
  },
  {
   "cell_type": "code",
   "execution_count": 4,
   "id": "32047821",
   "metadata": {},
   "outputs": [
    {
     "data": {
      "text/plain": [
       "{'gp_register': 0,\n",
       " 'obs_centre': 0.0,\n",
       " 'obs_log_radius': 0.0,\n",
       " 'obs_width': 2.0,\n",
       " 'tf_choices': None,\n",
       " 'tf_weights': None,\n",
       " 'sra_tf_log_float_const_sd': array([0.], dtype=float32),\n",
       " 'temp_coeff': 1.0,\n",
       " 'sb_weights': array([1.]),\n",
       " 'pop': 26,\n",
       " 'crossover_rate': 0.5,\n",
       " 'mutation_rate': 0.5,\n",
       " 'mutation_sd': 0.0,\n",
       " 'max_depth': 9,\n",
       " 'max_size': 27,\n",
       " 'episode_len': 26,\n",
       " 'elitism': 13,\n",
       " 'mutator_weights_0': 0.3333333333333333,\n",
       " 'mutator_weights_1': 0.6666666666666666}"
      ]
     },
     "execution_count": 4,
     "metadata": {},
     "output_type": "execute_result"
    }
   ],
   "source": [
    "action = gpn.process_action(\n",
    "    OrderedDict({\n",
    "        'gp_register': torch.tensor([[0]]),\n",
    "        'long_box': torch.tensor([[\n",
    "            0.0, 0.0, 0.0, 0.0,\n",
    "            0.0, 0.0, 0.0, 0.0,\n",
    "            0.0, 0.0, 0.0, 0.0,\n",
    "            0.0, 12.0\n",
    "        ]])\n",
    "    })\n",
    ")\n",
    "gpn._interpret(*action)"
   ]
  },
  {
   "cell_type": "code",
   "execution_count": 5,
   "id": "81a05b56",
   "metadata": {},
   "outputs": [],
   "source": [
    "def raw_2_mut_sd(raw):\n",
    "    action = gpn.process_action(\n",
    "        OrderedDict({\n",
    "            'gp_register': torch.tensor([[1]]),\n",
    "            'long_box': torch.tensor([[\n",
    "                0.5, -0.5, 2.0,     # pop, max_size, episode_len\n",
    "                2.0,                # crossover_rate\n",
    "                -2.0,               # mutation_rate\n",
    "                raw,                # log_mutation_sd -> mutation_sd\n",
    "                18.0,               # max_depth\n",
    "                0.0,\n",
    "                0.0, 0.0, 0.0, 0.0,\n",
    "                1.0, 1.0\n",
    "            ]])\n",
    "        })\n",
    "    )\n",
    "    return gpn._interpret(*action)['mutation_sd']\n"
   ]
  },
  {
   "cell_type": "code",
   "execution_count": 18,
   "id": "ff12f4b4",
   "metadata": {},
   "outputs": [],
   "source": [
    "X = np.arange(-19.1, -18.9, 0.00001)\n",
    "Y = np.array([raw_2_mut_sd(x) for x in X])"
   ]
  },
  {
   "cell_type": "code",
   "execution_count": 19,
   "id": "14c2f34c",
   "metadata": {},
   "outputs": [
    {
     "data": {
      "text/plain": [
       "<Axes: xlabel='raw_mut_sd', ylabel='mut_sd'>"
      ]
     },
     "execution_count": 19,
     "metadata": {},
     "output_type": "execute_result"
    },
    {
     "data": {
      "image/png": "[encoded data removed]",
      "text/plain": [
       "<Figure size 640x480 with 1 Axes>"
      ]
     },
     "metadata": {},
     "output_type": "display_data"
    }
   ],
   "source": [
    "pd.DataFrame({'raw_mut_sd': X, 'mut_sd': Y}).plot.scatter('raw_mut_sd', 'mut_sd')"
   ]
  },
  {
   "cell_type": "code",
   "execution_count": 20,
   "id": "ddaa52c1",
   "metadata": {},
   "outputs": [
    {
     "data": {
      "text/plain": [
       "array([0., 0., 0., ..., 0., 0., 0.], shape=(20001,))"
      ]
     },
     "execution_count": 20,
     "metadata": {},
     "output_type": "execute_result"
    }
   ],
   "source": [
    "Y"
   ]
  },
  {
   "cell_type": "code",
   "execution_count": 21,
   "id": "b635a1a8",
   "metadata": {},
   "outputs": [
    {
     "data": {
      "text/plain": [
       "array([-19.1    , -19.09999, -19.09998, ..., -18.90002, -18.90001,\n",
       "       -18.9    ], shape=(20001,))"
      ]
     },
     "execution_count": 21,
     "metadata": {},
     "output_type": "execute_result"
    }
   ],
   "source": [
    "X"
   ]
  },
  {
   "cell_type": "code",
   "execution_count": 22,
   "id": "116d412c",
   "metadata": {},
   "outputs": [
    {
     "data": {
      "text/plain": [
       "array([-19.06154, -19.06153, -19.06152, ..., -18.99037, -18.99036,\n",
       "       -18.99035], shape=(7120,))"
      ]
     },
     "execution_count": 22,
     "metadata": {},
     "output_type": "execute_result"
    }
   ],
   "source": [
    "X[Y>0]"
   ]
  },
  {
   "cell_type": "code",
   "execution_count": 23,
   "id": "0ab66cca",
   "metadata": {},
   "outputs": [
    {
     "data": {
      "text/plain": [
       "GuardrailManager(<function guardrails.GuardrailManager.__init__.<locals>.<lambda>()>,\n",
       "                 {'pop': TanhGuardrail([-18.990341103219276, 18.990341103219276], [2, inf]),\n",
       "                  'max_size': TanhGuardrail([-18.990341103219276, 18.990341103219276], [3, inf]),\n",
       "                  'episode_len': TanhGuardrail([-18.990341103219276, 18.990341103219276], [2, inf]),\n",
       "                  'crossover_rate': TanhGuardrail([-18.990341103219276, 18.990341103219276], [0, 1]),\n",
       "                  'mutation_rate': TanhGuardrail([-18.990341103219276, 18.990341103219276], [0, 1]),\n",
       "                  'log_mutation_sd': TanhGuardrail([-18.990341103219276, -18.990340000004153], [-11.512925464970229, 0.0]),\n",
       "                  'max_depth': TanhGuardrail([-18.990341103219276, 18.990341103219276], [1, inf]),\n",
       "                  'elitism': TanhGuardrail([-18.990341103219276, 18.990341103219276], [0, 1]),\n",
       "                  'temp_coeff': TanhGuardrail([-18.990341103219276, 18.990341103219276], [0, inf]),\n",
       "                  'mutator_wt_0': TanhGuardrail([-18.990341103219276, 18.990341103219276], [0, 1]),\n",
       "                  'mutator_wt_1': TanhGuardrail([-18.990341103219276, 18.990341103219276], [0, 1]),\n",
       "                  'obs_centre': TanhGuardrail([-18.990341103219276, 18.990341103219276], [-50, 50]),\n",
       "                  'obs_log_radius': TanhGuardrail([-18.990341103219276, 18.990341103219276], [-inf, 4.605170185988092]),\n",
       "                  'sra_tf_log_float_const_sd': TanhGuardrail([-18.990341103219276, 0.0], [-11.512925464970229, 0.0])})"
      ]
     },
     "execution_count": 23,
     "metadata": {},
     "output_type": "execute_result"
    }
   ],
   "source": [
    "gpn.guardrails"
   ]
  },
  {
   "cell_type": "code",
   "execution_count": null,
   "id": "8143998f",
   "metadata": {},
   "outputs": [],
   "source": []
  }
 ],
 "metadata": {
  "kernelspec": {
   "display_name": "philos_env",
   "language": "python",
   "name": "python3"
  },
  "language_info": {
   "codemirror_mode": {
    "name": "ipython",
    "version": 3
   },
   "file_extension": ".py",
   "mimetype": "text/x-python",
   "name": "python",
   "nbconvert_exporter": "python",
   "pygments_lexer": "ipython3",
   "version": "3.12.2"
  }
 },
 "nbformat": 4,
 "nbformat_minor": 5
}
