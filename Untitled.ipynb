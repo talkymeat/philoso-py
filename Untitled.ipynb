{
 "cells": [
  {
   "cell_type": "code",
   "execution_count": 1,
   "metadata": {},
   "outputs": [],
   "source": [
    "from trees import *\n",
    "from figtree import showtree\n",
    "from tree_iter import DepthFirstBottomUp\n",
    "from gp import GPTreebank\n",
    "import pandas as pd\n",
    "import matplotlib.pyplot as plt\n",
    "import operators as ops\n",
    "from tree_factories import RandomPolynomialFactory\n",
    "import numpy as np\n",
    "from icecream import ic\n",
    "from grapher import Grapher"
   ]
  },
  {
   "cell_type": "code",
   "execution_count": 10,
   "metadata": {},
   "outputs": [],
   "source": [
    "from typing import Collection, Mapping\n",
    "\n",
    "class Grapher:\n",
    "    def __init__(self, names):\n",
    "        plt.ion()\n",
    "        self.df = pd.DataFrame()\n",
    "        self.axnames = {}\n",
    "        h, v = 1, 1\n",
    "        if isinstance(names, Collection) and not isinstance(names, str):\n",
    "            h = len(names)\n",
    "            for i, n in enumerate(names):\n",
    "                if isinstance(n, Collection) and not isinstance(n, str):\n",
    "                    v = max(len(n), v)\n",
    "                else:\n",
    "                    names[i] = [n]\n",
    "        else:\n",
    "            names = [[names]]\n",
    "        self.fig, self.axs = plt.subplots(v, h)\n",
    "        # ic(h,v)\n",
    "        if h!=1 and v!=1:\n",
    "            for ih, name_col in enumerate(names):\n",
    "                for jv, name in enumerate(name_col):\n",
    "                    self.axs[jv, ih].set_title(name)\n",
    "                    self.axnames[name] = self.axs[jv, ih]\n",
    "                    self.d = 2\n",
    "        elif h!=1:\n",
    "            for ih, name in enumerate(names):\n",
    "                self.axs[ih].set_title(name[0])\n",
    "                self.axnames[name[0]] = self.axs[ih]\n",
    "                self.d = 1\n",
    "        elif v!=1:\n",
    "            for jv, name in enumerate(names[0]):\n",
    "                self.axs[jv].set_title(name)\n",
    "                self.axnames[name] = self.axs[jv]\n",
    "                self.d = 1\n",
    "        else:\n",
    "            self.axs.set_title(names[0][0])\n",
    "            self.axnames[names[0][0]] = self.axs\n",
    "            self.d = 0\n",
    "\n",
    "    def __getitem__(self, key: str):\n",
    "        return self.axnames[key]\n",
    "    \n",
    "    def set_data(self, **data):\n",
    "        # ic(data)\n",
    "        for k, v in data.items():\n",
    "            if k in self.axnames:\n",
    "                # ic(k)\n",
    "                # ic(type(v))\n",
    "                self.axnames[k].set_ydata = v\n",
    "                # ic(self.axnames[k])\n",
    "                plt.draw()\n",
    "\n"
   ]
  },
  {
   "cell_type": "code",
   "execution_count": 11,
   "metadata": {},
   "outputs": [
    {
     "name": "stdout",
     "output_type": "stream",
     "text": [
      "000 001 "
     ]
    },
    {
     "name": "stderr",
     "output_type": "stream",
     "text": [
      "ic| h: 3, v: 2\n"
     ]
    },
    {
     "name": "stdout",
     "output_type": "stream",
     "text": [
      "002 003 004 005 006 007 008 009 010 011 012 013 014 015 016 017 018 019\n",
      "020 021 022 023 024 025 026 027 028 029 030 031 032 033 034 035 036 037 038 039\n",
      "040 041 042 043 044 045 046 047 048 049 050 051 052 053 054 055 056 057 058 059\n",
      "060 061 062 063 064 065 066 067 068 069 070 071 072 073 074 075 076 077 078 079\n",
      "080 081 082 083 084 085 086 087 088 089 090 091 092 093 094 095 096 097 098 099\n",
      "100 101 102 103 104 105 106 107 108 109 110 111 112 113 114 115 116 117 118 119\n",
      "120 121 122 123 124 125 126 127 128 129 130 131 132 133 134 135 136 137 138 139\n",
      "140 141 142 143 144 145 146 147 148 149 150 151 152 153 154 155 156 157 158 159\n",
      "160 161 162 163 164 165 166 167 168 169 170 171 172 173 174 175 176 177 178 179\n",
      "180 181 182 183 184 185 186 187 188 189 190 191 192 193 194 195 196 197 198 199\n",
      "================================================================================\n",
      "116 1\n"
     ]
    },
    {
     "data": {
      "image/png": "[encoded data removed]",
      "text/plain": [
       "<Figure size 640x480 with 6 Axes>"
      ]
     },
     "metadata": {},
     "output_type": "display_data"
    }
   ],
   "source": [
    "def embuggerance(md = 300, ms = 70, lims= False):\n",
    "    gp = GPTreebank(\n",
    "        mutation_rate = 0.2, \n",
    "        mutation_sd=0.02, \n",
    "        crossover_rate=0.5, \n",
    "        max_depth=md if lims else 0, \n",
    "        max_size=ms if lims else 0, \n",
    "        operators=[ops.SUM, ops.PROD, ops.SQ, ops.POW, ops.CUBE]\n",
    "    )\n",
    "    gr = None\n",
    "    rpf = RandomPolynomialFactory(gp, 5, -10.0, 10.0)\n",
    "    trees = [rpf('x', 'y') for _ in range(5)]\n",
    "    df = pd.DataFrame({'x': [1.0, 1.0], 'y': [1.0, 1.0]})\n",
    "    bigtrees, deeptrees = 0, 0\n",
    "    valmaxes = []\n",
    "    sizemaxes = []\n",
    "    depthmaxes = []\n",
    "    for _ in range(200):\n",
    "        tmax = None\n",
    "        valmax = 0\n",
    "        for t in trees:\n",
    "            val = t(**df)\n",
    "            if isinstance(val, pd.Series):\n",
    "                val = val.sum()\n",
    "            if val is None:\n",
    "                ic(val)\n",
    "                ic(t)\n",
    "            elif valmax < val:\n",
    "                tmax = t\n",
    "                valmax = val\n",
    "        newtrees = [tmax.copy(gp_copy=True) for _ in range(5)]\n",
    "        for tt in trees:\n",
    "            tt.delete()\n",
    "        trees = newtrees\n",
    "        bigtrees += bool([tr for tr in trees if tr.size() > ms])\n",
    "        deeptrees += bool([tr for tr in trees if tr.depth() > md])\n",
    "        sizemaxes.append(max([_t.size() for _t in trees]))\n",
    "        depthmaxes.append(max([_t.depth() for _t in trees]))\n",
    "        valmaxes.append(valmax)\n",
    "        print(f\"{_:03}\", end=\"\\n\" if _%20 == 19 else ' ')\n",
    "        if _:\n",
    "            results = pd.DataFrame({'sizemaxes': sizemaxes, 'depthmaxes': depthmaxes, 'valmaxes': valmaxes})\n",
    "            results.loc[results.valmaxes == np.inf, 'valmaxes'] = results.loc[\n",
    "                results.valmaxes != np.inf, 'valmaxes'\n",
    "            ].max()\n",
    "            logs = np.emath.logn(results.max(), results)\n",
    "            lognormresults = pd.DataFrame()\n",
    "            for i in range(3):\n",
    "                lognormresults[f\"log_norm_{results.columns[i]}\"] = logs[:, i]\n",
    "            full_results = pd.concat([results, lognormresults], axis=1)\n",
    "            if _==1:\n",
    "                gr = Grapher(list(zip(results.columns, lognormresults.columns)))\n",
    "            gr.set_data(**full_results)\n",
    "\n",
    "    print(\"=\"*80)\n",
    "    print(bigtrees, deeptrees) #(0, 0)\n",
    "    return sizemaxes, depthmaxes, valmaxes, None\n",
    "\n",
    "sizemaxes, depthmaxes, valmaxes, shite = embuggerance()\n",
    "\n"
   ]
  },
  {
   "cell_type": "code",
   "execution_count": null,
   "metadata": {},
   "outputs": [],
   "source": [
    "print(sizemaxes, depthmaxes, valmaxes)\n",
    "from IPython.display import Audio\n",
    "Audio(filename = './sounds/ElevatorBell.mp3', autoplay=True, rate=22000)\n"
   ]
  },
  {
   "cell_type": "code",
   "execution_count": 6,
   "metadata": {},
   "outputs": [],
   "source": [
    "gp = GPTreebank(\n",
    "        operators=[ops.SUM, ops.PROD, ops.SQ, ops.POW, ops.CUBE]\n",
    "    )\n",
    "df = pd.DataFrame({'x': [1.0, 1.0], 'y': [1.0, 1.0]})\n",
    "t = gp.tree(\"([float]<CUBE>([float]<CUBE>([float]<SUM>([float]<SUM>([float]<CUBE>([float]<CUBE>([float]<CUBE>([float]<CUBE>([float]<SUM>([float]4.336819652826086)([float]<CUBE>([float]4.3353702179194835)))))))([float]4.336663848792828))([float]4.318780395249287))))\")"
   ]
  },
  {
   "cell_type": "code",
   "execution_count": null,
   "metadata": {},
   "outputs": [],
   "source": [
    "results = pd.DataFrame({'sizemaxes': sizemaxes, 'depthmaxes': depthmaxes, 'valmaxes': valmaxes})\n",
    "\n",
    "results.loc[results.valmaxes == np.inf, 'valmaxes'] = results.loc[\n",
    "    results.valmaxes != np.inf, 'valmaxes'\n",
    "].max()\n",
    "logs = np.emath.logn(results.max(), results)\n",
    "lognormresults = pd.DataFrame()\n",
    "for i in range(3):\n",
    "    lognormresults[f\"log_norm_{results.columns[i]}\"] = logs[:, i]\n",
    "\n",
    "\n",
    "fig, axss = plt.subplots(3, 2)\n",
    "for axrow, cols, hues in zip(axss, zip(results.columns, lognormresults.columns), (('red', 'pink'), ('green', 'olive'), ('blue', 'cyan'))):\n",
    "    for ax, col, hue, dat in zip(axrow, cols, hues, (results, lognormresults)):\n",
    "        ax.plot(dat[col], f\"tab:{hue}\")\n",
    "        ax.set_title(col)\n",
    "\n",
    "for ax_ in axs.flat:\n",
    "    ax_.set(xlabel='x-label', ylabel='y-label')\n",
    "\n",
    "# Hide x labels and tick labels for top plots and y ticks for right plots.\n",
    "for _ax in axs.flat:\n",
    "    _ax.label_outer()"
   ]
  },
  {
   "cell_type": "code",
   "execution_count": null,
   "metadata": {},
   "outputs": [],
   "source": [
    "fig, axss = plt.subplots(3, 2)\n",
    "for axs in axss:\n",
    "    ic()\n",
    "    for ax in axs:\n",
    "        ic(ax)"
   ]
  },
  {
   "cell_type": "code",
   "execution_count": null,
   "metadata": {},
   "outputs": [],
   "source": [
    "pd.concat([results, lognormresults], axis=1)"
   ]
  },
  {
   "cell_type": "code",
   "execution_count": null,
   "metadata": {},
   "outputs": [],
   "source": [
    "from observatories import *\n",
    "import pandas as pd"
   ]
  },
  {
   "cell_type": "code",
   "execution_count": null,
   "metadata": {},
   "outputs": [],
   "source": [
    "def eratosthenes(n):\n",
    "    sieve = lambda i, nums: (i+1, [x for x in filter(lambda x: x%nums[i] or x==nums[i], nums)])\n",
    "    i, nums = 0, list(range(2, n+1))\n",
    "    while nums[i]**2 < n:\n",
    "        i, nums = sieve(i, nums)\n",
    "    return nums\n",
    "\n",
    "e200 = eratosthenes(200)\n",
    "print(e200)\n",
    "print(e200[-2::-2])\n",
    "print(e200[1::2])"
   ]
  },
  {
   "cell_type": "code",
   "execution_count": null,
   "metadata": {},
   "outputs": [],
   "source": [
    "\n",
    "df = pd.DataFrame({'A': e200[-2::-2], 'B': e200[1::2]})\n",
    "df['C'] = df.A * df.B\n",
    "\n",
    "for k, v in df.items():\n",
    "    ic(k)\n",
    "    ic(v)"
   ]
  },
  {
   "cell_type": "code",
   "execution_count": 25,
   "metadata": {},
   "outputs": [
    {
     "name": "stdout",
     "output_type": "stream",
     "text": [
      "([float]<CUBE>([float]<CUBE>([float]<SUM>([float]<SUM>([float]<CUBE>([float]<CUBE>([float]<CUBE>([float]<CUBE>([float]<SUM>([float]4.336819652826086)([float]<CUBE>([float]4.3353702179194835)))))))([float]4.336663848792828))([float]4.318780395249287))))\n",
      "Numerical Overflow\n",
      "([float]<CUBE>([float]<SUM>([float]<SUM>([float]<CUBE>([float]<CUBE>([float]<CUBE>([float]<CUBE>([float]<SUM>([float]4.336819652826086)([float]<CUBE>([float]4.3353702179194835)))))))([float]4.336663848792828))([float]4.318780395249287)))\n",
      "Attribute Error\n",
      "This subtree:\n",
      "([float]<CUBE>([float]<CUBE>([float]<SUM>([float]<SUM>([float]<CUBE>([float]<CUBE>([float]<CUBE>([float]<CUBE>([float]<SUM>([float]4.336819652826086)([float]<CUBE>([float]4.3353702179194835)))))))([float]4.336663848792828))([float]4.318780395249287))))\n",
      "in this tree:\n",
      "([float]<CUBE>([float]<CUBE>([float]<SUM>([float]<SUM>([float]<CUBE>([float]<CUBE>([float]<CUBE>([float]<CUBE>([float]<SUM>([float]4.336819652826086)([float]<CUBE>([float]4.3353702179194835)))))))([float]4.336663848792828))([float]4.318780395249287))))\n",
      "did a fuckus wuckus\n",
      "Incorrect arguments for <CUBE>: (None,)\n",
      "= None\n",
      "children 1\n",
      "size 14 depth 11\n",
      "---\n",
      "([float]<CUBE>([float]<SUM>([float]<SUM>([float]<CUBE>([float]<CUBE>([float]<CUBE>([float]<CUBE>([float]<SUM>([float]4.336819652826086)([float]<CUBE>([float]4.3353702179194835)))))))([float]4.336663848792828))([float]4.318780395249287)))\n",
      "Numerical Overflow\n",
      "([float]<CUBE>([float]<SUM>([float]<SUM>([float]<CUBE>([float]<CUBE>([float]<CUBE>([float]<CUBE>([float]<SUM>([float]4.336819652826086)([float]<CUBE>([float]4.3353702179194835)))))))([float]4.336663848792828))([float]4.318780395249287)))\n",
      "= None\n",
      "children 1\n",
      "size 13 depth 10\n",
      "---\n",
      "([float]<SUM>([float]<SUM>([float]<CUBE>([float]<CUBE>([float]<CUBE>([float]<CUBE>([float]<SUM>([float]4.336819652826086)([float]<CUBE>([float]4.3353702179194835)))))))([float]4.336663848792828))([float]4.318780395249287))\n",
      "= 4.182966572653138e+156\n",
      "children 2\n",
      "size 12 depth 9\n",
      "---\n",
      "([float]<SUM>([float]<CUBE>([float]<CUBE>([float]<CUBE>([float]<CUBE>([float]<SUM>([float]4.336819652826086)([float]<CUBE>([float]4.3353702179194835)))))))([float]4.336663848792828))\n",
      "= 4.182966572653138e+156\n",
      "children 2\n",
      "size 10 depth 8\n",
      "---\n",
      "([float]<SUM>([float]<CUBE>([float]<CUBE>([float]<CUBE>([float]<CUBE>([float]<SUM>([float]4.336819652826086)([float]<CUBE>([float]4.3353702179194835)))))))([float]4.336663848792828))\n",
      "= 4.182966572653138e+156\n",
      "children 2\n",
      "size 10 depth 8\n",
      "---\n",
      "([float]<CUBE>([float]<CUBE>([float]<CUBE>([float]<CUBE>([float]<SUM>([float]4.336819652826086)([float]<CUBE>([float]4.3353702179194835)))))))\n",
      "= 4.182966572653138e+156\n",
      "children 1\n",
      "size 8 depth 7\n",
      "---\n",
      "([float]<CUBE>([float]<CUBE>([float]<CUBE>([float]<SUM>([float]4.336819652826086)([float]<CUBE>([float]4.3353702179194835))))))\n",
      "= 1.611244562242775e+52\n",
      "children 1\n",
      "size 7 depth 6\n",
      "---\n",
      "([float]<CUBE>([float]<CUBE>([float]<SUM>([float]4.336819652826086)([float]<CUBE>([float]4.3353702179194835)))))\n",
      "= 2.5257313502792195e+17\n",
      "children 1\n",
      "size 6 depth 5\n",
      "---\n",
      "([float]<CUBE>([float]<SUM>([float]4.336819652826086)([float]<CUBE>([float]4.3353702179194835))))\n",
      "= 632114.449967209\n",
      "children 1\n",
      "size 5 depth 4\n",
      "---\n",
      "([float]<SUM>([float]4.336819652826086)([float]<CUBE>([float]4.3353702179194835)))\n",
      "= 85.82198846568502\n",
      "children 2\n",
      "size 4 depth 3\n",
      "---\n",
      "([float]4.336819652826086)\n",
      "= 4.336819652826086\n",
      "children no, but leaf 4.336819652826086\n",
      "size 1 depth 1\n",
      "---\n",
      "([float]<CUBE>([float]4.3353702179194835))\n",
      "= 81.48516881285894\n",
      "children 1\n",
      "size 2 depth 2\n",
      "---\n",
      "([float]4.3353702179194835)\n",
      "= 4.3353702179194835\n",
      "children no, but leaf 4.3353702179194835\n",
      "size 1 depth 1\n",
      "---\n",
      "([float]4.318780395249287)\n",
      "= 4.318780395249287\n",
      "children no, but leaf 4.318780395249287\n",
      "size 1 depth 1\n",
      "---\n"
     ]
    }
   ],
   "source": [
    "def inspect(t):\n",
    "    print(t)\n",
    "    print('=', t(**df))\n",
    "    print('children', len(t.children) if hasattr(t, 'children') else f'no, but leaf {t.leaf}')\n",
    "    print('size', t.size(), 'depth', t.depth())\n",
    "    print('---')\n",
    "\n",
    "inspect(t)\n",
    "inspect(t[0])\n",
    "inspect(t[0,0])\n",
    "inspect(t[0,0,0])\n",
    "inspect(t[0,0,0])\n",
    "inspect(t[0,0,0,0])\n",
    "inspect(t[0,0,0,0,0])\n",
    "inspect(t[0,0,0,0,0,0])\n",
    "inspect(t[0,0,0,0,0,0,0])\n",
    "inspect(t[0,0,0,0,0,0,0,0])\n",
    "inspect(t[0,0,0,0,0,0,0,0,0])\n",
    "inspect(t[0,0,0,0,0,0,0,0,1])\n",
    "inspect(t[0,0,0,0,0,0,0,0,1,0])\n",
    "inspect(t[0,0,1])"
   ]
  },
  {
   "cell_type": "code",
   "execution_count": null,
   "metadata": {},
   "outputs": [],
   "source": [
    "Grapher"
   ]
  },
  {
   "cell_type": "code",
   "execution_count": null,
   "metadata": {},
   "outputs": [],
   "source": [
    "max(1,2)"
   ]
  },
  {
   "cell_type": "code",
   "execution_count": null,
   "metadata": {},
   "outputs": [],
   "source": [
    "ax"
   ]
  },
  {
   "cell_type": "code",
   "execution_count": null,
   "metadata": {},
   "outputs": [],
   "source": [
    "fo = FunctionObservatory('x', 'y', {'x': lambda n: pd.Series([random.uniform(-10, 10) for i in range(n)]), 'y': lambda z: z**2 + 2*z + 1}, 10)"
   ]
  },
  {
   "cell_type": "code",
   "execution_count": null,
   "metadata": {},
   "outputs": [],
   "source": [
    "n = next(fo)\n",
    "n"
   ]
  },
  {
   "cell_type": "code",
   "execution_count": null,
   "metadata": {},
   "outputs": [],
   "source": [
    "f = lambda z: z**2 + 2*z + 1"
   ]
  },
  {
   "cell_type": "code",
   "execution_count": null,
   "metadata": {},
   "outputs": [],
   "source": [
    "f(n)"
   ]
  },
  {
   "cell_type": "code",
   "execution_count": null,
   "metadata": {},
   "outputs": [],
   "source": [
    "fo.target()"
   ]
  },
  {
   "cell_type": "code",
   "execution_count": null,
   "metadata": {},
   "outputs": [],
   "source": [
    "fo.sources"
   ]
  },
  {
   "cell_type": "code",
   "execution_count": null,
   "metadata": {},
   "outputs": [],
   "source": [
    "fo._iv_data"
   ]
  },
  {
   "cell_type": "code",
   "execution_count": null,
   "metadata": {},
   "outputs": [],
   "source": [
    "print(fo._iv_data)"
   ]
  },
  {
   "cell_type": "code",
   "execution_count": null,
   "metadata": {},
   "outputs": [],
   "source": [
    "from typing import runtime_checkable\n",
    "\n",
    "\n",
    "def id(x: float) -> float:\n",
    "    return x"
   ]
  },
  {
   "cell_type": "code",
   "execution_count": null,
   "metadata": {},
   "outputs": [],
   "source": [
    "!python --version"
   ]
  },
  {
   "cell_type": "code",
   "execution_count": null,
   "metadata": {},
   "outputs": [],
   "source": [
    "from tree_factories import RandomPolynomialFactory\n",
    "from treebanks import TypeLabelledTreebank\n",
    "from figtree import showtree"
   ]
  },
  {
   "cell_type": "code",
   "execution_count": null,
   "metadata": {},
   "outputs": [],
   "source": [
    "rpf = RandomPolynomialFactory(TypeLabelledTreebank(), 3, -10.0, 10.0)"
   ]
  },
  {
   "cell_type": "code",
   "execution_count": null,
   "metadata": {},
   "outputs": [],
   "source": [
    "poly = rpf('x', 'y')"
   ]
  },
  {
   "cell_type": "code",
   "execution_count": null,
   "metadata": {},
   "outputs": [],
   "source": [
    "poly"
   ]
  },
  {
   "cell_type": "code",
   "execution_count": null,
   "metadata": {},
   "outputs": [],
   "source": [
    "showtree(poly)"
   ]
  }
 ],
 "metadata": {
  "kernelspec": {
   "display_name": "phil_venv",
   "language": "python",
   "name": "python3"
  },
  "language_info": {
   "codemirror_mode": {
    "name": "ipython",
    "version": 3
   },
   "file_extension": ".py",
   "mimetype": "text/x-python",
   "name": "python",
   "nbconvert_exporter": "python",
   "pygments_lexer": "ipython3",
   "version": "3.11.5"
  }
 },
 "nbformat": 4,
 "nbformat_minor": 4
}
